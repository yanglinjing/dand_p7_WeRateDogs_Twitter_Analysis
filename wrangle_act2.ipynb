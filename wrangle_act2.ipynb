{
  "nbformat": 4,
  "nbformat_minor": 0,
  "metadata": {
    "colab": {
      "name": "wrangle_act2.ipynb",
      "version": "0.3.2",
      "provenance": [],
      "collapsed_sections": [
        "luYvg90C2wc4",
        "4UH9h3K5gcH1",
        "aI7jJOIXjBup"
      ],
      "include_colab_link": true
    },
    "kernelspec": {
      "name": "python3",
      "display_name": "Python 3"
    }
  },
  "cells": [
    {
      "cell_type": "markdown",
      "metadata": {
        "id": "view-in-github",
        "colab_type": "text"
      },
      "source": [
        "<a href=\"https://colab.research.google.com/github/yanglinjing/dand_p7_data_wragling/blob/master/wrangle_act2.ipynb\" target=\"_parent\"><img src=\"https://colab.research.google.com/assets/colab-badge.svg\" alt=\"Open In Colab\"/></a>"
      ]
    },
    {
      "metadata": {
        "id": "BJme0UoADV3o",
        "colab_type": "text"
      },
      "cell_type": "markdown",
      "source": [
        "# Wrangle WeRateDogs Twitter Data\n"
      ]
    },
    {
      "metadata": {
        "id": "luYvg90C2wc4",
        "colab_type": "text"
      },
      "cell_type": "markdown",
      "source": [
        "# Goal\n",
        "Wrangle **WeRateDogs Twitter** data to create interesting and trustworthy analyses an visualizations. "
      ]
    },
    {
      "metadata": {
        "id": "Rz9MitmSDWb7",
        "colab_type": "code",
        "colab": {}
      },
      "cell_type": "code",
      "source": [
        "import pandas as pd\n",
        "import requests\n",
        "import csv\n",
        "import tweepy\n",
        "import os\n",
        "import json\n",
        "import numpy as np"
      ],
      "execution_count": 0,
      "outputs": []
    },
    {
      "metadata": {
        "id": "vWtvFaTCiIMO",
        "colab_type": "code",
        "outputId": "3a1d3dca-161a-49a1-adaa-35a98b837233",
        "colab": {
          "base_uri": "https://localhost:8080/",
          "height": 34
        }
      },
      "cell_type": "code",
      "source": [
        "# Check current working directory\n",
        "\n",
        "!pwd"
      ],
      "execution_count": 4,
      "outputs": [
        {
          "output_type": "stream",
          "text": [
            "/content\n"
          ],
          "name": "stdout"
        }
      ]
    },
    {
      "metadata": {
        "id": "d9SfmJzWjgOV",
        "colab_type": "code",
        "outputId": "f31de42f-683f-42fd-97fb-d4e19fe7ec9b",
        "colab": {
          "base_uri": "https://localhost:8080/",
          "height": 34
        }
      },
      "cell_type": "code",
      "source": [
        "# All the documents are stored on Google Drive.\n",
        "# It requires authorisation before use them.\n",
        "# This chunk of code is about authorisation.\n",
        "\n",
        "# Mounting Google Drive locally\n",
        "# https://colab.research.google.com/notebooks/io.ipynb#scrollTo=u22w3BFiOveA\n",
        "\n",
        "from google.colab import drive\n",
        "drive.mount('/content/gdrive')"
      ],
      "execution_count": 5,
      "outputs": [
        {
          "output_type": "stream",
          "text": [
            "Drive already mounted at /content/gdrive; to attempt to forcibly remount, call drive.mount(\"/content/gdrive\", force_remount=True).\n"
          ],
          "name": "stdout"
        }
      ]
    },
    {
      "metadata": {
        "id": "76u6Hyc4iZnF",
        "colab_type": "code",
        "colab": {
          "base_uri": "https://localhost:8080/",
          "height": 34
        },
        "outputId": "8bbb74ef-79bf-4c21-de7b-2c2ac6d18049"
      },
      "cell_type": "code",
      "source": [
        "# Change Working Directory in Google Drive\n",
        "\n",
        "os.chdir('gdrive/My Drive/Colab Notebooks/dand_p7_data_wragling')\n",
        "!pwd\n",
        "\n",
        "# Entire Url: '/content/gdrive/My Drive/Colab Notebooks/dand_p7_data_wragling'"
      ],
      "execution_count": 6,
      "outputs": [
        {
          "output_type": "stream",
          "text": [
            "/content/gdrive/My Drive/Colab Notebooks/dand_p7_data_wragling\n"
          ],
          "name": "stdout"
        }
      ]
    },
    {
      "metadata": {
        "id": "hU9v_K3Gl_LU",
        "colab_type": "code",
        "colab": {}
      },
      "cell_type": "code",
      "source": [
        "# Create a new folder if it does not exist\n",
        "\n",
        "folder_name = 'raw_data'\n",
        "if not os.path.exists(folder_name):\n",
        "  os.makedirs(folder_name)"
      ],
      "execution_count": 0,
      "outputs": []
    },
    {
      "metadata": {
        "id": "46pSDBq22rkX",
        "colab_type": "text"
      },
      "cell_type": "markdown",
      "source": [
        "# Data Gathering"
      ]
    },
    {
      "metadata": {
        "id": "4UH9h3K5gcH1",
        "colab_type": "text"
      },
      "cell_type": "markdown",
      "source": [
        "## Enhanced Twitter Archive\n",
        "The original data contains basic tweet data for all 5000+ of **WeRateDogs'** tweets, including rating, dog name, and dog \"stage\" (i.e. doggo, floofer, pupper, and puppo).\n",
        "\n",
        "The current dataset is filtered for tweets with ratings only (there are **2356**).\n",
        " \n",
        "However, some of the ratings,  dog names and dog stages probably aren't all correct.\n",
        " \n",
        "Besides, some of the rating numerators are greater than the denominators - this is a unique rating system of WeRateDogs.\n",
        "\n",
        "No data has been gathered beyond August 1st, 2017."
      ]
    },
    {
      "metadata": {
        "colab_type": "code",
        "id": "xlGtgYgZcbBv",
        "colab": {}
      },
      "cell_type": "code",
      "source": [
        "### 1st df: WeRateDogs Twitter archive\n",
        "\n",
        "df_1_path = os.path.join(folder_name, 'twitter-archive-enhanced.csv')\n",
        "\n",
        "with open(df_1_path, 'r') as f:\n",
        "  df_1 = pd.read_csv(f)"
      ],
      "execution_count": 0,
      "outputs": []
    },
    {
      "metadata": {
        "id": "BFfTFw-wSSsh",
        "colab_type": "code",
        "outputId": "55e11e93-c490-490b-8424-9183bd7dcbbd",
        "colab": {
          "base_uri": "https://localhost:8080/",
          "height": 198
        }
      },
      "cell_type": "code",
      "source": [
        "df_1.head(1)"
      ],
      "execution_count": 9,
      "outputs": [
        {
          "output_type": "execute_result",
          "data": {
            "text/html": [
              "<div>\n",
              "<style scoped>\n",
              "    .dataframe tbody tr th:only-of-type {\n",
              "        vertical-align: middle;\n",
              "    }\n",
              "\n",
              "    .dataframe tbody tr th {\n",
              "        vertical-align: top;\n",
              "    }\n",
              "\n",
              "    .dataframe thead th {\n",
              "        text-align: right;\n",
              "    }\n",
              "</style>\n",
              "<table border=\"1\" class=\"dataframe\">\n",
              "  <thead>\n",
              "    <tr style=\"text-align: right;\">\n",
              "      <th></th>\n",
              "      <th>tweet_id</th>\n",
              "      <th>in_reply_to_status_id</th>\n",
              "      <th>in_reply_to_user_id</th>\n",
              "      <th>timestamp</th>\n",
              "      <th>source</th>\n",
              "      <th>text</th>\n",
              "      <th>retweeted_status_id</th>\n",
              "      <th>retweeted_status_user_id</th>\n",
              "      <th>retweeted_status_timestamp</th>\n",
              "      <th>expanded_urls</th>\n",
              "      <th>rating_numerator</th>\n",
              "      <th>rating_denominator</th>\n",
              "      <th>name</th>\n",
              "      <th>doggo</th>\n",
              "      <th>floofer</th>\n",
              "      <th>pupper</th>\n",
              "      <th>puppo</th>\n",
              "    </tr>\n",
              "  </thead>\n",
              "  <tbody>\n",
              "    <tr>\n",
              "      <th>0</th>\n",
              "      <td>892420643555336193</td>\n",
              "      <td>NaN</td>\n",
              "      <td>NaN</td>\n",
              "      <td>2017-08-01 16:23:56 +0000</td>\n",
              "      <td>&lt;a href=\"http://twitter.com/download/iphone\" r...</td>\n",
              "      <td>This is Phineas. He's a mystical boy. Only eve...</td>\n",
              "      <td>NaN</td>\n",
              "      <td>NaN</td>\n",
              "      <td>NaN</td>\n",
              "      <td>https://twitter.com/dog_rates/status/892420643...</td>\n",
              "      <td>13</td>\n",
              "      <td>10</td>\n",
              "      <td>Phineas</td>\n",
              "      <td>None</td>\n",
              "      <td>None</td>\n",
              "      <td>None</td>\n",
              "      <td>None</td>\n",
              "    </tr>\n",
              "  </tbody>\n",
              "</table>\n",
              "</div>"
            ],
            "text/plain": [
              "             tweet_id  in_reply_to_status_id  in_reply_to_user_id  \\\n",
              "0  892420643555336193                    NaN                  NaN   \n",
              "\n",
              "                   timestamp  \\\n",
              "0  2017-08-01 16:23:56 +0000   \n",
              "\n",
              "                                              source  \\\n",
              "0  <a href=\"http://twitter.com/download/iphone\" r...   \n",
              "\n",
              "                                                text  retweeted_status_id  \\\n",
              "0  This is Phineas. He's a mystical boy. Only eve...                  NaN   \n",
              "\n",
              "   retweeted_status_user_id retweeted_status_timestamp  \\\n",
              "0                       NaN                        NaN   \n",
              "\n",
              "                                       expanded_urls  rating_numerator  \\\n",
              "0  https://twitter.com/dog_rates/status/892420643...                13   \n",
              "\n",
              "   rating_denominator     name doggo floofer pupper puppo  \n",
              "0                  10  Phineas  None    None   None  None  "
            ]
          },
          "metadata": {
            "tags": []
          },
          "execution_count": 9
        }
      ]
    },
    {
      "metadata": {
        "id": "OjxzAIhHae9b",
        "colab_type": "code",
        "outputId": "345a5f7e-0cca-4fdc-91af-8cc1710345db",
        "colab": {
          "base_uri": "https://localhost:8080/",
          "height": 34
        }
      },
      "cell_type": "code",
      "source": [
        "df_1.shape"
      ],
      "execution_count": 10,
      "outputs": [
        {
          "output_type": "execute_result",
          "data": {
            "text/plain": [
              "(2356, 17)"
            ]
          },
          "metadata": {
            "tags": []
          },
          "execution_count": 10
        }
      ]
    },
    {
      "metadata": {
        "id": "jYWz74ZViioi",
        "colab_type": "text"
      },
      "cell_type": "markdown",
      "source": [
        "## Additional Data via the Twitter API\n",
        "**Retweet count** and **favorite count** are two of the notable column omissions of Twitter archives.\n",
        "\n",
        "Fortunately, this additional data can be gathered from Twitter's API. "
      ]
    },
    {
      "metadata": {
        "id": "oT75Gi6Bih7D",
        "colab_type": "code",
        "colab": {}
      },
      "cell_type": "code",
      "source": [
        "### 2nd df: \n",
        "# Each tweet's retweet count and favorite (\"like\") count\n",
        "\n",
        "# Using the tweet IDs in the WeRateDogs Twitter archive, \n",
        "# query the Twitter API for each tweet's JSON data \n",
        "# using Python's Tweepy library:\n",
        "# http://www.tweepy.org/\n",
        "\n",
        "consumer_key = 'pTzzUxLTJcdNCeAHOvhUbflHX'\n",
        "consumer_secret = 'bW1RvcK3vlFBxYFe9XozytZTR50hVsZmdpRCBV2zKFKUSBYEOG'\n",
        "access_token = '1090182192024629249-EMhWG3aaCj1QPeMd8bHO21XPYDRQse'\n",
        "access_secret = '0qWGdlA4iCQ7wFw0RK1FXC6XKHfXtzYryvil0wcyzmN3j'\n",
        "\n",
        "auth = tweepy.OAuthHandler(consumer_key, consumer_secret)\n",
        "auth.set_access_token(access_token, access_secret)\n",
        "\n",
        "api = tweepy.API(auth, wait_on_rate_limit = True)\n",
        "# wait_on_rate_limit = True\n",
        "# Note: do not include your Twitter API keys, secrets, and tokens"
      ],
      "execution_count": 0,
      "outputs": []
    },
    {
      "metadata": {
        "id": "BDgCF6dsSO_3",
        "colab_type": "code",
        "colab": {}
      },
      "cell_type": "code",
      "source": [
        "# test\n",
        "\n",
        "# get status object\n",
        "status = api.get_status('892420643555336193') \n",
        "\n",
        "# get json strings from status obj\n",
        "json_str = json.loads(json.dumps(status._json))\n",
        "\n",
        "# get retweet/like counts from json strings\n",
        "retweet_count = json_str['retweet_count']"
      ],
      "execution_count": 0,
      "outputs": []
    },
    {
      "metadata": {
        "id": "YLkjRE_pUZnb",
        "colab_type": "code",
        "colab": {
          "base_uri": "https://localhost:8080/",
          "height": 34
        },
        "outputId": "68956943-0a24-456b-b08f-e8a4c109bdc0"
      },
      "cell_type": "code",
      "source": [
        "print(retweet_count)"
      ],
      "execution_count": 90,
      "outputs": [
        {
          "output_type": "stream",
          "text": [
            "8302\n"
          ],
          "name": "stdout"
        }
      ]
    },
    {
      "metadata": {
        "id": "5kp5X69fU2h7",
        "colab_type": "code",
        "colab": {
          "base_uri": "https://localhost:8080/",
          "height": 34
        },
        "outputId": "69a494b5-dda0-4d3c-f429-6eb1e0e0db36"
      },
      "cell_type": "code",
      "source": [
        "df_2_list = []\n",
        "\n",
        "# Use each id in df_1\n",
        "for id in df_1['tweet_id']:\n",
        "  \n",
        "\n",
        "  # get status object\n",
        "  status = api.get_status(id) \n",
        "\n",
        "  # get json strings from status obj\n",
        "  json_str = json.loads(json.dumps(status._json))\n",
        "\n",
        "  # get retweet/like counts from json strings\n",
        "  retweet_count = json_str['retweet_count']\n",
        "  favorite_count = json_str['favorite_count']\n",
        "\n",
        "  # write to list\n",
        "  df_2_list.append(f\"{id} {retweet_count} {favorite_count}\")\n",
        "\n",
        "\n",
        "  break\n",
        "\n",
        "df_2_list"
      ],
      "execution_count": 122,
      "outputs": [
        {
          "output_type": "execute_result",
          "data": {
            "text/plain": [
              "['892420643555336193 8302 37994']"
            ]
          },
          "metadata": {
            "tags": []
          },
          "execution_count": 122
        }
      ]
    },
    {
      "metadata": {
        "id": "8sGp6sKYd4Pg",
        "colab_type": "code",
        "colab": {}
      },
      "cell_type": "code",
      "source": [
        "# Use id provided in df_1\n",
        "# to retrive its retweet & favorite count, and\n",
        "# temporarily store in a list\n",
        "\n",
        "df_2_list = []\n",
        "\n",
        "# Use each id in df_1\n",
        "for id in df_1['tweet_id']:\n",
        "  \n",
        "  try:\n",
        "    # get status object\n",
        "    status = api.get_status(id) \n",
        "\n",
        "    # get json strings from status obj\n",
        "    json_str = json.loads(json.dumps(status._json))\n",
        "\n",
        "    # get retweet/like counts from json strings\n",
        "    retweet_count = json_str['retweet_count']\n",
        "    favorite_count = json_str['favorite_count']\n",
        "    \n",
        "    # write to list\n",
        "    df_2_list.append(f\"{id} {retweet_count} {favorite_count}\")\n",
        "\n",
        "  # in case there is no status obj returned\n",
        "  except Exception as e:\n",
        "    df_2_list.append(f\"{id} Nan Nan\")\n"
      ],
      "execution_count": 0,
      "outputs": []
    },
    {
      "metadata": {
        "id": "eIYAw9BBgMVr",
        "colab_type": "code",
        "colab": {}
      },
      "cell_type": "code",
      "source": [
        "# store each tweet's info in a file called tweet_json.txt file. \n",
        "# Each tweet's JSON data should be written to its own line. \n",
        "\n",
        "df_2_path = os.path.join(folder_name, 'tweet_json.txt')\n",
        "\n",
        "with open(df_2_path, \"w\") as f:\n",
        "  for item in df_2_list:\n",
        "    f.write(item + '\\n')\n",
        "    "
      ],
      "execution_count": 0,
      "outputs": []
    },
    {
      "metadata": {
        "id": "-0DNQbNRiy1s",
        "colab_type": "code",
        "colab": {}
      },
      "cell_type": "code",
      "source": [
        "# Read this .txt file line by line into a pandas DataFrame \n",
        "# with tweet ID, retweet count, and favorite count. \n",
        "\n",
        "df_2 = pd.read_csv(df_2_path,  sep=\" \", \n",
        "                  names = ['id', 'retweet_count', 'favorite_count'])\n"
      ],
      "execution_count": 0,
      "outputs": []
    },
    {
      "metadata": {
        "id": "e7tvDlY2awtE",
        "colab_type": "code",
        "outputId": "ff41dda6-1c82-43e6-94be-907dbf0d32aa",
        "colab": {
          "base_uri": "https://localhost:8080/",
          "height": 195
        }
      },
      "cell_type": "code",
      "source": [
        "df_2.head()"
      ],
      "execution_count": 144,
      "outputs": [
        {
          "output_type": "execute_result",
          "data": {
            "text/html": [
              "<div>\n",
              "<style scoped>\n",
              "    .dataframe tbody tr th:only-of-type {\n",
              "        vertical-align: middle;\n",
              "    }\n",
              "\n",
              "    .dataframe tbody tr th {\n",
              "        vertical-align: top;\n",
              "    }\n",
              "\n",
              "    .dataframe thead th {\n",
              "        text-align: right;\n",
              "    }\n",
              "</style>\n",
              "<table border=\"1\" class=\"dataframe\">\n",
              "  <thead>\n",
              "    <tr style=\"text-align: right;\">\n",
              "      <th></th>\n",
              "      <th>id</th>\n",
              "      <th>retweet_count</th>\n",
              "      <th>favorite_count</th>\n",
              "    </tr>\n",
              "  </thead>\n",
              "  <tbody>\n",
              "    <tr>\n",
              "      <th>0</th>\n",
              "      <td>892420643555336193</td>\n",
              "      <td>8302</td>\n",
              "      <td>37994</td>\n",
              "    </tr>\n",
              "    <tr>\n",
              "      <th>1</th>\n",
              "      <td>892177421306343426</td>\n",
              "      <td>6131</td>\n",
              "      <td>32617</td>\n",
              "    </tr>\n",
              "    <tr>\n",
              "      <th>2</th>\n",
              "      <td>891815181378084864</td>\n",
              "      <td>4060</td>\n",
              "      <td>24560</td>\n",
              "    </tr>\n",
              "    <tr>\n",
              "      <th>3</th>\n",
              "      <td>891689557279858688</td>\n",
              "      <td>8434</td>\n",
              "      <td>41319</td>\n",
              "    </tr>\n",
              "    <tr>\n",
              "      <th>4</th>\n",
              "      <td>891327558926688256</td>\n",
              "      <td>9147</td>\n",
              "      <td>39505</td>\n",
              "    </tr>\n",
              "  </tbody>\n",
              "</table>\n",
              "</div>"
            ],
            "text/plain": [
              "                   id retweet_count favorite_count\n",
              "0  892420643555336193          8302          37994\n",
              "1  892177421306343426          6131          32617\n",
              "2  891815181378084864          4060          24560\n",
              "3  891689557279858688          8434          41319\n",
              "4  891327558926688256          9147          39505"
            ]
          },
          "metadata": {
            "tags": []
          },
          "execution_count": 144
        }
      ]
    },
    {
      "metadata": {
        "id": "OVD16ER9at7-",
        "colab_type": "code",
        "outputId": "d74148ff-3e30-48ac-bda7-0353c8c1a5a3",
        "colab": {
          "base_uri": "https://localhost:8080/",
          "height": 34
        }
      },
      "cell_type": "code",
      "source": [
        "df_2.shape"
      ],
      "execution_count": 141,
      "outputs": [
        {
          "output_type": "execute_result",
          "data": {
            "text/plain": [
              "(2356, 3)"
            ]
          },
          "metadata": {
            "tags": []
          },
          "execution_count": 141
        }
      ]
    },
    {
      "metadata": {
        "id": "aI7jJOIXjBup",
        "colab_type": "text"
      },
      "cell_type": "markdown",
      "source": [
        "## Image Predictions File\n",
        "\n",
        "Every image in the WeRateDogs Twitter archive was through a neural network that can classify breeds of dogs.\n",
        "\n",
        "(The neural network: https://www.youtube.com/watch?v=2-Ol7ZB0MmU)\n",
        "\n",
        "The results: a table full of image predictions (the top three only) alongside each tweet ID, image URL, and the image number that corresponded to the **most confident prediction** (**numbered 1 to 4** since tweets can have up to four images).\n",
        "\n",
        "In the table,\n",
        "- **tweet_id** is the last part of the tweet URL after \"status/\" → https://twitter.com/dog_rates/status/889531135344209921\n",
        "- **p1** is the algorithm's **#1 prediction** for the image in the tweet → golden retriever\n",
        "- **p1_conf** is how confident the algorithm is in its #1 prediction → 95%\n",
        "- **p1_dog** is whether or not the #1 prediction is a breed of dog → TRUE\n",
        "- **p2** is the algorithm's **2nd most likely prediction** → Labrador retriever\n",
        "- -etc."
      ]
    },
    {
      "metadata": {
        "id": "wTX1SFR_M749",
        "colab_type": "code",
        "outputId": "f05fba8a-1dee-4396-b26d-5d40063ba8ff",
        "colab": {
          "base_uri": "https://localhost:8080/",
          "height": 34
        }
      },
      "cell_type": "code",
      "source": [
        "### 3rd df: tweet image predictions\n",
        "\n",
        "# The tweet image predictions, i.e., what breed of dog (or other object, animal, etc.) \n",
        "# is present in each tweet according to a neural network. \n",
        "\n",
        "# This file (image_predictions.tsv) is hosted on Udacity's servers and \n",
        "# should be downloaded programmatically using the Requests library \n",
        "# Requests library: http://docs.python-requests.org/en/master/\n",
        "\n",
        "\n",
        "# Store the content into response in working memory\n",
        "\n",
        "url_3 = 'https://d17h27t6h515a5.cloudfront.net/topher/2017/August/599fd2ad_image-predictions/image-predictions.tsv'\n",
        "response = requests.get(url_3)\n",
        "\n",
        "response\n",
        "# <Response [200]>: success"
      ],
      "execution_count": 23,
      "outputs": [
        {
          "output_type": "execute_result",
          "data": {
            "text/plain": [
              "<Response [200]>"
            ]
          },
          "metadata": {
            "tags": []
          },
          "execution_count": 23
        }
      ]
    },
    {
      "metadata": {
        "id": "ZKCi89H3bxQn",
        "colab_type": "code",
        "colab": {}
      },
      "cell_type": "code",
      "source": [
        "# folder name / file name (shown in url_2):\n",
        "# 'raw_data/image-predictions.tsv'\n",
        "\n",
        "df_3_path = os.path.join(folder_name, url_3.split('/')[-1])\n",
        "\n",
        "# put the content of response into f\n",
        "with open (df_3_path, mode='wb') as f:\n",
        "  f.write(response.content)\n",
        "  \n",
        "# ensure the new file has been built\n",
        "# os.listdir(folder_name)"
      ],
      "execution_count": 0,
      "outputs": []
    },
    {
      "metadata": {
        "id": "oczb_5pcekIU",
        "colab_type": "code",
        "outputId": "82364ba9-9bb8-43d0-a34c-d5ed8054d276",
        "colab": {
          "base_uri": "https://localhost:8080/",
          "height": 215
        }
      },
      "cell_type": "code",
      "source": [
        "df_3 = pd.read_csv(df_3_path, sep='\\t')\n",
        "\n",
        "df_3.head()"
      ],
      "execution_count": 25,
      "outputs": [
        {
          "output_type": "execute_result",
          "data": {
            "text/html": [
              "<div>\n",
              "<style scoped>\n",
              "    .dataframe tbody tr th:only-of-type {\n",
              "        vertical-align: middle;\n",
              "    }\n",
              "\n",
              "    .dataframe tbody tr th {\n",
              "        vertical-align: top;\n",
              "    }\n",
              "\n",
              "    .dataframe thead th {\n",
              "        text-align: right;\n",
              "    }\n",
              "</style>\n",
              "<table border=\"1\" class=\"dataframe\">\n",
              "  <thead>\n",
              "    <tr style=\"text-align: right;\">\n",
              "      <th></th>\n",
              "      <th>tweet_id</th>\n",
              "      <th>jpg_url</th>\n",
              "      <th>img_num</th>\n",
              "      <th>p1</th>\n",
              "      <th>p1_conf</th>\n",
              "      <th>p1_dog</th>\n",
              "      <th>p2</th>\n",
              "      <th>p2_conf</th>\n",
              "      <th>p2_dog</th>\n",
              "      <th>p3</th>\n",
              "      <th>p3_conf</th>\n",
              "      <th>p3_dog</th>\n",
              "    </tr>\n",
              "  </thead>\n",
              "  <tbody>\n",
              "    <tr>\n",
              "      <th>0</th>\n",
              "      <td>666020888022790149</td>\n",
              "      <td>https://pbs.twimg.com/media/CT4udn0WwAA0aMy.jpg</td>\n",
              "      <td>1</td>\n",
              "      <td>Welsh_springer_spaniel</td>\n",
              "      <td>0.465074</td>\n",
              "      <td>True</td>\n",
              "      <td>collie</td>\n",
              "      <td>0.156665</td>\n",
              "      <td>True</td>\n",
              "      <td>Shetland_sheepdog</td>\n",
              "      <td>0.061428</td>\n",
              "      <td>True</td>\n",
              "    </tr>\n",
              "    <tr>\n",
              "      <th>1</th>\n",
              "      <td>666029285002620928</td>\n",
              "      <td>https://pbs.twimg.com/media/CT42GRgUYAA5iDo.jpg</td>\n",
              "      <td>1</td>\n",
              "      <td>redbone</td>\n",
              "      <td>0.506826</td>\n",
              "      <td>True</td>\n",
              "      <td>miniature_pinscher</td>\n",
              "      <td>0.074192</td>\n",
              "      <td>True</td>\n",
              "      <td>Rhodesian_ridgeback</td>\n",
              "      <td>0.072010</td>\n",
              "      <td>True</td>\n",
              "    </tr>\n",
              "    <tr>\n",
              "      <th>2</th>\n",
              "      <td>666033412701032449</td>\n",
              "      <td>https://pbs.twimg.com/media/CT4521TWwAEvMyu.jpg</td>\n",
              "      <td>1</td>\n",
              "      <td>German_shepherd</td>\n",
              "      <td>0.596461</td>\n",
              "      <td>True</td>\n",
              "      <td>malinois</td>\n",
              "      <td>0.138584</td>\n",
              "      <td>True</td>\n",
              "      <td>bloodhound</td>\n",
              "      <td>0.116197</td>\n",
              "      <td>True</td>\n",
              "    </tr>\n",
              "    <tr>\n",
              "      <th>3</th>\n",
              "      <td>666044226329800704</td>\n",
              "      <td>https://pbs.twimg.com/media/CT5Dr8HUEAA-lEu.jpg</td>\n",
              "      <td>1</td>\n",
              "      <td>Rhodesian_ridgeback</td>\n",
              "      <td>0.408143</td>\n",
              "      <td>True</td>\n",
              "      <td>redbone</td>\n",
              "      <td>0.360687</td>\n",
              "      <td>True</td>\n",
              "      <td>miniature_pinscher</td>\n",
              "      <td>0.222752</td>\n",
              "      <td>True</td>\n",
              "    </tr>\n",
              "    <tr>\n",
              "      <th>4</th>\n",
              "      <td>666049248165822465</td>\n",
              "      <td>https://pbs.twimg.com/media/CT5IQmsXIAAKY4A.jpg</td>\n",
              "      <td>1</td>\n",
              "      <td>miniature_pinscher</td>\n",
              "      <td>0.560311</td>\n",
              "      <td>True</td>\n",
              "      <td>Rottweiler</td>\n",
              "      <td>0.243682</td>\n",
              "      <td>True</td>\n",
              "      <td>Doberman</td>\n",
              "      <td>0.154629</td>\n",
              "      <td>True</td>\n",
              "    </tr>\n",
              "  </tbody>\n",
              "</table>\n",
              "</div>"
            ],
            "text/plain": [
              "             tweet_id                                          jpg_url  \\\n",
              "0  666020888022790149  https://pbs.twimg.com/media/CT4udn0WwAA0aMy.jpg   \n",
              "1  666029285002620928  https://pbs.twimg.com/media/CT42GRgUYAA5iDo.jpg   \n",
              "2  666033412701032449  https://pbs.twimg.com/media/CT4521TWwAEvMyu.jpg   \n",
              "3  666044226329800704  https://pbs.twimg.com/media/CT5Dr8HUEAA-lEu.jpg   \n",
              "4  666049248165822465  https://pbs.twimg.com/media/CT5IQmsXIAAKY4A.jpg   \n",
              "\n",
              "   img_num                      p1   p1_conf  p1_dog                  p2  \\\n",
              "0        1  Welsh_springer_spaniel  0.465074    True              collie   \n",
              "1        1                 redbone  0.506826    True  miniature_pinscher   \n",
              "2        1         German_shepherd  0.596461    True            malinois   \n",
              "3        1     Rhodesian_ridgeback  0.408143    True             redbone   \n",
              "4        1      miniature_pinscher  0.560311    True          Rottweiler   \n",
              "\n",
              "    p2_conf  p2_dog                   p3   p3_conf  p3_dog  \n",
              "0  0.156665    True    Shetland_sheepdog  0.061428    True  \n",
              "1  0.074192    True  Rhodesian_ridgeback  0.072010    True  \n",
              "2  0.138584    True           bloodhound  0.116197    True  \n",
              "3  0.360687    True   miniature_pinscher  0.222752    True  \n",
              "4  0.243682    True             Doberman  0.154629    True  "
            ]
          },
          "metadata": {
            "tags": []
          },
          "execution_count": 25
        }
      ]
    },
    {
      "metadata": {
        "id": "4n7HIczNoVLE",
        "colab_type": "code",
        "outputId": "936fb788-70f5-42e1-c4ba-28e3614d2b7c",
        "colab": {
          "base_uri": "https://localhost:8080/",
          "height": 34
        }
      },
      "cell_type": "code",
      "source": [
        "df_3.shape"
      ],
      "execution_count": 26,
      "outputs": [
        {
          "output_type": "execute_result",
          "data": {
            "text/plain": [
              "(2075, 12)"
            ]
          },
          "metadata": {
            "tags": []
          },
          "execution_count": 26
        }
      ]
    },
    {
      "metadata": {
        "id": "BU1fwlk8ejDJ",
        "colab_type": "text"
      },
      "cell_type": "markdown",
      "source": [
        "# Data Cleaning\n"
      ]
    },
    {
      "metadata": {
        "id": "-2wETBfv2_rJ",
        "colab_type": "text"
      },
      "cell_type": "markdown",
      "source": [
        "## Quality issues\n"
      ]
    },
    {
      "metadata": {
        "id": "g12Tt_zt3B04",
        "colab_type": "text"
      },
      "cell_type": "markdown",
      "source": [
        "###  Table 1: Enhanced Twitter Archive\n",
        "\n",
        "Missing Values:\n",
        "\n",
        "\n",
        "-  in_reply_to_status_id: 78 out of 2356 is non-null\n",
        "- in_reply_to_user_id: 78 out of 2356 is non-null\n",
        "- retweeted_status_id: 181 out of 2356 is non-null\n",
        "- retweeted_status_user_id:  181 out of 2356 is non-null\n",
        "- retweeted_status_timestamp:  181 out of 2356 is non-null\n",
        "- name: string 'None' should be replaced by Null\n",
        "\n",
        "\n",
        "Data Types:\n",
        "\n",
        "- tweet_id: int -> obj\n",
        "-  timestamp: obj -> datetime\n",
        "-  in_reply_to_status_id: float -> object\n",
        "- in_reply_to_user_id: float -> object\n",
        "- retweeted_status_id: float -> object\n",
        "- retweeted_status_user_id: float -> object\n",
        "\n",
        "Accuracy:\n",
        "\n",
        "- source: the long name with HTML tag could be shorten.\n",
        "- rating_denominator: contains values zero and 2, which might not be an effective value."
      ]
    },
    {
      "metadata": {
        "id": "Tw52thHi9w7m",
        "colab_type": "code",
        "colab": {
          "base_uri": "https://localhost:8080/",
          "height": 386
        },
        "outputId": "e0466817-6752-47ae-cf63-68c946b90c97"
      },
      "cell_type": "code",
      "source": [
        "df_1.info()"
      ],
      "execution_count": 56,
      "outputs": [
        {
          "output_type": "stream",
          "text": [
            "<class 'pandas.core.frame.DataFrame'>\n",
            "RangeIndex: 2356 entries, 0 to 2355\n",
            "Data columns (total 17 columns):\n",
            "tweet_id                      2356 non-null int64\n",
            "in_reply_to_status_id         78 non-null float64\n",
            "in_reply_to_user_id           78 non-null float64\n",
            "timestamp                     2356 non-null object\n",
            "source                        2356 non-null object\n",
            "text                          2356 non-null object\n",
            "retweeted_status_id           181 non-null float64\n",
            "retweeted_status_user_id      181 non-null float64\n",
            "retweeted_status_timestamp    181 non-null object\n",
            "expanded_urls                 2297 non-null object\n",
            "rating_numerator              2356 non-null int64\n",
            "rating_denominator            2356 non-null int64\n",
            "name                          2356 non-null object\n",
            "doggo                         2356 non-null object\n",
            "floofer                       2356 non-null object\n",
            "pupper                        2356 non-null object\n",
            "puppo                         2356 non-null object\n",
            "dtypes: float64(4), int64(3), object(10)\n",
            "memory usage: 313.0+ KB\n"
          ],
          "name": "stdout"
        }
      ]
    },
    {
      "metadata": {
        "id": "3ZtWNLY7_D8M",
        "colab_type": "code",
        "colab": {
          "base_uri": "https://localhost:8080/",
          "height": 358
        },
        "outputId": "d9c23b44-b311-4391-df12-a51918266454"
      },
      "cell_type": "code",
      "source": [
        "df_1.sample(3)"
      ],
      "execution_count": 117,
      "outputs": [
        {
          "output_type": "execute_result",
          "data": {
            "text/html": [
              "<div>\n",
              "<style scoped>\n",
              "    .dataframe tbody tr th:only-of-type {\n",
              "        vertical-align: middle;\n",
              "    }\n",
              "\n",
              "    .dataframe tbody tr th {\n",
              "        vertical-align: top;\n",
              "    }\n",
              "\n",
              "    .dataframe thead th {\n",
              "        text-align: right;\n",
              "    }\n",
              "</style>\n",
              "<table border=\"1\" class=\"dataframe\">\n",
              "  <thead>\n",
              "    <tr style=\"text-align: right;\">\n",
              "      <th></th>\n",
              "      <th>tweet_id</th>\n",
              "      <th>in_reply_to_status_id</th>\n",
              "      <th>in_reply_to_user_id</th>\n",
              "      <th>timestamp</th>\n",
              "      <th>source</th>\n",
              "      <th>text</th>\n",
              "      <th>retweeted_status_id</th>\n",
              "      <th>retweeted_status_user_id</th>\n",
              "      <th>retweeted_status_timestamp</th>\n",
              "      <th>expanded_urls</th>\n",
              "      <th>rating_numerator</th>\n",
              "      <th>rating_denominator</th>\n",
              "      <th>name</th>\n",
              "      <th>doggo</th>\n",
              "      <th>floofer</th>\n",
              "      <th>pupper</th>\n",
              "      <th>puppo</th>\n",
              "    </tr>\n",
              "  </thead>\n",
              "  <tbody>\n",
              "    <tr>\n",
              "      <th>355</th>\n",
              "      <td>830956169170665475</td>\n",
              "      <td>NaN</td>\n",
              "      <td>NaN</td>\n",
              "      <td>2017-02-13 01:46:03 +0000</td>\n",
              "      <td>&lt;a href=\"http://twitter.com/download/iphone\" r...</td>\n",
              "      <td>Say hello to Reggie. He hates puns. 12/10 ligh...</td>\n",
              "      <td>NaN</td>\n",
              "      <td>NaN</td>\n",
              "      <td>NaN</td>\n",
              "      <td>https://twitter.com/dog_rates/status/830956169...</td>\n",
              "      <td>12</td>\n",
              "      <td>10</td>\n",
              "      <td>Reggie</td>\n",
              "      <td>None</td>\n",
              "      <td>None</td>\n",
              "      <td>None</td>\n",
              "      <td>None</td>\n",
              "    </tr>\n",
              "    <tr>\n",
              "      <th>176</th>\n",
              "      <td>857746408056729600</td>\n",
              "      <td>NaN</td>\n",
              "      <td>NaN</td>\n",
              "      <td>2017-04-28 00:00:54 +0000</td>\n",
              "      <td>&lt;a href=\"http://twitter.com/download/iphone\" r...</td>\n",
              "      <td>Meet Thor. He doesn't have finals because he's...</td>\n",
              "      <td>NaN</td>\n",
              "      <td>NaN</td>\n",
              "      <td>NaN</td>\n",
              "      <td>https://twitter.com/dog_rates/status/857746408...</td>\n",
              "      <td>13</td>\n",
              "      <td>10</td>\n",
              "      <td>Thor</td>\n",
              "      <td>None</td>\n",
              "      <td>None</td>\n",
              "      <td>None</td>\n",
              "      <td>None</td>\n",
              "    </tr>\n",
              "    <tr>\n",
              "      <th>2249</th>\n",
              "      <td>667861340749471744</td>\n",
              "      <td>NaN</td>\n",
              "      <td>NaN</td>\n",
              "      <td>2015-11-21 00:25:26 +0000</td>\n",
              "      <td>&lt;a href=\"http://twitter.com/download/iphone\" r...</td>\n",
              "      <td>This is a Shotokon Macadamia mix named Cheryl....</td>\n",
              "      <td>NaN</td>\n",
              "      <td>NaN</td>\n",
              "      <td>NaN</td>\n",
              "      <td>https://twitter.com/dog_rates/status/667861340...</td>\n",
              "      <td>9</td>\n",
              "      <td>10</td>\n",
              "      <td>a</td>\n",
              "      <td>None</td>\n",
              "      <td>None</td>\n",
              "      <td>None</td>\n",
              "      <td>None</td>\n",
              "    </tr>\n",
              "  </tbody>\n",
              "</table>\n",
              "</div>"
            ],
            "text/plain": [
              "                tweet_id  in_reply_to_status_id  in_reply_to_user_id  \\\n",
              "355   830956169170665475                    NaN                  NaN   \n",
              "176   857746408056729600                    NaN                  NaN   \n",
              "2249  667861340749471744                    NaN                  NaN   \n",
              "\n",
              "                      timestamp  \\\n",
              "355   2017-02-13 01:46:03 +0000   \n",
              "176   2017-04-28 00:00:54 +0000   \n",
              "2249  2015-11-21 00:25:26 +0000   \n",
              "\n",
              "                                                 source  \\\n",
              "355   <a href=\"http://twitter.com/download/iphone\" r...   \n",
              "176   <a href=\"http://twitter.com/download/iphone\" r...   \n",
              "2249  <a href=\"http://twitter.com/download/iphone\" r...   \n",
              "\n",
              "                                                   text  retweeted_status_id  \\\n",
              "355   Say hello to Reggie. He hates puns. 12/10 ligh...                  NaN   \n",
              "176   Meet Thor. He doesn't have finals because he's...                  NaN   \n",
              "2249  This is a Shotokon Macadamia mix named Cheryl....                  NaN   \n",
              "\n",
              "      retweeted_status_user_id retweeted_status_timestamp  \\\n",
              "355                        NaN                        NaN   \n",
              "176                        NaN                        NaN   \n",
              "2249                       NaN                        NaN   \n",
              "\n",
              "                                          expanded_urls  rating_numerator  \\\n",
              "355   https://twitter.com/dog_rates/status/830956169...                12   \n",
              "176   https://twitter.com/dog_rates/status/857746408...                13   \n",
              "2249  https://twitter.com/dog_rates/status/667861340...                 9   \n",
              "\n",
              "      rating_denominator    name doggo floofer pupper puppo  \n",
              "355                   10  Reggie  None    None   None  None  \n",
              "176                   10    Thor  None    None   None  None  \n",
              "2249                  10       a  None    None   None  None  "
            ]
          },
          "metadata": {
            "tags": []
          },
          "execution_count": 117
        }
      ]
    },
    {
      "metadata": {
        "id": "n3rqTwsMD90W",
        "colab_type": "code",
        "colab": {
          "base_uri": "https://localhost:8080/",
          "height": 34
        },
        "outputId": "bfe31e39-8478-40f4-f72f-eeb04a8d674c"
      },
      "cell_type": "code",
      "source": [
        "df_1.duplicated().sum()"
      ],
      "execution_count": 64,
      "outputs": [
        {
          "output_type": "execute_result",
          "data": {
            "text/plain": [
              "0"
            ]
          },
          "metadata": {
            "tags": []
          },
          "execution_count": 64
        }
      ]
    },
    {
      "metadata": {
        "id": "Z5Z4jYPtKmDa",
        "colab_type": "code",
        "colab": {
          "base_uri": "https://localhost:8080/",
          "height": 67
        },
        "outputId": "cdef2e7d-8b88-4a83-e835-56ddacf4cb40"
      },
      "cell_type": "code",
      "source": [
        "df_1['doggo'].value_counts()"
      ],
      "execution_count": 70,
      "outputs": [
        {
          "output_type": "execute_result",
          "data": {
            "text/plain": [
              "None     2259\n",
              "doggo      97\n",
              "Name: doggo, dtype: int64"
            ]
          },
          "metadata": {
            "tags": []
          },
          "execution_count": 70
        }
      ]
    },
    {
      "metadata": {
        "id": "xDAzyTD1K0Xx",
        "colab_type": "code",
        "colab": {
          "base_uri": "https://localhost:8080/",
          "height": 67
        },
        "outputId": "699996b7-890a-4d1d-a5f5-107ef3f95c0a"
      },
      "cell_type": "code",
      "source": [
        "df_1['floofer'].value_counts()"
      ],
      "execution_count": 71,
      "outputs": [
        {
          "output_type": "execute_result",
          "data": {
            "text/plain": [
              "None       2346\n",
              "floofer      10\n",
              "Name: floofer, dtype: int64"
            ]
          },
          "metadata": {
            "tags": []
          },
          "execution_count": 71
        }
      ]
    },
    {
      "metadata": {
        "id": "BLH7Kil6K0g2",
        "colab_type": "code",
        "colab": {
          "base_uri": "https://localhost:8080/",
          "height": 67
        },
        "outputId": "c3dd750d-4a96-4d2b-ff88-47fdbc978be1"
      },
      "cell_type": "code",
      "source": [
        "df_1['pupper'].value_counts()"
      ],
      "execution_count": 72,
      "outputs": [
        {
          "output_type": "execute_result",
          "data": {
            "text/plain": [
              "None      2099\n",
              "pupper     257\n",
              "Name: pupper, dtype: int64"
            ]
          },
          "metadata": {
            "tags": []
          },
          "execution_count": 72
        }
      ]
    },
    {
      "metadata": {
        "id": "ficIaAHRK0rY",
        "colab_type": "code",
        "colab": {
          "base_uri": "https://localhost:8080/",
          "height": 67
        },
        "outputId": "13cd818b-b7bf-468c-d7b1-25e2be42bd72"
      },
      "cell_type": "code",
      "source": [
        "df_1['puppo'].value_counts()"
      ],
      "execution_count": 73,
      "outputs": [
        {
          "output_type": "execute_result",
          "data": {
            "text/plain": [
              "None     2326\n",
              "puppo      30\n",
              "Name: puppo, dtype: int64"
            ]
          },
          "metadata": {
            "tags": []
          },
          "execution_count": 73
        }
      ]
    },
    {
      "metadata": {
        "id": "bz4EbyvLLZdz",
        "colab_type": "code",
        "colab": {
          "base_uri": "https://localhost:8080/",
          "height": 336
        },
        "outputId": "e01b6508-38f1-4242-8d83-573d4aafc8dc"
      },
      "cell_type": "code",
      "source": [
        "df_1['rating_denominator'].value_counts()"
      ],
      "execution_count": 74,
      "outputs": [
        {
          "output_type": "execute_result",
          "data": {
            "text/plain": [
              "10     2333\n",
              "11        3\n",
              "50        3\n",
              "80        2\n",
              "20        2\n",
              "2         1\n",
              "16        1\n",
              "40        1\n",
              "70        1\n",
              "15        1\n",
              "90        1\n",
              "110       1\n",
              "120       1\n",
              "130       1\n",
              "150       1\n",
              "170       1\n",
              "7         1\n",
              "0         1\n",
              "Name: rating_denominator, dtype: int64"
            ]
          },
          "metadata": {
            "tags": []
          },
          "execution_count": 74
        }
      ]
    },
    {
      "metadata": {
        "id": "sMiQIQU2WGdT",
        "colab_type": "code",
        "colab": {
          "base_uri": "https://localhost:8080/",
          "height": 101
        },
        "outputId": "a80a76d6-5acd-4621-c526-3bc7729192cf"
      },
      "cell_type": "code",
      "source": [
        "df_1['source'].value_counts()"
      ],
      "execution_count": 120,
      "outputs": [
        {
          "output_type": "execute_result",
          "data": {
            "text/plain": [
              "<a href=\"http://twitter.com/download/iphone\" rel=\"nofollow\">Twitter for iPhone</a>     2221\n",
              "<a href=\"http://vine.co\" rel=\"nofollow\">Vine - Make a Scene</a>                          91\n",
              "<a href=\"http://twitter.com\" rel=\"nofollow\">Twitter Web Client</a>                       33\n",
              "<a href=\"https://about.twitter.com/products/tweetdeck\" rel=\"nofollow\">TweetDeck</a>      11\n",
              "Name: source, dtype: int64"
            ]
          },
          "metadata": {
            "tags": []
          },
          "execution_count": 120
        }
      ]
    },
    {
      "metadata": {
        "id": "F9F38yvZ2R_J",
        "colab_type": "text"
      },
      "cell_type": "markdown",
      "source": [
        "### Table 2: Additional Infomation (Retweet & Favourate)\n",
        "\n",
        "Missing Values:\n",
        "\n",
        "- retweet & favouriate count: \"Nan\" should be replaced by Null.\n",
        "- retweet & favouriate count: 16 missing values"
      ]
    },
    {
      "metadata": {
        "id": "WwdUgqSeornS",
        "colab_type": "code",
        "colab": {}
      },
      "cell_type": "code",
      "source": [
        "# Replace str 'Nan' with Null\n",
        "\n",
        "df_2_copy = df_2.replace('Nan', np.NaN)"
      ],
      "execution_count": 0,
      "outputs": []
    },
    {
      "metadata": {
        "id": "Syq4_ozV4ezm",
        "colab_type": "code",
        "colab": {
          "base_uri": "https://localhost:8080/",
          "height": 151
        },
        "outputId": "031fc734-b8bb-4410-ef04-67463d2cc2b3"
      },
      "cell_type": "code",
      "source": [
        "df_2_copy.info()"
      ],
      "execution_count": 138,
      "outputs": [
        {
          "output_type": "stream",
          "text": [
            "<class 'pandas.core.frame.DataFrame'>\n",
            "RangeIndex: 2356 entries, 0 to 2355\n",
            "Data columns (total 3 columns):\n",
            "id             2356 non-null int64\n",
            "retweet_n      2340 non-null object\n",
            "favourate_n    2340 non-null object\n",
            "dtypes: int64(1), object(2)\n",
            "memory usage: 55.3+ KB\n"
          ],
          "name": "stdout"
        }
      ]
    },
    {
      "metadata": {
        "id": "Zy534fLN2j86",
        "colab_type": "text"
      },
      "cell_type": "markdown",
      "source": [
        "### Table 3: Image Predictions\n",
        "\n",
        "Data Types:\n",
        "\n",
        "- tweet_id: int -> obj\n",
        "- img_num: int -> obj\n",
        "- p1_dog / p2_dog / p3_dog: obj -> bool"
      ]
    },
    {
      "metadata": {
        "id": "EQyEiKcvF9zP",
        "colab_type": "code",
        "colab": {
          "base_uri": "https://localhost:8080/",
          "height": 302
        },
        "outputId": "7bb605c7-e84a-48e3-db7c-e5f50b883fbb"
      },
      "cell_type": "code",
      "source": [
        "df_3.info()"
      ],
      "execution_count": 65,
      "outputs": [
        {
          "output_type": "stream",
          "text": [
            "<class 'pandas.core.frame.DataFrame'>\n",
            "RangeIndex: 2075 entries, 0 to 2074\n",
            "Data columns (total 12 columns):\n",
            "tweet_id    2075 non-null int64\n",
            "jpg_url     2075 non-null object\n",
            "img_num     2075 non-null int64\n",
            "p1          2075 non-null object\n",
            "p1_conf     2075 non-null float64\n",
            "p1_dog      2075 non-null bool\n",
            "p2          2075 non-null object\n",
            "p2_conf     2075 non-null float64\n",
            "p2_dog      2075 non-null bool\n",
            "p3          2075 non-null object\n",
            "p3_conf     2075 non-null float64\n",
            "p3_dog      2075 non-null bool\n",
            "dtypes: bool(3), float64(3), int64(2), object(4)\n",
            "memory usage: 152.1+ KB\n"
          ],
          "name": "stdout"
        }
      ]
    },
    {
      "metadata": {
        "id": "OiovU3TZHYJe",
        "colab_type": "code",
        "colab": {
          "base_uri": "https://localhost:8080/",
          "height": 173
        },
        "outputId": "df5b12a5-4393-4c54-912f-578450301904"
      },
      "cell_type": "code",
      "source": [
        "df_3.sample(3)"
      ],
      "execution_count": 77,
      "outputs": [
        {
          "output_type": "execute_result",
          "data": {
            "text/html": [
              "<div>\n",
              "<style scoped>\n",
              "    .dataframe tbody tr th:only-of-type {\n",
              "        vertical-align: middle;\n",
              "    }\n",
              "\n",
              "    .dataframe tbody tr th {\n",
              "        vertical-align: top;\n",
              "    }\n",
              "\n",
              "    .dataframe thead th {\n",
              "        text-align: right;\n",
              "    }\n",
              "</style>\n",
              "<table border=\"1\" class=\"dataframe\">\n",
              "  <thead>\n",
              "    <tr style=\"text-align: right;\">\n",
              "      <th></th>\n",
              "      <th>tweet_id</th>\n",
              "      <th>jpg_url</th>\n",
              "      <th>img_num</th>\n",
              "      <th>p1</th>\n",
              "      <th>p1_conf</th>\n",
              "      <th>p1_dog</th>\n",
              "      <th>p2</th>\n",
              "      <th>p2_conf</th>\n",
              "      <th>p2_dog</th>\n",
              "      <th>p3</th>\n",
              "      <th>p3_conf</th>\n",
              "      <th>p3_dog</th>\n",
              "    </tr>\n",
              "  </thead>\n",
              "  <tbody>\n",
              "    <tr>\n",
              "      <th>692</th>\n",
              "      <td>684222868335505415</td>\n",
              "      <td>https://pbs.twimg.com/media/CX7Y_ByWwAEJdUy.jpg</td>\n",
              "      <td>1</td>\n",
              "      <td>soft-coated_wheaten_terrier</td>\n",
              "      <td>0.791182</td>\n",
              "      <td>True</td>\n",
              "      <td>cocker_spaniel</td>\n",
              "      <td>0.072444</td>\n",
              "      <td>True</td>\n",
              "      <td>teddy</td>\n",
              "      <td>0.071486</td>\n",
              "      <td>False</td>\n",
              "    </tr>\n",
              "    <tr>\n",
              "      <th>1322</th>\n",
              "      <td>756526248105566208</td>\n",
              "      <td>https://pbs.twimg.com/media/Cn-4m2CXYAErPGe.jpg</td>\n",
              "      <td>1</td>\n",
              "      <td>geyser</td>\n",
              "      <td>0.991273</td>\n",
              "      <td>False</td>\n",
              "      <td>volcano</td>\n",
              "      <td>0.004673</td>\n",
              "      <td>False</td>\n",
              "      <td>fountain</td>\n",
              "      <td>0.001234</td>\n",
              "      <td>False</td>\n",
              "    </tr>\n",
              "    <tr>\n",
              "      <th>510</th>\n",
              "      <td>676146341966438401</td>\n",
              "      <td>https://pbs.twimg.com/media/CWIngp5WEAAJOy3.jpg</td>\n",
              "      <td>1</td>\n",
              "      <td>Irish_water_spaniel</td>\n",
              "      <td>0.388332</td>\n",
              "      <td>True</td>\n",
              "      <td>standard_poodle</td>\n",
              "      <td>0.284121</td>\n",
              "      <td>True</td>\n",
              "      <td>greenhouse</td>\n",
              "      <td>0.034868</td>\n",
              "      <td>False</td>\n",
              "    </tr>\n",
              "  </tbody>\n",
              "</table>\n",
              "</div>"
            ],
            "text/plain": [
              "                tweet_id                                          jpg_url  \\\n",
              "692   684222868335505415  https://pbs.twimg.com/media/CX7Y_ByWwAEJdUy.jpg   \n",
              "1322  756526248105566208  https://pbs.twimg.com/media/Cn-4m2CXYAErPGe.jpg   \n",
              "510   676146341966438401  https://pbs.twimg.com/media/CWIngp5WEAAJOy3.jpg   \n",
              "\n",
              "      img_num                           p1   p1_conf  p1_dog               p2  \\\n",
              "692         1  soft-coated_wheaten_terrier  0.791182    True   cocker_spaniel   \n",
              "1322        1                       geyser  0.991273   False          volcano   \n",
              "510         1          Irish_water_spaniel  0.388332    True  standard_poodle   \n",
              "\n",
              "       p2_conf  p2_dog          p3   p3_conf  p3_dog  \n",
              "692   0.072444    True       teddy  0.071486   False  \n",
              "1322  0.004673   False    fountain  0.001234   False  \n",
              "510   0.284121    True  greenhouse  0.034868   False  "
            ]
          },
          "metadata": {
            "tags": []
          },
          "execution_count": 77
        }
      ]
    },
    {
      "metadata": {
        "id": "BxaqtJ-asARb",
        "colab_type": "code",
        "colab": {
          "base_uri": "https://localhost:8080/",
          "height": 34
        },
        "outputId": "1af9cc28-3d49-4f57-f99d-e408da3e152b"
      },
      "cell_type": "code",
      "source": [
        "df_3.duplicated().sum()"
      ],
      "execution_count": 145,
      "outputs": [
        {
          "output_type": "execute_result",
          "data": {
            "text/plain": [
              "0"
            ]
          },
          "metadata": {
            "tags": []
          },
          "execution_count": 145
        }
      ]
    },
    {
      "metadata": {
        "id": "9PIVgKclQGwh",
        "colab_type": "code",
        "colab": {
          "base_uri": "https://localhost:8080/",
          "height": 1058
        },
        "outputId": "b1f0d788-e583-42d3-ddbe-7e6745c9fe99"
      },
      "cell_type": "code",
      "source": [
        "df_3['p1'].value_counts()"
      ],
      "execution_count": 78,
      "outputs": [
        {
          "output_type": "execute_result",
          "data": {
            "text/plain": [
              "golden_retriever             150\n",
              "Labrador_retriever           100\n",
              "Pembroke                      89\n",
              "Chihuahua                     83\n",
              "pug                           57\n",
              "chow                          44\n",
              "Samoyed                       43\n",
              "toy_poodle                    39\n",
              "Pomeranian                    38\n",
              "cocker_spaniel                30\n",
              "malamute                      30\n",
              "French_bulldog                26\n",
              "Chesapeake_Bay_retriever      23\n",
              "miniature_pinscher            23\n",
              "seat_belt                     22\n",
              "Siberian_husky                20\n",
              "German_shepherd               20\n",
              "Staffordshire_bullterrier     20\n",
              "Cardigan                      19\n",
              "web_site                      19\n",
              "Eskimo_dog                    18\n",
              "teddy                         18\n",
              "beagle                        18\n",
              "Maltese_dog                   18\n",
              "Shetland_sheepdog             18\n",
              "Lakeland_terrier              17\n",
              "Shih-Tzu                      17\n",
              "Rottweiler                    17\n",
              "Italian_greyhound             16\n",
              "kuvasz                        16\n",
              "                            ... \n",
              "cheetah                        1\n",
              "pencil_box                     1\n",
              "pitcher                        1\n",
              "tricycle                       1\n",
              "wooden_spoon                   1\n",
              "agama                          1\n",
              "damselfly                      1\n",
              "bonnet                         1\n",
              "suit                           1\n",
              "sandbar                        1\n",
              "barbell                        1\n",
              "ibex                           1\n",
              "African_hunting_dog            1\n",
              "swab                           1\n",
              "fire_engine                    1\n",
              "picket_fence                   1\n",
              "bison                          1\n",
              "carton                         1\n",
              "banana                         1\n",
              "snowmobile                     1\n",
              "stove                          1\n",
              "harp                           1\n",
              "piggy_bank                     1\n",
              "leopard                        1\n",
              "coil                           1\n",
              "platypus                       1\n",
              "traffic_light                  1\n",
              "black-footed_ferret            1\n",
              "guenon                         1\n",
              "slug                           1\n",
              "Name: p1, Length: 378, dtype: int64"
            ]
          },
          "metadata": {
            "tags": []
          },
          "execution_count": 78
        }
      ]
    },
    {
      "metadata": {
        "id": "6eKLrJwcem_B",
        "colab_type": "text"
      },
      "cell_type": "markdown",
      "source": [
        "## Tidiness Issues \n"
      ]
    },
    {
      "metadata": {
        "id": "79mrXCgNZplq",
        "colab_type": "text"
      },
      "cell_type": "markdown",
      "source": [
        "### Table 1:\n",
        "\n",
        "- doggo\t/ floofer\t/ pupper /\tpuppo: could be combined into 1 column as categorical data."
      ]
    }
  ]
}