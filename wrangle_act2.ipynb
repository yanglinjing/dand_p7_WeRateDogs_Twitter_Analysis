{
  "nbformat": 4,
  "nbformat_minor": 0,
  "metadata": {
    "colab": {
      "name": "wrangle_act2.ipynb",
      "version": "0.3.2",
      "provenance": [],
      "collapsed_sections": [],
      "include_colab_link": true
    },
    "kernelspec": {
      "name": "python3",
      "display_name": "Python 3"
    }
  },
  "cells": [
    {
      "cell_type": "markdown",
      "metadata": {
        "id": "view-in-github",
        "colab_type": "text"
      },
      "source": [
        "<a href=\"https://colab.research.google.com/github/yanglinjing/dand_p7_data_wragling/blob/master/wrangle_act2.ipynb\" target=\"_parent\"><img src=\"https://colab.research.google.com/assets/colab-badge.svg\" alt=\"Open In Colab\"/></a>"
      ]
    },
    {
      "metadata": {
        "id": "BJme0UoADV3o",
        "colab_type": "text"
      },
      "cell_type": "markdown",
      "source": [
        "# Wrangle WeRateDogs Twitter Data\n",
        "\n",
        "# Goal\n",
        "Wrangle **WeRateDogs Twitter** data to create interesting and trustworthy analyses an visualizations. "
      ]
    },
    {
      "metadata": {
        "id": "Rz9MitmSDWb7",
        "colab_type": "code",
        "colab": {}
      },
      "cell_type": "code",
      "source": [
        "import pandas as pd\n",
        "import requests\n",
        "import csv\n",
        "import tweepy\n",
        "import os\n",
        "import json"
      ],
      "execution_count": 0,
      "outputs": []
    },
    {
      "metadata": {
        "id": "vWtvFaTCiIMO",
        "colab_type": "code",
        "outputId": "3a1d3dca-161a-49a1-adaa-35a98b837233",
        "colab": {
          "base_uri": "https://localhost:8080/",
          "height": 34
        }
      },
      "cell_type": "code",
      "source": [
        "# Check current working directory\n",
        "\n",
        "!pwd"
      ],
      "execution_count": 4,
      "outputs": [
        {
          "output_type": "stream",
          "text": [
            "/content\n"
          ],
          "name": "stdout"
        }
      ]
    },
    {
      "metadata": {
        "id": "d9SfmJzWjgOV",
        "colab_type": "code",
        "outputId": "f31de42f-683f-42fd-97fb-d4e19fe7ec9b",
        "colab": {
          "base_uri": "https://localhost:8080/",
          "height": 34
        }
      },
      "cell_type": "code",
      "source": [
        "# All the documents are stored on Google Drive.\n",
        "# It requires authorisation before use them.\n",
        "# This chunk of code is about authorisation.\n",
        "\n",
        "# Mounting Google Drive locally\n",
        "# https://colab.research.google.com/notebooks/io.ipynb#scrollTo=u22w3BFiOveA\n",
        "\n",
        "from google.colab import drive\n",
        "drive.mount('/content/gdrive')"
      ],
      "execution_count": 5,
      "outputs": [
        {
          "output_type": "stream",
          "text": [
            "Drive already mounted at /content/gdrive; to attempt to forcibly remount, call drive.mount(\"/content/gdrive\", force_remount=True).\n"
          ],
          "name": "stdout"
        }
      ]
    },
    {
      "metadata": {
        "id": "76u6Hyc4iZnF",
        "colab_type": "code",
        "colab": {
          "base_uri": "https://localhost:8080/",
          "height": 34
        },
        "outputId": "8bbb74ef-79bf-4c21-de7b-2c2ac6d18049"
      },
      "cell_type": "code",
      "source": [
        "# Change Working Directory in Google Drive\n",
        "\n",
        "os.chdir('gdrive/My Drive/Colab Notebooks/dand_p7_data_wragling')\n",
        "!pwd\n",
        "\n",
        "# Entire Url: '/content/gdrive/My Drive/Colab Notebooks/dand_p7_data_wragling'"
      ],
      "execution_count": 6,
      "outputs": [
        {
          "output_type": "stream",
          "text": [
            "/content/gdrive/My Drive/Colab Notebooks/dand_p7_data_wragling\n"
          ],
          "name": "stdout"
        }
      ]
    },
    {
      "metadata": {
        "id": "hU9v_K3Gl_LU",
        "colab_type": "code",
        "colab": {}
      },
      "cell_type": "code",
      "source": [
        "# Create a new folder if it does not exist\n",
        "\n",
        "folder_name = 'raw_data'\n",
        "if not os.path.exists(folder_name):\n",
        "  os.makedirs(folder_name)"
      ],
      "execution_count": 0,
      "outputs": []
    },
    {
      "metadata": {
        "id": "4UH9h3K5gcH1",
        "colab_type": "text"
      },
      "cell_type": "markdown",
      "source": [
        "# Data Gathering\n",
        "## Enhanced Twitter Archive\n",
        "It contains basic tweet data for all 5000+ of their tweets, including rating, dog name, and dog \"stage\" (i.e. doggo, floofer, pupper, and puppo) .\n",
        "\n",
        " Of the 5000+ tweets, it is filtered for tweets with ratings only (there are 2356).\n",
        " \n",
        " The ratings,  dog names and dog stages probably aren't all correct.\n",
        " \n",
        "The rating numerators are greater than the denominators. This unique rating system is a big part of the popularity of WeRateDogs."
      ]
    },
    {
      "metadata": {
        "colab_type": "code",
        "id": "xlGtgYgZcbBv",
        "colab": {}
      },
      "cell_type": "code",
      "source": [
        "### 1st df: WeRateDogs Twitter archive\n",
        "\n",
        "df_1_path = os.path.join(folder_name, 'twitter-archive-enhanced.csv')\n",
        "\n",
        "with open(df_1_path, 'r') as f:\n",
        "  df_1 = pd.read_csv(f)"
      ],
      "execution_count": 0,
      "outputs": []
    },
    {
      "metadata": {
        "id": "BFfTFw-wSSsh",
        "colab_type": "code",
        "outputId": "55e11e93-c490-490b-8424-9183bd7dcbbd",
        "colab": {
          "base_uri": "https://localhost:8080/",
          "height": 198
        }
      },
      "cell_type": "code",
      "source": [
        "df_1.head(1)"
      ],
      "execution_count": 9,
      "outputs": [
        {
          "output_type": "execute_result",
          "data": {
            "text/html": [
              "<div>\n",
              "<style scoped>\n",
              "    .dataframe tbody tr th:only-of-type {\n",
              "        vertical-align: middle;\n",
              "    }\n",
              "\n",
              "    .dataframe tbody tr th {\n",
              "        vertical-align: top;\n",
              "    }\n",
              "\n",
              "    .dataframe thead th {\n",
              "        text-align: right;\n",
              "    }\n",
              "</style>\n",
              "<table border=\"1\" class=\"dataframe\">\n",
              "  <thead>\n",
              "    <tr style=\"text-align: right;\">\n",
              "      <th></th>\n",
              "      <th>tweet_id</th>\n",
              "      <th>in_reply_to_status_id</th>\n",
              "      <th>in_reply_to_user_id</th>\n",
              "      <th>timestamp</th>\n",
              "      <th>source</th>\n",
              "      <th>text</th>\n",
              "      <th>retweeted_status_id</th>\n",
              "      <th>retweeted_status_user_id</th>\n",
              "      <th>retweeted_status_timestamp</th>\n",
              "      <th>expanded_urls</th>\n",
              "      <th>rating_numerator</th>\n",
              "      <th>rating_denominator</th>\n",
              "      <th>name</th>\n",
              "      <th>doggo</th>\n",
              "      <th>floofer</th>\n",
              "      <th>pupper</th>\n",
              "      <th>puppo</th>\n",
              "    </tr>\n",
              "  </thead>\n",
              "  <tbody>\n",
              "    <tr>\n",
              "      <th>0</th>\n",
              "      <td>892420643555336193</td>\n",
              "      <td>NaN</td>\n",
              "      <td>NaN</td>\n",
              "      <td>2017-08-01 16:23:56 +0000</td>\n",
              "      <td>&lt;a href=\"http://twitter.com/download/iphone\" r...</td>\n",
              "      <td>This is Phineas. He's a mystical boy. Only eve...</td>\n",
              "      <td>NaN</td>\n",
              "      <td>NaN</td>\n",
              "      <td>NaN</td>\n",
              "      <td>https://twitter.com/dog_rates/status/892420643...</td>\n",
              "      <td>13</td>\n",
              "      <td>10</td>\n",
              "      <td>Phineas</td>\n",
              "      <td>None</td>\n",
              "      <td>None</td>\n",
              "      <td>None</td>\n",
              "      <td>None</td>\n",
              "    </tr>\n",
              "  </tbody>\n",
              "</table>\n",
              "</div>"
            ],
            "text/plain": [
              "             tweet_id  in_reply_to_status_id  in_reply_to_user_id  \\\n",
              "0  892420643555336193                    NaN                  NaN   \n",
              "\n",
              "                   timestamp  \\\n",
              "0  2017-08-01 16:23:56 +0000   \n",
              "\n",
              "                                              source  \\\n",
              "0  <a href=\"http://twitter.com/download/iphone\" r...   \n",
              "\n",
              "                                                text  retweeted_status_id  \\\n",
              "0  This is Phineas. He's a mystical boy. Only eve...                  NaN   \n",
              "\n",
              "   retweeted_status_user_id retweeted_status_timestamp  \\\n",
              "0                       NaN                        NaN   \n",
              "\n",
              "                                       expanded_urls  rating_numerator  \\\n",
              "0  https://twitter.com/dog_rates/status/892420643...                13   \n",
              "\n",
              "   rating_denominator     name doggo floofer pupper puppo  \n",
              "0                  10  Phineas  None    None   None  None  "
            ]
          },
          "metadata": {
            "tags": []
          },
          "execution_count": 9
        }
      ]
    },
    {
      "metadata": {
        "id": "OjxzAIhHae9b",
        "colab_type": "code",
        "outputId": "345a5f7e-0cca-4fdc-91af-8cc1710345db",
        "colab": {
          "base_uri": "https://localhost:8080/",
          "height": 34
        }
      },
      "cell_type": "code",
      "source": [
        "df_1.shape"
      ],
      "execution_count": 10,
      "outputs": [
        {
          "output_type": "execute_result",
          "data": {
            "text/plain": [
              "(2356, 17)"
            ]
          },
          "metadata": {
            "tags": []
          },
          "execution_count": 10
        }
      ]
    },
    {
      "metadata": {
        "id": "jYWz74ZViioi",
        "colab_type": "text"
      },
      "cell_type": "markdown",
      "source": [
        "## Additional Data via the Twitter API\n",
        "**Retweet count** and **favorite count** are two of the notable column omissions of Twitter archives.\n",
        "\n",
        "Fortunately, this additional data can be gathered from Twitter's API. "
      ]
    },
    {
      "metadata": {
        "id": "oT75Gi6Bih7D",
        "colab_type": "code",
        "colab": {}
      },
      "cell_type": "code",
      "source": [
        "### 2nd df: \n",
        "# Each tweet's retweet count and favorite (\"like\") count\n",
        "\n",
        "# Using the tweet IDs in the WeRateDogs Twitter archive, \n",
        "# query the Twitter API for each tweet's JSON data \n",
        "# using Python's Tweepy library:\n",
        "# http://www.tweepy.org/\n",
        "\n",
        "consumer_key = 'pTzzUxLTJcdNCeAHOvhUbflHX'\n",
        "consumer_secret = 'bW1RvcK3vlFBxYFe9XozytZTR50hVsZmdpRCBV2zKFKUSBYEOG'\n",
        "access_token = '1090182192024629249-EMhWG3aaCj1QPeMd8bHO21XPYDRQse'\n",
        "access_secret = '0qWGdlA4iCQ7wFw0RK1FXC6XKHfXtzYryvil0wcyzmN3j'\n",
        "\n",
        "auth = tweepy.OAuthHandler(consumer_key, consumer_secret)\n",
        "auth.set_access_token(access_token, access_secret)\n",
        "\n",
        "api = tweepy.API(auth)\n",
        "\n",
        "# Note: do not include your Twitter API keys, secrets, and tokens"
      ],
      "execution_count": 0,
      "outputs": []
    },
    {
      "metadata": {
        "id": "8sGp6sKYd4Pg",
        "colab_type": "code",
        "colab": {}
      },
      "cell_type": "code",
      "source": [
        "# Use id provided in df_1\n",
        "# to retrive its retweet & favorite count, and\n",
        "# temporarily store in a list\n",
        "\n",
        "df_2_list = []\n",
        "\n",
        "# Use each id in df_1\n",
        "for id in df_1['tweet_id']:\n",
        "  \n",
        "  try:\n",
        "    # get status object\n",
        "    status = api.get_status(id) \n",
        "\n",
        "    # get json strings from status obj\n",
        "    json_str = json.loads(json.dumps(status._json))\n",
        "\n",
        "    # get retweet/like counts from json strings\n",
        "    retweet_count = json_str['retweet_count']\n",
        "    favorite_count = json_str['favorite_count']\n",
        "    \n",
        "    # write to list\n",
        "    df_2_list.append(f\"{id} {retweet_n} {favourate_n}\")\n",
        "\n",
        "  # in case there is no status obj returned\n",
        "  except Exception as e:\n",
        "    df_2_list.append(f\"{id} Nan Nan\")\n"
      ],
      "execution_count": 0,
      "outputs": []
    },
    {
      "metadata": {
        "id": "eIYAw9BBgMVr",
        "colab_type": "code",
        "colab": {}
      },
      "cell_type": "code",
      "source": [
        "# store each tweet's info in a file called tweet_json.txt file. \n",
        "# Each tweet's JSON data should be written to its own line. \n",
        "\n",
        "df_2_path = os.path.join(folder_name, 'tweet_json.txt')\n",
        "\n",
        "with open(df_2_path, \"w\") as f:\n",
        "  for item in df_2_list:\n",
        "    f.write(item + '\\n')\n",
        "    "
      ],
      "execution_count": 0,
      "outputs": []
    },
    {
      "metadata": {
        "id": "-0DNQbNRiy1s",
        "colab_type": "code",
        "colab": {}
      },
      "cell_type": "code",
      "source": [
        "# Read this .txt file line by line into a pandas DataFrame \n",
        "# with tweet ID, retweet count, and favorite count. \n",
        "\n",
        "df_2 = pd.read_csv(df_2_path,  sep=\" \", \n",
        "                  names = ['id', 'retweet_n', 'favourate_n'])\n"
      ],
      "execution_count": 0,
      "outputs": []
    },
    {
      "metadata": {
        "id": "e7tvDlY2awtE",
        "colab_type": "code",
        "outputId": "4895416a-2829-4fb3-aac5-784e1ca47428",
        "colab": {
          "base_uri": "https://localhost:8080/",
          "height": 195
        }
      },
      "cell_type": "code",
      "source": [
        "df_2.head()"
      ],
      "execution_count": 21,
      "outputs": [
        {
          "output_type": "execute_result",
          "data": {
            "text/html": [
              "<div>\n",
              "<style scoped>\n",
              "    .dataframe tbody tr th:only-of-type {\n",
              "        vertical-align: middle;\n",
              "    }\n",
              "\n",
              "    .dataframe tbody tr th {\n",
              "        vertical-align: top;\n",
              "    }\n",
              "\n",
              "    .dataframe thead th {\n",
              "        text-align: right;\n",
              "    }\n",
              "</style>\n",
              "<table border=\"1\" class=\"dataframe\">\n",
              "  <thead>\n",
              "    <tr style=\"text-align: right;\">\n",
              "      <th></th>\n",
              "      <th>id</th>\n",
              "      <th>retweet_n</th>\n",
              "      <th>favourate_n</th>\n",
              "    </tr>\n",
              "  </thead>\n",
              "  <tbody>\n",
              "    <tr>\n",
              "      <th>0</th>\n",
              "      <td>892420643555336193</td>\n",
              "      <td>Nan</td>\n",
              "      <td>Nan</td>\n",
              "    </tr>\n",
              "    <tr>\n",
              "      <th>1</th>\n",
              "      <td>892177421306343426</td>\n",
              "      <td>Nan</td>\n",
              "      <td>Nan</td>\n",
              "    </tr>\n",
              "    <tr>\n",
              "      <th>2</th>\n",
              "      <td>891815181378084864</td>\n",
              "      <td>Nan</td>\n",
              "      <td>Nan</td>\n",
              "    </tr>\n",
              "    <tr>\n",
              "      <th>3</th>\n",
              "      <td>891689557279858688</td>\n",
              "      <td>Nan</td>\n",
              "      <td>Nan</td>\n",
              "    </tr>\n",
              "    <tr>\n",
              "      <th>4</th>\n",
              "      <td>891327558926688256</td>\n",
              "      <td>Nan</td>\n",
              "      <td>Nan</td>\n",
              "    </tr>\n",
              "  </tbody>\n",
              "</table>\n",
              "</div>"
            ],
            "text/plain": [
              "                   id retweet_n favourate_n\n",
              "0  892420643555336193       Nan         Nan\n",
              "1  892177421306343426       Nan         Nan\n",
              "2  891815181378084864       Nan         Nan\n",
              "3  891689557279858688       Nan         Nan\n",
              "4  891327558926688256       Nan         Nan"
            ]
          },
          "metadata": {
            "tags": []
          },
          "execution_count": 21
        }
      ]
    },
    {
      "metadata": {
        "id": "OVD16ER9at7-",
        "colab_type": "code",
        "outputId": "640c0bee-7fe0-44ca-afd5-72bd730a1505",
        "colab": {
          "base_uri": "https://localhost:8080/",
          "height": 34
        }
      },
      "cell_type": "code",
      "source": [
        "df_2.shape"
      ],
      "execution_count": 22,
      "outputs": [
        {
          "output_type": "execute_result",
          "data": {
            "text/plain": [
              "(2356, 3)"
            ]
          },
          "metadata": {
            "tags": []
          },
          "execution_count": 22
        }
      ]
    },
    {
      "metadata": {
        "id": "aI7jJOIXjBup",
        "colab_type": "text"
      },
      "cell_type": "markdown",
      "source": [
        "## Image Predictions File\n",
        "\n",
        "Every image in the WeRateDogs Twitter archive was through a neural network that can classify breeds of dogs.\n",
        "\n",
        "(The neural network: https://www.youtube.com/watch?v=2-Ol7ZB0MmU)\n",
        "\n",
        "The results: a table full of image predictions (the top three only) alongside each tweet ID, image URL, and the image number that corresponded to the **most confident prediction** (**numbered 1 to 4** since tweets can have up to four images).\n",
        "\n",
        "In the table,\n",
        "- **tweet_id** is the last part of the tweet URL after \"status/\" → https://twitter.com/dog_rates/status/889531135344209921\n",
        "- **p1** is the algorithm's **#1 prediction** for the image in the tweet → golden retriever\n",
        "- **p1_conf** is how confident the algorithm is in its #1 prediction → 95%\n",
        "- **p1_dog** is whether or not the #1 prediction is a breed of dog → TRUE\n",
        "- **p2** is the algorithm's **2nd most likely prediction** → Labrador retriever\n",
        "- -etc."
      ]
    },
    {
      "metadata": {
        "id": "wTX1SFR_M749",
        "colab_type": "code",
        "outputId": "f05fba8a-1dee-4396-b26d-5d40063ba8ff",
        "colab": {
          "base_uri": "https://localhost:8080/",
          "height": 34
        }
      },
      "cell_type": "code",
      "source": [
        "### 3rd df: tweet image predictions\n",
        "\n",
        "# The tweet image predictions, i.e., what breed of dog (or other object, animal, etc.) \n",
        "# is present in each tweet according to a neural network. \n",
        "\n",
        "# This file (image_predictions.tsv) is hosted on Udacity's servers and \n",
        "# should be downloaded programmatically using the Requests library \n",
        "# Requests library: http://docs.python-requests.org/en/master/\n",
        "\n",
        "\n",
        "# Store the content into response in working memory\n",
        "\n",
        "url_3 = 'https://d17h27t6h515a5.cloudfront.net/topher/2017/August/599fd2ad_image-predictions/image-predictions.tsv'\n",
        "response = requests.get(url_3)\n",
        "\n",
        "response\n",
        "# <Response [200]>: success"
      ],
      "execution_count": 23,
      "outputs": [
        {
          "output_type": "execute_result",
          "data": {
            "text/plain": [
              "<Response [200]>"
            ]
          },
          "metadata": {
            "tags": []
          },
          "execution_count": 23
        }
      ]
    },
    {
      "metadata": {
        "id": "ZKCi89H3bxQn",
        "colab_type": "code",
        "colab": {}
      },
      "cell_type": "code",
      "source": [
        "# folder name / file name (shown in url_2):\n",
        "# 'raw_data/image-predictions.tsv'\n",
        "\n",
        "df_3_path = os.path.join(folder_name, url_3.split('/')[-1])\n",
        "\n",
        "# put the content of response into f\n",
        "with open (df_3_path, mode='wb') as f:\n",
        "  f.write(response.content)\n",
        "  \n",
        "# ensure the new file has been built\n",
        "# os.listdir(folder_name)"
      ],
      "execution_count": 0,
      "outputs": []
    },
    {
      "metadata": {
        "id": "oczb_5pcekIU",
        "colab_type": "code",
        "outputId": "82364ba9-9bb8-43d0-a34c-d5ed8054d276",
        "colab": {
          "base_uri": "https://localhost:8080/",
          "height": 215
        }
      },
      "cell_type": "code",
      "source": [
        "df_3 = pd.read_csv(df_3_path, sep='\\t')\n",
        "\n",
        "df_3.head()"
      ],
      "execution_count": 25,
      "outputs": [
        {
          "output_type": "execute_result",
          "data": {
            "text/html": [
              "<div>\n",
              "<style scoped>\n",
              "    .dataframe tbody tr th:only-of-type {\n",
              "        vertical-align: middle;\n",
              "    }\n",
              "\n",
              "    .dataframe tbody tr th {\n",
              "        vertical-align: top;\n",
              "    }\n",
              "\n",
              "    .dataframe thead th {\n",
              "        text-align: right;\n",
              "    }\n",
              "</style>\n",
              "<table border=\"1\" class=\"dataframe\">\n",
              "  <thead>\n",
              "    <tr style=\"text-align: right;\">\n",
              "      <th></th>\n",
              "      <th>tweet_id</th>\n",
              "      <th>jpg_url</th>\n",
              "      <th>img_num</th>\n",
              "      <th>p1</th>\n",
              "      <th>p1_conf</th>\n",
              "      <th>p1_dog</th>\n",
              "      <th>p2</th>\n",
              "      <th>p2_conf</th>\n",
              "      <th>p2_dog</th>\n",
              "      <th>p3</th>\n",
              "      <th>p3_conf</th>\n",
              "      <th>p3_dog</th>\n",
              "    </tr>\n",
              "  </thead>\n",
              "  <tbody>\n",
              "    <tr>\n",
              "      <th>0</th>\n",
              "      <td>666020888022790149</td>\n",
              "      <td>https://pbs.twimg.com/media/CT4udn0WwAA0aMy.jpg</td>\n",
              "      <td>1</td>\n",
              "      <td>Welsh_springer_spaniel</td>\n",
              "      <td>0.465074</td>\n",
              "      <td>True</td>\n",
              "      <td>collie</td>\n",
              "      <td>0.156665</td>\n",
              "      <td>True</td>\n",
              "      <td>Shetland_sheepdog</td>\n",
              "      <td>0.061428</td>\n",
              "      <td>True</td>\n",
              "    </tr>\n",
              "    <tr>\n",
              "      <th>1</th>\n",
              "      <td>666029285002620928</td>\n",
              "      <td>https://pbs.twimg.com/media/CT42GRgUYAA5iDo.jpg</td>\n",
              "      <td>1</td>\n",
              "      <td>redbone</td>\n",
              "      <td>0.506826</td>\n",
              "      <td>True</td>\n",
              "      <td>miniature_pinscher</td>\n",
              "      <td>0.074192</td>\n",
              "      <td>True</td>\n",
              "      <td>Rhodesian_ridgeback</td>\n",
              "      <td>0.072010</td>\n",
              "      <td>True</td>\n",
              "    </tr>\n",
              "    <tr>\n",
              "      <th>2</th>\n",
              "      <td>666033412701032449</td>\n",
              "      <td>https://pbs.twimg.com/media/CT4521TWwAEvMyu.jpg</td>\n",
              "      <td>1</td>\n",
              "      <td>German_shepherd</td>\n",
              "      <td>0.596461</td>\n",
              "      <td>True</td>\n",
              "      <td>malinois</td>\n",
              "      <td>0.138584</td>\n",
              "      <td>True</td>\n",
              "      <td>bloodhound</td>\n",
              "      <td>0.116197</td>\n",
              "      <td>True</td>\n",
              "    </tr>\n",
              "    <tr>\n",
              "      <th>3</th>\n",
              "      <td>666044226329800704</td>\n",
              "      <td>https://pbs.twimg.com/media/CT5Dr8HUEAA-lEu.jpg</td>\n",
              "      <td>1</td>\n",
              "      <td>Rhodesian_ridgeback</td>\n",
              "      <td>0.408143</td>\n",
              "      <td>True</td>\n",
              "      <td>redbone</td>\n",
              "      <td>0.360687</td>\n",
              "      <td>True</td>\n",
              "      <td>miniature_pinscher</td>\n",
              "      <td>0.222752</td>\n",
              "      <td>True</td>\n",
              "    </tr>\n",
              "    <tr>\n",
              "      <th>4</th>\n",
              "      <td>666049248165822465</td>\n",
              "      <td>https://pbs.twimg.com/media/CT5IQmsXIAAKY4A.jpg</td>\n",
              "      <td>1</td>\n",
              "      <td>miniature_pinscher</td>\n",
              "      <td>0.560311</td>\n",
              "      <td>True</td>\n",
              "      <td>Rottweiler</td>\n",
              "      <td>0.243682</td>\n",
              "      <td>True</td>\n",
              "      <td>Doberman</td>\n",
              "      <td>0.154629</td>\n",
              "      <td>True</td>\n",
              "    </tr>\n",
              "  </tbody>\n",
              "</table>\n",
              "</div>"
            ],
            "text/plain": [
              "             tweet_id                                          jpg_url  \\\n",
              "0  666020888022790149  https://pbs.twimg.com/media/CT4udn0WwAA0aMy.jpg   \n",
              "1  666029285002620928  https://pbs.twimg.com/media/CT42GRgUYAA5iDo.jpg   \n",
              "2  666033412701032449  https://pbs.twimg.com/media/CT4521TWwAEvMyu.jpg   \n",
              "3  666044226329800704  https://pbs.twimg.com/media/CT5Dr8HUEAA-lEu.jpg   \n",
              "4  666049248165822465  https://pbs.twimg.com/media/CT5IQmsXIAAKY4A.jpg   \n",
              "\n",
              "   img_num                      p1   p1_conf  p1_dog                  p2  \\\n",
              "0        1  Welsh_springer_spaniel  0.465074    True              collie   \n",
              "1        1                 redbone  0.506826    True  miniature_pinscher   \n",
              "2        1         German_shepherd  0.596461    True            malinois   \n",
              "3        1     Rhodesian_ridgeback  0.408143    True             redbone   \n",
              "4        1      miniature_pinscher  0.560311    True          Rottweiler   \n",
              "\n",
              "    p2_conf  p2_dog                   p3   p3_conf  p3_dog  \n",
              "0  0.156665    True    Shetland_sheepdog  0.061428    True  \n",
              "1  0.074192    True  Rhodesian_ridgeback  0.072010    True  \n",
              "2  0.138584    True           bloodhound  0.116197    True  \n",
              "3  0.360687    True   miniature_pinscher  0.222752    True  \n",
              "4  0.243682    True             Doberman  0.154629    True  "
            ]
          },
          "metadata": {
            "tags": []
          },
          "execution_count": 25
        }
      ]
    },
    {
      "metadata": {
        "id": "4n7HIczNoVLE",
        "colab_type": "code",
        "outputId": "936fb788-70f5-42e1-c4ba-28e3614d2b7c",
        "colab": {
          "base_uri": "https://localhost:8080/",
          "height": 34
        }
      },
      "cell_type": "code",
      "source": [
        "df_3.shape"
      ],
      "execution_count": 26,
      "outputs": [
        {
          "output_type": "execute_result",
          "data": {
            "text/plain": [
              "(2075, 12)"
            ]
          },
          "metadata": {
            "tags": []
          },
          "execution_count": 26
        }
      ]
    },
    {
      "metadata": {
        "id": "BU1fwlk8ejDJ",
        "colab_type": "text"
      },
      "cell_type": "markdown",
      "source": [
        "## 8  quality issues "
      ]
    },
    {
      "metadata": {
        "id": "6eKLrJwcem_B",
        "colab_type": "text"
      },
      "cell_type": "markdown",
      "source": [
        "## 2 tidiness issues "
      ]
    },
    {
      "metadata": {
        "id": "L3HiLTtLfOm-",
        "colab_type": "code",
        "colab": {}
      },
      "cell_type": "code",
      "source": [
        ""
      ],
      "execution_count": 0,
      "outputs": []
    },
    {
      "metadata": {
        "id": "YaDtBNOTfSbI",
        "colab_type": "text"
      },
      "cell_type": "markdown",
      "source": [
        "do not need to gather the tweets beyond August 1st, 2017"
      ]
    }
  ]
}