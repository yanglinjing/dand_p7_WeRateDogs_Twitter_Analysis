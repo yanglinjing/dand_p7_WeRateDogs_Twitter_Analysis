{
  "nbformat": 4,
  "nbformat_minor": 0,
  "metadata": {
    "colab": {
      "name": "wrangle_act.ipynb",
      "version": "0.3.2",
      "provenance": [],
      "collapsed_sections": [
        "oYcGaQ9foUGE",
        "4UH9h3K5gcH1",
        "aI7jJOIXjBup",
        "gewiOmKS5WsP",
        "bsJvbIMh73vi",
        "ZClLhSkZ8gHX",
        "z4r24p6uQMyS",
        "ghiOQFssSXcM",
        "_BGXr15jWtc5",
        "xKpXdksVZXCD",
        "qdSCKjqZabUU",
        "C_sbCm-Xb4VN",
        "IMijhGf3eRw-",
        "vDAKCecEdepF",
        "JrL4112aaZBF",
        "LN1ldG0WwfSb",
        "AbWaNsBybQ1E",
        "H5GonwKSnnsU",
        "KAHaSBHZXoBp",
        "NtlIOWCzhiYL",
        "faIl0HpXsQKb",
        "aPHePhs-Lmgn"
      ],
      "include_colab_link": true
    },
    "kernelspec": {
      "name": "python3",
      "display_name": "Python 3"
    }
  },
  "cells": [
    {
      "cell_type": "markdown",
      "metadata": {
        "id": "view-in-github",
        "colab_type": "text"
      },
      "source": [
        "<a href=\"https://colab.research.google.com/github/yanglinjing/dand_p7_data_wragling/blob/master/wrangle_act.ipynb\" target=\"_parent\"><img src=\"https://colab.research.google.com/assets/colab-badge.svg\" alt=\"Open In Colab\"/></a>"
      ]
    },
    {
      "metadata": {
        "id": "BJme0UoADV3o",
        "colab_type": "text"
      },
      "cell_type": "markdown",
      "source": [
        "# Data Wrangling - WeRateDogs Twitter \n"
      ]
    },
    {
      "metadata": {
        "id": "oYcGaQ9foUGE",
        "colab_type": "text"
      },
      "cell_type": "markdown",
      "source": [
        "# Introduction\n",
        "Real-world data rarely comes clean. Using Python and its libraries, I gathered data from a variety of sources and in 3 different formats, assessed its quality and tidiness, and then cleaned it, which is called data wrangling. \n",
        "\n",
        "## Goal\n",
        "Practice data wrangling using **WeRateDogs Twitter** data in order to create interesting and trustworthy analyses an visualizations. \n",
        "\n",
        "## Tools\n",
        "\n",
        "I documented my wrangling efforts in a Jupyter Notebook, plus showcased them through analyses and visualizations using Python and its libraries (pandas, numpy, requests, json, tweepy, etc.).\n",
        "\n",
        "## Dataset\n",
        "\n",
        "My dataset consists of data from 3 different sources. \n",
        "\n",
        "### 1. Twitter Archive\n",
        "\n",
        "The first one is the tweet archive of Twitter user **@dog_rates**, also known as **WeRateDogs**, which is a Twitter account that rates people's dogs with a humorous comment about the dog. \n",
        "\n",
        "WeRateDogs has over 4 million followers and has received international media coverage.\n",
        "\n",
        "Its ratings almost always have a denominator of 10, but the numerators are always greater than 10 (e.g. 11/10, 12/10, 13/10, etc). Why? Because \"they're good dogs Brent.\" \n",
        "\n",
        "### 2. Additiona information via the Twitter API\n",
        "\n",
        "The second one is retweet count and favorite count of each tweet gathered from Twitter's API by Tweetpy Library in a Json format.\n",
        "\n",
        "### 3.  Image Predictions File\n",
        "The third is the prediction of dog images and breeds downloaded programtically by Requests Library from the neural network.\n",
        "\n",
        "\n",
        "## What I did\n",
        "\n",
        "- Examine the 3 datasets (6,787 total entries)\n",
        "\n",
        "- Use Python to wrangle and analyze them\n",
        "\n",
        "- Create a custom visualization to communicate observations"
      ]
    },
    {
      "metadata": {
        "id": "Fi8UZIS8avwa",
        "colab_type": "code",
        "outputId": "0690bea3-2754-4224-ce6b-ffd1ae85fbb3",
        "colab": {
          "base_uri": "https://localhost:8080/",
          "height": 121
        }
      },
      "cell_type": "code",
      "source": [
        "!pip install palettable"
      ],
      "execution_count": 0,
      "outputs": [
        {
          "output_type": "stream",
          "text": [
            "Collecting palettable\n",
            "\u001b[?25l  Downloading https://files.pythonhosted.org/packages/56/8a/84537c0354f0d1f03bf644b71bf8e0a50db9c1294181905721a5f3efbf66/palettable-3.1.1-py2.py3-none-any.whl (77kB)\n",
            "\u001b[K    100% |████████████████████████████████| 81kB 3.2MB/s \n",
            "\u001b[?25hInstalling collected packages: palettable\n",
            "Successfully installed palettable-3.1.1\n"
          ],
          "name": "stdout"
        }
      ]
    },
    {
      "metadata": {
        "id": "Rz9MitmSDWb7",
        "colab_type": "code",
        "colab": {}
      },
      "cell_type": "code",
      "source": [
        "import pandas as pd\n",
        "import requests\n",
        "import csv\n",
        "import tweepy\n",
        "import os\n",
        "import json\n",
        "import numpy as np\n",
        "import matplotlib.pyplot as plt\n",
        "import seaborn as sns\n",
        "from palettable.colorbrewer.qualitative import Pastel1_7  # color\n",
        "\n",
        "% matplotlib inline"
      ],
      "execution_count": 0,
      "outputs": []
    },
    {
      "metadata": {
        "id": "vWtvFaTCiIMO",
        "colab_type": "code",
        "outputId": "87d18ab8-7864-4d02-e2b3-360e65d1e15d",
        "colab": {
          "base_uri": "https://localhost:8080/",
          "height": 34
        }
      },
      "cell_type": "code",
      "source": [
        "# Check current working directory\n",
        "\n",
        "!pwd"
      ],
      "execution_count": 0,
      "outputs": [
        {
          "output_type": "stream",
          "text": [
            "/content\n"
          ],
          "name": "stdout"
        }
      ]
    },
    {
      "metadata": {
        "id": "d9SfmJzWjgOV",
        "colab_type": "code",
        "outputId": "a9d079a3-846e-4497-f7f6-4593d3a04056",
        "colab": {
          "base_uri": "https://localhost:8080/",
          "height": 121
        }
      },
      "cell_type": "code",
      "source": [
        "# All the documents are stored on Google Drive.\n",
        "# It requires authorisation before use them.\n",
        "# This chunk of code is about authorisation.\n",
        "\n",
        "# Mounting Google Drive locally\n",
        "# https://colab.research.google.com/notebooks/io.ipynb#scrollTo=u22w3BFiOveA\n",
        "\n",
        "from google.colab import drive\n",
        "drive.mount('/content/gdrive')"
      ],
      "execution_count": 0,
      "outputs": [
        {
          "output_type": "stream",
          "text": [
            "Go to this URL in a browser: https://accounts.google.com/o/oauth2/auth?client_id=947318989803-6bn6qk8qdgf4n4g3pfee6491hc0brc4i.apps.googleusercontent.com&redirect_uri=urn%3Aietf%3Awg%3Aoauth%3A2.0%3Aoob&scope=email%20https%3A%2F%2Fwww.googleapis.com%2Fauth%2Fdocs.test%20https%3A%2F%2Fwww.googleapis.com%2Fauth%2Fdrive%20https%3A%2F%2Fwww.googleapis.com%2Fauth%2Fdrive.photos.readonly%20https%3A%2F%2Fwww.googleapis.com%2Fauth%2Fpeopleapi.readonly&response_type=code\n",
            "\n",
            "Enter your authorization code:\n",
            "··········\n",
            "Mounted at /content/gdrive\n"
          ],
          "name": "stdout"
        }
      ]
    },
    {
      "metadata": {
        "id": "76u6Hyc4iZnF",
        "colab_type": "code",
        "outputId": "75d043e8-7a18-4ce8-a5ca-1537dd2a575c",
        "colab": {
          "base_uri": "https://localhost:8080/",
          "height": 34
        }
      },
      "cell_type": "code",
      "source": [
        "# Change Working Directory in Google Drive\n",
        "\n",
        "os.chdir('gdrive/My Drive/Colab Notebooks/dand_p7_data_wragling')\n",
        "!pwd\n",
        "\n",
        "# Entire Url: '/content/gdrive/My Drive/Colab Notebooks/dand_p7_data_wragling'"
      ],
      "execution_count": 0,
      "outputs": [
        {
          "output_type": "stream",
          "text": [
            "/content/gdrive/My Drive/Colab Notebooks/dand_p7_data_wragling\n"
          ],
          "name": "stdout"
        }
      ]
    },
    {
      "metadata": {
        "id": "hU9v_K3Gl_LU",
        "colab_type": "code",
        "colab": {}
      },
      "cell_type": "code",
      "source": [
        "# Create a new folder if it does not exist\n",
        "\n",
        "folder_name = 'raw_data'\n",
        "if not os.path.exists(folder_name):\n",
        "  os.makedirs(folder_name)"
      ],
      "execution_count": 0,
      "outputs": []
    },
    {
      "metadata": {
        "id": "M8Ru5d37SuPM",
        "colab_type": "code",
        "colab": {}
      },
      "cell_type": "code",
      "source": [
        "my_color = Pastel1_7.hex_colors"
      ],
      "execution_count": 0,
      "outputs": []
    },
    {
      "metadata": {
        "id": "ZSfKTS4MaPFM",
        "colab_type": "code",
        "colab": {}
      },
      "cell_type": "code",
      "source": [
        "# Display full info of df\n",
        "\n",
        "pd.set_option('display.max_colwidth', -1)\n",
        "\n",
        "#with pd.option_context('display.max_colwidth', -1): display(df)"
      ],
      "execution_count": 0,
      "outputs": []
    },
    {
      "metadata": {
        "id": "46pSDBq22rkX",
        "colab_type": "text"
      },
      "cell_type": "markdown",
      "source": [
        "# Data Gathering"
      ]
    },
    {
      "metadata": {
        "id": "4UH9h3K5gcH1",
        "colab_type": "text"
      },
      "cell_type": "markdown",
      "source": [
        "## Enhanced Twitter Archive\n",
        "The original data contains basic tweet data for all 5000+ of **WeRateDogs'** tweets, including rating, dog name, and dog \"stage\" (i.e. doggo, floofer, pupper, and puppo).\n",
        "\n",
        "The current dataset is filtered for tweets with ratings only (there are **2356**).\n",
        " \n",
        "However, some of the ratings,  dog names and dog stages probably aren't all correct.\n",
        " \n",
        "Besides, some of the rating numerators are greater than the denominators - this is a unique rating system of WeRateDogs.\n",
        "\n",
        "No data has been gathered beyond August 1st, 2017."
      ]
    },
    {
      "metadata": {
        "colab_type": "code",
        "id": "xlGtgYgZcbBv",
        "colab": {}
      },
      "cell_type": "code",
      "source": [
        "### 1st df: WeRateDogs Twitter archive\n",
        "\n",
        "df_1_path = os.path.join(folder_name, 'twitter-archive-enhanced.csv')\n",
        "\n",
        "with open(df_1_path, 'r') as f:\n",
        "  df_1 = pd.read_csv(f)"
      ],
      "execution_count": 0,
      "outputs": []
    },
    {
      "metadata": {
        "id": "BFfTFw-wSSsh",
        "colab_type": "code",
        "outputId": "5f08fdcd-bbb0-41f3-c1c8-07b8960b8afe",
        "colab": {
          "base_uri": "https://localhost:8080/",
          "height": 198
        }
      },
      "cell_type": "code",
      "source": [
        "df_1.head(1)"
      ],
      "execution_count": 0,
      "outputs": [
        {
          "output_type": "execute_result",
          "data": {
            "text/html": [
              "<div>\n",
              "<style scoped>\n",
              "    .dataframe tbody tr th:only-of-type {\n",
              "        vertical-align: middle;\n",
              "    }\n",
              "\n",
              "    .dataframe tbody tr th {\n",
              "        vertical-align: top;\n",
              "    }\n",
              "\n",
              "    .dataframe thead th {\n",
              "        text-align: right;\n",
              "    }\n",
              "</style>\n",
              "<table border=\"1\" class=\"dataframe\">\n",
              "  <thead>\n",
              "    <tr style=\"text-align: right;\">\n",
              "      <th></th>\n",
              "      <th>tweet_id</th>\n",
              "      <th>in_reply_to_status_id</th>\n",
              "      <th>in_reply_to_user_id</th>\n",
              "      <th>timestamp</th>\n",
              "      <th>source</th>\n",
              "      <th>text</th>\n",
              "      <th>retweeted_status_id</th>\n",
              "      <th>retweeted_status_user_id</th>\n",
              "      <th>retweeted_status_timestamp</th>\n",
              "      <th>expanded_urls</th>\n",
              "      <th>rating_numerator</th>\n",
              "      <th>rating_denominator</th>\n",
              "      <th>name</th>\n",
              "      <th>doggo</th>\n",
              "      <th>floofer</th>\n",
              "      <th>pupper</th>\n",
              "      <th>puppo</th>\n",
              "    </tr>\n",
              "  </thead>\n",
              "  <tbody>\n",
              "    <tr>\n",
              "      <th>0</th>\n",
              "      <td>892420643555336193</td>\n",
              "      <td>NaN</td>\n",
              "      <td>NaN</td>\n",
              "      <td>2017-08-01 16:23:56 +0000</td>\n",
              "      <td>&lt;a href=\"http://twitter.com/download/iphone\" r...</td>\n",
              "      <td>This is Phineas. He's a mystical boy. Only eve...</td>\n",
              "      <td>NaN</td>\n",
              "      <td>NaN</td>\n",
              "      <td>NaN</td>\n",
              "      <td>https://twitter.com/dog_rates/status/892420643...</td>\n",
              "      <td>13</td>\n",
              "      <td>10</td>\n",
              "      <td>Phineas</td>\n",
              "      <td>None</td>\n",
              "      <td>None</td>\n",
              "      <td>None</td>\n",
              "      <td>None</td>\n",
              "    </tr>\n",
              "  </tbody>\n",
              "</table>\n",
              "</div>"
            ],
            "text/plain": [
              "             tweet_id  in_reply_to_status_id  in_reply_to_user_id  \\\n",
              "0  892420643555336193                    NaN                  NaN   \n",
              "\n",
              "                   timestamp  \\\n",
              "0  2017-08-01 16:23:56 +0000   \n",
              "\n",
              "                                              source  \\\n",
              "0  <a href=\"http://twitter.com/download/iphone\" r...   \n",
              "\n",
              "                                                text  retweeted_status_id  \\\n",
              "0  This is Phineas. He's a mystical boy. Only eve...                  NaN   \n",
              "\n",
              "   retweeted_status_user_id retweeted_status_timestamp  \\\n",
              "0                       NaN                        NaN   \n",
              "\n",
              "                                       expanded_urls  rating_numerator  \\\n",
              "0  https://twitter.com/dog_rates/status/892420643...                13   \n",
              "\n",
              "   rating_denominator     name doggo floofer pupper puppo  \n",
              "0                  10  Phineas  None    None   None  None  "
            ]
          },
          "metadata": {
            "tags": []
          },
          "execution_count": 21
        }
      ]
    },
    {
      "metadata": {
        "id": "OjxzAIhHae9b",
        "colab_type": "code",
        "outputId": "345a5f7e-0cca-4fdc-91af-8cc1710345db",
        "colab": {
          "base_uri": "https://localhost:8080/",
          "height": 34
        }
      },
      "cell_type": "code",
      "source": [
        "df_1.shape"
      ],
      "execution_count": 0,
      "outputs": [
        {
          "output_type": "execute_result",
          "data": {
            "text/plain": [
              "(2356, 17)"
            ]
          },
          "metadata": {
            "tags": []
          },
          "execution_count": 10
        }
      ]
    },
    {
      "metadata": {
        "id": "jYWz74ZViioi",
        "colab_type": "text"
      },
      "cell_type": "markdown",
      "source": [
        "## Additional Data via the Twitter API\n",
        "**Retweet count** and **favorite count** are two of the notable column omissions of Twitter archives.\n",
        "\n",
        "Fortunately, this additional data can be gathered from Twitter's API. "
      ]
    },
    {
      "metadata": {
        "id": "oT75Gi6Bih7D",
        "colab_type": "code",
        "colab": {}
      },
      "cell_type": "code",
      "source": [
        "### 2nd df: \n",
        "# Each tweet's retweet count and favorite (\"like\") count\n",
        "\n",
        "# Using the tweet IDs in the WeRateDogs Twitter archive, \n",
        "# query the Twitter API for each tweet's JSON data \n",
        "# using Python's Tweepy library:\n",
        "# http://www.tweepy.org/\n",
        "\n",
        "consumer_key = '[consumer_key]'\n",
        "consumer_secret = '[consumer_secret]'\n",
        "access_token = '[access_token]'\n",
        "access_secret = '[access_secret]'\n",
        "\n",
        "auth = tweepy.OAuthHandler(consumer_key, consumer_secret)\n",
        "auth.set_access_token(access_token, access_secret)\n",
        "\n",
        "api = tweepy.API(auth, wait_on_rate_limit = True)\n",
        "# wait_on_rate_limit = True\n",
        "# Note: do not include your Twitter API keys, secrets, and tokens"
      ],
      "execution_count": 0,
      "outputs": []
    },
    {
      "metadata": {
        "id": "8sGp6sKYd4Pg",
        "colab_type": "code",
        "colab": {}
      },
      "cell_type": "code",
      "source": [
        "# Use id provided in df_1\n",
        "# to retrive its retweet & favorite count, and\n",
        "# temporarily store in a list\n",
        "\n",
        "df_2_list = []\n",
        "\n",
        "# Use each id in df_1\n",
        "for id in df_1['tweet_id']:\n",
        "  \n",
        "  try:\n",
        "    # get status object\n",
        "    status = api.get_status(id) \n",
        "\n",
        "    # get json strings from status obj\n",
        "    json_str = json.loads(json.dumps(status._json))\n",
        "\n",
        "    # get retweet/like counts from json strings\n",
        "    retweet_count = json_str['retweet_count']\n",
        "    favorite_count = json_str['favorite_count']\n",
        "    \n",
        "    # write to list\n",
        "    df_2_list.append(f\"{id} {retweet_count} {favorite_count}\")\n",
        "\n",
        "  # in case there is no status obj returned\n",
        "  except Exception as e:\n",
        "    df_2_list.append(f\"{id} Nan Nan\")\n"
      ],
      "execution_count": 0,
      "outputs": []
    },
    {
      "metadata": {
        "colab_type": "code",
        "id": "biU9jt8XgB2d",
        "colab": {}
      },
      "cell_type": "code",
      "source": [
        "##\n",
        "# directory of df2\n",
        "\n",
        "df_2_path = os.path.join(folder_name, 'tweet_json.txt')"
      ],
      "execution_count": 0,
      "outputs": []
    },
    {
      "metadata": {
        "id": "eIYAw9BBgMVr",
        "colab_type": "code",
        "colab": {}
      },
      "cell_type": "code",
      "source": [
        "# store each tweet's info in a file called tweet_json.txt file. \n",
        "# Each tweet's JSON data should be written to its own line. \n",
        "\n",
        "with open(df_2_path, \"w\") as f:\n",
        "  for item in df_2_list:\n",
        "    f.write(item + '\\n')\n",
        "    "
      ],
      "execution_count": 0,
      "outputs": []
    },
    {
      "metadata": {
        "id": "-0DNQbNRiy1s",
        "colab_type": "code",
        "colab": {}
      },
      "cell_type": "code",
      "source": [
        "##\n",
        "# Read this .txt file line by line into a pandas DataFrame \n",
        "# with tweet ID, retweet count, and favorite count. \n",
        "\n",
        "df_2 = pd.read_csv(df_2_path,  sep=\" \", \n",
        "                  names = ['id', 'retweet_count', 'favorite_count'])\n"
      ],
      "execution_count": 0,
      "outputs": []
    },
    {
      "metadata": {
        "id": "e7tvDlY2awtE",
        "colab_type": "code",
        "outputId": "b9d7ac98-8d74-4822-ae2a-eaffcd76053f",
        "colab": {
          "base_uri": "https://localhost:8080/",
          "height": 195
        }
      },
      "cell_type": "code",
      "source": [
        "df_2.head()"
      ],
      "execution_count": 0,
      "outputs": [
        {
          "output_type": "execute_result",
          "data": {
            "text/html": [
              "<div>\n",
              "<style scoped>\n",
              "    .dataframe tbody tr th:only-of-type {\n",
              "        vertical-align: middle;\n",
              "    }\n",
              "\n",
              "    .dataframe tbody tr th {\n",
              "        vertical-align: top;\n",
              "    }\n",
              "\n",
              "    .dataframe thead th {\n",
              "        text-align: right;\n",
              "    }\n",
              "</style>\n",
              "<table border=\"1\" class=\"dataframe\">\n",
              "  <thead>\n",
              "    <tr style=\"text-align: right;\">\n",
              "      <th></th>\n",
              "      <th>id</th>\n",
              "      <th>retweet_count</th>\n",
              "      <th>favorite_count</th>\n",
              "    </tr>\n",
              "  </thead>\n",
              "  <tbody>\n",
              "    <tr>\n",
              "      <th>0</th>\n",
              "      <td>892420643555336193</td>\n",
              "      <td>8302</td>\n",
              "      <td>37994</td>\n",
              "    </tr>\n",
              "    <tr>\n",
              "      <th>1</th>\n",
              "      <td>892177421306343426</td>\n",
              "      <td>6131</td>\n",
              "      <td>32617</td>\n",
              "    </tr>\n",
              "    <tr>\n",
              "      <th>2</th>\n",
              "      <td>891815181378084864</td>\n",
              "      <td>4060</td>\n",
              "      <td>24560</td>\n",
              "    </tr>\n",
              "    <tr>\n",
              "      <th>3</th>\n",
              "      <td>891689557279858688</td>\n",
              "      <td>8434</td>\n",
              "      <td>41319</td>\n",
              "    </tr>\n",
              "    <tr>\n",
              "      <th>4</th>\n",
              "      <td>891327558926688256</td>\n",
              "      <td>9147</td>\n",
              "      <td>39505</td>\n",
              "    </tr>\n",
              "  </tbody>\n",
              "</table>\n",
              "</div>"
            ],
            "text/plain": [
              "                   id retweet_count favorite_count\n",
              "0  892420643555336193          8302          37994\n",
              "1  892177421306343426          6131          32617\n",
              "2  891815181378084864          4060          24560\n",
              "3  891689557279858688          8434          41319\n",
              "4  891327558926688256          9147          39505"
            ]
          },
          "metadata": {
            "tags": []
          },
          "execution_count": 19
        }
      ]
    },
    {
      "metadata": {
        "id": "OVD16ER9at7-",
        "colab_type": "code",
        "outputId": "c2251467-2f2d-4845-c3e2-e5a40153f771",
        "colab": {
          "base_uri": "https://localhost:8080/",
          "height": 34
        }
      },
      "cell_type": "code",
      "source": [
        "df_2.shape"
      ],
      "execution_count": 0,
      "outputs": [
        {
          "output_type": "execute_result",
          "data": {
            "text/plain": [
              "(2356, 3)"
            ]
          },
          "metadata": {
            "tags": []
          },
          "execution_count": 11
        }
      ]
    },
    {
      "metadata": {
        "id": "aI7jJOIXjBup",
        "colab_type": "text"
      },
      "cell_type": "markdown",
      "source": [
        "## Image Predictions File\n",
        "\n",
        "Every image in the WeRateDogs Twitter archive was through a neural network that can classify breeds of dogs.\n",
        "\n",
        "(The neural network: https://www.youtube.com/watch?v=2-Ol7ZB0MmU)\n",
        "\n",
        "The results: a table full of image predictions (the top three only) alongside each tweet ID, image URL, and the image number that corresponded to the **most confident prediction** (**numbered 1 to 4** since tweets can have up to four images).\n",
        "\n",
        "In the table,\n",
        "- **tweet_id** is the last part of the tweet URL after \"status/\" → https://twitter.com/dog_rates/status/889531135344209921\n",
        "- **p1** is the algorithm's **#1 prediction** for the image in the tweet → golden retriever\n",
        "- **p1_conf** is how confident the algorithm is in its #1 prediction → 95%\n",
        "- **p1_dog** is whether or not the #1 prediction is a breed of dog → TRUE\n",
        "- **p2** is the algorithm's **2nd most likely prediction** → Labrador retriever\n",
        "- -etc."
      ]
    },
    {
      "metadata": {
        "id": "wTX1SFR_M749",
        "colab_type": "code",
        "outputId": "7a5fa5af-407a-43b3-daf7-52ea4024534e",
        "colab": {
          "base_uri": "https://localhost:8080/",
          "height": 34
        }
      },
      "cell_type": "code",
      "source": [
        "### 3rd df: tweet image predictions\n",
        "\n",
        "# The tweet image predictions, i.e., what breed of dog (or other object, animal, etc.) \n",
        "# is present in each tweet according to a neural network. \n",
        "\n",
        "# This file (image_predictions.tsv) is hosted on Udacity's servers and \n",
        "# should be downloaded programmatically using the Requests library \n",
        "# Requests library: http://docs.python-requests.org/en/master/\n",
        "\n",
        "\n",
        "# Store the content into response in working memory\n",
        "\n",
        "url_3 = 'https://d17h27t6h515a5.cloudfront.net/topher/2017/August/599fd2ad_image-predictions/image-predictions.tsv'\n",
        "response = requests.get(url_3)\n",
        "\n",
        "response\n",
        "# <Response [200]>: success"
      ],
      "execution_count": 0,
      "outputs": [
        {
          "output_type": "execute_result",
          "data": {
            "text/plain": [
              "<Response [200]>"
            ]
          },
          "metadata": {
            "tags": []
          },
          "execution_count": 13
        }
      ]
    },
    {
      "metadata": {
        "colab_type": "code",
        "id": "hShuP6MngDxs",
        "colab": {}
      },
      "cell_type": "code",
      "source": [
        "# folder name / file name (shown in url_2):\n",
        "# 'raw_data/image-predictions.tsv'\n",
        "\n",
        "df_3_path = os.path.join(folder_name, url_3.split('/')[-1])"
      ],
      "execution_count": 0,
      "outputs": []
    },
    {
      "metadata": {
        "id": "ZKCi89H3bxQn",
        "colab_type": "code",
        "colab": {}
      },
      "cell_type": "code",
      "source": [
        "# put the content of response into f\n",
        "with open (df_3_path, mode='wb') as f:\n",
        "  f.write(response.content)\n",
        "  \n",
        "# ensure the new file has been built\n",
        "# os.listdir(folder_name)"
      ],
      "execution_count": 0,
      "outputs": []
    },
    {
      "metadata": {
        "id": "oczb_5pcekIU",
        "colab_type": "code",
        "outputId": "5fd5ba1f-fda3-412a-a45f-ff7470d0154a",
        "colab": {
          "base_uri": "https://localhost:8080/",
          "height": 215
        }
      },
      "cell_type": "code",
      "source": [
        "df_3 = pd.read_csv(df_3_path, sep='\\t')\n",
        "\n",
        "df_3.head()"
      ],
      "execution_count": 0,
      "outputs": [
        {
          "output_type": "execute_result",
          "data": {
            "text/html": [
              "<div>\n",
              "<style scoped>\n",
              "    .dataframe tbody tr th:only-of-type {\n",
              "        vertical-align: middle;\n",
              "    }\n",
              "\n",
              "    .dataframe tbody tr th {\n",
              "        vertical-align: top;\n",
              "    }\n",
              "\n",
              "    .dataframe thead th {\n",
              "        text-align: right;\n",
              "    }\n",
              "</style>\n",
              "<table border=\"1\" class=\"dataframe\">\n",
              "  <thead>\n",
              "    <tr style=\"text-align: right;\">\n",
              "      <th></th>\n",
              "      <th>tweet_id</th>\n",
              "      <th>jpg_url</th>\n",
              "      <th>img_num</th>\n",
              "      <th>p1</th>\n",
              "      <th>p1_conf</th>\n",
              "      <th>p1_dog</th>\n",
              "      <th>p2</th>\n",
              "      <th>p2_conf</th>\n",
              "      <th>p2_dog</th>\n",
              "      <th>p3</th>\n",
              "      <th>p3_conf</th>\n",
              "      <th>p3_dog</th>\n",
              "    </tr>\n",
              "  </thead>\n",
              "  <tbody>\n",
              "    <tr>\n",
              "      <th>0</th>\n",
              "      <td>666020888022790149</td>\n",
              "      <td>https://pbs.twimg.com/media/CT4udn0WwAA0aMy.jpg</td>\n",
              "      <td>1</td>\n",
              "      <td>Welsh_springer_spaniel</td>\n",
              "      <td>0.465074</td>\n",
              "      <td>True</td>\n",
              "      <td>collie</td>\n",
              "      <td>0.156665</td>\n",
              "      <td>True</td>\n",
              "      <td>Shetland_sheepdog</td>\n",
              "      <td>0.061428</td>\n",
              "      <td>True</td>\n",
              "    </tr>\n",
              "    <tr>\n",
              "      <th>1</th>\n",
              "      <td>666029285002620928</td>\n",
              "      <td>https://pbs.twimg.com/media/CT42GRgUYAA5iDo.jpg</td>\n",
              "      <td>1</td>\n",
              "      <td>redbone</td>\n",
              "      <td>0.506826</td>\n",
              "      <td>True</td>\n",
              "      <td>miniature_pinscher</td>\n",
              "      <td>0.074192</td>\n",
              "      <td>True</td>\n",
              "      <td>Rhodesian_ridgeback</td>\n",
              "      <td>0.072010</td>\n",
              "      <td>True</td>\n",
              "    </tr>\n",
              "    <tr>\n",
              "      <th>2</th>\n",
              "      <td>666033412701032449</td>\n",
              "      <td>https://pbs.twimg.com/media/CT4521TWwAEvMyu.jpg</td>\n",
              "      <td>1</td>\n",
              "      <td>German_shepherd</td>\n",
              "      <td>0.596461</td>\n",
              "      <td>True</td>\n",
              "      <td>malinois</td>\n",
              "      <td>0.138584</td>\n",
              "      <td>True</td>\n",
              "      <td>bloodhound</td>\n",
              "      <td>0.116197</td>\n",
              "      <td>True</td>\n",
              "    </tr>\n",
              "    <tr>\n",
              "      <th>3</th>\n",
              "      <td>666044226329800704</td>\n",
              "      <td>https://pbs.twimg.com/media/CT5Dr8HUEAA-lEu.jpg</td>\n",
              "      <td>1</td>\n",
              "      <td>Rhodesian_ridgeback</td>\n",
              "      <td>0.408143</td>\n",
              "      <td>True</td>\n",
              "      <td>redbone</td>\n",
              "      <td>0.360687</td>\n",
              "      <td>True</td>\n",
              "      <td>miniature_pinscher</td>\n",
              "      <td>0.222752</td>\n",
              "      <td>True</td>\n",
              "    </tr>\n",
              "    <tr>\n",
              "      <th>4</th>\n",
              "      <td>666049248165822465</td>\n",
              "      <td>https://pbs.twimg.com/media/CT5IQmsXIAAKY4A.jpg</td>\n",
              "      <td>1</td>\n",
              "      <td>miniature_pinscher</td>\n",
              "      <td>0.560311</td>\n",
              "      <td>True</td>\n",
              "      <td>Rottweiler</td>\n",
              "      <td>0.243682</td>\n",
              "      <td>True</td>\n",
              "      <td>Doberman</td>\n",
              "      <td>0.154629</td>\n",
              "      <td>True</td>\n",
              "    </tr>\n",
              "  </tbody>\n",
              "</table>\n",
              "</div>"
            ],
            "text/plain": [
              "             tweet_id                                          jpg_url  \\\n",
              "0  666020888022790149  https://pbs.twimg.com/media/CT4udn0WwAA0aMy.jpg   \n",
              "1  666029285002620928  https://pbs.twimg.com/media/CT42GRgUYAA5iDo.jpg   \n",
              "2  666033412701032449  https://pbs.twimg.com/media/CT4521TWwAEvMyu.jpg   \n",
              "3  666044226329800704  https://pbs.twimg.com/media/CT5Dr8HUEAA-lEu.jpg   \n",
              "4  666049248165822465  https://pbs.twimg.com/media/CT5IQmsXIAAKY4A.jpg   \n",
              "\n",
              "   img_num                      p1   p1_conf  p1_dog                  p2  \\\n",
              "0        1  Welsh_springer_spaniel  0.465074    True              collie   \n",
              "1        1                 redbone  0.506826    True  miniature_pinscher   \n",
              "2        1         German_shepherd  0.596461    True            malinois   \n",
              "3        1     Rhodesian_ridgeback  0.408143    True             redbone   \n",
              "4        1      miniature_pinscher  0.560311    True          Rottweiler   \n",
              "\n",
              "    p2_conf  p2_dog                   p3   p3_conf  p3_dog  \n",
              "0  0.156665    True    Shetland_sheepdog  0.061428    True  \n",
              "1  0.074192    True  Rhodesian_ridgeback  0.072010    True  \n",
              "2  0.138584    True           bloodhound  0.116197    True  \n",
              "3  0.360687    True   miniature_pinscher  0.222752    True  \n",
              "4  0.243682    True             Doberman  0.154629    True  "
            ]
          },
          "metadata": {
            "tags": []
          },
          "execution_count": 15
        }
      ]
    },
    {
      "metadata": {
        "id": "4n7HIczNoVLE",
        "colab_type": "code",
        "outputId": "6b6aef9f-bc40-4361-bc13-3640aa7c3510",
        "colab": {
          "base_uri": "https://localhost:8080/",
          "height": 34
        }
      },
      "cell_type": "code",
      "source": [
        "df_3.shape"
      ],
      "execution_count": 0,
      "outputs": [
        {
          "output_type": "execute_result",
          "data": {
            "text/plain": [
              "(2075, 12)"
            ]
          },
          "metadata": {
            "tags": []
          },
          "execution_count": 16
        }
      ]
    },
    {
      "metadata": {
        "id": "mj3JVOKX40M0",
        "colab_type": "text"
      },
      "cell_type": "markdown",
      "source": [
        "# Data Accessing"
      ]
    },
    {
      "metadata": {
        "id": "gewiOmKS5WsP",
        "colab_type": "text"
      },
      "cell_type": "markdown",
      "source": [
        "## Table 1: Enhanced Twitter Archive\n",
        "\n",
        "###  Quality issues\n",
        "Completeness:\n",
        "\n",
        "\n",
        "-  in_reply_to_status_id: 78 out of 2356 is non-null\n",
        "- in_reply_to_user_id: 78 out of 2356 is non-null\n",
        "- retweeted_status_id: 181 out of 2356 is non-null\n",
        "- retweeted_status_user_id:  181 out of 2356 is non-null\n",
        "- retweeted_status_timestamp:  181 out of 2356 is non-null\n",
        "- name: string 'None' should be replaced by Null\n",
        "- Since only original ratings (no retweets) that have images, the rows of retweets / replys could not contribute to this analysis and should be deleted.\n",
        "- After retweet / reply rows are deleted, the following columns could be dropped:\n",
        " - in_reply_to_status_id\n",
        " - in_reply_to_user_id\n",
        " - retweeted_status_id\n",
        " - retweeted_status_user_id\n",
        " - retweeted_status_timestamp\n",
        "\n",
        "\n",
        "Validity:\n",
        "\n",
        "- rating_denominator contains invalid values (e.g. denominator = 0, index = 313)\n",
        "- invalid names like *an, the, only*, etc.\n",
        "\n",
        "Accuracy:\n",
        "\n",
        "- rating_numberator contains extremely large values (e.g. 1776 when denominator = 10)\n",
        "- Since numerators are extracted from 'text', the numerators with decimals were wrongly extracted (index =  45, 340, 695, 763, 1689, 1712)\n",
        "\n",
        "\n",
        "Data Types:\n",
        "\n",
        "- tweet_id: int -> obj\n",
        "-  timestamp: obj -> datetime\n",
        "-  in_reply_to_status_id: float -> object\n",
        "- in_reply_to_user_id: float -> object\n",
        "- retweeted_status_id: float -> object\n",
        "- retweeted_status_user_id: float -> object\n",
        "\n",
        "### Tidiness Issues \n",
        "\n",
        "- doggo\t/ floofer\t/ pupper /\tpuppo: could be combined into 1 column as categorical data.\n",
        "- source: the long name with HTML tag could be shorten.\n",
        " "
      ]
    },
    {
      "metadata": {
        "id": "UhDDJjXX5k6H",
        "colab_type": "code",
        "colab": {}
      },
      "cell_type": "code",
      "source": [
        "df_1.info()\n",
        "\n",
        "# in_reply & retweeted have too much missing values"
      ],
      "execution_count": 0,
      "outputs": []
    },
    {
      "metadata": {
        "id": "9AABY5F25lqf",
        "colab_type": "code",
        "colab": {}
      },
      "cell_type": "code",
      "source": [
        "df_1.sample(3)"
      ],
      "execution_count": 0,
      "outputs": []
    },
    {
      "metadata": {
        "id": "msFoWxZq55uf",
        "colab_type": "code",
        "colab": {}
      },
      "cell_type": "code",
      "source": [
        "df_1.duplicated().sum()\n",
        "\n",
        "# no duplicated rows"
      ],
      "execution_count": 0,
      "outputs": []
    },
    {
      "metadata": {
        "id": "wbUC5ZJ4DtoQ",
        "colab_type": "code",
        "outputId": "a3a21331-077c-4114-d794-26b13407742e",
        "colab": {
          "base_uri": "https://localhost:8080/",
          "height": 386
        }
      },
      "cell_type": "code",
      "source": [
        "# find retweets\n",
        "\n",
        "df_1[df_1['retweeted_status_id'].notnull()].info()"
      ],
      "execution_count": 0,
      "outputs": [
        {
          "output_type": "stream",
          "text": [
            "<class 'pandas.core.frame.DataFrame'>\n",
            "Int64Index: 181 entries, 19 to 2260\n",
            "Data columns (total 17 columns):\n",
            "tweet_id                      181 non-null int64\n",
            "in_reply_to_status_id         0 non-null float64\n",
            "in_reply_to_user_id           0 non-null float64\n",
            "timestamp                     181 non-null object\n",
            "source                        181 non-null object\n",
            "text                          181 non-null object\n",
            "retweeted_status_id           181 non-null float64\n",
            "retweeted_status_user_id      181 non-null float64\n",
            "retweeted_status_timestamp    181 non-null object\n",
            "expanded_urls                 180 non-null object\n",
            "rating_numerator              181 non-null int64\n",
            "rating_denominator            181 non-null int64\n",
            "name                          181 non-null object\n",
            "doggo                         181 non-null object\n",
            "floofer                       181 non-null object\n",
            "pupper                        181 non-null object\n",
            "puppo                         181 non-null object\n",
            "dtypes: float64(4), int64(3), object(10)\n",
            "memory usage: 25.5+ KB\n"
          ],
          "name": "stdout"
        }
      ]
    },
    {
      "metadata": {
        "id": "qJLJYgmHFhcy",
        "colab_type": "code",
        "outputId": "ffbb3296-29a9-45a4-8a58-629b3688249b",
        "colab": {
          "base_uri": "https://localhost:8080/",
          "height": 386
        }
      },
      "cell_type": "code",
      "source": [
        "# find replys\n",
        "\n",
        "df_1[df_1['in_reply_to_status_id'].notnull()].info()"
      ],
      "execution_count": 0,
      "outputs": [
        {
          "output_type": "stream",
          "text": [
            "<class 'pandas.core.frame.DataFrame'>\n",
            "Int64Index: 78 entries, 30 to 2298\n",
            "Data columns (total 17 columns):\n",
            "tweet_id                      78 non-null int64\n",
            "in_reply_to_status_id         78 non-null float64\n",
            "in_reply_to_user_id           78 non-null float64\n",
            "timestamp                     78 non-null object\n",
            "source                        78 non-null object\n",
            "text                          78 non-null object\n",
            "retweeted_status_id           0 non-null float64\n",
            "retweeted_status_user_id      0 non-null float64\n",
            "retweeted_status_timestamp    0 non-null object\n",
            "expanded_urls                 23 non-null object\n",
            "rating_numerator              78 non-null int64\n",
            "rating_denominator            78 non-null int64\n",
            "name                          78 non-null object\n",
            "doggo                         78 non-null object\n",
            "floofer                       78 non-null object\n",
            "pupper                        78 non-null object\n",
            "puppo                         78 non-null object\n",
            "dtypes: float64(4), int64(3), object(10)\n",
            "memory usage: 11.0+ KB\n"
          ],
          "name": "stdout"
        }
      ]
    },
    {
      "metadata": {
        "id": "OlTQ3uE_599y",
        "colab_type": "code",
        "colab": {}
      },
      "cell_type": "code",
      "source": [
        "df_1['doggo'].value_counts()"
      ],
      "execution_count": 0,
      "outputs": []
    },
    {
      "metadata": {
        "id": "4GtVdBs26Cuk",
        "colab_type": "code",
        "colab": {}
      },
      "cell_type": "code",
      "source": [
        "df_1['floofer'].value_counts()"
      ],
      "execution_count": 0,
      "outputs": []
    },
    {
      "metadata": {
        "id": "GkMh_9uY6C3d",
        "colab_type": "code",
        "colab": {}
      },
      "cell_type": "code",
      "source": [
        "df_1['pupper'].value_counts()"
      ],
      "execution_count": 0,
      "outputs": []
    },
    {
      "metadata": {
        "id": "tuucYzHd6DAn",
        "colab_type": "code",
        "colab": {}
      },
      "cell_type": "code",
      "source": [
        "df_1['puppo'].value_counts()"
      ],
      "execution_count": 0,
      "outputs": []
    },
    {
      "metadata": {
        "id": "d__0SHIS6J4R",
        "colab_type": "code",
        "colab": {}
      },
      "cell_type": "code",
      "source": [
        "df_1['rating_denominator'].value_counts()"
      ],
      "execution_count": 0,
      "outputs": []
    },
    {
      "metadata": {
        "id": "m4hO1BbN6Kdg",
        "colab_type": "code",
        "outputId": "df98c159-d54a-4a81-b606-c9c79197f299",
        "colab": {
          "base_uri": "https://localhost:8080/",
          "height": 2310
        }
      },
      "cell_type": "code",
      "source": [
        "df_1[df_1['rating_denominator'] !=10]\n",
        "\n",
        "# index = 313 (denominator = 0) should be deleted."
      ],
      "execution_count": 0,
      "outputs": [
        {
          "output_type": "execute_result",
          "data": {
            "text/html": [
              "<div>\n",
              "<style scoped>\n",
              "    .dataframe tbody tr th:only-of-type {\n",
              "        vertical-align: middle;\n",
              "    }\n",
              "\n",
              "    .dataframe tbody tr th {\n",
              "        vertical-align: top;\n",
              "    }\n",
              "\n",
              "    .dataframe thead th {\n",
              "        text-align: right;\n",
              "    }\n",
              "</style>\n",
              "<table border=\"1\" class=\"dataframe\">\n",
              "  <thead>\n",
              "    <tr style=\"text-align: right;\">\n",
              "      <th></th>\n",
              "      <th>tweet_id</th>\n",
              "      <th>in_reply_to_status_id</th>\n",
              "      <th>in_reply_to_user_id</th>\n",
              "      <th>timestamp</th>\n",
              "      <th>source</th>\n",
              "      <th>text</th>\n",
              "      <th>retweeted_status_id</th>\n",
              "      <th>retweeted_status_user_id</th>\n",
              "      <th>retweeted_status_timestamp</th>\n",
              "      <th>expanded_urls</th>\n",
              "      <th>rating_numerator</th>\n",
              "      <th>rating_denominator</th>\n",
              "      <th>name</th>\n",
              "      <th>doggo</th>\n",
              "      <th>floofer</th>\n",
              "      <th>pupper</th>\n",
              "      <th>puppo</th>\n",
              "    </tr>\n",
              "  </thead>\n",
              "  <tbody>\n",
              "    <tr>\n",
              "      <th>313</th>\n",
              "      <td>835246439529840640</td>\n",
              "      <td>8.352460e+17</td>\n",
              "      <td>2.625958e+07</td>\n",
              "      <td>2017-02-24 21:54:03 +0000</td>\n",
              "      <td>&lt;a href=\"http://twitter.com/download/iphone\" rel=\"nofollow\"&gt;Twitter for iPhone&lt;/a&gt;</td>\n",
              "      <td>@jonnysun @Lin_Manuel ok jomny I know you're excited but 960/00 isn't a valid rating, 13/10 is tho</td>\n",
              "      <td>NaN</td>\n",
              "      <td>NaN</td>\n",
              "      <td>NaN</td>\n",
              "      <td>NaN</td>\n",
              "      <td>960</td>\n",
              "      <td>0</td>\n",
              "      <td>None</td>\n",
              "      <td>None</td>\n",
              "      <td>None</td>\n",
              "      <td>None</td>\n",
              "      <td>None</td>\n",
              "    </tr>\n",
              "    <tr>\n",
              "      <th>342</th>\n",
              "      <td>832088576586297345</td>\n",
              "      <td>8.320875e+17</td>\n",
              "      <td>3.058208e+07</td>\n",
              "      <td>2017-02-16 04:45:50 +0000</td>\n",
              "      <td>&lt;a href=\"http://twitter.com/download/iphone\" rel=\"nofollow\"&gt;Twitter for iPhone&lt;/a&gt;</td>\n",
              "      <td>@docmisterio account started on 11/15/15</td>\n",
              "      <td>NaN</td>\n",
              "      <td>NaN</td>\n",
              "      <td>NaN</td>\n",
              "      <td>NaN</td>\n",
              "      <td>11</td>\n",
              "      <td>15</td>\n",
              "      <td>None</td>\n",
              "      <td>None</td>\n",
              "      <td>None</td>\n",
              "      <td>None</td>\n",
              "      <td>None</td>\n",
              "    </tr>\n",
              "    <tr>\n",
              "      <th>433</th>\n",
              "      <td>820690176645140481</td>\n",
              "      <td>NaN</td>\n",
              "      <td>NaN</td>\n",
              "      <td>2017-01-15 17:52:40 +0000</td>\n",
              "      <td>&lt;a href=\"http://twitter.com/download/iphone\" rel=\"nofollow\"&gt;Twitter for iPhone&lt;/a&gt;</td>\n",
              "      <td>The floofs have been released I repeat the floofs have been released. 84/70 https://t.co/NIYC820tmd</td>\n",
              "      <td>NaN</td>\n",
              "      <td>NaN</td>\n",
              "      <td>NaN</td>\n",
              "      <td>https://twitter.com/dog_rates/status/820690176645140481/photo/1,https://twitter.com/dog_rates/status/820690176645140481/photo/1,https://twitter.com/dog_rates/status/820690176645140481/photo/1</td>\n",
              "      <td>84</td>\n",
              "      <td>70</td>\n",
              "      <td>None</td>\n",
              "      <td>None</td>\n",
              "      <td>None</td>\n",
              "      <td>None</td>\n",
              "      <td>None</td>\n",
              "    </tr>\n",
              "    <tr>\n",
              "      <th>516</th>\n",
              "      <td>810984652412424192</td>\n",
              "      <td>NaN</td>\n",
              "      <td>NaN</td>\n",
              "      <td>2016-12-19 23:06:23 +0000</td>\n",
              "      <td>&lt;a href=\"http://twitter.com/download/iphone\" rel=\"nofollow\"&gt;Twitter for iPhone&lt;/a&gt;</td>\n",
              "      <td>Meet Sam. She smiles 24/7 &amp;amp; secretly aspires to be a reindeer. \\nKeep Sam smiling by clicking and sharing this link:\\nhttps://t.co/98tB8y7y7t https://t.co/LouL5vdvxx</td>\n",
              "      <td>NaN</td>\n",
              "      <td>NaN</td>\n",
              "      <td>NaN</td>\n",
              "      <td>https://www.gofundme.com/sams-smile,https://twitter.com/dog_rates/status/810984652412424192/photo/1</td>\n",
              "      <td>24</td>\n",
              "      <td>7</td>\n",
              "      <td>Sam</td>\n",
              "      <td>None</td>\n",
              "      <td>None</td>\n",
              "      <td>None</td>\n",
              "      <td>None</td>\n",
              "    </tr>\n",
              "    <tr>\n",
              "      <th>784</th>\n",
              "      <td>775096608509886464</td>\n",
              "      <td>NaN</td>\n",
              "      <td>NaN</td>\n",
              "      <td>2016-09-11 22:20:06 +0000</td>\n",
              "      <td>&lt;a href=\"http://twitter.com/download/iphone\" rel=\"nofollow\"&gt;Twitter for iPhone&lt;/a&gt;</td>\n",
              "      <td>RT @dog_rates: After so many requests, this is Bretagne. She was the last surviving 9/11 search dog, and our second ever 14/10. RIP https:/…</td>\n",
              "      <td>7.403732e+17</td>\n",
              "      <td>4.196984e+09</td>\n",
              "      <td>2016-06-08 02:41:38 +0000</td>\n",
              "      <td>https://twitter.com/dog_rates/status/740373189193256964/photo/1,https://twitter.com/dog_rates/status/740373189193256964/photo/1,https://twitter.com/dog_rates/status/740373189193256964/photo/1,http...</td>\n",
              "      <td>9</td>\n",
              "      <td>11</td>\n",
              "      <td>None</td>\n",
              "      <td>None</td>\n",
              "      <td>None</td>\n",
              "      <td>None</td>\n",
              "      <td>None</td>\n",
              "    </tr>\n",
              "    <tr>\n",
              "      <th>902</th>\n",
              "      <td>758467244762497024</td>\n",
              "      <td>NaN</td>\n",
              "      <td>NaN</td>\n",
              "      <td>2016-07-28 01:00:57 +0000</td>\n",
              "      <td>&lt;a href=\"http://twitter.com/download/iphone\" rel=\"nofollow\"&gt;Twitter for iPhone&lt;/a&gt;</td>\n",
              "      <td>Why does this never happen at my front door... 165/150 https://t.co/HmwrdfEfUE</td>\n",
              "      <td>NaN</td>\n",
              "      <td>NaN</td>\n",
              "      <td>NaN</td>\n",
              "      <td>https://twitter.com/dog_rates/status/758467244762497024/video/1</td>\n",
              "      <td>165</td>\n",
              "      <td>150</td>\n",
              "      <td>None</td>\n",
              "      <td>None</td>\n",
              "      <td>None</td>\n",
              "      <td>None</td>\n",
              "      <td>None</td>\n",
              "    </tr>\n",
              "    <tr>\n",
              "      <th>1068</th>\n",
              "      <td>740373189193256964</td>\n",
              "      <td>NaN</td>\n",
              "      <td>NaN</td>\n",
              "      <td>2016-06-08 02:41:38 +0000</td>\n",
              "      <td>&lt;a href=\"http://twitter.com/download/iphone\" rel=\"nofollow\"&gt;Twitter for iPhone&lt;/a&gt;</td>\n",
              "      <td>After so many requests, this is Bretagne. She was the last surviving 9/11 search dog, and our second ever 14/10. RIP https://t.co/XAVDNDaVgQ</td>\n",
              "      <td>NaN</td>\n",
              "      <td>NaN</td>\n",
              "      <td>NaN</td>\n",
              "      <td>https://twitter.com/dog_rates/status/740373189193256964/photo/1,https://twitter.com/dog_rates/status/740373189193256964/photo/1,https://twitter.com/dog_rates/status/740373189193256964/photo/1,http...</td>\n",
              "      <td>9</td>\n",
              "      <td>11</td>\n",
              "      <td>None</td>\n",
              "      <td>None</td>\n",
              "      <td>None</td>\n",
              "      <td>None</td>\n",
              "      <td>None</td>\n",
              "    </tr>\n",
              "    <tr>\n",
              "      <th>1120</th>\n",
              "      <td>731156023742988288</td>\n",
              "      <td>NaN</td>\n",
              "      <td>NaN</td>\n",
              "      <td>2016-05-13 16:15:54 +0000</td>\n",
              "      <td>&lt;a href=\"http://twitter.com/download/iphone\" rel=\"nofollow\"&gt;Twitter for iPhone&lt;/a&gt;</td>\n",
              "      <td>Say hello to this unbelievably well behaved squad of doggos. 204/170 would try to pet all at once https://t.co/yGQI3He3xv</td>\n",
              "      <td>NaN</td>\n",
              "      <td>NaN</td>\n",
              "      <td>NaN</td>\n",
              "      <td>https://twitter.com/dog_rates/status/731156023742988288/photo/1</td>\n",
              "      <td>204</td>\n",
              "      <td>170</td>\n",
              "      <td>this</td>\n",
              "      <td>None</td>\n",
              "      <td>None</td>\n",
              "      <td>None</td>\n",
              "      <td>None</td>\n",
              "    </tr>\n",
              "    <tr>\n",
              "      <th>1165</th>\n",
              "      <td>722974582966214656</td>\n",
              "      <td>NaN</td>\n",
              "      <td>NaN</td>\n",
              "      <td>2016-04-21 02:25:47 +0000</td>\n",
              "      <td>&lt;a href=\"http://twitter.com/download/iphone\" rel=\"nofollow\"&gt;Twitter for iPhone&lt;/a&gt;</td>\n",
              "      <td>Happy 4/20 from the squad! 13/10 for all https://t.co/eV1diwds8a</td>\n",
              "      <td>NaN</td>\n",
              "      <td>NaN</td>\n",
              "      <td>NaN</td>\n",
              "      <td>https://twitter.com/dog_rates/status/722974582966214656/photo/1</td>\n",
              "      <td>4</td>\n",
              "      <td>20</td>\n",
              "      <td>None</td>\n",
              "      <td>None</td>\n",
              "      <td>None</td>\n",
              "      <td>None</td>\n",
              "      <td>None</td>\n",
              "    </tr>\n",
              "    <tr>\n",
              "      <th>1202</th>\n",
              "      <td>716439118184652801</td>\n",
              "      <td>NaN</td>\n",
              "      <td>NaN</td>\n",
              "      <td>2016-04-03 01:36:11 +0000</td>\n",
              "      <td>&lt;a href=\"http://twitter.com/download/iphone\" rel=\"nofollow\"&gt;Twitter for iPhone&lt;/a&gt;</td>\n",
              "      <td>This is Bluebert. He just saw that both #FinalFur match ups are split 50/50. Amazed af. 11/10 https://t.co/Kky1DPG4iq</td>\n",
              "      <td>NaN</td>\n",
              "      <td>NaN</td>\n",
              "      <td>NaN</td>\n",
              "      <td>https://twitter.com/dog_rates/status/716439118184652801/photo/1</td>\n",
              "      <td>50</td>\n",
              "      <td>50</td>\n",
              "      <td>Bluebert</td>\n",
              "      <td>None</td>\n",
              "      <td>None</td>\n",
              "      <td>None</td>\n",
              "      <td>None</td>\n",
              "    </tr>\n",
              "    <tr>\n",
              "      <th>1228</th>\n",
              "      <td>713900603437621249</td>\n",
              "      <td>NaN</td>\n",
              "      <td>NaN</td>\n",
              "      <td>2016-03-27 01:29:02 +0000</td>\n",
              "      <td>&lt;a href=\"http://twitter.com/download/iphone\" rel=\"nofollow\"&gt;Twitter for iPhone&lt;/a&gt;</td>\n",
              "      <td>Happy Saturday here's 9 puppers on a bench. 99/90 good work everybody https://t.co/mpvaVxKmc1</td>\n",
              "      <td>NaN</td>\n",
              "      <td>NaN</td>\n",
              "      <td>NaN</td>\n",
              "      <td>https://twitter.com/dog_rates/status/713900603437621249/photo/1</td>\n",
              "      <td>99</td>\n",
              "      <td>90</td>\n",
              "      <td>None</td>\n",
              "      <td>None</td>\n",
              "      <td>None</td>\n",
              "      <td>None</td>\n",
              "      <td>None</td>\n",
              "    </tr>\n",
              "    <tr>\n",
              "      <th>1254</th>\n",
              "      <td>710658690886586372</td>\n",
              "      <td>NaN</td>\n",
              "      <td>NaN</td>\n",
              "      <td>2016-03-18 02:46:49 +0000</td>\n",
              "      <td>&lt;a href=\"http://twitter.com/download/iphone\" rel=\"nofollow\"&gt;Twitter for iPhone&lt;/a&gt;</td>\n",
              "      <td>Here's a brigade of puppers. All look very prepared for whatever happens next. 80/80 https://t.co/0eb7R1Om12</td>\n",
              "      <td>NaN</td>\n",
              "      <td>NaN</td>\n",
              "      <td>NaN</td>\n",
              "      <td>https://twitter.com/dog_rates/status/710658690886586372/photo/1</td>\n",
              "      <td>80</td>\n",
              "      <td>80</td>\n",
              "      <td>None</td>\n",
              "      <td>None</td>\n",
              "      <td>None</td>\n",
              "      <td>None</td>\n",
              "      <td>None</td>\n",
              "    </tr>\n",
              "    <tr>\n",
              "      <th>1274</th>\n",
              "      <td>709198395643068416</td>\n",
              "      <td>NaN</td>\n",
              "      <td>NaN</td>\n",
              "      <td>2016-03-14 02:04:08 +0000</td>\n",
              "      <td>&lt;a href=\"http://twitter.com/download/iphone\" rel=\"nofollow\"&gt;Twitter for iPhone&lt;/a&gt;</td>\n",
              "      <td>From left to right:\\nCletus, Jerome, Alejandro, Burp, &amp;amp; Titson\\nNone know where camera is. 45/50 would hug all at once https://t.co/sedre1ivTK</td>\n",
              "      <td>NaN</td>\n",
              "      <td>NaN</td>\n",
              "      <td>NaN</td>\n",
              "      <td>https://twitter.com/dog_rates/status/709198395643068416/photo/1</td>\n",
              "      <td>45</td>\n",
              "      <td>50</td>\n",
              "      <td>None</td>\n",
              "      <td>None</td>\n",
              "      <td>None</td>\n",
              "      <td>None</td>\n",
              "      <td>None</td>\n",
              "    </tr>\n",
              "    <tr>\n",
              "      <th>1351</th>\n",
              "      <td>704054845121142784</td>\n",
              "      <td>NaN</td>\n",
              "      <td>NaN</td>\n",
              "      <td>2016-02-28 21:25:30 +0000</td>\n",
              "      <td>&lt;a href=\"http://twitter.com/download/iphone\" rel=\"nofollow\"&gt;Twitter for iPhone&lt;/a&gt;</td>\n",
              "      <td>Here is a whole flock of puppers.  60/50 I'll take the lot https://t.co/9dpcw6MdWa</td>\n",
              "      <td>NaN</td>\n",
              "      <td>NaN</td>\n",
              "      <td>NaN</td>\n",
              "      <td>https://twitter.com/dog_rates/status/704054845121142784/photo/1</td>\n",
              "      <td>60</td>\n",
              "      <td>50</td>\n",
              "      <td>a</td>\n",
              "      <td>None</td>\n",
              "      <td>None</td>\n",
              "      <td>None</td>\n",
              "      <td>None</td>\n",
              "    </tr>\n",
              "    <tr>\n",
              "      <th>1433</th>\n",
              "      <td>697463031882764288</td>\n",
              "      <td>NaN</td>\n",
              "      <td>NaN</td>\n",
              "      <td>2016-02-10 16:51:59 +0000</td>\n",
              "      <td>&lt;a href=\"http://twitter.com/download/iphone\" rel=\"nofollow\"&gt;Twitter for iPhone&lt;/a&gt;</td>\n",
              "      <td>Happy Wednesday here's a bucket of pups. 44/40 would pet all at once https://t.co/HppvrYuamZ</td>\n",
              "      <td>NaN</td>\n",
              "      <td>NaN</td>\n",
              "      <td>NaN</td>\n",
              "      <td>https://twitter.com/dog_rates/status/697463031882764288/photo/1</td>\n",
              "      <td>44</td>\n",
              "      <td>40</td>\n",
              "      <td>None</td>\n",
              "      <td>None</td>\n",
              "      <td>None</td>\n",
              "      <td>None</td>\n",
              "      <td>None</td>\n",
              "    </tr>\n",
              "    <tr>\n",
              "      <th>1598</th>\n",
              "      <td>686035780142297088</td>\n",
              "      <td>6.860340e+17</td>\n",
              "      <td>4.196984e+09</td>\n",
              "      <td>2016-01-10 04:04:10 +0000</td>\n",
              "      <td>&lt;a href=\"http://twitter.com/download/iphone\" rel=\"nofollow\"&gt;Twitter for iPhone&lt;/a&gt;</td>\n",
              "      <td>Yes I do realize a rating of 4/20 would've been fitting. However, it would be unjust to give these cooperative pups that low of a rating</td>\n",
              "      <td>NaN</td>\n",
              "      <td>NaN</td>\n",
              "      <td>NaN</td>\n",
              "      <td>NaN</td>\n",
              "      <td>4</td>\n",
              "      <td>20</td>\n",
              "      <td>None</td>\n",
              "      <td>None</td>\n",
              "      <td>None</td>\n",
              "      <td>None</td>\n",
              "      <td>None</td>\n",
              "    </tr>\n",
              "    <tr>\n",
              "      <th>1634</th>\n",
              "      <td>684225744407494656</td>\n",
              "      <td>6.842229e+17</td>\n",
              "      <td>4.196984e+09</td>\n",
              "      <td>2016-01-05 04:11:44 +0000</td>\n",
              "      <td>&lt;a href=\"http://twitter.com/download/iphone\" rel=\"nofollow\"&gt;Twitter for iPhone&lt;/a&gt;</td>\n",
              "      <td>Two sneaky puppers were not initially seen, moving the rating to 143/130. Please forgive us. Thank you https://t.co/kRK51Y5ac3</td>\n",
              "      <td>NaN</td>\n",
              "      <td>NaN</td>\n",
              "      <td>NaN</td>\n",
              "      <td>https://twitter.com/dog_rates/status/684225744407494656/photo/1,https://twitter.com/dog_rates/status/684225744407494656/photo/1</td>\n",
              "      <td>143</td>\n",
              "      <td>130</td>\n",
              "      <td>None</td>\n",
              "      <td>None</td>\n",
              "      <td>None</td>\n",
              "      <td>None</td>\n",
              "      <td>None</td>\n",
              "    </tr>\n",
              "    <tr>\n",
              "      <th>1635</th>\n",
              "      <td>684222868335505415</td>\n",
              "      <td>NaN</td>\n",
              "      <td>NaN</td>\n",
              "      <td>2016-01-05 04:00:18 +0000</td>\n",
              "      <td>&lt;a href=\"http://twitter.com/download/iphone\" rel=\"nofollow\"&gt;Twitter for iPhone&lt;/a&gt;</td>\n",
              "      <td>Someone help the girl is being mugged. Several are distracting her while two steal her shoes. Clever puppers 121/110 https://t.co/1zfnTJLt55</td>\n",
              "      <td>NaN</td>\n",
              "      <td>NaN</td>\n",
              "      <td>NaN</td>\n",
              "      <td>https://twitter.com/dog_rates/status/684222868335505415/photo/1</td>\n",
              "      <td>121</td>\n",
              "      <td>110</td>\n",
              "      <td>None</td>\n",
              "      <td>None</td>\n",
              "      <td>None</td>\n",
              "      <td>None</td>\n",
              "      <td>None</td>\n",
              "    </tr>\n",
              "    <tr>\n",
              "      <th>1662</th>\n",
              "      <td>682962037429899265</td>\n",
              "      <td>NaN</td>\n",
              "      <td>NaN</td>\n",
              "      <td>2016-01-01 16:30:13 +0000</td>\n",
              "      <td>&lt;a href=\"http://twitter.com/download/iphone\" rel=\"nofollow\"&gt;Twitter for iPhone&lt;/a&gt;</td>\n",
              "      <td>This is Darrel. He just robbed a 7/11 and is in a high speed police chase. Was just spotted by the helicopter 10/10 https://t.co/7EsP8LmSp5</td>\n",
              "      <td>NaN</td>\n",
              "      <td>NaN</td>\n",
              "      <td>NaN</td>\n",
              "      <td>https://twitter.com/dog_rates/status/682962037429899265/photo/1</td>\n",
              "      <td>7</td>\n",
              "      <td>11</td>\n",
              "      <td>Darrel</td>\n",
              "      <td>None</td>\n",
              "      <td>None</td>\n",
              "      <td>None</td>\n",
              "      <td>None</td>\n",
              "    </tr>\n",
              "    <tr>\n",
              "      <th>1663</th>\n",
              "      <td>682808988178739200</td>\n",
              "      <td>6.827884e+17</td>\n",
              "      <td>4.196984e+09</td>\n",
              "      <td>2016-01-01 06:22:03 +0000</td>\n",
              "      <td>&lt;a href=\"http://twitter.com/download/iphone\" rel=\"nofollow\"&gt;Twitter for iPhone&lt;/a&gt;</td>\n",
              "      <td>I'm aware that I could've said 20/16, but here at WeRateDogs we are very professional. An inconsistent rating scale is simply irresponsible</td>\n",
              "      <td>NaN</td>\n",
              "      <td>NaN</td>\n",
              "      <td>NaN</td>\n",
              "      <td>NaN</td>\n",
              "      <td>20</td>\n",
              "      <td>16</td>\n",
              "      <td>None</td>\n",
              "      <td>None</td>\n",
              "      <td>None</td>\n",
              "      <td>None</td>\n",
              "      <td>None</td>\n",
              "    </tr>\n",
              "    <tr>\n",
              "      <th>1779</th>\n",
              "      <td>677716515794329600</td>\n",
              "      <td>NaN</td>\n",
              "      <td>NaN</td>\n",
              "      <td>2015-12-18 05:06:23 +0000</td>\n",
              "      <td>&lt;a href=\"http://twitter.com/download/iphone\" rel=\"nofollow\"&gt;Twitter for iPhone&lt;/a&gt;</td>\n",
              "      <td>IT'S PUPPERGEDDON. Total of 144/120 ...I think https://t.co/ZanVtAtvIq</td>\n",
              "      <td>NaN</td>\n",
              "      <td>NaN</td>\n",
              "      <td>NaN</td>\n",
              "      <td>https://twitter.com/dog_rates/status/677716515794329600/photo/1</td>\n",
              "      <td>144</td>\n",
              "      <td>120</td>\n",
              "      <td>None</td>\n",
              "      <td>None</td>\n",
              "      <td>None</td>\n",
              "      <td>None</td>\n",
              "      <td>None</td>\n",
              "    </tr>\n",
              "    <tr>\n",
              "      <th>1843</th>\n",
              "      <td>675853064436391936</td>\n",
              "      <td>NaN</td>\n",
              "      <td>NaN</td>\n",
              "      <td>2015-12-13 01:41:41 +0000</td>\n",
              "      <td>&lt;a href=\"http://twitter.com/download/iphone\" rel=\"nofollow\"&gt;Twitter for iPhone&lt;/a&gt;</td>\n",
              "      <td>Here we have an entire platoon of puppers. Total score: 88/80 would pet all at once https://t.co/y93p6FLvVw</td>\n",
              "      <td>NaN</td>\n",
              "      <td>NaN</td>\n",
              "      <td>NaN</td>\n",
              "      <td>https://twitter.com/dog_rates/status/675853064436391936/photo/1,https://twitter.com/dog_rates/status/675853064436391936/photo/1</td>\n",
              "      <td>88</td>\n",
              "      <td>80</td>\n",
              "      <td>None</td>\n",
              "      <td>None</td>\n",
              "      <td>None</td>\n",
              "      <td>None</td>\n",
              "      <td>None</td>\n",
              "    </tr>\n",
              "    <tr>\n",
              "      <th>2335</th>\n",
              "      <td>666287406224695296</td>\n",
              "      <td>NaN</td>\n",
              "      <td>NaN</td>\n",
              "      <td>2015-11-16 16:11:11 +0000</td>\n",
              "      <td>&lt;a href=\"http://twitter.com/download/iphone\" rel=\"nofollow\"&gt;Twitter for iPhone&lt;/a&gt;</td>\n",
              "      <td>This is an Albanian 3 1/2 legged  Episcopalian. Loves well-polished hardwood flooring. Penis on the collar. 9/10 https://t.co/d9NcXFKwLv</td>\n",
              "      <td>NaN</td>\n",
              "      <td>NaN</td>\n",
              "      <td>NaN</td>\n",
              "      <td>https://twitter.com/dog_rates/status/666287406224695296/photo/1</td>\n",
              "      <td>1</td>\n",
              "      <td>2</td>\n",
              "      <td>an</td>\n",
              "      <td>None</td>\n",
              "      <td>None</td>\n",
              "      <td>None</td>\n",
              "      <td>None</td>\n",
              "    </tr>\n",
              "  </tbody>\n",
              "</table>\n",
              "</div>"
            ],
            "text/plain": [
              "                tweet_id  in_reply_to_status_id  in_reply_to_user_id  \\\n",
              "313   835246439529840640           8.352460e+17         2.625958e+07   \n",
              "342   832088576586297345           8.320875e+17         3.058208e+07   \n",
              "433   820690176645140481                    NaN                  NaN   \n",
              "516   810984652412424192                    NaN                  NaN   \n",
              "784   775096608509886464                    NaN                  NaN   \n",
              "902   758467244762497024                    NaN                  NaN   \n",
              "1068  740373189193256964                    NaN                  NaN   \n",
              "1120  731156023742988288                    NaN                  NaN   \n",
              "1165  722974582966214656                    NaN                  NaN   \n",
              "1202  716439118184652801                    NaN                  NaN   \n",
              "1228  713900603437621249                    NaN                  NaN   \n",
              "1254  710658690886586372                    NaN                  NaN   \n",
              "1274  709198395643068416                    NaN                  NaN   \n",
              "1351  704054845121142784                    NaN                  NaN   \n",
              "1433  697463031882764288                    NaN                  NaN   \n",
              "1598  686035780142297088           6.860340e+17         4.196984e+09   \n",
              "1634  684225744407494656           6.842229e+17         4.196984e+09   \n",
              "1635  684222868335505415                    NaN                  NaN   \n",
              "1662  682962037429899265                    NaN                  NaN   \n",
              "1663  682808988178739200           6.827884e+17         4.196984e+09   \n",
              "1779  677716515794329600                    NaN                  NaN   \n",
              "1843  675853064436391936                    NaN                  NaN   \n",
              "2335  666287406224695296                    NaN                  NaN   \n",
              "\n",
              "                      timestamp  \\\n",
              "313   2017-02-24 21:54:03 +0000   \n",
              "342   2017-02-16 04:45:50 +0000   \n",
              "433   2017-01-15 17:52:40 +0000   \n",
              "516   2016-12-19 23:06:23 +0000   \n",
              "784   2016-09-11 22:20:06 +0000   \n",
              "902   2016-07-28 01:00:57 +0000   \n",
              "1068  2016-06-08 02:41:38 +0000   \n",
              "1120  2016-05-13 16:15:54 +0000   \n",
              "1165  2016-04-21 02:25:47 +0000   \n",
              "1202  2016-04-03 01:36:11 +0000   \n",
              "1228  2016-03-27 01:29:02 +0000   \n",
              "1254  2016-03-18 02:46:49 +0000   \n",
              "1274  2016-03-14 02:04:08 +0000   \n",
              "1351  2016-02-28 21:25:30 +0000   \n",
              "1433  2016-02-10 16:51:59 +0000   \n",
              "1598  2016-01-10 04:04:10 +0000   \n",
              "1634  2016-01-05 04:11:44 +0000   \n",
              "1635  2016-01-05 04:00:18 +0000   \n",
              "1662  2016-01-01 16:30:13 +0000   \n",
              "1663  2016-01-01 06:22:03 +0000   \n",
              "1779  2015-12-18 05:06:23 +0000   \n",
              "1843  2015-12-13 01:41:41 +0000   \n",
              "2335  2015-11-16 16:11:11 +0000   \n",
              "\n",
              "                                                                                  source  \\\n",
              "313   <a href=\"http://twitter.com/download/iphone\" rel=\"nofollow\">Twitter for iPhone</a>   \n",
              "342   <a href=\"http://twitter.com/download/iphone\" rel=\"nofollow\">Twitter for iPhone</a>   \n",
              "433   <a href=\"http://twitter.com/download/iphone\" rel=\"nofollow\">Twitter for iPhone</a>   \n",
              "516   <a href=\"http://twitter.com/download/iphone\" rel=\"nofollow\">Twitter for iPhone</a>   \n",
              "784   <a href=\"http://twitter.com/download/iphone\" rel=\"nofollow\">Twitter for iPhone</a>   \n",
              "902   <a href=\"http://twitter.com/download/iphone\" rel=\"nofollow\">Twitter for iPhone</a>   \n",
              "1068  <a href=\"http://twitter.com/download/iphone\" rel=\"nofollow\">Twitter for iPhone</a>   \n",
              "1120  <a href=\"http://twitter.com/download/iphone\" rel=\"nofollow\">Twitter for iPhone</a>   \n",
              "1165  <a href=\"http://twitter.com/download/iphone\" rel=\"nofollow\">Twitter for iPhone</a>   \n",
              "1202  <a href=\"http://twitter.com/download/iphone\" rel=\"nofollow\">Twitter for iPhone</a>   \n",
              "1228  <a href=\"http://twitter.com/download/iphone\" rel=\"nofollow\">Twitter for iPhone</a>   \n",
              "1254  <a href=\"http://twitter.com/download/iphone\" rel=\"nofollow\">Twitter for iPhone</a>   \n",
              "1274  <a href=\"http://twitter.com/download/iphone\" rel=\"nofollow\">Twitter for iPhone</a>   \n",
              "1351  <a href=\"http://twitter.com/download/iphone\" rel=\"nofollow\">Twitter for iPhone</a>   \n",
              "1433  <a href=\"http://twitter.com/download/iphone\" rel=\"nofollow\">Twitter for iPhone</a>   \n",
              "1598  <a href=\"http://twitter.com/download/iphone\" rel=\"nofollow\">Twitter for iPhone</a>   \n",
              "1634  <a href=\"http://twitter.com/download/iphone\" rel=\"nofollow\">Twitter for iPhone</a>   \n",
              "1635  <a href=\"http://twitter.com/download/iphone\" rel=\"nofollow\">Twitter for iPhone</a>   \n",
              "1662  <a href=\"http://twitter.com/download/iphone\" rel=\"nofollow\">Twitter for iPhone</a>   \n",
              "1663  <a href=\"http://twitter.com/download/iphone\" rel=\"nofollow\">Twitter for iPhone</a>   \n",
              "1779  <a href=\"http://twitter.com/download/iphone\" rel=\"nofollow\">Twitter for iPhone</a>   \n",
              "1843  <a href=\"http://twitter.com/download/iphone\" rel=\"nofollow\">Twitter for iPhone</a>   \n",
              "2335  <a href=\"http://twitter.com/download/iphone\" rel=\"nofollow\">Twitter for iPhone</a>   \n",
              "\n",
              "                                                                                                                                                                           text  \\\n",
              "313                                                                          @jonnysun @Lin_Manuel ok jomny I know you're excited but 960/00 isn't a valid rating, 13/10 is tho   \n",
              "342                                                                                                                                    @docmisterio account started on 11/15/15   \n",
              "433                                                                         The floofs have been released I repeat the floofs have been released. 84/70 https://t.co/NIYC820tmd   \n",
              "516   Meet Sam. She smiles 24/7 &amp; secretly aspires to be a reindeer. \\nKeep Sam smiling by clicking and sharing this link:\\nhttps://t.co/98tB8y7y7t https://t.co/LouL5vdvxx   \n",
              "784                                RT @dog_rates: After so many requests, this is Bretagne. She was the last surviving 9/11 search dog, and our second ever 14/10. RIP https:/…   \n",
              "902                                                                                              Why does this never happen at my front door... 165/150 https://t.co/HmwrdfEfUE   \n",
              "1068                               After so many requests, this is Bretagne. She was the last surviving 9/11 search dog, and our second ever 14/10. RIP https://t.co/XAVDNDaVgQ   \n",
              "1120                                                  Say hello to this unbelievably well behaved squad of doggos. 204/170 would try to pet all at once https://t.co/yGQI3He3xv   \n",
              "1165                                                                                                           Happy 4/20 from the squad! 13/10 for all https://t.co/eV1diwds8a   \n",
              "1202                                                      This is Bluebert. He just saw that both #FinalFur match ups are split 50/50. Amazed af. 11/10 https://t.co/Kky1DPG4iq   \n",
              "1228                                                                              Happy Saturday here's 9 puppers on a bench. 99/90 good work everybody https://t.co/mpvaVxKmc1   \n",
              "1254                                                               Here's a brigade of puppers. All look very prepared for whatever happens next. 80/80 https://t.co/0eb7R1Om12   \n",
              "1274                         From left to right:\\nCletus, Jerome, Alejandro, Burp, &amp; Titson\\nNone know where camera is. 45/50 would hug all at once https://t.co/sedre1ivTK   \n",
              "1351                                                                                         Here is a whole flock of puppers.  60/50 I'll take the lot https://t.co/9dpcw6MdWa   \n",
              "1433                                                                               Happy Wednesday here's a bucket of pups. 44/40 would pet all at once https://t.co/HppvrYuamZ   \n",
              "1598                                   Yes I do realize a rating of 4/20 would've been fitting. However, it would be unjust to give these cooperative pups that low of a rating   \n",
              "1634                                             Two sneaky puppers were not initially seen, moving the rating to 143/130. Please forgive us. Thank you https://t.co/kRK51Y5ac3   \n",
              "1635                               Someone help the girl is being mugged. Several are distracting her while two steal her shoes. Clever puppers 121/110 https://t.co/1zfnTJLt55   \n",
              "1662                                This is Darrel. He just robbed a 7/11 and is in a high speed police chase. Was just spotted by the helicopter 10/10 https://t.co/7EsP8LmSp5   \n",
              "1663                                I'm aware that I could've said 20/16, but here at WeRateDogs we are very professional. An inconsistent rating scale is simply irresponsible   \n",
              "1779                                                                                                     IT'S PUPPERGEDDON. Total of 144/120 ...I think https://t.co/ZanVtAtvIq   \n",
              "1843                                                                Here we have an entire platoon of puppers. Total score: 88/80 would pet all at once https://t.co/y93p6FLvVw   \n",
              "2335                                   This is an Albanian 3 1/2 legged  Episcopalian. Loves well-polished hardwood flooring. Penis on the collar. 9/10 https://t.co/d9NcXFKwLv   \n",
              "\n",
              "      retweeted_status_id  retweeted_status_user_id  \\\n",
              "313                   NaN                       NaN   \n",
              "342                   NaN                       NaN   \n",
              "433                   NaN                       NaN   \n",
              "516                   NaN                       NaN   \n",
              "784          7.403732e+17              4.196984e+09   \n",
              "902                   NaN                       NaN   \n",
              "1068                  NaN                       NaN   \n",
              "1120                  NaN                       NaN   \n",
              "1165                  NaN                       NaN   \n",
              "1202                  NaN                       NaN   \n",
              "1228                  NaN                       NaN   \n",
              "1254                  NaN                       NaN   \n",
              "1274                  NaN                       NaN   \n",
              "1351                  NaN                       NaN   \n",
              "1433                  NaN                       NaN   \n",
              "1598                  NaN                       NaN   \n",
              "1634                  NaN                       NaN   \n",
              "1635                  NaN                       NaN   \n",
              "1662                  NaN                       NaN   \n",
              "1663                  NaN                       NaN   \n",
              "1779                  NaN                       NaN   \n",
              "1843                  NaN                       NaN   \n",
              "2335                  NaN                       NaN   \n",
              "\n",
              "     retweeted_status_timestamp  \\\n",
              "313                         NaN   \n",
              "342                         NaN   \n",
              "433                         NaN   \n",
              "516                         NaN   \n",
              "784   2016-06-08 02:41:38 +0000   \n",
              "902                         NaN   \n",
              "1068                        NaN   \n",
              "1120                        NaN   \n",
              "1165                        NaN   \n",
              "1202                        NaN   \n",
              "1228                        NaN   \n",
              "1254                        NaN   \n",
              "1274                        NaN   \n",
              "1351                        NaN   \n",
              "1433                        NaN   \n",
              "1598                        NaN   \n",
              "1634                        NaN   \n",
              "1635                        NaN   \n",
              "1662                        NaN   \n",
              "1663                        NaN   \n",
              "1779                        NaN   \n",
              "1843                        NaN   \n",
              "2335                        NaN   \n",
              "\n",
              "                                                                                                                                                                                                expanded_urls  \\\n",
              "313                                                                                                                                                                                                       NaN   \n",
              "342                                                                                                                                                                                                       NaN   \n",
              "433           https://twitter.com/dog_rates/status/820690176645140481/photo/1,https://twitter.com/dog_rates/status/820690176645140481/photo/1,https://twitter.com/dog_rates/status/820690176645140481/photo/1   \n",
              "516                                                                                                       https://www.gofundme.com/sams-smile,https://twitter.com/dog_rates/status/810984652412424192/photo/1   \n",
              "784   https://twitter.com/dog_rates/status/740373189193256964/photo/1,https://twitter.com/dog_rates/status/740373189193256964/photo/1,https://twitter.com/dog_rates/status/740373189193256964/photo/1,http...   \n",
              "902                                                                                                                                           https://twitter.com/dog_rates/status/758467244762497024/video/1   \n",
              "1068  https://twitter.com/dog_rates/status/740373189193256964/photo/1,https://twitter.com/dog_rates/status/740373189193256964/photo/1,https://twitter.com/dog_rates/status/740373189193256964/photo/1,http...   \n",
              "1120                                                                                                                                          https://twitter.com/dog_rates/status/731156023742988288/photo/1   \n",
              "1165                                                                                                                                          https://twitter.com/dog_rates/status/722974582966214656/photo/1   \n",
              "1202                                                                                                                                          https://twitter.com/dog_rates/status/716439118184652801/photo/1   \n",
              "1228                                                                                                                                          https://twitter.com/dog_rates/status/713900603437621249/photo/1   \n",
              "1254                                                                                                                                          https://twitter.com/dog_rates/status/710658690886586372/photo/1   \n",
              "1274                                                                                                                                          https://twitter.com/dog_rates/status/709198395643068416/photo/1   \n",
              "1351                                                                                                                                          https://twitter.com/dog_rates/status/704054845121142784/photo/1   \n",
              "1433                                                                                                                                          https://twitter.com/dog_rates/status/697463031882764288/photo/1   \n",
              "1598                                                                                                                                                                                                      NaN   \n",
              "1634                                                                          https://twitter.com/dog_rates/status/684225744407494656/photo/1,https://twitter.com/dog_rates/status/684225744407494656/photo/1   \n",
              "1635                                                                                                                                          https://twitter.com/dog_rates/status/684222868335505415/photo/1   \n",
              "1662                                                                                                                                          https://twitter.com/dog_rates/status/682962037429899265/photo/1   \n",
              "1663                                                                                                                                                                                                      NaN   \n",
              "1779                                                                                                                                          https://twitter.com/dog_rates/status/677716515794329600/photo/1   \n",
              "1843                                                                          https://twitter.com/dog_rates/status/675853064436391936/photo/1,https://twitter.com/dog_rates/status/675853064436391936/photo/1   \n",
              "2335                                                                                                                                          https://twitter.com/dog_rates/status/666287406224695296/photo/1   \n",
              "\n",
              "      rating_numerator  rating_denominator      name doggo floofer pupper  \\\n",
              "313                960                   0      None  None    None   None   \n",
              "342                 11                  15      None  None    None   None   \n",
              "433                 84                  70      None  None    None   None   \n",
              "516                 24                   7       Sam  None    None   None   \n",
              "784                  9                  11      None  None    None   None   \n",
              "902                165                 150      None  None    None   None   \n",
              "1068                 9                  11      None  None    None   None   \n",
              "1120               204                 170      this  None    None   None   \n",
              "1165                 4                  20      None  None    None   None   \n",
              "1202                50                  50  Bluebert  None    None   None   \n",
              "1228                99                  90      None  None    None   None   \n",
              "1254                80                  80      None  None    None   None   \n",
              "1274                45                  50      None  None    None   None   \n",
              "1351                60                  50         a  None    None   None   \n",
              "1433                44                  40      None  None    None   None   \n",
              "1598                 4                  20      None  None    None   None   \n",
              "1634               143                 130      None  None    None   None   \n",
              "1635               121                 110      None  None    None   None   \n",
              "1662                 7                  11    Darrel  None    None   None   \n",
              "1663                20                  16      None  None    None   None   \n",
              "1779               144                 120      None  None    None   None   \n",
              "1843                88                  80      None  None    None   None   \n",
              "2335                 1                   2        an  None    None   None   \n",
              "\n",
              "     puppo  \n",
              "313   None  \n",
              "342   None  \n",
              "433   None  \n",
              "516   None  \n",
              "784   None  \n",
              "902   None  \n",
              "1068  None  \n",
              "1120  None  \n",
              "1165  None  \n",
              "1202  None  \n",
              "1228  None  \n",
              "1254  None  \n",
              "1274  None  \n",
              "1351  None  \n",
              "1433  None  \n",
              "1598  None  \n",
              "1634  None  \n",
              "1635  None  \n",
              "1662  None  \n",
              "1663  None  \n",
              "1779  None  \n",
              "1843  None  \n",
              "2335  None  "
            ]
          },
          "metadata": {
            "tags": []
          },
          "execution_count": 113
        }
      ]
    },
    {
      "metadata": {
        "id": "O_7cmnP26Q_w",
        "colab_type": "code",
        "outputId": "51b5247f-0426-44f9-ce07-6e2ab2cb1419",
        "colab": {
          "base_uri": "https://localhost:8080/",
          "height": 168
        }
      },
      "cell_type": "code",
      "source": [
        "df_1.query('rating_denominator == 10')['rating_numerator'].describe()\n",
        "\n",
        "# check the data max = 1776\n",
        "# min = 0 is correct"
      ],
      "execution_count": 0,
      "outputs": [
        {
          "output_type": "execute_result",
          "data": {
            "text/plain": [
              "count    2333.000000\n",
              "mean       12.237462\n",
              "std        41.022472\n",
              "min         0.000000\n",
              "25%        10.000000\n",
              "50%        11.000000\n",
              "75%        12.000000\n",
              "max      1776.000000\n",
              "Name: rating_numerator, dtype: float64"
            ]
          },
          "metadata": {
            "tags": []
          },
          "execution_count": 36
        }
      ]
    },
    {
      "metadata": {
        "id": "YAelF8f76ek8",
        "colab_type": "code",
        "colab": {}
      },
      "cell_type": "code",
      "source": [
        "df_1.query('rating_denominator == 10').sort_values('rating_numerator', ascending=False)\n",
        "\n",
        "# some numerators are extremely large: 75 - 1776"
      ],
      "execution_count": 0,
      "outputs": []
    },
    {
      "metadata": {
        "id": "V6Qf4lsdHdEU",
        "colab_type": "code",
        "outputId": "7b240e70-fb33-446e-f9e7-4eaa590562fa",
        "colab": {
          "base_uri": "https://localhost:8080/",
          "height": 295
        }
      },
      "cell_type": "code",
      "source": [
        "# The rating_numerator column should of type float and \n",
        "# also it should be correctly extracted. \n",
        "# On assessing the twitter_enhanced.csv file \n",
        "# you will see on row 46 that the correct rating \n",
        "# in the tweet is 13.5 but it's extracted as 5. \n",
        "# There are many more such rows in the dataset. \n",
        "# So it should be extracted and cleaned correctly.\n",
        "# e.g 13.5/10 --> 5/10\n",
        "\n",
        "# find decimal ratings\n",
        "df_1[df_1.text.str.contains(r\"(\\d+\\.\\d*\\/\\d+)\")][['text', 'rating_numerator']]\n",
        "\n",
        "# The following rows got wrong numerator\n",
        "# index = [45, 340, 695, 763, 1689, 1712]"
      ],
      "execution_count": 0,
      "outputs": [
        {
          "output_type": "stream",
          "text": [
            "/usr/local/lib/python3.6/dist-packages/ipykernel_launcher.py:1: UserWarning: This pattern has match groups. To actually get the groups, use str.extract.\n",
            "  \"\"\"Entry point for launching an IPython kernel.\n"
          ],
          "name": "stderr"
        },
        {
          "output_type": "execute_result",
          "data": {
            "text/html": [
              "<div>\n",
              "<style scoped>\n",
              "    .dataframe tbody tr th:only-of-type {\n",
              "        vertical-align: middle;\n",
              "    }\n",
              "\n",
              "    .dataframe tbody tr th {\n",
              "        vertical-align: top;\n",
              "    }\n",
              "\n",
              "    .dataframe thead th {\n",
              "        text-align: right;\n",
              "    }\n",
              "</style>\n",
              "<table border=\"1\" class=\"dataframe\">\n",
              "  <thead>\n",
              "    <tr style=\"text-align: right;\">\n",
              "      <th></th>\n",
              "      <th>text</th>\n",
              "      <th>rating_numerator</th>\n",
              "    </tr>\n",
              "  </thead>\n",
              "  <tbody>\n",
              "    <tr>\n",
              "      <th>45</th>\n",
              "      <td>This is Bella. She hopes her smile made you smile. If not, she is also offering you her favorite monkey. 13.5/10 https://t.co/qjrljjt948</td>\n",
              "      <td>5</td>\n",
              "    </tr>\n",
              "    <tr>\n",
              "      <th>340</th>\n",
              "      <td>RT @dog_rates: This is Logan, the Chow who lived. He solemnly swears he's up to lots of good. H*ckin magical af 9.75/10 https://t.co/yBO5wu…</td>\n",
              "      <td>75</td>\n",
              "    </tr>\n",
              "    <tr>\n",
              "      <th>695</th>\n",
              "      <td>This is Logan, the Chow who lived. He solemnly swears he's up to lots of good. H*ckin magical af 9.75/10 https://t.co/yBO5wuqaPS</td>\n",
              "      <td>75</td>\n",
              "    </tr>\n",
              "    <tr>\n",
              "      <th>763</th>\n",
              "      <td>This is Sophie. She's a Jubilant Bush Pupper. Super h*ckin rare. Appears at random just to smile at the locals. 11.27/10 would smile back https://t.co/QFaUiIHxHq</td>\n",
              "      <td>27</td>\n",
              "    </tr>\n",
              "    <tr>\n",
              "      <th>1689</th>\n",
              "      <td>I've been told there's a slight possibility he's checking his mirror. We'll bump to 9.5/10. Still a menace</td>\n",
              "      <td>5</td>\n",
              "    </tr>\n",
              "    <tr>\n",
              "      <th>1712</th>\n",
              "      <td>Here we have uncovered an entire battalion of holiday puppers. Average of 11.26/10 https://t.co/eNm2S6p9BD</td>\n",
              "      <td>26</td>\n",
              "    </tr>\n",
              "  </tbody>\n",
              "</table>\n",
              "</div>"
            ],
            "text/plain": [
              "                                                                                                                                                                   text  \\\n",
              "45                             This is Bella. She hopes her smile made you smile. If not, she is also offering you her favorite monkey. 13.5/10 https://t.co/qjrljjt948   \n",
              "340                        RT @dog_rates: This is Logan, the Chow who lived. He solemnly swears he's up to lots of good. H*ckin magical af 9.75/10 https://t.co/yBO5wu…   \n",
              "695                                    This is Logan, the Chow who lived. He solemnly swears he's up to lots of good. H*ckin magical af 9.75/10 https://t.co/yBO5wuqaPS   \n",
              "763   This is Sophie. She's a Jubilant Bush Pupper. Super h*ckin rare. Appears at random just to smile at the locals. 11.27/10 would smile back https://t.co/QFaUiIHxHq   \n",
              "1689                                                         I've been told there's a slight possibility he's checking his mirror. We'll bump to 9.5/10. Still a menace   \n",
              "1712                                                         Here we have uncovered an entire battalion of holiday puppers. Average of 11.26/10 https://t.co/eNm2S6p9BD   \n",
              "\n",
              "      rating_numerator  \n",
              "45                   5  \n",
              "340                 75  \n",
              "695                 75  \n",
              "763                 27  \n",
              "1689                 5  \n",
              "1712                26  "
            ]
          },
          "metadata": {
            "tags": []
          },
          "execution_count": 64
        }
      ]
    },
    {
      "metadata": {
        "id": "MwDb6ht66u3K",
        "colab_type": "code",
        "colab": {}
      },
      "cell_type": "code",
      "source": [
        "df_1['source'].value_counts()\n",
        "\n",
        "# <a> tag could be deleted"
      ],
      "execution_count": 0,
      "outputs": []
    },
    {
      "metadata": {
        "id": "aGXLpWgH6zBn",
        "colab_type": "code",
        "outputId": "f8ce379d-e3c4-4c3d-849a-f33cd64a17fc",
        "colab": {
          "base_uri": "https://localhost:8080/",
          "height": 104
        }
      },
      "cell_type": "code",
      "source": [
        "df_1.sample(3)['expanded_urls']\n"
      ],
      "execution_count": 0,
      "outputs": [
        {
          "output_type": "execute_result",
          "data": {
            "text/plain": [
              "2152                                                                                                                                            https://twitter.com/dog_rates/status/669680153564442624/photo/1\n",
              "762     https://twitter.com/dog_rates/status/778039087836069888/photo/1,https://twitter.com/dog_rates/status/778039087836069888/photo/1,https://twitter.com/dog_rates/status/778039087836069888/photo/1,http...\n",
              "1313                                                                                                                                                                              https://vine.co/v/iXQAm5Lrgrh\n",
              "Name: expanded_urls, dtype: object"
            ]
          },
          "metadata": {
            "tags": []
          },
          "execution_count": 67
        }
      ]
    },
    {
      "metadata": {
        "id": "zMYtuFH8OdcY",
        "colab_type": "code",
        "colab": {}
      },
      "cell_type": "code",
      "source": [
        "# invalid names \n",
        "# like 'an, the, only', etc.\n",
        "# they all start with lowercase characters. \n",
        "# correct names for these tweets start with upper case letter and \n",
        "# are generally after the word 'is, named', etc.\n",
        "\n",
        "df_1['name'].value_counts()"
      ],
      "execution_count": 0,
      "outputs": []
    },
    {
      "metadata": {
        "id": "bsJvbIMh73vi",
        "colab_type": "text"
      },
      "cell_type": "markdown",
      "source": [
        "## Table 2: Additional Infomation (Retweet & Favourate)\n",
        "\n",
        "### Quality issues\n",
        "\n",
        "Completeness:\n",
        "\n",
        "- retweet & favourite  count: \"Nan\" should be replaced by Null.\n",
        "- retweet & favourite  count: 16 missing values\n",
        "\n",
        "Data Type:\n",
        " - retweet & favourite  count: obj -> int"
      ]
    },
    {
      "metadata": {
        "id": "LFnQr0Lv8GSZ",
        "colab_type": "code",
        "outputId": "acfbe981-0bc5-48dd-ed01-bfaaa2e262f4",
        "colab": {
          "base_uri": "https://localhost:8080/",
          "height": 151
        }
      },
      "cell_type": "code",
      "source": [
        "df_2.info()"
      ],
      "execution_count": 0,
      "outputs": [
        {
          "output_type": "stream",
          "text": [
            "<class 'pandas.core.frame.DataFrame'>\n",
            "RangeIndex: 2356 entries, 0 to 2355\n",
            "Data columns (total 3 columns):\n",
            "id                2356 non-null int64\n",
            "retweet_count     2356 non-null object\n",
            "favorite_count    2356 non-null object\n",
            "dtypes: int64(1), object(2)\n",
            "memory usage: 55.3+ KB\n"
          ],
          "name": "stdout"
        }
      ]
    },
    {
      "metadata": {
        "id": "ZClLhSkZ8gHX",
        "colab_type": "text"
      },
      "cell_type": "markdown",
      "source": [
        "## Table 3: Image Predictions\n",
        "\n",
        "### Quality Issues\n",
        "\n",
        "Consistency: \n",
        "- The predicted names are written in both upper and lower cases.\n",
        "\n",
        "\n",
        "Data Types:\n",
        "\n",
        "- tweet_id: int -> obj\n",
        "\n",
        "The column names could be more clear."
      ]
    },
    {
      "metadata": {
        "id": "FgTOi4qk8Gan",
        "colab_type": "code",
        "outputId": "d38ca086-e0f9-4980-bb29-84fc6db3779c",
        "colab": {
          "base_uri": "https://localhost:8080/",
          "height": 302
        }
      },
      "cell_type": "code",
      "source": [
        "df_3.info()"
      ],
      "execution_count": 0,
      "outputs": [
        {
          "output_type": "stream",
          "text": [
            "<class 'pandas.core.frame.DataFrame'>\n",
            "RangeIndex: 2075 entries, 0 to 2074\n",
            "Data columns (total 12 columns):\n",
            "tweet_id    2075 non-null int64\n",
            "jpg_url     2075 non-null object\n",
            "img_num     2075 non-null int64\n",
            "p1          2075 non-null object\n",
            "p1_conf     2075 non-null float64\n",
            "p1_dog      2075 non-null bool\n",
            "p2          2075 non-null object\n",
            "p2_conf     2075 non-null float64\n",
            "p2_dog      2075 non-null bool\n",
            "p3          2075 non-null object\n",
            "p3_conf     2075 non-null float64\n",
            "p3_dog      2075 non-null bool\n",
            "dtypes: bool(3), float64(3), int64(2), object(4)\n",
            "memory usage: 152.1+ KB\n"
          ],
          "name": "stdout"
        }
      ]
    },
    {
      "metadata": {
        "id": "ft4GUe908r3X",
        "colab_type": "code",
        "colab": {}
      },
      "cell_type": "code",
      "source": [
        "df_3.sample(3)"
      ],
      "execution_count": 0,
      "outputs": []
    },
    {
      "metadata": {
        "id": "VfProYEB8vdY",
        "colab_type": "code",
        "colab": {}
      },
      "cell_type": "code",
      "source": [
        "df_3.duplicated().sum()"
      ],
      "execution_count": 0,
      "outputs": []
    },
    {
      "metadata": {
        "id": "v-Xnm6ei82A7",
        "colab_type": "code",
        "colab": {}
      },
      "cell_type": "code",
      "source": [
        "df_3['p1'].value_counts()"
      ],
      "execution_count": 0,
      "outputs": []
    },
    {
      "metadata": {
        "id": "-MAwTACH82mG",
        "colab_type": "code",
        "outputId": "76001605-edcf-4fdb-cf00-982602c5f8c5",
        "colab": {
          "base_uri": "https://localhost:8080/",
          "height": 101
        }
      },
      "cell_type": "code",
      "source": [
        "df_3['img_num'].value_counts()"
      ],
      "execution_count": 0,
      "outputs": [
        {
          "output_type": "execute_result",
          "data": {
            "text/plain": [
              "1    1780\n",
              "2     198\n",
              "3      66\n",
              "4      31\n",
              "Name: img_num, dtype: int64"
            ]
          },
          "metadata": {
            "tags": []
          },
          "execution_count": 69
        }
      ]
    },
    {
      "metadata": {
        "id": "BU1fwlk8ejDJ",
        "colab_type": "text"
      },
      "cell_type": "markdown",
      "source": [
        "# Data Cleaning\n"
      ]
    },
    {
      "metadata": {
        "id": "iiXBsfwHrFgR",
        "colab_type": "text"
      },
      "cell_type": "markdown",
      "source": [
        "## Table 1"
      ]
    },
    {
      "metadata": {
        "id": "Pevpjv6GDZ52",
        "colab_type": "code",
        "colab": {}
      },
      "cell_type": "code",
      "source": [
        "# Make Copies\n",
        "\n",
        "# Note: df_1_copy = df_1 does NOT makes copies of the dataset, \n",
        "# just creates a new variable pointing to same location.\n",
        "\n",
        "# Use the copy() function to make copies \n",
        "\n",
        "df_1_copy = df_1.copy()\n",
        "df_2_copy = df_2.copy()\n",
        "df_3_copy = df_3.copy()"
      ],
      "execution_count": 0,
      "outputs": []
    },
    {
      "metadata": {
        "id": "z4r24p6uQMyS",
        "colab_type": "text"
      },
      "cell_type": "markdown",
      "source": [
        "### Issue #1 Deleting Retweet Rows\n",
        "\n",
        "#### Define\n",
        "\n",
        "- Since only original ratings (no retweets) that have images, the rows of retweets could not contribute to this analysis and should be deleted.\n",
        "\n",
        "#### Clean"
      ]
    },
    {
      "metadata": {
        "id": "TfyUKa06QLsw",
        "colab_type": "code",
        "colab": {}
      },
      "cell_type": "code",
      "source": [
        "# find retweets\n",
        "\n",
        "df_retweets = df_1_copy[df_1_copy['retweeted_status_id'].notnull()]"
      ],
      "execution_count": 0,
      "outputs": []
    },
    {
      "metadata": {
        "id": "YeIdxQjZRWok",
        "colab_type": "code",
        "colab": {}
      },
      "cell_type": "code",
      "source": [
        "# Drop retweet rows\n",
        "\n",
        "df_1_copy.drop(df_retweets.index, inplace=True)"
      ],
      "execution_count": 0,
      "outputs": []
    },
    {
      "metadata": {
        "id": "DFD8ufScR2QC",
        "colab_type": "text"
      },
      "cell_type": "markdown",
      "source": [
        "#### Test"
      ]
    },
    {
      "metadata": {
        "id": "o1k_J_hUTN4s",
        "colab_type": "code",
        "colab": {}
      },
      "cell_type": "code",
      "source": [
        "df_1_copy.info()"
      ],
      "execution_count": 0,
      "outputs": []
    },
    {
      "metadata": {
        "id": "ghiOQFssSXcM",
        "colab_type": "text"
      },
      "cell_type": "markdown",
      "source": [
        "### Issue #2 Deleting Reply Rows\n",
        "\n",
        "#### Define\n",
        "\n",
        "- Since only original ratings (no retweets) that have images, the rows of replys could not contribute to this analysis and should be deleted.\n",
        "\n",
        "#### Clean"
      ]
    },
    {
      "metadata": {
        "id": "n50qgR4oSWhj",
        "colab_type": "code",
        "colab": {}
      },
      "cell_type": "code",
      "source": [
        "# find replys\n",
        "\n",
        "df_replys = df_1_copy[df_1_copy['in_reply_to_status_id'].notnull()]"
      ],
      "execution_count": 0,
      "outputs": []
    },
    {
      "metadata": {
        "id": "OZj8iOvJTA_Q",
        "colab_type": "code",
        "colab": {}
      },
      "cell_type": "code",
      "source": [
        "# drop replys\n",
        "df_1_copy.drop(df_replys.index, inplace = True)"
      ],
      "execution_count": 0,
      "outputs": []
    },
    {
      "metadata": {
        "id": "NyMHdHSiTIdy",
        "colab_type": "text"
      },
      "cell_type": "markdown",
      "source": [
        "#### Test"
      ]
    },
    {
      "metadata": {
        "id": "W3Xii8JsR1sj",
        "colab_type": "code",
        "colab": {}
      },
      "cell_type": "code",
      "source": [
        "df_1_copy.info()"
      ],
      "execution_count": 0,
      "outputs": []
    },
    {
      "metadata": {
        "id": "rAiqvQjSrThH",
        "colab_type": "text"
      },
      "cell_type": "markdown",
      "source": [
        "### Issue #3 Deleting Retweet / Replys Columns\n",
        "\n",
        "#### Define\n",
        "\n",
        "- After retweet / reply rows are deleted, the following columns are empty and could be dropped:\n",
        " - in_reply_to_status_id\n",
        " - in_reply_to_user_id\n",
        " - retweeted_status_id\n",
        " - retweeted_status_user_id\n",
        " - retweeted_status_timestamp\n",
        "\n",
        "#### Clean"
      ]
    },
    {
      "metadata": {
        "id": "5wmuz1e_ruJe",
        "colab_type": "code",
        "colab": {}
      },
      "cell_type": "code",
      "source": [
        "df_1_copy = df_1_copy.drop(columns = ['in_reply_to_status_id', 'in_reply_to_user_id', 'retweeted_status_id', 'retweeted_status_user_id', 'retweeted_status_timestamp'])"
      ],
      "execution_count": 0,
      "outputs": []
    },
    {
      "metadata": {
        "id": "WCz8yuvZV1Tv",
        "colab_type": "text"
      },
      "cell_type": "markdown",
      "source": [
        "#### Test"
      ]
    },
    {
      "metadata": {
        "id": "3z03IWzBV3Zq",
        "colab_type": "code",
        "colab": {}
      },
      "cell_type": "code",
      "source": [
        "df_1_copy.info()"
      ],
      "execution_count": 0,
      "outputs": []
    },
    {
      "metadata": {
        "id": "_BGXr15jWtc5",
        "colab_type": "text"
      },
      "cell_type": "markdown",
      "source": [
        "### Issue #4 Dog Stages\n",
        "\n",
        "#### Define\n",
        "\n",
        "- doggo / floofer / pupper / puppo: could be combined into 1 column as categorical data.\n",
        "\n",
        "#### Clean"
      ]
    },
    {
      "metadata": {
        "id": "0BKzBoOPWyhe",
        "colab_type": "code",
        "colab": {}
      },
      "cell_type": "code",
      "source": [
        "# combine into 1 column\n",
        "\n",
        "dog_stages = ['doggo', 'floofer', 'pupper', 'puppo']\n",
        "\n",
        "for i, row in df_1_copy.iterrows():\n",
        "    ifor_val = ''\n",
        "    for dog_stage in dog_stages:\n",
        "      if row[dog_stage] != 'None':\n",
        "        ifor_val += dog_stage\n",
        "    df_1_copy.at[i,'stage'] = ifor_val"
      ],
      "execution_count": 0,
      "outputs": []
    },
    {
      "metadata": {
        "id": "wtLXRgZHXJPh",
        "colab_type": "code",
        "colab": {}
      },
      "cell_type": "code",
      "source": [
        "# drop the original 4 columns\n",
        "\n",
        "df_1_copy.drop(columns = ['doggo', 'floofer', 'pupper', 'puppo'], \n",
        "               inplace = True)"
      ],
      "execution_count": 0,
      "outputs": []
    },
    {
      "metadata": {
        "id": "JI0DHbBvXvv1",
        "colab_type": "text"
      },
      "cell_type": "markdown",
      "source": [
        "A new quality issue rises:\n",
        "\n",
        "- a few dogs have been marked in 2 stages."
      ]
    },
    {
      "metadata": {
        "id": "2UghbdzOXc7t",
        "colab_type": "code",
        "colab": {}
      },
      "cell_type": "code",
      "source": [
        "df_1_copy.replace(\n",
        "    {'stage': {\n",
        "        '': np.NaN,\n",
        "        'doggopupper': 'doggo, pupper',\n",
        "        'doggopuppo': 'doggo, puppo',\n",
        "        'doggofloofer': 'doggo, floofer'\n",
        "    }}, \n",
        "    inplace = True)"
      ],
      "execution_count": 0,
      "outputs": []
    },
    {
      "metadata": {
        "id": "UFE66GWSXSNQ",
        "colab_type": "text"
      },
      "cell_type": "markdown",
      "source": [
        "#### Test"
      ]
    },
    {
      "metadata": {
        "id": "3WtYctIdXhc0",
        "colab_type": "code",
        "outputId": "a1668330-2827-46c7-f21e-4f70a2ba6a9a",
        "colab": {
          "base_uri": "https://localhost:8080/",
          "height": 151
        }
      },
      "cell_type": "code",
      "source": [
        "df_1_copy['stage'].value_counts()\n",
        "\n",
        "# a few dogs were marked as in 2 stages."
      ],
      "execution_count": 0,
      "outputs": [
        {
          "output_type": "execute_result",
          "data": {
            "text/plain": [
              "pupper           221\n",
              "doggo             72\n",
              "puppo             23\n",
              "floofer            9\n",
              "doggo, pupper      9\n",
              "doggo,floofer      1\n",
              "doggo,puppo        1\n",
              "Name: stage, dtype: int64"
            ]
          },
          "metadata": {
            "tags": []
          },
          "execution_count": 92
        }
      ]
    },
    {
      "metadata": {
        "id": "xKpXdksVZXCD",
        "colab_type": "text"
      },
      "cell_type": "markdown",
      "source": [
        "### Issue #5 Source\n",
        "\n",
        "#### Define\n",
        "\n",
        "- In the column of source, the long name with HTML tag could be shorten.\n",
        "\n",
        "#### Clean"
      ]
    },
    {
      "metadata": {
        "id": "yuLusTOSv-W-",
        "colab_type": "code",
        "colab": {}
      },
      "cell_type": "code",
      "source": [
        "df_1_copy.replace({'source': {\n",
        "    '<a href=\"http://twitter.com/download/iphone\" rel=\"nofollow\">Twitter for iPhone</a>': 'Twitter for iPhone',\n",
        "    '<a href=\"http://vine.co\" rel=\"nofollow\">Vine - Make a Scene</a>': 'Vine',\n",
        "    '<a href=\"http://twitter.com\" rel=\"nofollow\">Twitter Web Client</a>': 'Twitter Web Client',\n",
        "    '<a href=\"https://about.twitter.com/products/tweetdeck\" rel=\"nofollow\">TweetDeck</a>': 'TweetDeck'\n",
        "}}, inplace = True)"
      ],
      "execution_count": 0,
      "outputs": []
    },
    {
      "metadata": {
        "id": "TRREKUiEZuT1",
        "colab_type": "text"
      },
      "cell_type": "markdown",
      "source": [
        "#### Test"
      ]
    },
    {
      "metadata": {
        "id": "0sEgL4eEZtxf",
        "colab_type": "code",
        "colab": {}
      },
      "cell_type": "code",
      "source": [
        "df_1_copy.sample(3)"
      ],
      "execution_count": 0,
      "outputs": []
    },
    {
      "metadata": {
        "id": "qdSCKjqZabUU",
        "colab_type": "text"
      },
      "cell_type": "markdown",
      "source": [
        "### Issue #6 Rating Denominator\n",
        "\n",
        "#### Define\n",
        "\n",
        "rating_denominator contains invalid values (e.g. denominator = 0, index = 313)\n",
        "\n",
        "#### Clean\n",
        "It has already been dropped in the steps above.\n",
        "\n",
        "#### Test"
      ]
    },
    {
      "metadata": {
        "id": "ZmYSFfvhat63",
        "colab_type": "code",
        "outputId": "50256c10-a9b1-4ab8-bbac-826cd3dce58f",
        "colab": {
          "base_uri": "https://localhost:8080/",
          "height": 47
        }
      },
      "cell_type": "code",
      "source": [
        "df_1_copy.query('rating_denominator == 0')"
      ],
      "execution_count": 0,
      "outputs": [
        {
          "output_type": "execute_result",
          "data": {
            "text/html": [
              "<div>\n",
              "<style scoped>\n",
              "    .dataframe tbody tr th:only-of-type {\n",
              "        vertical-align: middle;\n",
              "    }\n",
              "\n",
              "    .dataframe tbody tr th {\n",
              "        vertical-align: top;\n",
              "    }\n",
              "\n",
              "    .dataframe thead th {\n",
              "        text-align: right;\n",
              "    }\n",
              "</style>\n",
              "<table border=\"1\" class=\"dataframe\">\n",
              "  <thead>\n",
              "    <tr style=\"text-align: right;\">\n",
              "      <th></th>\n",
              "      <th>tweet_id</th>\n",
              "      <th>timestamp</th>\n",
              "      <th>source</th>\n",
              "      <th>text</th>\n",
              "      <th>expanded_urls</th>\n",
              "      <th>rating_numerator</th>\n",
              "      <th>rating_denominator</th>\n",
              "      <th>name</th>\n",
              "      <th>stage</th>\n",
              "    </tr>\n",
              "  </thead>\n",
              "  <tbody>\n",
              "  </tbody>\n",
              "</table>\n",
              "</div>"
            ],
            "text/plain": [
              "Empty DataFrame\n",
              "Columns: [tweet_id, timestamp, source, text, expanded_urls, rating_numerator, rating_denominator, name, stage]\n",
              "Index: []"
            ]
          },
          "metadata": {
            "tags": []
          },
          "execution_count": 151
        }
      ]
    },
    {
      "metadata": {
        "id": "C_sbCm-Xb4VN",
        "colab_type": "text"
      },
      "cell_type": "markdown",
      "source": [
        "### Issue #7 Rating Numerator - Correcting Values\n",
        "\n",
        "#### Define\n",
        "\n",
        "- Since numerators are extracted from 'text', the numerators with decimals were wrongly extracted (index =  45, 340, 695, 763, 1689, 1712)\n",
        "\n",
        "#### Clean"
      ]
    },
    {
      "metadata": {
        "id": "C8B2vLHLcKsT",
        "colab_type": "code",
        "outputId": "eb36b88e-e918-40a4-a8ad-c2c7f95c86c3",
        "colab": {
          "base_uri": "https://localhost:8080/",
          "height": 236
        }
      },
      "cell_type": "code",
      "source": [
        "# Check whether they have already been deleted\n",
        "\n",
        "df_1_copy[df_1_copy.text.str.contains(r\"(\\d+\\.\\d*\\/\\d+)\")][['text', 'rating_numerator']]"
      ],
      "execution_count": 0,
      "outputs": [
        {
          "output_type": "stream",
          "text": [
            "/usr/local/lib/python3.6/dist-packages/ipykernel_launcher.py:2: UserWarning: This pattern has match groups. To actually get the groups, use str.extract.\n",
            "  \n"
          ],
          "name": "stderr"
        },
        {
          "output_type": "execute_result",
          "data": {
            "text/html": [
              "<div>\n",
              "<style scoped>\n",
              "    .dataframe tbody tr th:only-of-type {\n",
              "        vertical-align: middle;\n",
              "    }\n",
              "\n",
              "    .dataframe tbody tr th {\n",
              "        vertical-align: top;\n",
              "    }\n",
              "\n",
              "    .dataframe thead th {\n",
              "        text-align: right;\n",
              "    }\n",
              "</style>\n",
              "<table border=\"1\" class=\"dataframe\">\n",
              "  <thead>\n",
              "    <tr style=\"text-align: right;\">\n",
              "      <th></th>\n",
              "      <th>text</th>\n",
              "      <th>rating_numerator</th>\n",
              "    </tr>\n",
              "  </thead>\n",
              "  <tbody>\n",
              "    <tr>\n",
              "      <th>45</th>\n",
              "      <td>This is Bella. She hopes her smile made you smile. If not, she is also offering you her favorite monkey. 13.5/10 https://t.co/qjrljjt948</td>\n",
              "      <td>5</td>\n",
              "    </tr>\n",
              "    <tr>\n",
              "      <th>695</th>\n",
              "      <td>This is Logan, the Chow who lived. He solemnly swears he's up to lots of good. H*ckin magical af 9.75/10 https://t.co/yBO5wuqaPS</td>\n",
              "      <td>75</td>\n",
              "    </tr>\n",
              "    <tr>\n",
              "      <th>763</th>\n",
              "      <td>This is Sophie. She's a Jubilant Bush Pupper. Super h*ckin rare. Appears at random just to smile at the locals. 11.27/10 would smile back https://t.co/QFaUiIHxHq</td>\n",
              "      <td>27</td>\n",
              "    </tr>\n",
              "    <tr>\n",
              "      <th>1712</th>\n",
              "      <td>Here we have uncovered an entire battalion of holiday puppers. Average of 11.26/10 https://t.co/eNm2S6p9BD</td>\n",
              "      <td>26</td>\n",
              "    </tr>\n",
              "  </tbody>\n",
              "</table>\n",
              "</div>"
            ],
            "text/plain": [
              "                                                                                                                                                                   text  \\\n",
              "45                             This is Bella. She hopes her smile made you smile. If not, she is also offering you her favorite monkey. 13.5/10 https://t.co/qjrljjt948   \n",
              "695                                    This is Logan, the Chow who lived. He solemnly swears he's up to lots of good. H*ckin magical af 9.75/10 https://t.co/yBO5wuqaPS   \n",
              "763   This is Sophie. She's a Jubilant Bush Pupper. Super h*ckin rare. Appears at random just to smile at the locals. 11.27/10 would smile back https://t.co/QFaUiIHxHq   \n",
              "1712                                                         Here we have uncovered an entire battalion of holiday puppers. Average of 11.26/10 https://t.co/eNm2S6p9BD   \n",
              "\n",
              "      rating_numerator  \n",
              "45                   5  \n",
              "695                 75  \n",
              "763                 27  \n",
              "1712                26  "
            ]
          },
          "metadata": {
            "tags": []
          },
          "execution_count": 152
        }
      ]
    },
    {
      "metadata": {
        "id": "EJjTlQvpcmqn",
        "colab_type": "code",
        "colab": {}
      },
      "cell_type": "code",
      "source": [
        "numerator_indexes = [45, 695, 763, 1712]\n",
        "\n",
        "numerators = [13.5, 9.75, 11.27, 11.26]\n",
        "\n",
        "for i in range(len(numerator_indexes)):\n",
        "  df_1_copy.loc[numerator_indexes[i], 'rating_numerator'] = numerators[i]\n"
      ],
      "execution_count": 0,
      "outputs": []
    },
    {
      "metadata": {
        "id": "yU5PJgmReCxW",
        "colab_type": "text"
      },
      "cell_type": "markdown",
      "source": [
        "#### Test"
      ]
    },
    {
      "metadata": {
        "id": "zYeRA6xQeEfv",
        "colab_type": "code",
        "outputId": "574767af-e170-4875-ea47-b9c1018775d9",
        "colab": {
          "base_uri": "https://localhost:8080/",
          "height": 236
        }
      },
      "cell_type": "code",
      "source": [
        "df_1_copy[df_1_copy.text.str.contains(r\"(\\d+\\.\\d*\\/\\d+)\")][['text', 'rating_numerator']]"
      ],
      "execution_count": 0,
      "outputs": [
        {
          "output_type": "stream",
          "text": [
            "/usr/local/lib/python3.6/dist-packages/ipykernel_launcher.py:1: UserWarning: This pattern has match groups. To actually get the groups, use str.extract.\n",
            "  \"\"\"Entry point for launching an IPython kernel.\n"
          ],
          "name": "stderr"
        },
        {
          "output_type": "execute_result",
          "data": {
            "text/html": [
              "<div>\n",
              "<style scoped>\n",
              "    .dataframe tbody tr th:only-of-type {\n",
              "        vertical-align: middle;\n",
              "    }\n",
              "\n",
              "    .dataframe tbody tr th {\n",
              "        vertical-align: top;\n",
              "    }\n",
              "\n",
              "    .dataframe thead th {\n",
              "        text-align: right;\n",
              "    }\n",
              "</style>\n",
              "<table border=\"1\" class=\"dataframe\">\n",
              "  <thead>\n",
              "    <tr style=\"text-align: right;\">\n",
              "      <th></th>\n",
              "      <th>text</th>\n",
              "      <th>rating_numerator</th>\n",
              "    </tr>\n",
              "  </thead>\n",
              "  <tbody>\n",
              "    <tr>\n",
              "      <th>45</th>\n",
              "      <td>This is Bella. She hopes her smile made you smile. If not, she is also offering you her favorite monkey. 13.5/10 https://t.co/qjrljjt948</td>\n",
              "      <td>13.50</td>\n",
              "    </tr>\n",
              "    <tr>\n",
              "      <th>695</th>\n",
              "      <td>This is Logan, the Chow who lived. He solemnly swears he's up to lots of good. H*ckin magical af 9.75/10 https://t.co/yBO5wuqaPS</td>\n",
              "      <td>9.75</td>\n",
              "    </tr>\n",
              "    <tr>\n",
              "      <th>763</th>\n",
              "      <td>This is Sophie. She's a Jubilant Bush Pupper. Super h*ckin rare. Appears at random just to smile at the locals. 11.27/10 would smile back https://t.co/QFaUiIHxHq</td>\n",
              "      <td>11.27</td>\n",
              "    </tr>\n",
              "    <tr>\n",
              "      <th>1712</th>\n",
              "      <td>Here we have uncovered an entire battalion of holiday puppers. Average of 11.26/10 https://t.co/eNm2S6p9BD</td>\n",
              "      <td>11.26</td>\n",
              "    </tr>\n",
              "  </tbody>\n",
              "</table>\n",
              "</div>"
            ],
            "text/plain": [
              "                                                                                                                                                                   text  \\\n",
              "45                             This is Bella. She hopes her smile made you smile. If not, she is also offering you her favorite monkey. 13.5/10 https://t.co/qjrljjt948   \n",
              "695                                    This is Logan, the Chow who lived. He solemnly swears he's up to lots of good. H*ckin magical af 9.75/10 https://t.co/yBO5wuqaPS   \n",
              "763   This is Sophie. She's a Jubilant Bush Pupper. Super h*ckin rare. Appears at random just to smile at the locals. 11.27/10 would smile back https://t.co/QFaUiIHxHq   \n",
              "1712                                                         Here we have uncovered an entire battalion of holiday puppers. Average of 11.26/10 https://t.co/eNm2S6p9BD   \n",
              "\n",
              "      rating_numerator  \n",
              "45               13.50  \n",
              "695               9.75  \n",
              "763              11.27  \n",
              "1712             11.26  "
            ]
          },
          "metadata": {
            "tags": []
          },
          "execution_count": 154
        }
      ]
    },
    {
      "metadata": {
        "id": "IMijhGf3eRw-",
        "colab_type": "text"
      },
      "cell_type": "markdown",
      "source": [
        "### Issue #8 Rating Numerator - Outliers\n",
        "\n",
        "#### Define\n",
        "\n",
        "- rating_numerator contains extremely large values (e.g. 1776 when denominator = 10)\n",
        "\n",
        "#### Clean"
      ]
    },
    {
      "metadata": {
        "id": "k5YNegBvgGv_",
        "colab_type": "code",
        "colab": {}
      },
      "cell_type": "code",
      "source": [
        "df_1_copy['ratings'] = df_1_copy['rating_numerator'] / df_1_copy['rating_denominator']"
      ],
      "execution_count": 0,
      "outputs": []
    },
    {
      "metadata": {
        "id": "_l2kS-Wjf9wd",
        "colab_type": "code",
        "colab": {}
      },
      "cell_type": "code",
      "source": [
        "df_1_copy['ratings'].describe()"
      ],
      "execution_count": 0,
      "outputs": []
    },
    {
      "metadata": {
        "id": "zM-33gFQgk7q",
        "colab_type": "code",
        "colab": {}
      },
      "cell_type": "code",
      "source": [
        "outliers = df_1_copy.query('ratings >2')\n",
        "outliers"
      ],
      "execution_count": 0,
      "outputs": []
    },
    {
      "metadata": {
        "id": "ah6xNAWggGCD",
        "colab_type": "code",
        "colab": {}
      },
      "cell_type": "code",
      "source": [
        "df_1_copy.drop(outliers.index, inplace = True)"
      ],
      "execution_count": 0,
      "outputs": []
    },
    {
      "metadata": {
        "id": "-KCBMIEEhIfC",
        "colab_type": "text"
      },
      "cell_type": "markdown",
      "source": [
        "#### Test"
      ]
    },
    {
      "metadata": {
        "id": "p0Ekm50-hKAa",
        "colab_type": "code",
        "outputId": "e51fd5ff-2d07-491e-c7f0-209f30912a9f",
        "colab": {
          "base_uri": "https://localhost:8080/",
          "height": 47
        }
      },
      "cell_type": "code",
      "source": [
        "df_1_copy.query('ratings >2')"
      ],
      "execution_count": 0,
      "outputs": [
        {
          "output_type": "execute_result",
          "data": {
            "text/html": [
              "<div>\n",
              "<style scoped>\n",
              "    .dataframe tbody tr th:only-of-type {\n",
              "        vertical-align: middle;\n",
              "    }\n",
              "\n",
              "    .dataframe tbody tr th {\n",
              "        vertical-align: top;\n",
              "    }\n",
              "\n",
              "    .dataframe thead th {\n",
              "        text-align: right;\n",
              "    }\n",
              "</style>\n",
              "<table border=\"1\" class=\"dataframe\">\n",
              "  <thead>\n",
              "    <tr style=\"text-align: right;\">\n",
              "      <th></th>\n",
              "      <th>tweet_id</th>\n",
              "      <th>timestamp</th>\n",
              "      <th>source</th>\n",
              "      <th>text</th>\n",
              "      <th>expanded_urls</th>\n",
              "      <th>rating_numerator</th>\n",
              "      <th>rating_denominator</th>\n",
              "      <th>name</th>\n",
              "      <th>stage</th>\n",
              "      <th>ratings</th>\n",
              "    </tr>\n",
              "  </thead>\n",
              "  <tbody>\n",
              "  </tbody>\n",
              "</table>\n",
              "</div>"
            ],
            "text/plain": [
              "Empty DataFrame\n",
              "Columns: [tweet_id, timestamp, source, text, expanded_urls, rating_numerator, rating_denominator, name, stage, ratings]\n",
              "Index: []"
            ]
          },
          "metadata": {
            "tags": []
          },
          "execution_count": 162
        }
      ]
    },
    {
      "metadata": {
        "id": "qoueDppXeg2L",
        "colab_type": "text"
      },
      "cell_type": "markdown",
      "source": [
        "### Other Issues\n",
        "- Name Column is not cleaned as it is not related to analysis in this report.\n",
        "- Data type issues (other than tweet_id) will be cleaned at the last step of data cleaning."
      ]
    },
    {
      "metadata": {
        "id": "vDAKCecEdepF",
        "colab_type": "text"
      },
      "cell_type": "markdown",
      "source": [
        "## Table 2\n",
        "\n",
        "### Issue #1 Missing Values\n",
        "\n",
        "#### Define\n",
        "\n",
        "- Replace missing values by Null.\n",
        "\n",
        "#### Clean\n",
        "\n"
      ]
    },
    {
      "metadata": {
        "id": "WwdUgqSeornS",
        "colab_type": "code",
        "colab": {}
      },
      "cell_type": "code",
      "source": [
        "# Replace str 'Nan' with Null\n",
        "\n",
        "df_2_copy.replace('Nan', np.NaN, inplace = True)"
      ],
      "execution_count": 0,
      "outputs": []
    },
    {
      "metadata": {
        "id": "w5OoJ8BXh3p2",
        "colab_type": "text"
      },
      "cell_type": "markdown",
      "source": [
        "#### Test"
      ]
    },
    {
      "metadata": {
        "id": "1LVJrnp2eK4l",
        "colab_type": "code",
        "outputId": "71796301-2210-4bb1-defc-3d866be83ba8",
        "colab": {
          "base_uri": "https://localhost:8080/",
          "height": 151
        }
      },
      "cell_type": "code",
      "source": [
        "df_2_copy.info()"
      ],
      "execution_count": 0,
      "outputs": [
        {
          "output_type": "stream",
          "text": [
            "<class 'pandas.core.frame.DataFrame'>\n",
            "RangeIndex: 2356 entries, 0 to 2355\n",
            "Data columns (total 3 columns):\n",
            "id                2356 non-null int64\n",
            "retweet_count     2340 non-null object\n",
            "favorite_count    2340 non-null object\n",
            "dtypes: int64(1), object(2)\n",
            "memory usage: 55.3+ KB\n"
          ],
          "name": "stdout"
        }
      ]
    },
    {
      "metadata": {
        "id": "zp05XYjMX5QE",
        "colab_type": "text"
      },
      "cell_type": "markdown",
      "source": [
        "## Table 3"
      ]
    },
    {
      "metadata": {
        "id": "JrL4112aaZBF",
        "colab_type": "text"
      },
      "cell_type": "markdown",
      "source": [
        "### Issue #1 Missing Values\n",
        "\n",
        "#### Define\n",
        "\n",
        "- Rename Columns.\n",
        "\n",
        "#### Clean"
      ]
    },
    {
      "metadata": {
        "id": "x30skKqXacbX",
        "colab_type": "code",
        "colab": {}
      },
      "cell_type": "code",
      "source": [
        "df_3_copy.rename(columns = {\n",
        "    'p1': 'predict_1',\n",
        "    'p1_dog': 'p1_breed_dog',\n",
        "    'p2': 'predict_2',\n",
        "    'p2_dog': 'p2_breed_dog',\n",
        "    'p3': 'predict_3',\n",
        "    'p3_dog': 'p3_breed_dog',\n",
        "    'tweet_id': 'tweet_id_3'\n",
        "}, inplace = True)"
      ],
      "execution_count": 0,
      "outputs": []
    },
    {
      "metadata": {
        "id": "qG3cLbZniRoc",
        "colab_type": "text"
      },
      "cell_type": "markdown",
      "source": [
        "#### Test"
      ]
    },
    {
      "metadata": {
        "id": "O0maKIeyYYyS",
        "colab_type": "code",
        "outputId": "06cafaca-a795-45c7-c6c7-9218142a6f79",
        "colab": {
          "base_uri": "https://localhost:8080/",
          "height": 173
        }
      },
      "cell_type": "code",
      "source": [
        "df_3_copy.sample(3)"
      ],
      "execution_count": 0,
      "outputs": [
        {
          "output_type": "execute_result",
          "data": {
            "text/html": [
              "<div>\n",
              "<style scoped>\n",
              "    .dataframe tbody tr th:only-of-type {\n",
              "        vertical-align: middle;\n",
              "    }\n",
              "\n",
              "    .dataframe tbody tr th {\n",
              "        vertical-align: top;\n",
              "    }\n",
              "\n",
              "    .dataframe thead th {\n",
              "        text-align: right;\n",
              "    }\n",
              "</style>\n",
              "<table border=\"1\" class=\"dataframe\">\n",
              "  <thead>\n",
              "    <tr style=\"text-align: right;\">\n",
              "      <th></th>\n",
              "      <th>tweet_id_3</th>\n",
              "      <th>jpg_url</th>\n",
              "      <th>img_num</th>\n",
              "      <th>predict_1</th>\n",
              "      <th>p1_conf</th>\n",
              "      <th>p1_breed_dog</th>\n",
              "      <th>predict_2</th>\n",
              "      <th>p2_conf</th>\n",
              "      <th>p2_breed_dog</th>\n",
              "      <th>predict_3</th>\n",
              "      <th>p3_conf</th>\n",
              "      <th>p3_breed_dog</th>\n",
              "    </tr>\n",
              "  </thead>\n",
              "  <tbody>\n",
              "    <tr>\n",
              "      <th>1140</th>\n",
              "      <td>729823566028484608</td>\n",
              "      <td>https://pbs.twimg.com/media/CiDap8fWEAAC4iW.jpg</td>\n",
              "      <td>1</td>\n",
              "      <td>kelpie</td>\n",
              "      <td>0.218408</td>\n",
              "      <td>True</td>\n",
              "      <td>arabian_camel</td>\n",
              "      <td>0.114368</td>\n",
              "      <td>False</td>\n",
              "      <td>coyote</td>\n",
              "      <td>0.096409</td>\n",
              "      <td>False</td>\n",
              "    </tr>\n",
              "    <tr>\n",
              "      <th>1786</th>\n",
              "      <td>829449946868879360</td>\n",
              "      <td>https://pbs.twimg.com/media/C4LMUf8WYAkWz4I.jpg</td>\n",
              "      <td>1</td>\n",
              "      <td>labrador_retriever</td>\n",
              "      <td>0.315163</td>\n",
              "      <td>True</td>\n",
              "      <td>golden_retriever</td>\n",
              "      <td>0.153210</td>\n",
              "      <td>True</td>\n",
              "      <td>pekinese</td>\n",
              "      <td>0.132791</td>\n",
              "      <td>True</td>\n",
              "    </tr>\n",
              "    <tr>\n",
              "      <th>102</th>\n",
              "      <td>667801013445750784</td>\n",
              "      <td>https://pbs.twimg.com/media/CUSBemVUEAAn-6V.jpg</td>\n",
              "      <td>1</td>\n",
              "      <td>flat-coated_retriever</td>\n",
              "      <td>0.508392</td>\n",
              "      <td>True</td>\n",
              "      <td>chesapeake_bay_retriever</td>\n",
              "      <td>0.262239</td>\n",
              "      <td>True</td>\n",
              "      <td>curly-coated_retriever</td>\n",
              "      <td>0.048920</td>\n",
              "      <td>True</td>\n",
              "    </tr>\n",
              "  </tbody>\n",
              "</table>\n",
              "</div>"
            ],
            "text/plain": [
              "              tweet_id_3                                          jpg_url  \\\n",
              "1140  729823566028484608  https://pbs.twimg.com/media/CiDap8fWEAAC4iW.jpg   \n",
              "1786  829449946868879360  https://pbs.twimg.com/media/C4LMUf8WYAkWz4I.jpg   \n",
              "102   667801013445750784  https://pbs.twimg.com/media/CUSBemVUEAAn-6V.jpg   \n",
              "\n",
              "      img_num              predict_1   p1_conf  p1_breed_dog  \\\n",
              "1140        1                 kelpie  0.218408          True   \n",
              "1786        1     labrador_retriever  0.315163          True   \n",
              "102         1  flat-coated_retriever  0.508392          True   \n",
              "\n",
              "                     predict_2   p2_conf  p2_breed_dog  \\\n",
              "1140             arabian_camel  0.114368         False   \n",
              "1786          golden_retriever  0.153210          True   \n",
              "102   chesapeake_bay_retriever  0.262239          True   \n",
              "\n",
              "                   predict_3   p3_conf  p3_breed_dog  \n",
              "1140                  coyote  0.096409         False  \n",
              "1786                pekinese  0.132791          True  \n",
              "102   curly-coated_retriever  0.048920          True  "
            ]
          },
          "metadata": {
            "tags": []
          },
          "execution_count": 235
        }
      ]
    },
    {
      "metadata": {
        "id": "LN1ldG0WwfSb",
        "colab_type": "text"
      },
      "cell_type": "markdown",
      "source": [
        "### Issue #2 Name Consistency\n",
        "\n",
        "#### Define\n",
        "\n",
        "- Change the prediction name to lower case.\n",
        "\n",
        "#### Clean"
      ]
    },
    {
      "metadata": {
        "id": "hz_mE8qWwfgD",
        "colab_type": "code",
        "colab": {}
      },
      "cell_type": "code",
      "source": [
        "cols = ['predict_1', 'predict_2', 'predict_3']\n",
        "\n",
        "for col in cols:\n",
        "  df_3_copy[col] = df_3_copy[col].str.lower()"
      ],
      "execution_count": 0,
      "outputs": []
    },
    {
      "metadata": {
        "id": "YAyfQIqoxSiX",
        "colab_type": "text"
      },
      "cell_type": "markdown",
      "source": [
        "#### Test"
      ]
    },
    {
      "metadata": {
        "id": "Jc4gN66zxT9W",
        "colab_type": "code",
        "colab": {}
      },
      "cell_type": "code",
      "source": [
        "df_3_copy.sample(3)"
      ],
      "execution_count": 0,
      "outputs": []
    },
    {
      "metadata": {
        "id": "AbWaNsBybQ1E",
        "colab_type": "text"
      },
      "cell_type": "markdown",
      "source": [
        "## Joint Table\n",
        "\n",
        "### Issue # 1 Combining 3 Tables\n",
        "\n",
        "#### Define\n",
        "- Combine 3 tables together (left join df_1_copy).\n",
        "\n",
        "#### Clean"
      ]
    },
    {
      "metadata": {
        "id": "ZLovK0DbbP4a",
        "colab_type": "code",
        "colab": {}
      },
      "cell_type": "code",
      "source": [
        "df_joint = pd.merge(df_1_copy,\n",
        "                   df_2_copy,\n",
        "                   left_on = 'tweet_id',\n",
        "                   right_on = 'id',\n",
        "                   how = 'left'\n",
        "                   )"
      ],
      "execution_count": 0,
      "outputs": []
    },
    {
      "metadata": {
        "id": "0XvSPNe2fGv2",
        "colab_type": "code",
        "colab": {}
      },
      "cell_type": "code",
      "source": [
        "df_joint = pd.merge(df_joint,\n",
        "                   df_3_copy,\n",
        "                   left_on = 'tweet_id',\n",
        "                   right_on = 'tweet_id_3',\n",
        "                   how = 'left'\n",
        "                   )"
      ],
      "execution_count": 0,
      "outputs": []
    },
    {
      "metadata": {
        "id": "i8Gq790ff2ch",
        "colab_type": "code",
        "colab": {}
      },
      "cell_type": "code",
      "source": [
        "df_joint.drop(columns={'id', 'tweet_id_3'}, inplace = True)"
      ],
      "execution_count": 0,
      "outputs": []
    },
    {
      "metadata": {
        "id": "1rK9tspGlpYN",
        "colab_type": "text"
      },
      "cell_type": "markdown",
      "source": [
        "#### Test"
      ]
    },
    {
      "metadata": {
        "id": "fswWXi6CetW3",
        "colab_type": "code",
        "outputId": "6f3c0847-cff4-4bb9-92cf-e1ed178c11ae",
        "colab": {
          "base_uri": "https://localhost:8080/",
          "height": 487
        }
      },
      "cell_type": "code",
      "source": [
        "df_joint.info()"
      ],
      "execution_count": 0,
      "outputs": [
        {
          "output_type": "stream",
          "text": [
            "<class 'pandas.core.frame.DataFrame'>\n",
            "Int64Index: 2094 entries, 0 to 2093\n",
            "Data columns (total 23 columns):\n",
            "tweet_id              2094 non-null int64\n",
            "timestamp             2094 non-null object\n",
            "source                2094 non-null object\n",
            "text                  2094 non-null object\n",
            "expanded_urls         2091 non-null object\n",
            "rating_numerator      2094 non-null float64\n",
            "rating_denominator    2094 non-null int64\n",
            "name                  2094 non-null object\n",
            "stage                 336 non-null object\n",
            "ratings               2094 non-null float64\n",
            "retweet_count         2092 non-null object\n",
            "favorite_count        2092 non-null object\n",
            "jpg_url               1968 non-null object\n",
            "img_num               1968 non-null float64\n",
            "predict_1             1968 non-null object\n",
            "p1_conf               1968 non-null float64\n",
            "p1_breed_dog          1968 non-null object\n",
            "predict_2             1968 non-null object\n",
            "p2_conf               1968 non-null float64\n",
            "p2_breed_dog          1968 non-null object\n",
            "predict_3             1968 non-null object\n",
            "p3_conf               1968 non-null float64\n",
            "p3_breed_dog          1968 non-null object\n",
            "dtypes: float64(6), int64(2), object(15)\n",
            "memory usage: 392.6+ KB\n"
          ],
          "name": "stdout"
        }
      ]
    },
    {
      "metadata": {
        "id": "lwes6OwFege3",
        "colab_type": "code",
        "outputId": "0be51321-1e86-4811-b258-738ef6fd55e1",
        "colab": {
          "base_uri": "https://localhost:8080/",
          "height": 323
        }
      },
      "cell_type": "code",
      "source": [
        "df_joint.sample(2)"
      ],
      "execution_count": 0,
      "outputs": [
        {
          "output_type": "execute_result",
          "data": {
            "text/html": [
              "<div>\n",
              "<style scoped>\n",
              "    .dataframe tbody tr th:only-of-type {\n",
              "        vertical-align: middle;\n",
              "    }\n",
              "\n",
              "    .dataframe tbody tr th {\n",
              "        vertical-align: top;\n",
              "    }\n",
              "\n",
              "    .dataframe thead th {\n",
              "        text-align: right;\n",
              "    }\n",
              "</style>\n",
              "<table border=\"1\" class=\"dataframe\">\n",
              "  <thead>\n",
              "    <tr style=\"text-align: right;\">\n",
              "      <th></th>\n",
              "      <th>tweet_id</th>\n",
              "      <th>timestamp</th>\n",
              "      <th>source</th>\n",
              "      <th>text</th>\n",
              "      <th>expanded_urls</th>\n",
              "      <th>rating_numerator</th>\n",
              "      <th>rating_denominator</th>\n",
              "      <th>name</th>\n",
              "      <th>stage</th>\n",
              "      <th>ratings</th>\n",
              "      <th>...</th>\n",
              "      <th>img_num</th>\n",
              "      <th>predict_1</th>\n",
              "      <th>p1_conf</th>\n",
              "      <th>p1_breed_dog</th>\n",
              "      <th>predict_2</th>\n",
              "      <th>p2_conf</th>\n",
              "      <th>p2_breed_dog</th>\n",
              "      <th>predict_3</th>\n",
              "      <th>p3_conf</th>\n",
              "      <th>p3_breed_dog</th>\n",
              "    </tr>\n",
              "  </thead>\n",
              "  <tbody>\n",
              "    <tr>\n",
              "      <th>1625</th>\n",
              "      <td>675147105808306176</td>\n",
              "      <td>2015-12-11 02:56:28 +0000</td>\n",
              "      <td>Twitter for iPhone</td>\n",
              "      <td>When you're presenting a group project and the 4th guy tells the teacher that he did all the work. 10/10 https://t.co/f50mbB4UWS</td>\n",
              "      <td>https://twitter.com/dog_rates/status/675147105808306176/photo/1</td>\n",
              "      <td>10.0</td>\n",
              "      <td>10</td>\n",
              "      <td>None</td>\n",
              "      <td>NaN</td>\n",
              "      <td>1.0</td>\n",
              "      <td>...</td>\n",
              "      <td>1.0</td>\n",
              "      <td>golden_retriever</td>\n",
              "      <td>0.949215</td>\n",
              "      <td>True</td>\n",
              "      <td>labrador_retriever</td>\n",
              "      <td>0.016765</td>\n",
              "      <td>True</td>\n",
              "      <td>flat-coated_retriever</td>\n",
              "      <td>0.010637</td>\n",
              "      <td>True</td>\n",
              "    </tr>\n",
              "    <tr>\n",
              "      <th>1984</th>\n",
              "      <td>667902449697558528</td>\n",
              "      <td>2015-11-21 03:08:47 +0000</td>\n",
              "      <td>Twitter for iPhone</td>\n",
              "      <td>This is Cleopatricia. She is a northern Paperback Maple. Set up hammock somehow. 9/10 would chill in hammock with https://t.co/sJeHdGUt0W</td>\n",
              "      <td>https://twitter.com/dog_rates/status/667902449697558528/photo/1</td>\n",
              "      <td>9.0</td>\n",
              "      <td>10</td>\n",
              "      <td>Cleopatricia</td>\n",
              "      <td>NaN</td>\n",
              "      <td>0.9</td>\n",
              "      <td>...</td>\n",
              "      <td>1.0</td>\n",
              "      <td>norwegian_elkhound</td>\n",
              "      <td>0.298881</td>\n",
              "      <td>True</td>\n",
              "      <td>malamute</td>\n",
              "      <td>0.279479</td>\n",
              "      <td>True</td>\n",
              "      <td>eskimo_dog</td>\n",
              "      <td>0.198428</td>\n",
              "      <td>True</td>\n",
              "    </tr>\n",
              "  </tbody>\n",
              "</table>\n",
              "<p>2 rows × 23 columns</p>\n",
              "</div>"
            ],
            "text/plain": [
              "                tweet_id                  timestamp              source  \\\n",
              "1625  675147105808306176  2015-12-11 02:56:28 +0000  Twitter for iPhone   \n",
              "1984  667902449697558528  2015-11-21 03:08:47 +0000  Twitter for iPhone   \n",
              "\n",
              "                                                                                                                                           text  \\\n",
              "1625           When you're presenting a group project and the 4th guy tells the teacher that he did all the work. 10/10 https://t.co/f50mbB4UWS   \n",
              "1984  This is Cleopatricia. She is a northern Paperback Maple. Set up hammock somehow. 9/10 would chill in hammock with https://t.co/sJeHdGUt0W   \n",
              "\n",
              "                                                        expanded_urls  \\\n",
              "1625  https://twitter.com/dog_rates/status/675147105808306176/photo/1   \n",
              "1984  https://twitter.com/dog_rates/status/667902449697558528/photo/1   \n",
              "\n",
              "      rating_numerator  rating_denominator          name stage  ratings  \\\n",
              "1625              10.0                  10          None   NaN      1.0   \n",
              "1984               9.0                  10  Cleopatricia   NaN      0.9   \n",
              "\n",
              "         ...      img_num           predict_1   p1_conf  p1_breed_dog  \\\n",
              "1625     ...          1.0    golden_retriever  0.949215          True   \n",
              "1984     ...          1.0  norwegian_elkhound  0.298881          True   \n",
              "\n",
              "               predict_2   p2_conf p2_breed_dog              predict_3  \\\n",
              "1625  labrador_retriever  0.016765         True  flat-coated_retriever   \n",
              "1984            malamute  0.279479         True             eskimo_dog   \n",
              "\n",
              "       p3_conf p3_breed_dog  \n",
              "1625  0.010637         True  \n",
              "1984  0.198428         True  \n",
              "\n",
              "[2 rows x 23 columns]"
            ]
          },
          "metadata": {
            "tags": []
          },
          "execution_count": 240
        }
      ]
    },
    {
      "metadata": {
        "id": "lSWozH8el3zH",
        "colab_type": "text"
      },
      "cell_type": "markdown",
      "source": [
        "### Issue # 2 Reorder Columns\n",
        "\n",
        "#### Define\n",
        "- Move the useless columns (e.g. url) to the end.\n",
        "\n",
        "#### Clean"
      ]
    },
    {
      "metadata": {
        "id": "M1VQV7bkmXag",
        "colab_type": "code",
        "colab": {}
      },
      "cell_type": "code",
      "source": [
        "# get column names\n",
        "\n",
        "cols = df_joint.columns.tolist()\n"
      ],
      "execution_count": 0,
      "outputs": []
    },
    {
      "metadata": {
        "id": "xqvZg_bqmtxQ",
        "colab_type": "code",
        "outputId": "c5a6718e-6e7c-4201-bc96-657514f12bd6",
        "colab": {
          "base_uri": "https://localhost:8080/",
          "height": 34
        }
      },
      "cell_type": "code",
      "source": [
        "# reorder column names\n",
        "\n",
        "cols = ['tweet_id',\n",
        "        'timestamp',\n",
        "        'ratings',\n",
        "        'retweet_count',\n",
        "        'favorite_count',\n",
        "        'source',\n",
        "        'stage',        \n",
        "        'name',\n",
        "        'predict_1',\n",
        "        'p1_conf',\n",
        "        'p1_breed_dog',\n",
        "        'text',\n",
        "        'predict_2',\n",
        "        'p2_conf',\n",
        "        'p2_breed_dog',\n",
        "        'predict_3',\n",
        "        'p3_conf',\n",
        "        'p3_breed_dog',\n",
        "        'rating_numerator',\n",
        "        'rating_denominator',\n",
        "        'jpg_url',\n",
        "        'img_num',\n",
        "        'expanded_urls']\n"
      ],
      "execution_count": 0,
      "outputs": [
        {
          "output_type": "execute_result",
          "data": {
            "text/plain": [
              "23"
            ]
          },
          "metadata": {
            "tags": []
          },
          "execution_count": 243
        }
      ]
    },
    {
      "metadata": {
        "id": "xt07T3ZkoDi8",
        "colab_type": "code",
        "colab": {}
      },
      "cell_type": "code",
      "source": [
        "# reorder columns\n",
        "\n",
        "df_joint = df_joint[cols]"
      ],
      "execution_count": 0,
      "outputs": []
    },
    {
      "metadata": {
        "id": "ZB_Jl_dAnHqY",
        "colab_type": "text"
      },
      "cell_type": "markdown",
      "source": [
        "#### Test"
      ]
    },
    {
      "metadata": {
        "id": "jI_BB_CXnJv8",
        "colab_type": "code",
        "outputId": "88a0f9c3-f267-4a5a-bed1-e02b95c4ab5c",
        "colab": {
          "base_uri": "https://localhost:8080/",
          "height": 256
        }
      },
      "cell_type": "code",
      "source": [
        "df_joint.sample(2)"
      ],
      "execution_count": 0,
      "outputs": [
        {
          "output_type": "execute_result",
          "data": {
            "text/html": [
              "<div>\n",
              "<style scoped>\n",
              "    .dataframe tbody tr th:only-of-type {\n",
              "        vertical-align: middle;\n",
              "    }\n",
              "\n",
              "    .dataframe tbody tr th {\n",
              "        vertical-align: top;\n",
              "    }\n",
              "\n",
              "    .dataframe thead th {\n",
              "        text-align: right;\n",
              "    }\n",
              "</style>\n",
              "<table border=\"1\" class=\"dataframe\">\n",
              "  <thead>\n",
              "    <tr style=\"text-align: right;\">\n",
              "      <th></th>\n",
              "      <th>tweet_id</th>\n",
              "      <th>timestamp</th>\n",
              "      <th>ratings</th>\n",
              "      <th>retweet_count</th>\n",
              "      <th>favorite_count</th>\n",
              "      <th>source</th>\n",
              "      <th>stage</th>\n",
              "      <th>name</th>\n",
              "      <th>predict_1</th>\n",
              "      <th>p1_conf</th>\n",
              "      <th>...</th>\n",
              "      <th>p2_conf</th>\n",
              "      <th>p2_breed_dog</th>\n",
              "      <th>predict_3</th>\n",
              "      <th>p3_conf</th>\n",
              "      <th>p3_breed_dog</th>\n",
              "      <th>rating_numerator</th>\n",
              "      <th>rating_denominator</th>\n",
              "      <th>jpg_url</th>\n",
              "      <th>img_num</th>\n",
              "      <th>expanded_urls</th>\n",
              "    </tr>\n",
              "  </thead>\n",
              "  <tbody>\n",
              "    <tr>\n",
              "      <th>283</th>\n",
              "      <td>829449946868879360</td>\n",
              "      <td>2017-02-08 22:00:52 +0000</td>\n",
              "      <td>1.1</td>\n",
              "      <td>2191</td>\n",
              "      <td>11023</td>\n",
              "      <td>Twitter for iPhone</td>\n",
              "      <td>doggo</td>\n",
              "      <td>None</td>\n",
              "      <td>labrador_retriever</td>\n",
              "      <td>0.315163</td>\n",
              "      <td>...</td>\n",
              "      <td>0.153210</td>\n",
              "      <td>True</td>\n",
              "      <td>pekinese</td>\n",
              "      <td>0.132791</td>\n",
              "      <td>True</td>\n",
              "      <td>11.0</td>\n",
              "      <td>10</td>\n",
              "      <td>https://pbs.twimg.com/media/C4LMUf8WYAkWz4I.jpg</td>\n",
              "      <td>1.0</td>\n",
              "      <td>https://twitter.com/dog_rates/status/829449946868879360/photo/1</td>\n",
              "    </tr>\n",
              "    <tr>\n",
              "      <th>836</th>\n",
              "      <td>742465774154047488</td>\n",
              "      <td>2016-06-13 21:16:49 +0000</td>\n",
              "      <td>1.4</td>\n",
              "      <td>4149</td>\n",
              "      <td>7594</td>\n",
              "      <td>Twitter for iPhone</td>\n",
              "      <td>pupper</td>\n",
              "      <td>None</td>\n",
              "      <td>web_site</td>\n",
              "      <td>0.997154</td>\n",
              "      <td>...</td>\n",
              "      <td>0.000439</td>\n",
              "      <td>False</td>\n",
              "      <td>desktop_computer</td>\n",
              "      <td>0.000268</td>\n",
              "      <td>False</td>\n",
              "      <td>14.0</td>\n",
              "      <td>10</td>\n",
              "      <td>https://pbs.twimg.com/media/Ck3EribXEAAPhZn.jpg</td>\n",
              "      <td>1.0</td>\n",
              "      <td>https://twitter.com/dog_rates/status/742465774154047488/photo/1,https://twitter.com/dog_rates/status/742465774154047488/photo/1</td>\n",
              "    </tr>\n",
              "  </tbody>\n",
              "</table>\n",
              "<p>2 rows × 23 columns</p>\n",
              "</div>"
            ],
            "text/plain": [
              "               tweet_id                  timestamp  ratings retweet_count  \\\n",
              "283  829449946868879360  2017-02-08 22:00:52 +0000      1.1          2191   \n",
              "836  742465774154047488  2016-06-13 21:16:49 +0000      1.4          4149   \n",
              "\n",
              "    favorite_count              source   stage  name           predict_1  \\\n",
              "283          11023  Twitter for iPhone   doggo  None  labrador_retriever   \n",
              "836           7594  Twitter for iPhone  pupper  None            web_site   \n",
              "\n",
              "      p1_conf  \\\n",
              "283  0.315163   \n",
              "836  0.997154   \n",
              "\n",
              "                                                                  ...                                                                 \\\n",
              "283                                                               ...                                                                  \n",
              "836                                                               ...                                                                  \n",
              "\n",
              "      p2_conf p2_breed_dog         predict_3   p3_conf p3_breed_dog  \\\n",
              "283  0.153210         True          pekinese  0.132791         True   \n",
              "836  0.000439        False  desktop_computer  0.000268        False   \n",
              "\n",
              "    rating_numerator  rating_denominator  \\\n",
              "283             11.0                  10   \n",
              "836             14.0                  10   \n",
              "\n",
              "                                             jpg_url  img_num  \\\n",
              "283  https://pbs.twimg.com/media/C4LMUf8WYAkWz4I.jpg      1.0   \n",
              "836  https://pbs.twimg.com/media/Ck3EribXEAAPhZn.jpg      1.0   \n",
              "\n",
              "                                                                                                                       expanded_urls  \n",
              "283                                                                  https://twitter.com/dog_rates/status/829449946868879360/photo/1  \n",
              "836  https://twitter.com/dog_rates/status/742465774154047488/photo/1,https://twitter.com/dog_rates/status/742465774154047488/photo/1  \n",
              "\n",
              "[2 rows x 23 columns]"
            ]
          },
          "metadata": {
            "tags": []
          },
          "execution_count": 245
        }
      ]
    },
    {
      "metadata": {
        "id": "Vj_6kONQChD8",
        "colab_type": "text"
      },
      "cell_type": "markdown",
      "source": [
        "## Write to CSV File"
      ]
    },
    {
      "metadata": {
        "id": "gdMvFHREhmRD",
        "colab_type": "code",
        "colab": {}
      },
      "cell_type": "code",
      "source": [
        "# write to csv file\n",
        "\n",
        "df_joint.to_csv('twitter_archive_master.csv', \n",
        "                index = False)\n"
      ],
      "execution_count": 0,
      "outputs": []
    },
    {
      "metadata": {
        "id": "SQrgL9xnEDQB",
        "colab_type": "text"
      },
      "cell_type": "markdown",
      "source": [
        "## Change Data Type"
      ]
    },
    {
      "metadata": {
        "id": "GZdxx3_BEF-h",
        "colab_type": "code",
        "colab": {}
      },
      "cell_type": "code",
      "source": [
        "df = pd.read_csv('twitter_archive_master.csv')"
      ],
      "execution_count": 0,
      "outputs": []
    },
    {
      "metadata": {
        "id": "R6lvSNv-EJmE",
        "colab_type": "code",
        "colab": {}
      },
      "cell_type": "code",
      "source": [
        "df.info()"
      ],
      "execution_count": 0,
      "outputs": []
    },
    {
      "metadata": {
        "id": "AM_hOt7QNHmt",
        "colab_type": "text"
      },
      "cell_type": "markdown",
      "source": [
        "- timestamp: obj -> datetime"
      ]
    },
    {
      "metadata": {
        "id": "FIVSejf4FBzs",
        "colab_type": "code",
        "colab": {}
      },
      "cell_type": "code",
      "source": [
        "df['timestamp'] = pd.to_datetime(df['timestamp'])"
      ],
      "execution_count": 0,
      "outputs": []
    },
    {
      "metadata": {
        "id": "F5ibLAJMqOZ0",
        "colab_type": "text"
      },
      "cell_type": "markdown",
      "source": [
        "- img_num / retweet_count / favorite_count: float -> int"
      ]
    },
    {
      "metadata": {
        "id": "cIMKFZROqky1",
        "colab_type": "code",
        "colab": {}
      },
      "cell_type": "code",
      "source": [
        "cols = ['img_num', 'retweet_count', 'favorite_count']\n",
        "\n",
        "df[cols] = df[cols].fillna(0.0).astype(int)"
      ],
      "execution_count": 0,
      "outputs": []
    },
    {
      "metadata": {
        "id": "1NuTyCIwilZH",
        "colab_type": "text"
      },
      "cell_type": "markdown",
      "source": [
        "# Analysing Data"
      ]
    },
    {
      "metadata": {
        "id": "H5GonwKSnnsU",
        "colab_type": "text"
      },
      "cell_type": "markdown",
      "source": [
        "## 1. Dog Ratings\n",
        "\n",
        "Since there are various rating denominators (although most of them are 10), the rating of dogs is calculated by dividing the numerator by the denominator.\n",
        "\n",
        "The outliers have been deleted in Data Cleaning section.\n",
        "\n",
        "It shows that the ratings of dogs are left-skewed distributed, with the mean of 1.06 and the median of 1.10. Besides, 25% of the dogs are rated equal to or more than 100%. Thus, it can be found that most dogs are considered to be better than perfect."
      ]
    },
    {
      "metadata": {
        "id": "u7jgyljXsDoM",
        "colab_type": "code",
        "outputId": "b2778471-cde9-4273-8d77-959f98ee0e18",
        "colab": {
          "base_uri": "https://localhost:8080/",
          "height": 168
        }
      },
      "cell_type": "code",
      "source": [
        "df['ratings'].describe()"
      ],
      "execution_count": 0,
      "outputs": [
        {
          "output_type": "execute_result",
          "data": {
            "text/plain": [
              "count    2094.000000\n",
              "mean        1.060283\n",
              "std         0.215734\n",
              "min         0.000000\n",
              "25%         1.000000\n",
              "50%         1.100000\n",
              "75%         1.200000\n",
              "max         1.400000\n",
              "Name: ratings, dtype: float64"
            ]
          },
          "metadata": {
            "tags": []
          },
          "execution_count": 211
        }
      ]
    },
    {
      "metadata": {
        "id": "_Y7A8i1P3Xu5",
        "colab_type": "code",
        "outputId": "1ce1e1ee-e4a7-48bf-f67c-45e804dfc6d9",
        "colab": {
          "base_uri": "https://localhost:8080/",
          "height": 297
        }
      },
      "cell_type": "code",
      "source": [
        "# draw\n",
        "\n",
        "df['ratings'].plot(kind = 'hist',\n",
        "                  color = 'skyblue',\n",
        "                  alpha = 0.7,\n",
        "                  bins = 16,\n",
        "                  title = 'Dog Ratings')"
      ],
      "execution_count": 0,
      "outputs": [
        {
          "output_type": "execute_result",
          "data": {
            "text/plain": [
              "<matplotlib.axes._subplots.AxesSubplot at 0x7f9866688550>"
            ]
          },
          "metadata": {
            "tags": []
          },
          "execution_count": 213
        },
        {
          "output_type": "display_data",
          "data": {
            "image/png": "[encoded data removed]",
            "text/plain": [
              "<Figure size 432x288 with 1 Axes>"
            ]
          },
          "metadata": {
            "tags": []
          }
        }
      ]
    },
    {
      "metadata": {
        "id": "KAHaSBHZXoBp",
        "colab_type": "text"
      },
      "cell_type": "markdown",
      "source": [
        "## 2. Source of Tweet\n",
        "\n",
        "From the pie chart, it presents that the dominate source is from iPhone, which is 93.7%. Only a few people use Vine (4.3%), Website (1.5%) and TweetDect (0.5%) to browse WeRateDogs Tweet."
      ]
    },
    {
      "metadata": {
        "id": "F345jksgYTvH",
        "colab_type": "code",
        "outputId": "4d24f56b-b891-4580-ef3a-378197b918fb",
        "colab": {
          "base_uri": "https://localhost:8080/",
          "height": 101
        }
      },
      "cell_type": "code",
      "source": [
        "df[\"source\"].value_counts()"
      ],
      "execution_count": 0,
      "outputs": [
        {
          "output_type": "execute_result",
          "data": {
            "text/plain": [
              "Twitter for iPhone    1962\n",
              "Vine                    91\n",
              "Twitter Web Client      31\n",
              "TweetDeck               10\n",
              "Name: source, dtype: int64"
            ]
          },
          "metadata": {
            "tags": []
          },
          "execution_count": 214
        }
      ]
    },
    {
      "metadata": {
        "id": "ej5la9GYYlk4",
        "colab_type": "code",
        "colab": {}
      },
      "cell_type": "code",
      "source": [
        "# set labels & values for pie\n",
        "\n",
        "pie_names = ['Twitter for iPhone',\n",
        "             'Twitter Web Client',\n",
        "             'Vine',\n",
        "             'TweetDeck' ]\n",
        "\n",
        "pie_size = []\n",
        "\n",
        "for pie_name in pie_names:\n",
        "  size = df.query('source == @pie_name')['source'].count()\n",
        "  pie_size.append(size)\n",
        "  "
      ],
      "execution_count": 0,
      "outputs": []
    },
    {
      "metadata": {
        "id": "OhjOYBeTXsNq",
        "colab_type": "code",
        "outputId": "709b6e54-47da-4e94-f733-89b57ae4256b",
        "colab": {
          "base_uri": "https://localhost:8080/",
          "height": 297
        }
      },
      "cell_type": "code",
      "source": [
        "# draw pie chart\n",
        "\n",
        "fig1, ax1 = plt.subplots()\n",
        "\n",
        "ax1.pie(pie_size, \n",
        "        labels = pie_names, \n",
        "        colors = my_color, \n",
        "        textprops = {'fontsize': 12},\n",
        "        autopct = '%1.1f%%',\n",
        "        pctdistance = 0.85)\n",
        "\n",
        "# draw circle\n",
        "my_circle=plt.Circle( (0,0), 0.7, color='white')\n",
        "p=plt.gcf()\n",
        "p.gca().add_artist(my_circle)\n",
        "\n",
        "\n",
        "# Equal aspect ratio ensures that pie is drawn as a circle\n",
        "ax1.axis('equal')  \n",
        "plt.tight_layout()\n",
        "plt.show()\n"
      ],
      "execution_count": 0,
      "outputs": [
        {
          "output_type": "display_data",
          "data": {
            "image/png": "[encoded data removed]",
            "text/plain": [
              "<Figure size 432x288 with 1 Axes>"
            ]
          },
          "metadata": {
            "tags": []
          }
        }
      ]
    },
    {
      "metadata": {
        "id": "NtlIOWCzhiYL",
        "colab_type": "text"
      },
      "cell_type": "markdown",
      "source": [
        "## 3. **Relationship between** Retweet and Favourite\n",
        "\n",
        "The count of retweet and favourite are highly positively correlated ( *r * = 0.927). Thus, we could say that the more people like a tweet, the more they retweet it."
      ]
    },
    {
      "metadata": {
        "id": "UF9W26F_jesF",
        "colab_type": "code",
        "outputId": "ff8fe2db-f25a-421d-8cf2-9d43a80480f7",
        "colab": {
          "base_uri": "https://localhost:8080/",
          "height": 310
        }
      },
      "cell_type": "code",
      "source": [
        "# draw scatter plot\n",
        "\n",
        "sns.regplot(x=df[\"retweet_count\"], \n",
        "            y=df[\"favorite_count\"], \n",
        "            line_kws={\"color\":\"r\",\"alpha\":0.4,\"lw\":2},\n",
        "            marker=\"+\",\n",
        "            color = 'skyblue')\n",
        "\n",
        "# control x and y limits\n",
        "sns.plt.ylim(0, 50000)\n",
        "sns.plt.xlim(0, 15000)\n",
        "sns.plt.title('Retweet v.s. Favourite')\n",
        "\n",
        "#sns.plt.show()"
      ],
      "execution_count": 0,
      "outputs": [
        {
          "output_type": "execute_result",
          "data": {
            "text/plain": [
              "Text(0.5, 1.0, 'Retweet v.s. Favourite')"
            ]
          },
          "metadata": {
            "tags": []
          },
          "execution_count": 217
        },
        {
          "output_type": "display_data",
          "data": {
            "image/png": "[encoded data removed]",
            "text/plain": [
              "<Figure size 432x288 with 1 Axes>"
            ]
          },
          "metadata": {
            "tags": []
          }
        }
      ]
    },
    {
      "metadata": {
        "id": "kenpgj06nspx",
        "colab_type": "code",
        "outputId": "38e83bca-a42a-4cec-d7c5-0157e02fdc77",
        "colab": {
          "base_uri": "https://localhost:8080/",
          "height": 106
        }
      },
      "cell_type": "code",
      "source": [
        "df[['retweet_count', 'favorite_count']].corr()"
      ],
      "execution_count": 0,
      "outputs": [
        {
          "output_type": "execute_result",
          "data": {
            "text/html": [
              "<div>\n",
              "<style scoped>\n",
              "    .dataframe tbody tr th:only-of-type {\n",
              "        vertical-align: middle;\n",
              "    }\n",
              "\n",
              "    .dataframe tbody tr th {\n",
              "        vertical-align: top;\n",
              "    }\n",
              "\n",
              "    .dataframe thead th {\n",
              "        text-align: right;\n",
              "    }\n",
              "</style>\n",
              "<table border=\"1\" class=\"dataframe\">\n",
              "  <thead>\n",
              "    <tr style=\"text-align: right;\">\n",
              "      <th></th>\n",
              "      <th>retweet_count</th>\n",
              "      <th>favorite_count</th>\n",
              "    </tr>\n",
              "  </thead>\n",
              "  <tbody>\n",
              "    <tr>\n",
              "      <th>retweet_count</th>\n",
              "      <td>1.000000</td>\n",
              "      <td>0.927176</td>\n",
              "    </tr>\n",
              "    <tr>\n",
              "      <th>favorite_count</th>\n",
              "      <td>0.927176</td>\n",
              "      <td>1.000000</td>\n",
              "    </tr>\n",
              "  </tbody>\n",
              "</table>\n",
              "</div>"
            ],
            "text/plain": [
              "                retweet_count  favorite_count\n",
              "retweet_count        1.000000        0.927176\n",
              "favorite_count       0.927176        1.000000"
            ]
          },
          "metadata": {
            "tags": []
          },
          "execution_count": 218
        }
      ]
    },
    {
      "metadata": {
        "id": "faIl0HpXsQKb",
        "colab_type": "text"
      },
      "cell_type": "markdown",
      "source": [
        "## 4. Breeds\n",
        "\n",
        "The top 15 predicted dogs are shown in the plot.\n",
        "\n",
        "It can be seen that **Golden Retriever** is the No.1 predicted dog, which has been predicted 150 times with high confidence. The confidence of predicting it is left skewed, with the median of 0.78 and mean of 0.72.\n",
        "\n",
        "The second most predicted dog is **Labrador Retriever** (100 times), the high confidence of which is also left skewed with the median of 0.71 and mean of 0.67."
      ]
    },
    {
      "metadata": {
        "id": "zD7VT3dYtXQQ",
        "colab_type": "code",
        "colab": {}
      },
      "cell_type": "code",
      "source": [
        "# Store value_counts and dog_types into df_predict\n",
        "df_predict = df['predict_1'].value_counts().to_frame()\n",
        "\n",
        "# rename columns of df_predict\n",
        "df_predict.rename(columns = {'predict_1': 'counts'}, inplace = True)\n",
        "\n",
        "# only keep dogs that appear 20+ \n",
        "df_predict = df_predict.query('counts > 20')\n",
        "\n",
        "# Reorder it following the values:\n",
        "df_predict = df_predict.sort_values(by = 'counts')\n",
        "\n",
        "# set range\n",
        "my_range = range(1, df_predict.shape[0] + 1)"
      ],
      "execution_count": 0,
      "outputs": []
    },
    {
      "metadata": {
        "id": "aD4hlyq6szuP",
        "colab_type": "code",
        "outputId": "be84fe25-0ff5-434f-db80-2f6a7e0c63c7",
        "colab": {
          "base_uri": "https://localhost:8080/",
          "height": 310
        }
      },
      "cell_type": "code",
      "source": [
        "# Draw lolipop plot\n",
        "\n",
        "plt.hlines(y=my_range, xmin=0, xmax=df_predict['counts'], color='skyblue')\n",
        "plt.plot(df_predict['counts'], my_range, \"o\")\n",
        " \n",
        "# Add titles and axis names\n",
        "plt.yticks(my_range, df_predict.index)\n",
        "\n",
        "plt.title(\"Dog Predictions\", loc='left')\n",
        "plt.xlabel('Counts')\n",
        "plt.ylabel('Dog Types')\n"
      ],
      "execution_count": 0,
      "outputs": [
        {
          "output_type": "execute_result",
          "data": {
            "text/plain": [
              "Text(0, 0.5, 'Dog Types')"
            ]
          },
          "metadata": {
            "tags": []
          },
          "execution_count": 252
        },
        {
          "output_type": "display_data",
          "data": {
            "image/png": "[encoded data removed]",
            "text/plain": [
              "<Figure size 432x288 with 1 Axes>"
            ]
          },
          "metadata": {
            "tags": []
          }
        }
      ]
    },
    {
      "metadata": {
        "id": "OBml_18R1LWl",
        "colab_type": "code",
        "outputId": "867cdb52-1fd8-4281-ed22-a3b301371401",
        "colab": {
          "base_uri": "https://localhost:8080/",
          "height": 168
        }
      },
      "cell_type": "code",
      "source": [
        "golden_retriever = df.query('predict_1 == \"golden_retriever\"')['p1_conf']\n",
        "\n",
        "golden_retriever.describe()"
      ],
      "execution_count": 0,
      "outputs": [
        {
          "output_type": "execute_result",
          "data": {
            "text/plain": [
              "count    136.000000\n",
              "mean       0.727063\n",
              "std        0.219720\n",
              "min        0.140394\n",
              "25%        0.607729\n",
              "50%        0.777851\n",
              "75%        0.904843\n",
              "max        0.993830\n",
              "Name: p1_conf, dtype: float64"
            ]
          },
          "metadata": {
            "tags": []
          },
          "execution_count": 254
        }
      ]
    },
    {
      "metadata": {
        "id": "J4QohH3x2248",
        "colab_type": "code",
        "outputId": "fc71d748-c643-485d-f3a1-e5602f87d177",
        "colab": {
          "base_uri": "https://localhost:8080/",
          "height": 168
        }
      },
      "cell_type": "code",
      "source": [
        "labrador_retriever = df.query('predict_1 == \"labrador_retriever\"')['p1_conf']\n",
        "\n",
        "labrador_retriever.describe()"
      ],
      "execution_count": 0,
      "outputs": [
        {
          "output_type": "execute_result",
          "data": {
            "text/plain": [
              "count    94.000000\n",
              "mean      0.656606\n",
              "std       0.236406\n",
              "min       0.195835\n",
              "25%       0.459328\n",
              "50%       0.700055\n",
              "75%       0.866493\n",
              "max       0.999885\n",
              "Name: p1_conf, dtype: float64"
            ]
          },
          "metadata": {
            "tags": []
          },
          "execution_count": 257
        }
      ]
    },
    {
      "metadata": {
        "id": "KMlIxZfloVUk",
        "colab_type": "code",
        "outputId": "4d7e3db2-1fca-4a14-c96c-5a74ebfabcdc",
        "colab": {
          "base_uri": "https://localhost:8080/",
          "height": 361
        }
      },
      "cell_type": "code",
      "source": [
        "sns.distplot(golden_retriever , color=\"skyblue\", label=\"Golden Retriever\")\n",
        "sns.distplot(labrador_retriever , color=\"red\", label=\"Labrador Retriever\")\n",
        "\n",
        "sns.plt.title('Confidence Level')\n",
        "\n",
        "sns.plt.legend()"
      ],
      "execution_count": 0,
      "outputs": [
        {
          "output_type": "stream",
          "text": [
            "/usr/local/lib/python3.6/dist-packages/matplotlib/axes/_axes.py:6521: MatplotlibDeprecationWarning: \n",
            "The 'normed' kwarg was deprecated in Matplotlib 2.1 and will be removed in 3.1. Use 'density' instead.\n",
            "  alternative=\"'density'\", removal=\"3.1\")\n"
          ],
          "name": "stderr"
        },
        {
          "output_type": "execute_result",
          "data": {
            "text/plain": [
              "<matplotlib.legend.Legend at 0x7f9862442ac8>"
            ]
          },
          "metadata": {
            "tags": []
          },
          "execution_count": 260
        },
        {
          "output_type": "display_data",
          "data": {
            "image/png": "[encoded data removed]",
            "text/plain": [
              "<Figure size 432x288 with 1 Axes>"
            ]
          },
          "metadata": {
            "tags": []
          }
        }
      ]
    },
    {
      "metadata": {
        "id": "aPHePhs-Lmgn",
        "colab_type": "text"
      },
      "cell_type": "markdown",
      "source": [
        "## 5. Dog Stages\n",
        "\n",
        "Only 336 out of 2094 dogs have their stages presented in the dataset. The most common stage is pupper (230), followed by doggo (83) among the dogs whose stage has been presented."
      ]
    },
    {
      "metadata": {
        "id": "4VhWw2gUQhrB",
        "colab_type": "code",
        "colab": {}
      },
      "cell_type": "code",
      "source": [
        "# check dog stages\n",
        "\n",
        "df_stage = df['stage'].value_counts().to_frame()\n",
        "df_stage.rename(columns = {'stage': 'counts'}, inplace = True)\n",
        "df_stage"
      ],
      "execution_count": 0,
      "outputs": []
    },
    {
      "metadata": {
        "id": "rjBO-C2H4T1v",
        "colab_type": "code",
        "colab": {}
      },
      "cell_type": "code",
      "source": [
        "# store all stages into a list\n",
        "stages_all = df_stage.index.tolist()"
      ],
      "execution_count": 0,
      "outputs": []
    },
    {
      "metadata": {
        "id": "-89uo72vy1xI",
        "colab_type": "code",
        "colab": {}
      },
      "cell_type": "code",
      "source": [
        "# new dict (for new df)\n",
        "\n",
        "dict_stages = {'pupper': 0, \n",
        "            'doggo': 0, \n",
        "            'puppo': 0, \n",
        "            'floofer': 0}"
      ],
      "execution_count": 0,
      "outputs": []
    },
    {
      "metadata": {
        "id": "Gl0eEGwF5sXE",
        "colab_type": "code",
        "outputId": "77cb7d26-6194-443a-c56d-b6017cc609f4",
        "colab": {
          "base_uri": "https://localhost:8080/",
          "height": 34
        }
      },
      "cell_type": "code",
      "source": [
        "# fill num to new dict\n",
        "\n",
        "for stage in stages_all:\n",
        "  \n",
        "  # get num in original df_stage\n",
        "  n = df_stage.loc[stage, 'counts']\n",
        "  \n",
        "  # e.g: if 'pupper' in 'doggo, pupper'\n",
        "  for k,v in dict_stages.items():\n",
        "    if k in stage:\n",
        "      dict_stages[k] += n\n",
        "      \n",
        "dict_stages"
      ],
      "execution_count": 0,
      "outputs": [
        {
          "output_type": "execute_result",
          "data": {
            "text/plain": [
              "{'doggo': 83, 'floofer': 10, 'pupper': 230, 'puppo': 24}"
            ]
          },
          "metadata": {
            "tags": []
          },
          "execution_count": 345
        }
      ]
    },
    {
      "metadata": {
        "id": "yp9Vl7VKBoZN",
        "colab_type": "code",
        "outputId": "d3e6e3b0-0925-4a66-f4f8-df7f92b15e15",
        "colab": {
          "base_uri": "https://localhost:8080/",
          "height": 166
        }
      },
      "cell_type": "code",
      "source": [
        "stages = pd.DataFrame(list(dict_stages.items()), columns = ['stage', 'counts'])\n",
        "stages.sort_values(by = ['counts'])"
      ],
      "execution_count": 0,
      "outputs": [
        {
          "output_type": "execute_result",
          "data": {
            "text/html": [
              "<div>\n",
              "<style scoped>\n",
              "    .dataframe tbody tr th:only-of-type {\n",
              "        vertical-align: middle;\n",
              "    }\n",
              "\n",
              "    .dataframe tbody tr th {\n",
              "        vertical-align: top;\n",
              "    }\n",
              "\n",
              "    .dataframe thead th {\n",
              "        text-align: right;\n",
              "    }\n",
              "</style>\n",
              "<table border=\"1\" class=\"dataframe\">\n",
              "  <thead>\n",
              "    <tr style=\"text-align: right;\">\n",
              "      <th></th>\n",
              "      <th>stage</th>\n",
              "      <th>counts</th>\n",
              "    </tr>\n",
              "  </thead>\n",
              "  <tbody>\n",
              "    <tr>\n",
              "      <th>3</th>\n",
              "      <td>floofer</td>\n",
              "      <td>10</td>\n",
              "    </tr>\n",
              "    <tr>\n",
              "      <th>2</th>\n",
              "      <td>puppo</td>\n",
              "      <td>24</td>\n",
              "    </tr>\n",
              "    <tr>\n",
              "      <th>1</th>\n",
              "      <td>doggo</td>\n",
              "      <td>83</td>\n",
              "    </tr>\n",
              "    <tr>\n",
              "      <th>0</th>\n",
              "      <td>pupper</td>\n",
              "      <td>230</td>\n",
              "    </tr>\n",
              "  </tbody>\n",
              "</table>\n",
              "</div>"
            ],
            "text/plain": [
              "     stage  counts\n",
              "3  floofer      10\n",
              "2    puppo      24\n",
              "1    doggo      83\n",
              "0   pupper     230"
            ]
          },
          "metadata": {
            "tags": []
          },
          "execution_count": 346
        }
      ]
    },
    {
      "metadata": {
        "id": "Bz_LdertMhru",
        "colab_type": "code",
        "outputId": "21e83df2-721e-49f4-f60e-ccf80b197a2f",
        "colab": {
          "base_uri": "https://localhost:8080/",
          "height": 294
        }
      },
      "cell_type": "code",
      "source": [
        "# Create bars and choose color\n",
        "plt.bar(stages['stage'], stages['counts'], color = my_color)\n",
        " \n",
        "# Limits for the Y axis\n",
        "plt.ylim(0,250)\n",
        "\n",
        "# Add title and axis names\n",
        "plt.title('Dog Stages')\n",
        "plt.xlabel('Stages')\n",
        "plt.ylabel('Counts')\n",
        " \n",
        "# Show graphic\n",
        "plt.show()\n"
      ],
      "execution_count": 0,
      "outputs": [
        {
          "output_type": "display_data",
          "data": {
            "image/png": "[encoded data removed]",
            "text/plain": [
              "<Figure size 432x288 with 1 Axes>"
            ]
          },
          "metadata": {
            "tags": []
          }
        }
      ]
    },
    {
      "metadata": {
        "id": "5uOs2K_24cwX",
        "colab_type": "text"
      },
      "cell_type": "markdown",
      "source": [
        "## 6. Post Tweet Day\n",
        "\n",
        "From Monday to Sunday, the number of posted tweet decreases. WeRateDogs followers may expect to see more new tweets on Monday."
      ]
    },
    {
      "metadata": {
        "id": "igDxTMYp4tb0",
        "colab_type": "code",
        "colab": {}
      },
      "cell_type": "code",
      "source": [
        "df['weekday'] = df['timestamp'].dt.dayofweek"
      ],
      "execution_count": 0,
      "outputs": []
    },
    {
      "metadata": {
        "id": "49z70MBJGkOT",
        "colab_type": "code",
        "outputId": "5fa4db27-5e67-4063-c5ce-fb2d787b05dc",
        "colab": {
          "base_uri": "https://localhost:8080/",
          "height": 151
        }
      },
      "cell_type": "code",
      "source": [
        "df['weekday'].value_counts()\n",
        "# Monday=0, Sunday=6"
      ],
      "execution_count": 0,
      "outputs": [
        {
          "output_type": "execute_result",
          "data": {
            "text/plain": [
              "0    350\n",
              "1    312\n",
              "2    310\n",
              "3    295\n",
              "4    292\n",
              "5    268\n",
              "6    267\n",
              "Name: weekday, dtype: int64"
            ]
          },
          "metadata": {
            "tags": []
          },
          "execution_count": 349
        }
      ]
    },
    {
      "metadata": {
        "id": "NeLJkWhAG0Gy",
        "colab_type": "code",
        "outputId": "8566aee5-7df8-4a76-a4c7-7be02d13f39b",
        "colab": {
          "base_uri": "https://localhost:8080/",
          "height": 254
        }
      },
      "cell_type": "code",
      "source": [
        "weekdays = df['weekday'].value_counts().to_frame()\n",
        "\n",
        "weekdays.rename(columns = {'weekday': 'Counts'}, inplace = True)\n",
        "\n",
        "weekdays['Weekday'] = ['Monday', 'Tuesday', 'Wednesday', 'Thursday','Friday','Saturday','Sunday']\n",
        "\n",
        "#weekdays.set_index('Weekday', inplace = True)\n",
        "weekdays"
      ],
      "execution_count": 0,
      "outputs": [
        {
          "output_type": "execute_result",
          "data": {
            "text/html": [
              "<div>\n",
              "<style scoped>\n",
              "    .dataframe tbody tr th:only-of-type {\n",
              "        vertical-align: middle;\n",
              "    }\n",
              "\n",
              "    .dataframe tbody tr th {\n",
              "        vertical-align: top;\n",
              "    }\n",
              "\n",
              "    .dataframe thead th {\n",
              "        text-align: right;\n",
              "    }\n",
              "</style>\n",
              "<table border=\"1\" class=\"dataframe\">\n",
              "  <thead>\n",
              "    <tr style=\"text-align: right;\">\n",
              "      <th></th>\n",
              "      <th>Counts</th>\n",
              "      <th>Weekday</th>\n",
              "    </tr>\n",
              "  </thead>\n",
              "  <tbody>\n",
              "    <tr>\n",
              "      <th>0</th>\n",
              "      <td>350</td>\n",
              "      <td>Monday</td>\n",
              "    </tr>\n",
              "    <tr>\n",
              "      <th>1</th>\n",
              "      <td>312</td>\n",
              "      <td>Tuesday</td>\n",
              "    </tr>\n",
              "    <tr>\n",
              "      <th>2</th>\n",
              "      <td>310</td>\n",
              "      <td>Wednesday</td>\n",
              "    </tr>\n",
              "    <tr>\n",
              "      <th>3</th>\n",
              "      <td>295</td>\n",
              "      <td>Thursday</td>\n",
              "    </tr>\n",
              "    <tr>\n",
              "      <th>4</th>\n",
              "      <td>292</td>\n",
              "      <td>Friday</td>\n",
              "    </tr>\n",
              "    <tr>\n",
              "      <th>5</th>\n",
              "      <td>268</td>\n",
              "      <td>Saturday</td>\n",
              "    </tr>\n",
              "    <tr>\n",
              "      <th>6</th>\n",
              "      <td>267</td>\n",
              "      <td>Sunday</td>\n",
              "    </tr>\n",
              "  </tbody>\n",
              "</table>\n",
              "</div>"
            ],
            "text/plain": [
              "   Counts    Weekday\n",
              "0     350     Monday\n",
              "1     312    Tuesday\n",
              "2     310  Wednesday\n",
              "3     295   Thursday\n",
              "4     292     Friday\n",
              "5     268   Saturday\n",
              "6     267     Sunday"
            ]
          },
          "metadata": {
            "tags": []
          },
          "execution_count": 350
        }
      ]
    },
    {
      "metadata": {
        "id": "rmf42YP9I9bZ",
        "colab_type": "code",
        "outputId": "a36de00a-46eb-4a76-f45b-68d7a13de19f",
        "colab": {
          "base_uri": "https://localhost:8080/",
          "height": 280
        }
      },
      "cell_type": "code",
      "source": [
        "# draw\n",
        "\n",
        "y_pos = np.arange(weekdays['Weekday'].count())\n",
        " \n",
        "# Create horizontal bars\n",
        "plt.barh(y_pos, weekdays['Counts'], color=my_color)\n",
        " \n",
        "# Create names on the y-axis\n",
        "plt.yticks(y_pos, weekdays['Weekday'])\n",
        " \n",
        "# Show graphic\n",
        "plt.title('Day of Week to Post Tweet')\n",
        "plt.show()\n"
      ],
      "execution_count": 0,
      "outputs": [
        {
          "output_type": "display_data",
          "data": {
            "image/png": "[encoded data removed]",
            "text/plain": [
              "<Figure size 432x288 with 1 Axes>"
            ]
          },
          "metadata": {
            "tags": []
          }
        }
      ]
    },
    {
      "metadata": {
        "id": "5uXfx2DAKinu",
        "colab_type": "text"
      },
      "cell_type": "markdown",
      "source": [
        "# Conclusion\n",
        "\n",
        "1. 25% of the dogs are rated equal to or more than 100%. Thus, most dogs are considered to be better than perfect.\n",
        "- The dominant source is from iPhone (93.7%).\n",
        "- The count of retweet and favourite are highly positively correlated - the more people like a tweet, the more they retweet it.\n",
        "- The top 1 predicted dog is golden retriever, followed by labrador retriever.\n",
        "- The most common stage is pupper, followed by doggo.\n",
        "- From Monday to Sunday, the number of posted tweet decreases. \n"
      ]
    }
  ]
}