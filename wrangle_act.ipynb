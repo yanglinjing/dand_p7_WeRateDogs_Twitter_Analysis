{
  "nbformat": 4,
  "nbformat_minor": 0,
  "metadata": {
    "colab": {
      "name": "wrangle_act.ipynb",
      "version": "0.3.2",
      "provenance": [],
      "collapsed_sections": [
        "46pSDBq22rkX",
        "4UH9h3K5gcH1",
        "jYWz74ZViioi",
        "aI7jJOIXjBup",
        "BU1fwlk8ejDJ",
        "-2wETBfv2_rJ",
        "iiXBsfwHrFgR",
        "F9F38yvZ2R_J",
        "Zy534fLN2j86",
        "H5GonwKSnnsU"
      ],
      "include_colab_link": true
    },
    "kernelspec": {
      "name": "python3",
      "display_name": "Python 3"
    }
  },
  "cells": [
    {
      "cell_type": "markdown",
      "metadata": {
        "id": "view-in-github",
        "colab_type": "text"
      },
      "source": [
        "<a href=\"https://colab.research.google.com/github/yanglinjing/dand_p7_data_wragling/blob/master/wrangle_act.ipynb\" target=\"_parent\"><img src=\"https://colab.research.google.com/assets/colab-badge.svg\" alt=\"Open In Colab\"/></a>"
      ]
    },
    {
      "metadata": {
        "id": "BJme0UoADV3o",
        "colab_type": "text"
      },
      "cell_type": "markdown",
      "source": [
        "# Data Wrangling - WeRateDogs Twitter \n"
      ]
    },
    {
      "metadata": {
        "id": "oYcGaQ9foUGE",
        "colab_type": "text"
      },
      "cell_type": "markdown",
      "source": [
        "# Introduction\n",
        "Real-world data rarely comes clean. Using Python and its libraries, I gathered data from a variety of sources and in a variety of formats, assessed its quality and tidiness, and then cleaned it, which is called data wrangling. \n",
        "\n",
        "I documented my wrangling efforts in a Jupyter Notebook, plus showcased them through analyses and visualizations using Python and its libraries (pandas, numpy, requests, json, tweepy, etc.).\n",
        "\n",
        "The final dataset consists of data from 3 different sources. \n",
        "\n",
        "The first one is the tweet archive of Twitter user **@dog_rates**, also known as **WeRateDogs**, which is a Twitter account that rates people's dogs with a humorous comment about the dog. WeRateDogs has over 4 million followers and has received international media coverage.\n",
        "\n",
        "Its ratings almost always have a denominator of 10, but the numerators are always greater than 10 (e.g. 11/10, 12/10, 13/10, etc). Why? Because \"they're good dogs Brent.\" \n",
        "\n",
        "The second one is retweet count and favorite count gathered from Twitter's API, and the third is the prediction of dog images and breeds gathered from the neural network."
      ]
    },
    {
      "metadata": {
        "id": "luYvg90C2wc4",
        "colab_type": "text"
      },
      "cell_type": "markdown",
      "source": [
        "# Goal\n",
        " **WeRateDogs Twitter** data is wragled in order to create interesting and trustworthy analyses an visualizations. "
      ]
    },
    {
      "metadata": {
        "id": "Fi8UZIS8avwa",
        "colab_type": "code",
        "colab": {}
      },
      "cell_type": "code",
      "source": [
        "!pip install palettable"
      ],
      "execution_count": 0,
      "outputs": []
    },
    {
      "metadata": {
        "id": "Rz9MitmSDWb7",
        "colab_type": "code",
        "colab": {}
      },
      "cell_type": "code",
      "source": [
        "import pandas as pd\n",
        "import requests\n",
        "import csv\n",
        "import tweepy\n",
        "import os\n",
        "import json\n",
        "import numpy as np\n",
        "import matplotlib.pyplot as plt\n",
        "import seaborn as sns\n",
        "from palettable.colorbrewer.qualitative import Pastel1_7  # color\n",
        "\n",
        "% matplotlib inline"
      ],
      "execution_count": 0,
      "outputs": []
    },
    {
      "metadata": {
        "id": "vWtvFaTCiIMO",
        "colab_type": "code",
        "outputId": "eb690ae6-25da-438b-8ee1-0eb9effca363",
        "colab": {
          "base_uri": "https://localhost:8080/",
          "height": 34
        }
      },
      "cell_type": "code",
      "source": [
        "# Check current working directory\n",
        "\n",
        "!pwd"
      ],
      "execution_count": 0,
      "outputs": [
        {
          "output_type": "stream",
          "text": [
            "/content\n"
          ],
          "name": "stdout"
        }
      ]
    },
    {
      "metadata": {
        "id": "d9SfmJzWjgOV",
        "colab_type": "code",
        "outputId": "4469e9f8-3642-4298-c414-07e6cdd9ec1e",
        "colab": {
          "base_uri": "https://localhost:8080/",
          "height": 34
        }
      },
      "cell_type": "code",
      "source": [
        "# All the documents are stored on Google Drive.\n",
        "# It requires authorisation before use them.\n",
        "# This chunk of code is about authorisation.\n",
        "\n",
        "# Mounting Google Drive locally\n",
        "# https://colab.research.google.com/notebooks/io.ipynb#scrollTo=u22w3BFiOveA\n",
        "\n",
        "from google.colab import drive\n",
        "drive.mount('/content/gdrive')"
      ],
      "execution_count": 0,
      "outputs": [
        {
          "output_type": "stream",
          "text": [
            "Drive already mounted at /content/gdrive; to attempt to forcibly remount, call drive.mount(\"/content/gdrive\", force_remount=True).\n"
          ],
          "name": "stdout"
        }
      ]
    },
    {
      "metadata": {
        "id": "76u6Hyc4iZnF",
        "colab_type": "code",
        "outputId": "bc691b8e-0128-4075-d66e-5d2554018a63",
        "colab": {
          "base_uri": "https://localhost:8080/",
          "height": 34
        }
      },
      "cell_type": "code",
      "source": [
        "# Change Working Directory in Google Drive\n",
        "\n",
        "os.chdir('gdrive/My Drive/Colab Notebooks/dand_p7_data_wragling')\n",
        "!pwd\n",
        "\n",
        "# Entire Url: '/content/gdrive/My Drive/Colab Notebooks/dand_p7_data_wragling'"
      ],
      "execution_count": 0,
      "outputs": [
        {
          "output_type": "stream",
          "text": [
            "/content/gdrive/My Drive/Colab Notebooks/dand_p7_data_wragling\n"
          ],
          "name": "stdout"
        }
      ]
    },
    {
      "metadata": {
        "id": "hU9v_K3Gl_LU",
        "colab_type": "code",
        "colab": {}
      },
      "cell_type": "code",
      "source": [
        "# Create a new folder if it does not exist\n",
        "\n",
        "folder_name = 'raw_data'\n",
        "if not os.path.exists(folder_name):\n",
        "  os.makedirs(folder_name)"
      ],
      "execution_count": 0,
      "outputs": []
    },
    {
      "metadata": {
        "id": "46pSDBq22rkX",
        "colab_type": "text"
      },
      "cell_type": "markdown",
      "source": [
        "# Data Gathering"
      ]
    },
    {
      "metadata": {
        "id": "4UH9h3K5gcH1",
        "colab_type": "text"
      },
      "cell_type": "markdown",
      "source": [
        "## Enhanced Twitter Archive\n",
        "The original data contains basic tweet data for all 5000+ of **WeRateDogs'** tweets, including rating, dog name, and dog \"stage\" (i.e. doggo, floofer, pupper, and puppo).\n",
        "\n",
        "The current dataset is filtered for tweets with ratings only (there are **2356**).\n",
        " \n",
        "However, some of the ratings,  dog names and dog stages probably aren't all correct.\n",
        " \n",
        "Besides, some of the rating numerators are greater than the denominators - this is a unique rating system of WeRateDogs.\n",
        "\n",
        "No data has been gathered beyond August 1st, 2017."
      ]
    },
    {
      "metadata": {
        "colab_type": "code",
        "id": "xlGtgYgZcbBv",
        "colab": {}
      },
      "cell_type": "code",
      "source": [
        "### 1st df: WeRateDogs Twitter archive\n",
        "\n",
        "df_1_path = os.path.join(folder_name, 'twitter-archive-enhanced.csv')\n",
        "\n",
        "with open(df_1_path, 'r') as f:\n",
        "  df_1 = pd.read_csv(f)"
      ],
      "execution_count": 0,
      "outputs": []
    },
    {
      "metadata": {
        "id": "BFfTFw-wSSsh",
        "colab_type": "code",
        "outputId": "b91055e1-3d59-449e-d297-424c4267d978",
        "colab": {
          "base_uri": "https://localhost:8080/",
          "height": 198
        }
      },
      "cell_type": "code",
      "source": [
        "df_1.head(1)"
      ],
      "execution_count": 0,
      "outputs": [
        {
          "output_type": "execute_result",
          "data": {
            "text/html": [
              "<div>\n",
              "<style scoped>\n",
              "    .dataframe tbody tr th:only-of-type {\n",
              "        vertical-align: middle;\n",
              "    }\n",
              "\n",
              "    .dataframe tbody tr th {\n",
              "        vertical-align: top;\n",
              "    }\n",
              "\n",
              "    .dataframe thead th {\n",
              "        text-align: right;\n",
              "    }\n",
              "</style>\n",
              "<table border=\"1\" class=\"dataframe\">\n",
              "  <thead>\n",
              "    <tr style=\"text-align: right;\">\n",
              "      <th></th>\n",
              "      <th>tweet_id</th>\n",
              "      <th>in_reply_to_status_id</th>\n",
              "      <th>in_reply_to_user_id</th>\n",
              "      <th>timestamp</th>\n",
              "      <th>source</th>\n",
              "      <th>text</th>\n",
              "      <th>retweeted_status_id</th>\n",
              "      <th>retweeted_status_user_id</th>\n",
              "      <th>retweeted_status_timestamp</th>\n",
              "      <th>expanded_urls</th>\n",
              "      <th>rating_numerator</th>\n",
              "      <th>rating_denominator</th>\n",
              "      <th>name</th>\n",
              "      <th>doggo</th>\n",
              "      <th>floofer</th>\n",
              "      <th>pupper</th>\n",
              "      <th>puppo</th>\n",
              "    </tr>\n",
              "  </thead>\n",
              "  <tbody>\n",
              "    <tr>\n",
              "      <th>0</th>\n",
              "      <td>892420643555336193</td>\n",
              "      <td>NaN</td>\n",
              "      <td>NaN</td>\n",
              "      <td>2017-08-01 16:23:56 +0000</td>\n",
              "      <td>&lt;a href=\"http://twitter.com/download/iphone\" r...</td>\n",
              "      <td>This is Phineas. He's a mystical boy. Only eve...</td>\n",
              "      <td>NaN</td>\n",
              "      <td>NaN</td>\n",
              "      <td>NaN</td>\n",
              "      <td>https://twitter.com/dog_rates/status/892420643...</td>\n",
              "      <td>13</td>\n",
              "      <td>10</td>\n",
              "      <td>Phineas</td>\n",
              "      <td>None</td>\n",
              "      <td>None</td>\n",
              "      <td>None</td>\n",
              "      <td>None</td>\n",
              "    </tr>\n",
              "  </tbody>\n",
              "</table>\n",
              "</div>"
            ],
            "text/plain": [
              "             tweet_id  in_reply_to_status_id  in_reply_to_user_id  \\\n",
              "0  892420643555336193                    NaN                  NaN   \n",
              "\n",
              "                   timestamp  \\\n",
              "0  2017-08-01 16:23:56 +0000   \n",
              "\n",
              "                                              source  \\\n",
              "0  <a href=\"http://twitter.com/download/iphone\" r...   \n",
              "\n",
              "                                                text  retweeted_status_id  \\\n",
              "0  This is Phineas. He's a mystical boy. Only eve...                  NaN   \n",
              "\n",
              "   retweeted_status_user_id retweeted_status_timestamp  \\\n",
              "0                       NaN                        NaN   \n",
              "\n",
              "                                       expanded_urls  rating_numerator  \\\n",
              "0  https://twitter.com/dog_rates/status/892420643...                13   \n",
              "\n",
              "   rating_denominator     name doggo floofer pupper puppo  \n",
              "0                  10  Phineas  None    None   None  None  "
            ]
          },
          "metadata": {
            "tags": []
          },
          "execution_count": 7
        }
      ]
    },
    {
      "metadata": {
        "id": "OjxzAIhHae9b",
        "colab_type": "code",
        "outputId": "345a5f7e-0cca-4fdc-91af-8cc1710345db",
        "colab": {
          "base_uri": "https://localhost:8080/",
          "height": 34
        }
      },
      "cell_type": "code",
      "source": [
        "df_1.shape"
      ],
      "execution_count": 0,
      "outputs": [
        {
          "output_type": "execute_result",
          "data": {
            "text/plain": [
              "(2356, 17)"
            ]
          },
          "metadata": {
            "tags": []
          },
          "execution_count": 10
        }
      ]
    },
    {
      "metadata": {
        "id": "jYWz74ZViioi",
        "colab_type": "text"
      },
      "cell_type": "markdown",
      "source": [
        "## Additional Data via the Twitter API\n",
        "**Retweet count** and **favorite count** are two of the notable column omissions of Twitter archives.\n",
        "\n",
        "Fortunately, this additional data can be gathered from Twitter's API. "
      ]
    },
    {
      "metadata": {
        "id": "oT75Gi6Bih7D",
        "colab_type": "code",
        "colab": {}
      },
      "cell_type": "code",
      "source": [
        "### 2nd df: \n",
        "# Each tweet's retweet count and favorite (\"like\") count\n",
        "\n",
        "# Using the tweet IDs in the WeRateDogs Twitter archive, \n",
        "# query the Twitter API for each tweet's JSON data \n",
        "# using Python's Tweepy library:\n",
        "# http://www.tweepy.org/\n",
        "\n",
        "consumer_key = 'pTzzUxLTJcdNCeAHOvhUbflHX'\n",
        "consumer_secret = 'bW1RvcK3vlFBxYFe9XozytZTR50hVsZmdpRCBV2zKFKUSBYEOG'\n",
        "access_token = '1090182192024629249-EMhWG3aaCj1QPeMd8bHO21XPYDRQse'\n",
        "access_secret = '0qWGdlA4iCQ7wFw0RK1FXC6XKHfXtzYryvil0wcyzmN3j'\n",
        "\n",
        "auth = tweepy.OAuthHandler(consumer_key, consumer_secret)\n",
        "auth.set_access_token(access_token, access_secret)\n",
        "\n",
        "api = tweepy.API(auth, wait_on_rate_limit = True)\n",
        "# wait_on_rate_limit = True\n",
        "# Note: do not include your Twitter API keys, secrets, and tokens"
      ],
      "execution_count": 0,
      "outputs": []
    },
    {
      "metadata": {
        "id": "BDgCF6dsSO_3",
        "colab_type": "code",
        "colab": {}
      },
      "cell_type": "code",
      "source": [
        "# test\n",
        "\n",
        "# get status object\n",
        "status = api.get_status('892420643555336193') \n",
        "\n",
        "# get json strings from status obj\n",
        "json_str = json.loads(json.dumps(status._json))\n",
        "\n",
        "# get retweet/like counts from json strings\n",
        "retweet_count = json_str['retweet_count']"
      ],
      "execution_count": 0,
      "outputs": []
    },
    {
      "metadata": {
        "id": "YLkjRE_pUZnb",
        "colab_type": "code",
        "outputId": "68956943-0a24-456b-b08f-e8a4c109bdc0",
        "colab": {
          "base_uri": "https://localhost:8080/",
          "height": 34
        }
      },
      "cell_type": "code",
      "source": [
        "print(retweet_count)"
      ],
      "execution_count": 0,
      "outputs": [
        {
          "output_type": "stream",
          "text": [
            "8302\n"
          ],
          "name": "stdout"
        }
      ]
    },
    {
      "metadata": {
        "id": "5kp5X69fU2h7",
        "colab_type": "code",
        "outputId": "69a494b5-dda0-4d3c-f429-6eb1e0e0db36",
        "colab": {
          "base_uri": "https://localhost:8080/",
          "height": 34
        }
      },
      "cell_type": "code",
      "source": [
        "df_2_list = []\n",
        "\n",
        "# Use each id in df_1\n",
        "for id in df_1['tweet_id']:\n",
        "  \n",
        "\n",
        "  # get status object\n",
        "  status = api.get_status(id) \n",
        "\n",
        "  # get json strings from status obj\n",
        "  json_str = json.loads(json.dumps(status._json))\n",
        "\n",
        "  # get retweet/like counts from json strings\n",
        "  retweet_count = json_str['retweet_count']\n",
        "  favorite_count = json_str['favorite_count']\n",
        "\n",
        "  # write to list\n",
        "  df_2_list.append(f\"{id} {retweet_count} {favorite_count}\")\n",
        "\n",
        "\n",
        "  break\n",
        "\n",
        "df_2_list"
      ],
      "execution_count": 0,
      "outputs": [
        {
          "output_type": "execute_result",
          "data": {
            "text/plain": [
              "['892420643555336193 8302 37994']"
            ]
          },
          "metadata": {
            "tags": []
          },
          "execution_count": 122
        }
      ]
    },
    {
      "metadata": {
        "id": "8sGp6sKYd4Pg",
        "colab_type": "code",
        "colab": {}
      },
      "cell_type": "code",
      "source": [
        "# Use id provided in df_1\n",
        "# to retrive its retweet & favorite count, and\n",
        "# temporarily store in a list\n",
        "\n",
        "df_2_list = []\n",
        "\n",
        "# Use each id in df_1\n",
        "for id in df_1['tweet_id']:\n",
        "  \n",
        "  try:\n",
        "    # get status object\n",
        "    status = api.get_status(id) \n",
        "\n",
        "    # get json strings from status obj\n",
        "    json_str = json.loads(json.dumps(status._json))\n",
        "\n",
        "    # get retweet/like counts from json strings\n",
        "    retweet_count = json_str['retweet_count']\n",
        "    favorite_count = json_str['favorite_count']\n",
        "    \n",
        "    # write to list\n",
        "    df_2_list.append(f\"{id} {retweet_count} {favorite_count}\")\n",
        "\n",
        "  # in case there is no status obj returned\n",
        "  except Exception as e:\n",
        "    df_2_list.append(f\"{id} Nan Nan\")\n"
      ],
      "execution_count": 0,
      "outputs": []
    },
    {
      "metadata": {
        "colab_type": "code",
        "id": "biU9jt8XgB2d",
        "colab": {}
      },
      "cell_type": "code",
      "source": [
        "##\n",
        "# directory of df2\n",
        "\n",
        "df_2_path = os.path.join(folder_name, 'tweet_json.txt')"
      ],
      "execution_count": 0,
      "outputs": []
    },
    {
      "metadata": {
        "id": "eIYAw9BBgMVr",
        "colab_type": "code",
        "colab": {}
      },
      "cell_type": "code",
      "source": [
        "# store each tweet's info in a file called tweet_json.txt file. \n",
        "# Each tweet's JSON data should be written to its own line. \n",
        "\n",
        "with open(df_2_path, \"w\") as f:\n",
        "  for item in df_2_list:\n",
        "    f.write(item + '\\n')\n",
        "    "
      ],
      "execution_count": 0,
      "outputs": []
    },
    {
      "metadata": {
        "id": "-0DNQbNRiy1s",
        "colab_type": "code",
        "colab": {}
      },
      "cell_type": "code",
      "source": [
        "##\n",
        "# Read this .txt file line by line into a pandas DataFrame \n",
        "# with tweet ID, retweet count, and favorite count. \n",
        "\n",
        "df_2 = pd.read_csv(df_2_path,  sep=\" \", \n",
        "                  names = ['id', 'retweet_count', 'favorite_count'])\n"
      ],
      "execution_count": 0,
      "outputs": []
    },
    {
      "metadata": {
        "id": "e7tvDlY2awtE",
        "colab_type": "code",
        "outputId": "67a0da6d-f4cb-4135-8fd4-c2e2ba950cbd",
        "colab": {
          "base_uri": "https://localhost:8080/",
          "height": 195
        }
      },
      "cell_type": "code",
      "source": [
        "df_2.head()"
      ],
      "execution_count": 0,
      "outputs": [
        {
          "output_type": "execute_result",
          "data": {
            "text/html": [
              "<div>\n",
              "<style scoped>\n",
              "    .dataframe tbody tr th:only-of-type {\n",
              "        vertical-align: middle;\n",
              "    }\n",
              "\n",
              "    .dataframe tbody tr th {\n",
              "        vertical-align: top;\n",
              "    }\n",
              "\n",
              "    .dataframe thead th {\n",
              "        text-align: right;\n",
              "    }\n",
              "</style>\n",
              "<table border=\"1\" class=\"dataframe\">\n",
              "  <thead>\n",
              "    <tr style=\"text-align: right;\">\n",
              "      <th></th>\n",
              "      <th>id</th>\n",
              "      <th>retweet_count</th>\n",
              "      <th>favorite_count</th>\n",
              "    </tr>\n",
              "  </thead>\n",
              "  <tbody>\n",
              "    <tr>\n",
              "      <th>0</th>\n",
              "      <td>892420643555336193</td>\n",
              "      <td>8302</td>\n",
              "      <td>37994</td>\n",
              "    </tr>\n",
              "    <tr>\n",
              "      <th>1</th>\n",
              "      <td>892177421306343426</td>\n",
              "      <td>6131</td>\n",
              "      <td>32617</td>\n",
              "    </tr>\n",
              "    <tr>\n",
              "      <th>2</th>\n",
              "      <td>891815181378084864</td>\n",
              "      <td>4060</td>\n",
              "      <td>24560</td>\n",
              "    </tr>\n",
              "    <tr>\n",
              "      <th>3</th>\n",
              "      <td>891689557279858688</td>\n",
              "      <td>8434</td>\n",
              "      <td>41319</td>\n",
              "    </tr>\n",
              "    <tr>\n",
              "      <th>4</th>\n",
              "      <td>891327558926688256</td>\n",
              "      <td>9147</td>\n",
              "      <td>39505</td>\n",
              "    </tr>\n",
              "  </tbody>\n",
              "</table>\n",
              "</div>"
            ],
            "text/plain": [
              "                   id retweet_count favorite_count\n",
              "0  892420643555336193          8302          37994\n",
              "1  892177421306343426          6131          32617\n",
              "2  891815181378084864          4060          24560\n",
              "3  891689557279858688          8434          41319\n",
              "4  891327558926688256          9147          39505"
            ]
          },
          "metadata": {
            "tags": []
          },
          "execution_count": 15
        }
      ]
    },
    {
      "metadata": {
        "id": "OVD16ER9at7-",
        "colab_type": "code",
        "outputId": "c2251467-2f2d-4845-c3e2-e5a40153f771",
        "colab": {
          "base_uri": "https://localhost:8080/",
          "height": 34
        }
      },
      "cell_type": "code",
      "source": [
        "df_2.shape"
      ],
      "execution_count": 0,
      "outputs": [
        {
          "output_type": "execute_result",
          "data": {
            "text/plain": [
              "(2356, 3)"
            ]
          },
          "metadata": {
            "tags": []
          },
          "execution_count": 11
        }
      ]
    },
    {
      "metadata": {
        "id": "aI7jJOIXjBup",
        "colab_type": "text"
      },
      "cell_type": "markdown",
      "source": [
        "## Image Predictions File\n",
        "\n",
        "Every image in the WeRateDogs Twitter archive was through a neural network that can classify breeds of dogs.\n",
        "\n",
        "(The neural network: https://www.youtube.com/watch?v=2-Ol7ZB0MmU)\n",
        "\n",
        "The results: a table full of image predictions (the top three only) alongside each tweet ID, image URL, and the image number that corresponded to the **most confident prediction** (**numbered 1 to 4** since tweets can have up to four images).\n",
        "\n",
        "In the table,\n",
        "- **tweet_id** is the last part of the tweet URL after \"status/\" → https://twitter.com/dog_rates/status/889531135344209921\n",
        "- **p1** is the algorithm's **#1 prediction** for the image in the tweet → golden retriever\n",
        "- **p1_conf** is how confident the algorithm is in its #1 prediction → 95%\n",
        "- **p1_dog** is whether or not the #1 prediction is a breed of dog → TRUE\n",
        "- **p2** is the algorithm's **2nd most likely prediction** → Labrador retriever\n",
        "- -etc."
      ]
    },
    {
      "metadata": {
        "id": "wTX1SFR_M749",
        "colab_type": "code",
        "outputId": "f7388d92-9972-40b1-c29a-b2f1cf2e89d3",
        "colab": {
          "base_uri": "https://localhost:8080/",
          "height": 34
        }
      },
      "cell_type": "code",
      "source": [
        "### 3rd df: tweet image predictions\n",
        "\n",
        "# The tweet image predictions, i.e., what breed of dog (or other object, animal, etc.) \n",
        "# is present in each tweet according to a neural network. \n",
        "\n",
        "# This file (image_predictions.tsv) is hosted on Udacity's servers and \n",
        "# should be downloaded programmatically using the Requests library \n",
        "# Requests library: http://docs.python-requests.org/en/master/\n",
        "\n",
        "\n",
        "# Store the content into response in working memory\n",
        "\n",
        "url_3 = 'https://d17h27t6h515a5.cloudfront.net/topher/2017/August/599fd2ad_image-predictions/image-predictions.tsv'\n",
        "response = requests.get(url_3)\n",
        "\n",
        "response\n",
        "# <Response [200]>: success"
      ],
      "execution_count": 0,
      "outputs": [
        {
          "output_type": "execute_result",
          "data": {
            "text/plain": [
              "<Response [200]>"
            ]
          },
          "metadata": {
            "tags": []
          },
          "execution_count": 17
        }
      ]
    },
    {
      "metadata": {
        "colab_type": "code",
        "id": "hShuP6MngDxs",
        "colab": {}
      },
      "cell_type": "code",
      "source": [
        "# folder name / file name (shown in url_2):\n",
        "# 'raw_data/image-predictions.tsv'\n",
        "\n",
        "df_3_path = os.path.join(folder_name, url_3.split('/')[-1])"
      ],
      "execution_count": 0,
      "outputs": []
    },
    {
      "metadata": {
        "id": "ZKCi89H3bxQn",
        "colab_type": "code",
        "colab": {}
      },
      "cell_type": "code",
      "source": [
        "# put the content of response into f\n",
        "with open (df_3_path, mode='wb') as f:\n",
        "  f.write(response.content)\n",
        "  \n",
        "# ensure the new file has been built\n",
        "# os.listdir(folder_name)"
      ],
      "execution_count": 0,
      "outputs": []
    },
    {
      "metadata": {
        "id": "oczb_5pcekIU",
        "colab_type": "code",
        "outputId": "ab7d29fc-7d18-4fb6-9fe7-69bbb1ce18a7",
        "colab": {
          "base_uri": "https://localhost:8080/",
          "height": 215
        }
      },
      "cell_type": "code",
      "source": [
        "df_3 = pd.read_csv(df_3_path, sep='\\t')\n",
        "\n",
        "df_3.head()"
      ],
      "execution_count": 0,
      "outputs": [
        {
          "output_type": "execute_result",
          "data": {
            "text/html": [
              "<div>\n",
              "<style scoped>\n",
              "    .dataframe tbody tr th:only-of-type {\n",
              "        vertical-align: middle;\n",
              "    }\n",
              "\n",
              "    .dataframe tbody tr th {\n",
              "        vertical-align: top;\n",
              "    }\n",
              "\n",
              "    .dataframe thead th {\n",
              "        text-align: right;\n",
              "    }\n",
              "</style>\n",
              "<table border=\"1\" class=\"dataframe\">\n",
              "  <thead>\n",
              "    <tr style=\"text-align: right;\">\n",
              "      <th></th>\n",
              "      <th>tweet_id</th>\n",
              "      <th>jpg_url</th>\n",
              "      <th>img_num</th>\n",
              "      <th>p1</th>\n",
              "      <th>p1_conf</th>\n",
              "      <th>p1_dog</th>\n",
              "      <th>p2</th>\n",
              "      <th>p2_conf</th>\n",
              "      <th>p2_dog</th>\n",
              "      <th>p3</th>\n",
              "      <th>p3_conf</th>\n",
              "      <th>p3_dog</th>\n",
              "    </tr>\n",
              "  </thead>\n",
              "  <tbody>\n",
              "    <tr>\n",
              "      <th>0</th>\n",
              "      <td>666020888022790149</td>\n",
              "      <td>https://pbs.twimg.com/media/CT4udn0WwAA0aMy.jpg</td>\n",
              "      <td>1</td>\n",
              "      <td>Welsh_springer_spaniel</td>\n",
              "      <td>0.465074</td>\n",
              "      <td>True</td>\n",
              "      <td>collie</td>\n",
              "      <td>0.156665</td>\n",
              "      <td>True</td>\n",
              "      <td>Shetland_sheepdog</td>\n",
              "      <td>0.061428</td>\n",
              "      <td>True</td>\n",
              "    </tr>\n",
              "    <tr>\n",
              "      <th>1</th>\n",
              "      <td>666029285002620928</td>\n",
              "      <td>https://pbs.twimg.com/media/CT42GRgUYAA5iDo.jpg</td>\n",
              "      <td>1</td>\n",
              "      <td>redbone</td>\n",
              "      <td>0.506826</td>\n",
              "      <td>True</td>\n",
              "      <td>miniature_pinscher</td>\n",
              "      <td>0.074192</td>\n",
              "      <td>True</td>\n",
              "      <td>Rhodesian_ridgeback</td>\n",
              "      <td>0.072010</td>\n",
              "      <td>True</td>\n",
              "    </tr>\n",
              "    <tr>\n",
              "      <th>2</th>\n",
              "      <td>666033412701032449</td>\n",
              "      <td>https://pbs.twimg.com/media/CT4521TWwAEvMyu.jpg</td>\n",
              "      <td>1</td>\n",
              "      <td>German_shepherd</td>\n",
              "      <td>0.596461</td>\n",
              "      <td>True</td>\n",
              "      <td>malinois</td>\n",
              "      <td>0.138584</td>\n",
              "      <td>True</td>\n",
              "      <td>bloodhound</td>\n",
              "      <td>0.116197</td>\n",
              "      <td>True</td>\n",
              "    </tr>\n",
              "    <tr>\n",
              "      <th>3</th>\n",
              "      <td>666044226329800704</td>\n",
              "      <td>https://pbs.twimg.com/media/CT5Dr8HUEAA-lEu.jpg</td>\n",
              "      <td>1</td>\n",
              "      <td>Rhodesian_ridgeback</td>\n",
              "      <td>0.408143</td>\n",
              "      <td>True</td>\n",
              "      <td>redbone</td>\n",
              "      <td>0.360687</td>\n",
              "      <td>True</td>\n",
              "      <td>miniature_pinscher</td>\n",
              "      <td>0.222752</td>\n",
              "      <td>True</td>\n",
              "    </tr>\n",
              "    <tr>\n",
              "      <th>4</th>\n",
              "      <td>666049248165822465</td>\n",
              "      <td>https://pbs.twimg.com/media/CT5IQmsXIAAKY4A.jpg</td>\n",
              "      <td>1</td>\n",
              "      <td>miniature_pinscher</td>\n",
              "      <td>0.560311</td>\n",
              "      <td>True</td>\n",
              "      <td>Rottweiler</td>\n",
              "      <td>0.243682</td>\n",
              "      <td>True</td>\n",
              "      <td>Doberman</td>\n",
              "      <td>0.154629</td>\n",
              "      <td>True</td>\n",
              "    </tr>\n",
              "  </tbody>\n",
              "</table>\n",
              "</div>"
            ],
            "text/plain": [
              "             tweet_id                                          jpg_url  \\\n",
              "0  666020888022790149  https://pbs.twimg.com/media/CT4udn0WwAA0aMy.jpg   \n",
              "1  666029285002620928  https://pbs.twimg.com/media/CT42GRgUYAA5iDo.jpg   \n",
              "2  666033412701032449  https://pbs.twimg.com/media/CT4521TWwAEvMyu.jpg   \n",
              "3  666044226329800704  https://pbs.twimg.com/media/CT5Dr8HUEAA-lEu.jpg   \n",
              "4  666049248165822465  https://pbs.twimg.com/media/CT5IQmsXIAAKY4A.jpg   \n",
              "\n",
              "   img_num                      p1   p1_conf  p1_dog                  p2  \\\n",
              "0        1  Welsh_springer_spaniel  0.465074    True              collie   \n",
              "1        1                 redbone  0.506826    True  miniature_pinscher   \n",
              "2        1         German_shepherd  0.596461    True            malinois   \n",
              "3        1     Rhodesian_ridgeback  0.408143    True             redbone   \n",
              "4        1      miniature_pinscher  0.560311    True          Rottweiler   \n",
              "\n",
              "    p2_conf  p2_dog                   p3   p3_conf  p3_dog  \n",
              "0  0.156665    True    Shetland_sheepdog  0.061428    True  \n",
              "1  0.074192    True  Rhodesian_ridgeback  0.072010    True  \n",
              "2  0.138584    True           bloodhound  0.116197    True  \n",
              "3  0.360687    True   miniature_pinscher  0.222752    True  \n",
              "4  0.243682    True             Doberman  0.154629    True  "
            ]
          },
          "metadata": {
            "tags": []
          },
          "execution_count": 19
        }
      ]
    },
    {
      "metadata": {
        "id": "4n7HIczNoVLE",
        "colab_type": "code",
        "outputId": "90d79efd-7998-4d39-f643-460d3881d3ae",
        "colab": {
          "base_uri": "https://localhost:8080/",
          "height": 34
        }
      },
      "cell_type": "code",
      "source": [
        "df_3.shape"
      ],
      "execution_count": 0,
      "outputs": [
        {
          "output_type": "execute_result",
          "data": {
            "text/plain": [
              "(2075, 12)"
            ]
          },
          "metadata": {
            "tags": []
          },
          "execution_count": 20
        }
      ]
    },
    {
      "metadata": {
        "id": "BU1fwlk8ejDJ",
        "colab_type": "text"
      },
      "cell_type": "markdown",
      "source": [
        "# Data Cleaning\n"
      ]
    },
    {
      "metadata": {
        "id": "hLgMYhZHlWuz",
        "colab_type": "code",
        "colab": {}
      },
      "cell_type": "code",
      "source": [
        "df_1_copy = df_1\n",
        "df_2_copy = df_2\n",
        "df_3_copy = df_3"
      ],
      "execution_count": 0,
      "outputs": []
    },
    {
      "metadata": {
        "id": "-2wETBfv2_rJ",
        "colab_type": "text"
      },
      "cell_type": "markdown",
      "source": [
        "## Table 1: Enhanced Twitter Archive\n",
        "\n"
      ]
    },
    {
      "metadata": {
        "id": "g12Tt_zt3B04",
        "colab_type": "text"
      },
      "cell_type": "markdown",
      "source": [
        "###  Quality issues\n",
        "Completeness:\n",
        "\n",
        "\n",
        "-  in_reply_to_status_id: 78 out of 2356 is non-null\n",
        "- in_reply_to_user_id: 78 out of 2356 is non-null\n",
        "- retweeted_status_id: 181 out of 2356 is non-null\n",
        "- retweeted_status_user_id:  181 out of 2356 is non-null\n",
        "- retweeted_status_timestamp:  181 out of 2356 is non-null\n",
        "- name: string 'None' should be replaced by Null\n",
        "\n",
        "\n",
        "Validity:\n",
        "\n",
        "- rating_denominator contains invalid values (e.g. denominator = 0)\n",
        "- expanded_url just includeds incompleted url, which contains \"https://twitter.com/dog_rates/status/\" plus part of tweet_id\n",
        "\n",
        "\n",
        "Accuracy:\n",
        "\n",
        "- rating_numberator contains extremely large values (e.g. 1776 when denominator = 10)\n",
        "\n",
        "Consistency: \n",
        "\n",
        "- source: the long name with HTML tag could be shorten.\n",
        "\n",
        "\n",
        "Data Types:\n",
        "\n",
        "- tweet_id: int -> obj\n",
        "-  timestamp: obj -> datetime\n",
        "-  in_reply_to_status_id: float -> object\n",
        "- in_reply_to_user_id: float -> object\n",
        "- retweeted_status_id: float -> object\n",
        "- retweeted_status_user_id: float -> object\n",
        "\n",
        "### Tidiness Issues \n",
        "\n",
        "- doggo\t/ floofer\t/ pupper /\tpuppo: could be combined into 1 column as categorical data."
      ]
    },
    {
      "metadata": {
        "id": "Tw52thHi9w7m",
        "colab_type": "code",
        "colab": {}
      },
      "cell_type": "code",
      "source": [
        "df_1.info()\n",
        "\n",
        "# in_reply & retweeted have too much missing values"
      ],
      "execution_count": 0,
      "outputs": []
    },
    {
      "metadata": {
        "id": "3ZtWNLY7_D8M",
        "colab_type": "code",
        "outputId": "d9c23b44-b311-4391-df12-a51918266454",
        "colab": {
          "base_uri": "https://localhost:8080/",
          "height": 358
        }
      },
      "cell_type": "code",
      "source": [
        "df_1.sample(3)"
      ],
      "execution_count": 0,
      "outputs": [
        {
          "output_type": "execute_result",
          "data": {
            "text/html": [
              "<div>\n",
              "<style scoped>\n",
              "    .dataframe tbody tr th:only-of-type {\n",
              "        vertical-align: middle;\n",
              "    }\n",
              "\n",
              "    .dataframe tbody tr th {\n",
              "        vertical-align: top;\n",
              "    }\n",
              "\n",
              "    .dataframe thead th {\n",
              "        text-align: right;\n",
              "    }\n",
              "</style>\n",
              "<table border=\"1\" class=\"dataframe\">\n",
              "  <thead>\n",
              "    <tr style=\"text-align: right;\">\n",
              "      <th></th>\n",
              "      <th>tweet_id</th>\n",
              "      <th>in_reply_to_status_id</th>\n",
              "      <th>in_reply_to_user_id</th>\n",
              "      <th>timestamp</th>\n",
              "      <th>source</th>\n",
              "      <th>text</th>\n",
              "      <th>retweeted_status_id</th>\n",
              "      <th>retweeted_status_user_id</th>\n",
              "      <th>retweeted_status_timestamp</th>\n",
              "      <th>expanded_urls</th>\n",
              "      <th>rating_numerator</th>\n",
              "      <th>rating_denominator</th>\n",
              "      <th>name</th>\n",
              "      <th>doggo</th>\n",
              "      <th>floofer</th>\n",
              "      <th>pupper</th>\n",
              "      <th>puppo</th>\n",
              "    </tr>\n",
              "  </thead>\n",
              "  <tbody>\n",
              "    <tr>\n",
              "      <th>355</th>\n",
              "      <td>830956169170665475</td>\n",
              "      <td>NaN</td>\n",
              "      <td>NaN</td>\n",
              "      <td>2017-02-13 01:46:03 +0000</td>\n",
              "      <td>&lt;a href=\"http://twitter.com/download/iphone\" r...</td>\n",
              "      <td>Say hello to Reggie. He hates puns. 12/10 ligh...</td>\n",
              "      <td>NaN</td>\n",
              "      <td>NaN</td>\n",
              "      <td>NaN</td>\n",
              "      <td>https://twitter.com/dog_rates/status/830956169...</td>\n",
              "      <td>12</td>\n",
              "      <td>10</td>\n",
              "      <td>Reggie</td>\n",
              "      <td>None</td>\n",
              "      <td>None</td>\n",
              "      <td>None</td>\n",
              "      <td>None</td>\n",
              "    </tr>\n",
              "    <tr>\n",
              "      <th>176</th>\n",
              "      <td>857746408056729600</td>\n",
              "      <td>NaN</td>\n",
              "      <td>NaN</td>\n",
              "      <td>2017-04-28 00:00:54 +0000</td>\n",
              "      <td>&lt;a href=\"http://twitter.com/download/iphone\" r...</td>\n",
              "      <td>Meet Thor. He doesn't have finals because he's...</td>\n",
              "      <td>NaN</td>\n",
              "      <td>NaN</td>\n",
              "      <td>NaN</td>\n",
              "      <td>https://twitter.com/dog_rates/status/857746408...</td>\n",
              "      <td>13</td>\n",
              "      <td>10</td>\n",
              "      <td>Thor</td>\n",
              "      <td>None</td>\n",
              "      <td>None</td>\n",
              "      <td>None</td>\n",
              "      <td>None</td>\n",
              "    </tr>\n",
              "    <tr>\n",
              "      <th>2249</th>\n",
              "      <td>667861340749471744</td>\n",
              "      <td>NaN</td>\n",
              "      <td>NaN</td>\n",
              "      <td>2015-11-21 00:25:26 +0000</td>\n",
              "      <td>&lt;a href=\"http://twitter.com/download/iphone\" r...</td>\n",
              "      <td>This is a Shotokon Macadamia mix named Cheryl....</td>\n",
              "      <td>NaN</td>\n",
              "      <td>NaN</td>\n",
              "      <td>NaN</td>\n",
              "      <td>https://twitter.com/dog_rates/status/667861340...</td>\n",
              "      <td>9</td>\n",
              "      <td>10</td>\n",
              "      <td>a</td>\n",
              "      <td>None</td>\n",
              "      <td>None</td>\n",
              "      <td>None</td>\n",
              "      <td>None</td>\n",
              "    </tr>\n",
              "  </tbody>\n",
              "</table>\n",
              "</div>"
            ],
            "text/plain": [
              "                tweet_id  in_reply_to_status_id  in_reply_to_user_id  \\\n",
              "355   830956169170665475                    NaN                  NaN   \n",
              "176   857746408056729600                    NaN                  NaN   \n",
              "2249  667861340749471744                    NaN                  NaN   \n",
              "\n",
              "                      timestamp  \\\n",
              "355   2017-02-13 01:46:03 +0000   \n",
              "176   2017-04-28 00:00:54 +0000   \n",
              "2249  2015-11-21 00:25:26 +0000   \n",
              "\n",
              "                                                 source  \\\n",
              "355   <a href=\"http://twitter.com/download/iphone\" r...   \n",
              "176   <a href=\"http://twitter.com/download/iphone\" r...   \n",
              "2249  <a href=\"http://twitter.com/download/iphone\" r...   \n",
              "\n",
              "                                                   text  retweeted_status_id  \\\n",
              "355   Say hello to Reggie. He hates puns. 12/10 ligh...                  NaN   \n",
              "176   Meet Thor. He doesn't have finals because he's...                  NaN   \n",
              "2249  This is a Shotokon Macadamia mix named Cheryl....                  NaN   \n",
              "\n",
              "      retweeted_status_user_id retweeted_status_timestamp  \\\n",
              "355                        NaN                        NaN   \n",
              "176                        NaN                        NaN   \n",
              "2249                       NaN                        NaN   \n",
              "\n",
              "                                          expanded_urls  rating_numerator  \\\n",
              "355   https://twitter.com/dog_rates/status/830956169...                12   \n",
              "176   https://twitter.com/dog_rates/status/857746408...                13   \n",
              "2249  https://twitter.com/dog_rates/status/667861340...                 9   \n",
              "\n",
              "      rating_denominator    name doggo floofer pupper puppo  \n",
              "355                   10  Reggie  None    None   None  None  \n",
              "176                   10    Thor  None    None   None  None  \n",
              "2249                  10       a  None    None   None  None  "
            ]
          },
          "metadata": {
            "tags": []
          },
          "execution_count": 117
        }
      ]
    },
    {
      "metadata": {
        "id": "n3rqTwsMD90W",
        "colab_type": "code",
        "outputId": "bfe31e39-8478-40f4-f72f-eeb04a8d674c",
        "colab": {
          "base_uri": "https://localhost:8080/",
          "height": 34
        }
      },
      "cell_type": "code",
      "source": [
        "df_1.duplicated().sum()\n",
        "\n",
        "# no duplicated rows"
      ],
      "execution_count": 0,
      "outputs": [
        {
          "output_type": "execute_result",
          "data": {
            "text/plain": [
              "0"
            ]
          },
          "metadata": {
            "tags": []
          },
          "execution_count": 64
        }
      ]
    },
    {
      "metadata": {
        "id": "Z5Z4jYPtKmDa",
        "colab_type": "code",
        "outputId": "cdef2e7d-8b88-4a83-e835-56ddacf4cb40",
        "colab": {
          "base_uri": "https://localhost:8080/",
          "height": 67
        }
      },
      "cell_type": "code",
      "source": [
        "df_1['doggo'].value_counts()"
      ],
      "execution_count": 0,
      "outputs": [
        {
          "output_type": "execute_result",
          "data": {
            "text/plain": [
              "None     2259\n",
              "doggo      97\n",
              "Name: doggo, dtype: int64"
            ]
          },
          "metadata": {
            "tags": []
          },
          "execution_count": 70
        }
      ]
    },
    {
      "metadata": {
        "id": "xDAzyTD1K0Xx",
        "colab_type": "code",
        "outputId": "699996b7-890a-4d1d-a5f5-107ef3f95c0a",
        "colab": {
          "base_uri": "https://localhost:8080/",
          "height": 67
        }
      },
      "cell_type": "code",
      "source": [
        "df_1['floofer'].value_counts()"
      ],
      "execution_count": 0,
      "outputs": [
        {
          "output_type": "execute_result",
          "data": {
            "text/plain": [
              "None       2346\n",
              "floofer      10\n",
              "Name: floofer, dtype: int64"
            ]
          },
          "metadata": {
            "tags": []
          },
          "execution_count": 71
        }
      ]
    },
    {
      "metadata": {
        "id": "BLH7Kil6K0g2",
        "colab_type": "code",
        "outputId": "c3dd750d-4a96-4d2b-ff88-47fdbc978be1",
        "colab": {
          "base_uri": "https://localhost:8080/",
          "height": 67
        }
      },
      "cell_type": "code",
      "source": [
        "df_1['pupper'].value_counts()"
      ],
      "execution_count": 0,
      "outputs": [
        {
          "output_type": "execute_result",
          "data": {
            "text/plain": [
              "None      2099\n",
              "pupper     257\n",
              "Name: pupper, dtype: int64"
            ]
          },
          "metadata": {
            "tags": []
          },
          "execution_count": 72
        }
      ]
    },
    {
      "metadata": {
        "id": "ficIaAHRK0rY",
        "colab_type": "code",
        "outputId": "13cd818b-b7bf-468c-d7b1-25e2be42bd72",
        "colab": {
          "base_uri": "https://localhost:8080/",
          "height": 67
        }
      },
      "cell_type": "code",
      "source": [
        "df_1['puppo'].value_counts()"
      ],
      "execution_count": 0,
      "outputs": [
        {
          "output_type": "execute_result",
          "data": {
            "text/plain": [
              "None     2326\n",
              "puppo      30\n",
              "Name: puppo, dtype: int64"
            ]
          },
          "metadata": {
            "tags": []
          },
          "execution_count": 73
        }
      ]
    },
    {
      "metadata": {
        "id": "bz4EbyvLLZdz",
        "colab_type": "code",
        "outputId": "e01b6508-38f1-4242-8d83-573d4aafc8dc",
        "colab": {
          "base_uri": "https://localhost:8080/",
          "height": 336
        }
      },
      "cell_type": "code",
      "source": [
        "df_1['rating_denominator'].value_counts()"
      ],
      "execution_count": 0,
      "outputs": [
        {
          "output_type": "execute_result",
          "data": {
            "text/plain": [
              "10     2333\n",
              "11        3\n",
              "50        3\n",
              "80        2\n",
              "20        2\n",
              "2         1\n",
              "16        1\n",
              "40        1\n",
              "70        1\n",
              "15        1\n",
              "90        1\n",
              "110       1\n",
              "120       1\n",
              "130       1\n",
              "150       1\n",
              "170       1\n",
              "7         1\n",
              "0         1\n",
              "Name: rating_denominator, dtype: int64"
            ]
          },
          "metadata": {
            "tags": []
          },
          "execution_count": 74
        }
      ]
    },
    {
      "metadata": {
        "id": "oDAvV-X9g41Q",
        "colab_type": "code",
        "outputId": "6a237405-03fd-4767-9d9f-c5d83b5d62be",
        "colab": {
          "base_uri": "https://localhost:8080/",
          "height": 1907
        }
      },
      "cell_type": "code",
      "source": [
        "df_1[df_1['rating_denominator'] !=10]\n",
        "\n",
        "# index = 313 (denominator = 0) should be deleted."
      ],
      "execution_count": 0,
      "outputs": [
        {
          "output_type": "execute_result",
          "data": {
            "text/html": [
              "<div>\n",
              "<style scoped>\n",
              "    .dataframe tbody tr th:only-of-type {\n",
              "        vertical-align: middle;\n",
              "    }\n",
              "\n",
              "    .dataframe tbody tr th {\n",
              "        vertical-align: top;\n",
              "    }\n",
              "\n",
              "    .dataframe thead th {\n",
              "        text-align: right;\n",
              "    }\n",
              "</style>\n",
              "<table border=\"1\" class=\"dataframe\">\n",
              "  <thead>\n",
              "    <tr style=\"text-align: right;\">\n",
              "      <th></th>\n",
              "      <th>tweet_id</th>\n",
              "      <th>in_reply_to_status_id</th>\n",
              "      <th>in_reply_to_user_id</th>\n",
              "      <th>timestamp</th>\n",
              "      <th>source</th>\n",
              "      <th>text</th>\n",
              "      <th>retweeted_status_id</th>\n",
              "      <th>retweeted_status_user_id</th>\n",
              "      <th>retweeted_status_timestamp</th>\n",
              "      <th>expanded_urls</th>\n",
              "      <th>rating_numerator</th>\n",
              "      <th>rating_denominator</th>\n",
              "      <th>name</th>\n",
              "      <th>doggo</th>\n",
              "      <th>floofer</th>\n",
              "      <th>pupper</th>\n",
              "      <th>puppo</th>\n",
              "    </tr>\n",
              "  </thead>\n",
              "  <tbody>\n",
              "    <tr>\n",
              "      <th>313</th>\n",
              "      <td>835246439529840640</td>\n",
              "      <td>8.352460e+17</td>\n",
              "      <td>2.625958e+07</td>\n",
              "      <td>2017-02-24 21:54:03 +0000</td>\n",
              "      <td>&lt;a href=\"http://twitter.com/download/iphone\" r...</td>\n",
              "      <td>@jonnysun @Lin_Manuel ok jomny I know you're e...</td>\n",
              "      <td>NaN</td>\n",
              "      <td>NaN</td>\n",
              "      <td>NaN</td>\n",
              "      <td>NaN</td>\n",
              "      <td>960</td>\n",
              "      <td>0</td>\n",
              "      <td>None</td>\n",
              "      <td>None</td>\n",
              "      <td>None</td>\n",
              "      <td>None</td>\n",
              "      <td>None</td>\n",
              "    </tr>\n",
              "    <tr>\n",
              "      <th>342</th>\n",
              "      <td>832088576586297345</td>\n",
              "      <td>8.320875e+17</td>\n",
              "      <td>3.058208e+07</td>\n",
              "      <td>2017-02-16 04:45:50 +0000</td>\n",
              "      <td>&lt;a href=\"http://twitter.com/download/iphone\" r...</td>\n",
              "      <td>@docmisterio account started on 11/15/15</td>\n",
              "      <td>NaN</td>\n",
              "      <td>NaN</td>\n",
              "      <td>NaN</td>\n",
              "      <td>NaN</td>\n",
              "      <td>11</td>\n",
              "      <td>15</td>\n",
              "      <td>None</td>\n",
              "      <td>None</td>\n",
              "      <td>None</td>\n",
              "      <td>None</td>\n",
              "      <td>None</td>\n",
              "    </tr>\n",
              "    <tr>\n",
              "      <th>433</th>\n",
              "      <td>820690176645140481</td>\n",
              "      <td>NaN</td>\n",
              "      <td>NaN</td>\n",
              "      <td>2017-01-15 17:52:40 +0000</td>\n",
              "      <td>&lt;a href=\"http://twitter.com/download/iphone\" r...</td>\n",
              "      <td>The floofs have been released I repeat the flo...</td>\n",
              "      <td>NaN</td>\n",
              "      <td>NaN</td>\n",
              "      <td>NaN</td>\n",
              "      <td>https://twitter.com/dog_rates/status/820690176...</td>\n",
              "      <td>84</td>\n",
              "      <td>70</td>\n",
              "      <td>None</td>\n",
              "      <td>None</td>\n",
              "      <td>None</td>\n",
              "      <td>None</td>\n",
              "      <td>None</td>\n",
              "    </tr>\n",
              "    <tr>\n",
              "      <th>516</th>\n",
              "      <td>810984652412424192</td>\n",
              "      <td>NaN</td>\n",
              "      <td>NaN</td>\n",
              "      <td>2016-12-19 23:06:23 +0000</td>\n",
              "      <td>&lt;a href=\"http://twitter.com/download/iphone\" r...</td>\n",
              "      <td>Meet Sam. She smiles 24/7 &amp;amp; secretly aspir...</td>\n",
              "      <td>NaN</td>\n",
              "      <td>NaN</td>\n",
              "      <td>NaN</td>\n",
              "      <td>https://www.gofundme.com/sams-smile,https://tw...</td>\n",
              "      <td>24</td>\n",
              "      <td>7</td>\n",
              "      <td>Sam</td>\n",
              "      <td>None</td>\n",
              "      <td>None</td>\n",
              "      <td>None</td>\n",
              "      <td>None</td>\n",
              "    </tr>\n",
              "    <tr>\n",
              "      <th>784</th>\n",
              "      <td>775096608509886464</td>\n",
              "      <td>NaN</td>\n",
              "      <td>NaN</td>\n",
              "      <td>2016-09-11 22:20:06 +0000</td>\n",
              "      <td>&lt;a href=\"http://twitter.com/download/iphone\" r...</td>\n",
              "      <td>RT @dog_rates: After so many requests, this is...</td>\n",
              "      <td>7.403732e+17</td>\n",
              "      <td>4.196984e+09</td>\n",
              "      <td>2016-06-08 02:41:38 +0000</td>\n",
              "      <td>https://twitter.com/dog_rates/status/740373189...</td>\n",
              "      <td>9</td>\n",
              "      <td>11</td>\n",
              "      <td>None</td>\n",
              "      <td>None</td>\n",
              "      <td>None</td>\n",
              "      <td>None</td>\n",
              "      <td>None</td>\n",
              "    </tr>\n",
              "    <tr>\n",
              "      <th>902</th>\n",
              "      <td>758467244762497024</td>\n",
              "      <td>NaN</td>\n",
              "      <td>NaN</td>\n",
              "      <td>2016-07-28 01:00:57 +0000</td>\n",
              "      <td>&lt;a href=\"http://twitter.com/download/iphone\" r...</td>\n",
              "      <td>Why does this never happen at my front door......</td>\n",
              "      <td>NaN</td>\n",
              "      <td>NaN</td>\n",
              "      <td>NaN</td>\n",
              "      <td>https://twitter.com/dog_rates/status/758467244...</td>\n",
              "      <td>165</td>\n",
              "      <td>150</td>\n",
              "      <td>None</td>\n",
              "      <td>None</td>\n",
              "      <td>None</td>\n",
              "      <td>None</td>\n",
              "      <td>None</td>\n",
              "    </tr>\n",
              "    <tr>\n",
              "      <th>1068</th>\n",
              "      <td>740373189193256964</td>\n",
              "      <td>NaN</td>\n",
              "      <td>NaN</td>\n",
              "      <td>2016-06-08 02:41:38 +0000</td>\n",
              "      <td>&lt;a href=\"http://twitter.com/download/iphone\" r...</td>\n",
              "      <td>After so many requests, this is Bretagne. She ...</td>\n",
              "      <td>NaN</td>\n",
              "      <td>NaN</td>\n",
              "      <td>NaN</td>\n",
              "      <td>https://twitter.com/dog_rates/status/740373189...</td>\n",
              "      <td>9</td>\n",
              "      <td>11</td>\n",
              "      <td>None</td>\n",
              "      <td>None</td>\n",
              "      <td>None</td>\n",
              "      <td>None</td>\n",
              "      <td>None</td>\n",
              "    </tr>\n",
              "    <tr>\n",
              "      <th>1120</th>\n",
              "      <td>731156023742988288</td>\n",
              "      <td>NaN</td>\n",
              "      <td>NaN</td>\n",
              "      <td>2016-05-13 16:15:54 +0000</td>\n",
              "      <td>&lt;a href=\"http://twitter.com/download/iphone\" r...</td>\n",
              "      <td>Say hello to this unbelievably well behaved sq...</td>\n",
              "      <td>NaN</td>\n",
              "      <td>NaN</td>\n",
              "      <td>NaN</td>\n",
              "      <td>https://twitter.com/dog_rates/status/731156023...</td>\n",
              "      <td>204</td>\n",
              "      <td>170</td>\n",
              "      <td>this</td>\n",
              "      <td>None</td>\n",
              "      <td>None</td>\n",
              "      <td>None</td>\n",
              "      <td>None</td>\n",
              "    </tr>\n",
              "    <tr>\n",
              "      <th>1165</th>\n",
              "      <td>722974582966214656</td>\n",
              "      <td>NaN</td>\n",
              "      <td>NaN</td>\n",
              "      <td>2016-04-21 02:25:47 +0000</td>\n",
              "      <td>&lt;a href=\"http://twitter.com/download/iphone\" r...</td>\n",
              "      <td>Happy 4/20 from the squad! 13/10 for all https...</td>\n",
              "      <td>NaN</td>\n",
              "      <td>NaN</td>\n",
              "      <td>NaN</td>\n",
              "      <td>https://twitter.com/dog_rates/status/722974582...</td>\n",
              "      <td>4</td>\n",
              "      <td>20</td>\n",
              "      <td>None</td>\n",
              "      <td>None</td>\n",
              "      <td>None</td>\n",
              "      <td>None</td>\n",
              "      <td>None</td>\n",
              "    </tr>\n",
              "    <tr>\n",
              "      <th>1202</th>\n",
              "      <td>716439118184652801</td>\n",
              "      <td>NaN</td>\n",
              "      <td>NaN</td>\n",
              "      <td>2016-04-03 01:36:11 +0000</td>\n",
              "      <td>&lt;a href=\"http://twitter.com/download/iphone\" r...</td>\n",
              "      <td>This is Bluebert. He just saw that both #Final...</td>\n",
              "      <td>NaN</td>\n",
              "      <td>NaN</td>\n",
              "      <td>NaN</td>\n",
              "      <td>https://twitter.com/dog_rates/status/716439118...</td>\n",
              "      <td>50</td>\n",
              "      <td>50</td>\n",
              "      <td>Bluebert</td>\n",
              "      <td>None</td>\n",
              "      <td>None</td>\n",
              "      <td>None</td>\n",
              "      <td>None</td>\n",
              "    </tr>\n",
              "    <tr>\n",
              "      <th>1228</th>\n",
              "      <td>713900603437621249</td>\n",
              "      <td>NaN</td>\n",
              "      <td>NaN</td>\n",
              "      <td>2016-03-27 01:29:02 +0000</td>\n",
              "      <td>&lt;a href=\"http://twitter.com/download/iphone\" r...</td>\n",
              "      <td>Happy Saturday here's 9 puppers on a bench. 99...</td>\n",
              "      <td>NaN</td>\n",
              "      <td>NaN</td>\n",
              "      <td>NaN</td>\n",
              "      <td>https://twitter.com/dog_rates/status/713900603...</td>\n",
              "      <td>99</td>\n",
              "      <td>90</td>\n",
              "      <td>None</td>\n",
              "      <td>None</td>\n",
              "      <td>None</td>\n",
              "      <td>None</td>\n",
              "      <td>None</td>\n",
              "    </tr>\n",
              "    <tr>\n",
              "      <th>1254</th>\n",
              "      <td>710658690886586372</td>\n",
              "      <td>NaN</td>\n",
              "      <td>NaN</td>\n",
              "      <td>2016-03-18 02:46:49 +0000</td>\n",
              "      <td>&lt;a href=\"http://twitter.com/download/iphone\" r...</td>\n",
              "      <td>Here's a brigade of puppers. All look very pre...</td>\n",
              "      <td>NaN</td>\n",
              "      <td>NaN</td>\n",
              "      <td>NaN</td>\n",
              "      <td>https://twitter.com/dog_rates/status/710658690...</td>\n",
              "      <td>80</td>\n",
              "      <td>80</td>\n",
              "      <td>None</td>\n",
              "      <td>None</td>\n",
              "      <td>None</td>\n",
              "      <td>None</td>\n",
              "      <td>None</td>\n",
              "    </tr>\n",
              "    <tr>\n",
              "      <th>1274</th>\n",
              "      <td>709198395643068416</td>\n",
              "      <td>NaN</td>\n",
              "      <td>NaN</td>\n",
              "      <td>2016-03-14 02:04:08 +0000</td>\n",
              "      <td>&lt;a href=\"http://twitter.com/download/iphone\" r...</td>\n",
              "      <td>From left to right:\\nCletus, Jerome, Alejandro...</td>\n",
              "      <td>NaN</td>\n",
              "      <td>NaN</td>\n",
              "      <td>NaN</td>\n",
              "      <td>https://twitter.com/dog_rates/status/709198395...</td>\n",
              "      <td>45</td>\n",
              "      <td>50</td>\n",
              "      <td>None</td>\n",
              "      <td>None</td>\n",
              "      <td>None</td>\n",
              "      <td>None</td>\n",
              "      <td>None</td>\n",
              "    </tr>\n",
              "    <tr>\n",
              "      <th>1351</th>\n",
              "      <td>704054845121142784</td>\n",
              "      <td>NaN</td>\n",
              "      <td>NaN</td>\n",
              "      <td>2016-02-28 21:25:30 +0000</td>\n",
              "      <td>&lt;a href=\"http://twitter.com/download/iphone\" r...</td>\n",
              "      <td>Here is a whole flock of puppers.  60/50 I'll ...</td>\n",
              "      <td>NaN</td>\n",
              "      <td>NaN</td>\n",
              "      <td>NaN</td>\n",
              "      <td>https://twitter.com/dog_rates/status/704054845...</td>\n",
              "      <td>60</td>\n",
              "      <td>50</td>\n",
              "      <td>a</td>\n",
              "      <td>None</td>\n",
              "      <td>None</td>\n",
              "      <td>None</td>\n",
              "      <td>None</td>\n",
              "    </tr>\n",
              "    <tr>\n",
              "      <th>1433</th>\n",
              "      <td>697463031882764288</td>\n",
              "      <td>NaN</td>\n",
              "      <td>NaN</td>\n",
              "      <td>2016-02-10 16:51:59 +0000</td>\n",
              "      <td>&lt;a href=\"http://twitter.com/download/iphone\" r...</td>\n",
              "      <td>Happy Wednesday here's a bucket of pups. 44/40...</td>\n",
              "      <td>NaN</td>\n",
              "      <td>NaN</td>\n",
              "      <td>NaN</td>\n",
              "      <td>https://twitter.com/dog_rates/status/697463031...</td>\n",
              "      <td>44</td>\n",
              "      <td>40</td>\n",
              "      <td>None</td>\n",
              "      <td>None</td>\n",
              "      <td>None</td>\n",
              "      <td>None</td>\n",
              "      <td>None</td>\n",
              "    </tr>\n",
              "    <tr>\n",
              "      <th>1598</th>\n",
              "      <td>686035780142297088</td>\n",
              "      <td>6.860340e+17</td>\n",
              "      <td>4.196984e+09</td>\n",
              "      <td>2016-01-10 04:04:10 +0000</td>\n",
              "      <td>&lt;a href=\"http://twitter.com/download/iphone\" r...</td>\n",
              "      <td>Yes I do realize a rating of 4/20 would've bee...</td>\n",
              "      <td>NaN</td>\n",
              "      <td>NaN</td>\n",
              "      <td>NaN</td>\n",
              "      <td>NaN</td>\n",
              "      <td>4</td>\n",
              "      <td>20</td>\n",
              "      <td>None</td>\n",
              "      <td>None</td>\n",
              "      <td>None</td>\n",
              "      <td>None</td>\n",
              "      <td>None</td>\n",
              "    </tr>\n",
              "    <tr>\n",
              "      <th>1634</th>\n",
              "      <td>684225744407494656</td>\n",
              "      <td>6.842229e+17</td>\n",
              "      <td>4.196984e+09</td>\n",
              "      <td>2016-01-05 04:11:44 +0000</td>\n",
              "      <td>&lt;a href=\"http://twitter.com/download/iphone\" r...</td>\n",
              "      <td>Two sneaky puppers were not initially seen, mo...</td>\n",
              "      <td>NaN</td>\n",
              "      <td>NaN</td>\n",
              "      <td>NaN</td>\n",
              "      <td>https://twitter.com/dog_rates/status/684225744...</td>\n",
              "      <td>143</td>\n",
              "      <td>130</td>\n",
              "      <td>None</td>\n",
              "      <td>None</td>\n",
              "      <td>None</td>\n",
              "      <td>None</td>\n",
              "      <td>None</td>\n",
              "    </tr>\n",
              "    <tr>\n",
              "      <th>1635</th>\n",
              "      <td>684222868335505415</td>\n",
              "      <td>NaN</td>\n",
              "      <td>NaN</td>\n",
              "      <td>2016-01-05 04:00:18 +0000</td>\n",
              "      <td>&lt;a href=\"http://twitter.com/download/iphone\" r...</td>\n",
              "      <td>Someone help the girl is being mugged. Several...</td>\n",
              "      <td>NaN</td>\n",
              "      <td>NaN</td>\n",
              "      <td>NaN</td>\n",
              "      <td>https://twitter.com/dog_rates/status/684222868...</td>\n",
              "      <td>121</td>\n",
              "      <td>110</td>\n",
              "      <td>None</td>\n",
              "      <td>None</td>\n",
              "      <td>None</td>\n",
              "      <td>None</td>\n",
              "      <td>None</td>\n",
              "    </tr>\n",
              "    <tr>\n",
              "      <th>1662</th>\n",
              "      <td>682962037429899265</td>\n",
              "      <td>NaN</td>\n",
              "      <td>NaN</td>\n",
              "      <td>2016-01-01 16:30:13 +0000</td>\n",
              "      <td>&lt;a href=\"http://twitter.com/download/iphone\" r...</td>\n",
              "      <td>This is Darrel. He just robbed a 7/11 and is i...</td>\n",
              "      <td>NaN</td>\n",
              "      <td>NaN</td>\n",
              "      <td>NaN</td>\n",
              "      <td>https://twitter.com/dog_rates/status/682962037...</td>\n",
              "      <td>7</td>\n",
              "      <td>11</td>\n",
              "      <td>Darrel</td>\n",
              "      <td>None</td>\n",
              "      <td>None</td>\n",
              "      <td>None</td>\n",
              "      <td>None</td>\n",
              "    </tr>\n",
              "    <tr>\n",
              "      <th>1663</th>\n",
              "      <td>682808988178739200</td>\n",
              "      <td>6.827884e+17</td>\n",
              "      <td>4.196984e+09</td>\n",
              "      <td>2016-01-01 06:22:03 +0000</td>\n",
              "      <td>&lt;a href=\"http://twitter.com/download/iphone\" r...</td>\n",
              "      <td>I'm aware that I could've said 20/16, but here...</td>\n",
              "      <td>NaN</td>\n",
              "      <td>NaN</td>\n",
              "      <td>NaN</td>\n",
              "      <td>NaN</td>\n",
              "      <td>20</td>\n",
              "      <td>16</td>\n",
              "      <td>None</td>\n",
              "      <td>None</td>\n",
              "      <td>None</td>\n",
              "      <td>None</td>\n",
              "      <td>None</td>\n",
              "    </tr>\n",
              "    <tr>\n",
              "      <th>1779</th>\n",
              "      <td>677716515794329600</td>\n",
              "      <td>NaN</td>\n",
              "      <td>NaN</td>\n",
              "      <td>2015-12-18 05:06:23 +0000</td>\n",
              "      <td>&lt;a href=\"http://twitter.com/download/iphone\" r...</td>\n",
              "      <td>IT'S PUPPERGEDDON. Total of 144/120 ...I think...</td>\n",
              "      <td>NaN</td>\n",
              "      <td>NaN</td>\n",
              "      <td>NaN</td>\n",
              "      <td>https://twitter.com/dog_rates/status/677716515...</td>\n",
              "      <td>144</td>\n",
              "      <td>120</td>\n",
              "      <td>None</td>\n",
              "      <td>None</td>\n",
              "      <td>None</td>\n",
              "      <td>None</td>\n",
              "      <td>None</td>\n",
              "    </tr>\n",
              "    <tr>\n",
              "      <th>1843</th>\n",
              "      <td>675853064436391936</td>\n",
              "      <td>NaN</td>\n",
              "      <td>NaN</td>\n",
              "      <td>2015-12-13 01:41:41 +0000</td>\n",
              "      <td>&lt;a href=\"http://twitter.com/download/iphone\" r...</td>\n",
              "      <td>Here we have an entire platoon of puppers. Tot...</td>\n",
              "      <td>NaN</td>\n",
              "      <td>NaN</td>\n",
              "      <td>NaN</td>\n",
              "      <td>https://twitter.com/dog_rates/status/675853064...</td>\n",
              "      <td>88</td>\n",
              "      <td>80</td>\n",
              "      <td>None</td>\n",
              "      <td>None</td>\n",
              "      <td>None</td>\n",
              "      <td>None</td>\n",
              "      <td>None</td>\n",
              "    </tr>\n",
              "    <tr>\n",
              "      <th>2335</th>\n",
              "      <td>666287406224695296</td>\n",
              "      <td>NaN</td>\n",
              "      <td>NaN</td>\n",
              "      <td>2015-11-16 16:11:11 +0000</td>\n",
              "      <td>&lt;a href=\"http://twitter.com/download/iphone\" r...</td>\n",
              "      <td>This is an Albanian 3 1/2 legged  Episcopalian...</td>\n",
              "      <td>NaN</td>\n",
              "      <td>NaN</td>\n",
              "      <td>NaN</td>\n",
              "      <td>https://twitter.com/dog_rates/status/666287406...</td>\n",
              "      <td>1</td>\n",
              "      <td>2</td>\n",
              "      <td>an</td>\n",
              "      <td>None</td>\n",
              "      <td>None</td>\n",
              "      <td>None</td>\n",
              "      <td>None</td>\n",
              "    </tr>\n",
              "  </tbody>\n",
              "</table>\n",
              "</div>"
            ],
            "text/plain": [
              "                tweet_id  in_reply_to_status_id  in_reply_to_user_id  \\\n",
              "313   835246439529840640           8.352460e+17         2.625958e+07   \n",
              "342   832088576586297345           8.320875e+17         3.058208e+07   \n",
              "433   820690176645140481                    NaN                  NaN   \n",
              "516   810984652412424192                    NaN                  NaN   \n",
              "784   775096608509886464                    NaN                  NaN   \n",
              "902   758467244762497024                    NaN                  NaN   \n",
              "1068  740373189193256964                    NaN                  NaN   \n",
              "1120  731156023742988288                    NaN                  NaN   \n",
              "1165  722974582966214656                    NaN                  NaN   \n",
              "1202  716439118184652801                    NaN                  NaN   \n",
              "1228  713900603437621249                    NaN                  NaN   \n",
              "1254  710658690886586372                    NaN                  NaN   \n",
              "1274  709198395643068416                    NaN                  NaN   \n",
              "1351  704054845121142784                    NaN                  NaN   \n",
              "1433  697463031882764288                    NaN                  NaN   \n",
              "1598  686035780142297088           6.860340e+17         4.196984e+09   \n",
              "1634  684225744407494656           6.842229e+17         4.196984e+09   \n",
              "1635  684222868335505415                    NaN                  NaN   \n",
              "1662  682962037429899265                    NaN                  NaN   \n",
              "1663  682808988178739200           6.827884e+17         4.196984e+09   \n",
              "1779  677716515794329600                    NaN                  NaN   \n",
              "1843  675853064436391936                    NaN                  NaN   \n",
              "2335  666287406224695296                    NaN                  NaN   \n",
              "\n",
              "                      timestamp  \\\n",
              "313   2017-02-24 21:54:03 +0000   \n",
              "342   2017-02-16 04:45:50 +0000   \n",
              "433   2017-01-15 17:52:40 +0000   \n",
              "516   2016-12-19 23:06:23 +0000   \n",
              "784   2016-09-11 22:20:06 +0000   \n",
              "902   2016-07-28 01:00:57 +0000   \n",
              "1068  2016-06-08 02:41:38 +0000   \n",
              "1120  2016-05-13 16:15:54 +0000   \n",
              "1165  2016-04-21 02:25:47 +0000   \n",
              "1202  2016-04-03 01:36:11 +0000   \n",
              "1228  2016-03-27 01:29:02 +0000   \n",
              "1254  2016-03-18 02:46:49 +0000   \n",
              "1274  2016-03-14 02:04:08 +0000   \n",
              "1351  2016-02-28 21:25:30 +0000   \n",
              "1433  2016-02-10 16:51:59 +0000   \n",
              "1598  2016-01-10 04:04:10 +0000   \n",
              "1634  2016-01-05 04:11:44 +0000   \n",
              "1635  2016-01-05 04:00:18 +0000   \n",
              "1662  2016-01-01 16:30:13 +0000   \n",
              "1663  2016-01-01 06:22:03 +0000   \n",
              "1779  2015-12-18 05:06:23 +0000   \n",
              "1843  2015-12-13 01:41:41 +0000   \n",
              "2335  2015-11-16 16:11:11 +0000   \n",
              "\n",
              "                                                 source  \\\n",
              "313   <a href=\"http://twitter.com/download/iphone\" r...   \n",
              "342   <a href=\"http://twitter.com/download/iphone\" r...   \n",
              "433   <a href=\"http://twitter.com/download/iphone\" r...   \n",
              "516   <a href=\"http://twitter.com/download/iphone\" r...   \n",
              "784   <a href=\"http://twitter.com/download/iphone\" r...   \n",
              "902   <a href=\"http://twitter.com/download/iphone\" r...   \n",
              "1068  <a href=\"http://twitter.com/download/iphone\" r...   \n",
              "1120  <a href=\"http://twitter.com/download/iphone\" r...   \n",
              "1165  <a href=\"http://twitter.com/download/iphone\" r...   \n",
              "1202  <a href=\"http://twitter.com/download/iphone\" r...   \n",
              "1228  <a href=\"http://twitter.com/download/iphone\" r...   \n",
              "1254  <a href=\"http://twitter.com/download/iphone\" r...   \n",
              "1274  <a href=\"http://twitter.com/download/iphone\" r...   \n",
              "1351  <a href=\"http://twitter.com/download/iphone\" r...   \n",
              "1433  <a href=\"http://twitter.com/download/iphone\" r...   \n",
              "1598  <a href=\"http://twitter.com/download/iphone\" r...   \n",
              "1634  <a href=\"http://twitter.com/download/iphone\" r...   \n",
              "1635  <a href=\"http://twitter.com/download/iphone\" r...   \n",
              "1662  <a href=\"http://twitter.com/download/iphone\" r...   \n",
              "1663  <a href=\"http://twitter.com/download/iphone\" r...   \n",
              "1779  <a href=\"http://twitter.com/download/iphone\" r...   \n",
              "1843  <a href=\"http://twitter.com/download/iphone\" r...   \n",
              "2335  <a href=\"http://twitter.com/download/iphone\" r...   \n",
              "\n",
              "                                                   text  retweeted_status_id  \\\n",
              "313   @jonnysun @Lin_Manuel ok jomny I know you're e...                  NaN   \n",
              "342            @docmisterio account started on 11/15/15                  NaN   \n",
              "433   The floofs have been released I repeat the flo...                  NaN   \n",
              "516   Meet Sam. She smiles 24/7 &amp; secretly aspir...                  NaN   \n",
              "784   RT @dog_rates: After so many requests, this is...         7.403732e+17   \n",
              "902   Why does this never happen at my front door......                  NaN   \n",
              "1068  After so many requests, this is Bretagne. She ...                  NaN   \n",
              "1120  Say hello to this unbelievably well behaved sq...                  NaN   \n",
              "1165  Happy 4/20 from the squad! 13/10 for all https...                  NaN   \n",
              "1202  This is Bluebert. He just saw that both #Final...                  NaN   \n",
              "1228  Happy Saturday here's 9 puppers on a bench. 99...                  NaN   \n",
              "1254  Here's a brigade of puppers. All look very pre...                  NaN   \n",
              "1274  From left to right:\\nCletus, Jerome, Alejandro...                  NaN   \n",
              "1351  Here is a whole flock of puppers.  60/50 I'll ...                  NaN   \n",
              "1433  Happy Wednesday here's a bucket of pups. 44/40...                  NaN   \n",
              "1598  Yes I do realize a rating of 4/20 would've bee...                  NaN   \n",
              "1634  Two sneaky puppers were not initially seen, mo...                  NaN   \n",
              "1635  Someone help the girl is being mugged. Several...                  NaN   \n",
              "1662  This is Darrel. He just robbed a 7/11 and is i...                  NaN   \n",
              "1663  I'm aware that I could've said 20/16, but here...                  NaN   \n",
              "1779  IT'S PUPPERGEDDON. Total of 144/120 ...I think...                  NaN   \n",
              "1843  Here we have an entire platoon of puppers. Tot...                  NaN   \n",
              "2335  This is an Albanian 3 1/2 legged  Episcopalian...                  NaN   \n",
              "\n",
              "      retweeted_status_user_id retweeted_status_timestamp  \\\n",
              "313                        NaN                        NaN   \n",
              "342                        NaN                        NaN   \n",
              "433                        NaN                        NaN   \n",
              "516                        NaN                        NaN   \n",
              "784               4.196984e+09  2016-06-08 02:41:38 +0000   \n",
              "902                        NaN                        NaN   \n",
              "1068                       NaN                        NaN   \n",
              "1120                       NaN                        NaN   \n",
              "1165                       NaN                        NaN   \n",
              "1202                       NaN                        NaN   \n",
              "1228                       NaN                        NaN   \n",
              "1254                       NaN                        NaN   \n",
              "1274                       NaN                        NaN   \n",
              "1351                       NaN                        NaN   \n",
              "1433                       NaN                        NaN   \n",
              "1598                       NaN                        NaN   \n",
              "1634                       NaN                        NaN   \n",
              "1635                       NaN                        NaN   \n",
              "1662                       NaN                        NaN   \n",
              "1663                       NaN                        NaN   \n",
              "1779                       NaN                        NaN   \n",
              "1843                       NaN                        NaN   \n",
              "2335                       NaN                        NaN   \n",
              "\n",
              "                                          expanded_urls  rating_numerator  \\\n",
              "313                                                 NaN               960   \n",
              "342                                                 NaN                11   \n",
              "433   https://twitter.com/dog_rates/status/820690176...                84   \n",
              "516   https://www.gofundme.com/sams-smile,https://tw...                24   \n",
              "784   https://twitter.com/dog_rates/status/740373189...                 9   \n",
              "902   https://twitter.com/dog_rates/status/758467244...               165   \n",
              "1068  https://twitter.com/dog_rates/status/740373189...                 9   \n",
              "1120  https://twitter.com/dog_rates/status/731156023...               204   \n",
              "1165  https://twitter.com/dog_rates/status/722974582...                 4   \n",
              "1202  https://twitter.com/dog_rates/status/716439118...                50   \n",
              "1228  https://twitter.com/dog_rates/status/713900603...                99   \n",
              "1254  https://twitter.com/dog_rates/status/710658690...                80   \n",
              "1274  https://twitter.com/dog_rates/status/709198395...                45   \n",
              "1351  https://twitter.com/dog_rates/status/704054845...                60   \n",
              "1433  https://twitter.com/dog_rates/status/697463031...                44   \n",
              "1598                                                NaN                 4   \n",
              "1634  https://twitter.com/dog_rates/status/684225744...               143   \n",
              "1635  https://twitter.com/dog_rates/status/684222868...               121   \n",
              "1662  https://twitter.com/dog_rates/status/682962037...                 7   \n",
              "1663                                                NaN                20   \n",
              "1779  https://twitter.com/dog_rates/status/677716515...               144   \n",
              "1843  https://twitter.com/dog_rates/status/675853064...                88   \n",
              "2335  https://twitter.com/dog_rates/status/666287406...                 1   \n",
              "\n",
              "      rating_denominator      name doggo floofer pupper puppo  \n",
              "313                    0      None  None    None   None  None  \n",
              "342                   15      None  None    None   None  None  \n",
              "433                   70      None  None    None   None  None  \n",
              "516                    7       Sam  None    None   None  None  \n",
              "784                   11      None  None    None   None  None  \n",
              "902                  150      None  None    None   None  None  \n",
              "1068                  11      None  None    None   None  None  \n",
              "1120                 170      this  None    None   None  None  \n",
              "1165                  20      None  None    None   None  None  \n",
              "1202                  50  Bluebert  None    None   None  None  \n",
              "1228                  90      None  None    None   None  None  \n",
              "1254                  80      None  None    None   None  None  \n",
              "1274                  50      None  None    None   None  None  \n",
              "1351                  50         a  None    None   None  None  \n",
              "1433                  40      None  None    None   None  None  \n",
              "1598                  20      None  None    None   None  None  \n",
              "1634                 130      None  None    None   None  None  \n",
              "1635                 110      None  None    None   None  None  \n",
              "1662                  11    Darrel  None    None   None  None  \n",
              "1663                  16      None  None    None   None  None  \n",
              "1779                 120      None  None    None   None  None  \n",
              "1843                  80      None  None    None   None  None  \n",
              "2335                   2        an  None    None   None  None  "
            ]
          },
          "metadata": {
            "tags": []
          },
          "execution_count": 22
        }
      ]
    },
    {
      "metadata": {
        "id": "KqYZFzKrj9Vi",
        "colab_type": "code",
        "outputId": "1ef83483-8721-47a8-b968-798bf6b28ebb",
        "colab": {
          "base_uri": "https://localhost:8080/",
          "height": 168
        }
      },
      "cell_type": "code",
      "source": [
        "df_1.query('rating_denominator == 10')['rating_numerator'].describe()\n",
        "\n",
        "# check the data max = 1776\n",
        "# min = 0 is correct"
      ],
      "execution_count": 0,
      "outputs": [
        {
          "output_type": "execute_result",
          "data": {
            "text/plain": [
              "count    2333.000000\n",
              "mean       12.237462\n",
              "std        41.022472\n",
              "min         0.000000\n",
              "25%        10.000000\n",
              "50%        11.000000\n",
              "75%        12.000000\n",
              "max      1776.000000\n",
              "Name: rating_numerator, dtype: float64"
            ]
          },
          "metadata": {
            "tags": []
          },
          "execution_count": 26
        }
      ]
    },
    {
      "metadata": {
        "id": "SxFdHx94kgRg",
        "colab_type": "code",
        "outputId": "c945d79f-4e61-42dc-8db7-5cf24c9797ff",
        "colab": {
          "base_uri": "https://localhost:8080/",
          "height": 4926
        }
      },
      "cell_type": "code",
      "source": [
        "df_1_copy.query('rating_denominator == 10').sort_values('rating_numerator', ascending=False)\n",
        "\n",
        "# some numerators are extremely large: 75 - 1776"
      ],
      "execution_count": 0,
      "outputs": [
        {
          "output_type": "execute_result",
          "data": {
            "text/html": [
              "<div>\n",
              "<style scoped>\n",
              "    .dataframe tbody tr th:only-of-type {\n",
              "        vertical-align: middle;\n",
              "    }\n",
              "\n",
              "    .dataframe tbody tr th {\n",
              "        vertical-align: top;\n",
              "    }\n",
              "\n",
              "    .dataframe thead th {\n",
              "        text-align: right;\n",
              "    }\n",
              "</style>\n",
              "<table border=\"1\" class=\"dataframe\">\n",
              "  <thead>\n",
              "    <tr style=\"text-align: right;\">\n",
              "      <th></th>\n",
              "      <th>tweet_id</th>\n",
              "      <th>in_reply_to_status_id</th>\n",
              "      <th>in_reply_to_user_id</th>\n",
              "      <th>timestamp</th>\n",
              "      <th>source</th>\n",
              "      <th>text</th>\n",
              "      <th>retweeted_status_id</th>\n",
              "      <th>retweeted_status_user_id</th>\n",
              "      <th>retweeted_status_timestamp</th>\n",
              "      <th>expanded_urls</th>\n",
              "      <th>rating_numerator</th>\n",
              "      <th>rating_denominator</th>\n",
              "      <th>name</th>\n",
              "      <th>doggo</th>\n",
              "      <th>floofer</th>\n",
              "      <th>pupper</th>\n",
              "      <th>puppo</th>\n",
              "    </tr>\n",
              "  </thead>\n",
              "  <tbody>\n",
              "    <tr>\n",
              "      <th>979</th>\n",
              "      <td>749981277374128128</td>\n",
              "      <td>NaN</td>\n",
              "      <td>NaN</td>\n",
              "      <td>2016-07-04 15:00:45 +0000</td>\n",
              "      <td>&lt;a href=\"https://about.twitter.com/products/tw...</td>\n",
              "      <td>This is Atticus. He's quite simply America af....</td>\n",
              "      <td>NaN</td>\n",
              "      <td>NaN</td>\n",
              "      <td>NaN</td>\n",
              "      <td>https://twitter.com/dog_rates/status/749981277...</td>\n",
              "      <td>1776</td>\n",
              "      <td>10</td>\n",
              "      <td>Atticus</td>\n",
              "      <td>None</td>\n",
              "      <td>None</td>\n",
              "      <td>None</td>\n",
              "      <td>None</td>\n",
              "    </tr>\n",
              "    <tr>\n",
              "      <th>189</th>\n",
              "      <td>855860136149123072</td>\n",
              "      <td>8.558585e+17</td>\n",
              "      <td>1.361572e+07</td>\n",
              "      <td>2017-04-22 19:05:32 +0000</td>\n",
              "      <td>&lt;a href=\"http://twitter.com/download/iphone\" r...</td>\n",
              "      <td>@s8n You tried very hard to portray this good ...</td>\n",
              "      <td>NaN</td>\n",
              "      <td>NaN</td>\n",
              "      <td>NaN</td>\n",
              "      <td>NaN</td>\n",
              "      <td>666</td>\n",
              "      <td>10</td>\n",
              "      <td>None</td>\n",
              "      <td>None</td>\n",
              "      <td>None</td>\n",
              "      <td>None</td>\n",
              "      <td>None</td>\n",
              "    </tr>\n",
              "    <tr>\n",
              "      <th>188</th>\n",
              "      <td>855862651834028034</td>\n",
              "      <td>8.558616e+17</td>\n",
              "      <td>1.943518e+08</td>\n",
              "      <td>2017-04-22 19:15:32 +0000</td>\n",
              "      <td>&lt;a href=\"http://twitter.com/download/iphone\" r...</td>\n",
              "      <td>@dhmontgomery We also gave snoop dogg a 420/10...</td>\n",
              "      <td>NaN</td>\n",
              "      <td>NaN</td>\n",
              "      <td>NaN</td>\n",
              "      <td>NaN</td>\n",
              "      <td>420</td>\n",
              "      <td>10</td>\n",
              "      <td>None</td>\n",
              "      <td>None</td>\n",
              "      <td>None</td>\n",
              "      <td>None</td>\n",
              "      <td>None</td>\n",
              "    </tr>\n",
              "    <tr>\n",
              "      <th>2074</th>\n",
              "      <td>670842764863651840</td>\n",
              "      <td>NaN</td>\n",
              "      <td>NaN</td>\n",
              "      <td>2015-11-29 05:52:33 +0000</td>\n",
              "      <td>&lt;a href=\"http://twitter.com/download/iphone\" r...</td>\n",
              "      <td>After so many requests... here you go.\\n\\nGood...</td>\n",
              "      <td>NaN</td>\n",
              "      <td>NaN</td>\n",
              "      <td>NaN</td>\n",
              "      <td>https://twitter.com/dog_rates/status/670842764...</td>\n",
              "      <td>420</td>\n",
              "      <td>10</td>\n",
              "      <td>None</td>\n",
              "      <td>None</td>\n",
              "      <td>None</td>\n",
              "      <td>None</td>\n",
              "      <td>None</td>\n",
              "    </tr>\n",
              "    <tr>\n",
              "      <th>290</th>\n",
              "      <td>838150277551247360</td>\n",
              "      <td>8.381455e+17</td>\n",
              "      <td>2.195506e+07</td>\n",
              "      <td>2017-03-04 22:12:52 +0000</td>\n",
              "      <td>&lt;a href=\"http://twitter.com/download/iphone\" r...</td>\n",
              "      <td>@markhoppus 182/10</td>\n",
              "      <td>NaN</td>\n",
              "      <td>NaN</td>\n",
              "      <td>NaN</td>\n",
              "      <td>NaN</td>\n",
              "      <td>182</td>\n",
              "      <td>10</td>\n",
              "      <td>None</td>\n",
              "      <td>None</td>\n",
              "      <td>None</td>\n",
              "      <td>None</td>\n",
              "      <td>None</td>\n",
              "    </tr>\n",
              "    <tr>\n",
              "      <th>340</th>\n",
              "      <td>832215909146226688</td>\n",
              "      <td>NaN</td>\n",
              "      <td>NaN</td>\n",
              "      <td>2017-02-16 13:11:49 +0000</td>\n",
              "      <td>&lt;a href=\"http://twitter.com/download/iphone\" r...</td>\n",
              "      <td>RT @dog_rates: This is Logan, the Chow who liv...</td>\n",
              "      <td>7.867091e+17</td>\n",
              "      <td>4.196984e+09</td>\n",
              "      <td>2016-10-13 23:23:56 +0000</td>\n",
              "      <td>https://twitter.com/dog_rates/status/786709082...</td>\n",
              "      <td>75</td>\n",
              "      <td>10</td>\n",
              "      <td>Logan</td>\n",
              "      <td>None</td>\n",
              "      <td>None</td>\n",
              "      <td>None</td>\n",
              "      <td>None</td>\n",
              "    </tr>\n",
              "    <tr>\n",
              "      <th>695</th>\n",
              "      <td>786709082849828864</td>\n",
              "      <td>NaN</td>\n",
              "      <td>NaN</td>\n",
              "      <td>2016-10-13 23:23:56 +0000</td>\n",
              "      <td>&lt;a href=\"http://twitter.com/download/iphone\" r...</td>\n",
              "      <td>This is Logan, the Chow who lived. He solemnly...</td>\n",
              "      <td>NaN</td>\n",
              "      <td>NaN</td>\n",
              "      <td>NaN</td>\n",
              "      <td>https://twitter.com/dog_rates/status/786709082...</td>\n",
              "      <td>75</td>\n",
              "      <td>10</td>\n",
              "      <td>Logan</td>\n",
              "      <td>None</td>\n",
              "      <td>None</td>\n",
              "      <td>None</td>\n",
              "      <td>None</td>\n",
              "    </tr>\n",
              "    <tr>\n",
              "      <th>763</th>\n",
              "      <td>778027034220126208</td>\n",
              "      <td>NaN</td>\n",
              "      <td>NaN</td>\n",
              "      <td>2016-09-20 00:24:34 +0000</td>\n",
              "      <td>&lt;a href=\"http://twitter.com/download/iphone\" r...</td>\n",
              "      <td>This is Sophie. She's a Jubilant Bush Pupper. ...</td>\n",
              "      <td>NaN</td>\n",
              "      <td>NaN</td>\n",
              "      <td>NaN</td>\n",
              "      <td>https://twitter.com/dog_rates/status/778027034...</td>\n",
              "      <td>27</td>\n",
              "      <td>10</td>\n",
              "      <td>Sophie</td>\n",
              "      <td>None</td>\n",
              "      <td>None</td>\n",
              "      <td>pupper</td>\n",
              "      <td>None</td>\n",
              "    </tr>\n",
              "    <tr>\n",
              "      <th>1712</th>\n",
              "      <td>680494726643068929</td>\n",
              "      <td>NaN</td>\n",
              "      <td>NaN</td>\n",
              "      <td>2015-12-25 21:06:00 +0000</td>\n",
              "      <td>&lt;a href=\"http://twitter.com/download/iphone\" r...</td>\n",
              "      <td>Here we have uncovered an entire battalion of ...</td>\n",
              "      <td>NaN</td>\n",
              "      <td>NaN</td>\n",
              "      <td>NaN</td>\n",
              "      <td>https://twitter.com/dog_rates/status/680494726...</td>\n",
              "      <td>26</td>\n",
              "      <td>10</td>\n",
              "      <td>None</td>\n",
              "      <td>None</td>\n",
              "      <td>None</td>\n",
              "      <td>None</td>\n",
              "      <td>None</td>\n",
              "    </tr>\n",
              "    <tr>\n",
              "      <th>55</th>\n",
              "      <td>881633300179243008</td>\n",
              "      <td>8.816070e+17</td>\n",
              "      <td>4.738443e+07</td>\n",
              "      <td>2017-07-02 21:58:53 +0000</td>\n",
              "      <td>&lt;a href=\"http://twitter.com/download/iphone\" r...</td>\n",
              "      <td>@roushfenway These are good dogs but 17/10 is ...</td>\n",
              "      <td>NaN</td>\n",
              "      <td>NaN</td>\n",
              "      <td>NaN</td>\n",
              "      <td>NaN</td>\n",
              "      <td>17</td>\n",
              "      <td>10</td>\n",
              "      <td>None</td>\n",
              "      <td>None</td>\n",
              "      <td>None</td>\n",
              "      <td>None</td>\n",
              "      <td>None</td>\n",
              "    </tr>\n",
              "    <tr>\n",
              "      <th>285</th>\n",
              "      <td>838916489579200512</td>\n",
              "      <td>NaN</td>\n",
              "      <td>NaN</td>\n",
              "      <td>2017-03-07 00:57:32 +0000</td>\n",
              "      <td>&lt;a href=\"http://twitter.com/download/iphone\" r...</td>\n",
              "      <td>RT @KibaDva: I collected all the good dogs!! 1...</td>\n",
              "      <td>8.389060e+17</td>\n",
              "      <td>8.117408e+08</td>\n",
              "      <td>2017-03-07 00:15:46 +0000</td>\n",
              "      <td>https://twitter.com/KibaDva/status/83890598062...</td>\n",
              "      <td>15</td>\n",
              "      <td>10</td>\n",
              "      <td>None</td>\n",
              "      <td>None</td>\n",
              "      <td>None</td>\n",
              "      <td>None</td>\n",
              "      <td>None</td>\n",
              "    </tr>\n",
              "    <tr>\n",
              "      <th>291</th>\n",
              "      <td>838085839343206401</td>\n",
              "      <td>8.380855e+17</td>\n",
              "      <td>2.894131e+09</td>\n",
              "      <td>2017-03-04 17:56:49 +0000</td>\n",
              "      <td>&lt;a href=\"http://twitter.com/download/iphone\" r...</td>\n",
              "      <td>@bragg6of8 @Andy_Pace_ we are still looking fo...</td>\n",
              "      <td>NaN</td>\n",
              "      <td>NaN</td>\n",
              "      <td>NaN</td>\n",
              "      <td>NaN</td>\n",
              "      <td>15</td>\n",
              "      <td>10</td>\n",
              "      <td>None</td>\n",
              "      <td>None</td>\n",
              "      <td>None</td>\n",
              "      <td>None</td>\n",
              "      <td>None</td>\n",
              "    </tr>\n",
              "    <tr>\n",
              "      <th>95</th>\n",
              "      <td>873697596434513921</td>\n",
              "      <td>NaN</td>\n",
              "      <td>NaN</td>\n",
              "      <td>2017-06-11 00:25:14 +0000</td>\n",
              "      <td>&lt;a href=\"http://twitter.com/download/iphone\" r...</td>\n",
              "      <td>RT @dog_rates: This is Walter. He won't start ...</td>\n",
              "      <td>8.688804e+17</td>\n",
              "      <td>4.196984e+09</td>\n",
              "      <td>2017-05-28 17:23:24 +0000</td>\n",
              "      <td>https://twitter.com/dog_rates/status/868880397...</td>\n",
              "      <td>14</td>\n",
              "      <td>10</td>\n",
              "      <td>Walter</td>\n",
              "      <td>None</td>\n",
              "      <td>None</td>\n",
              "      <td>None</td>\n",
              "      <td>None</td>\n",
              "    </tr>\n",
              "    <tr>\n",
              "      <th>214</th>\n",
              "      <td>851464819735769094</td>\n",
              "      <td>NaN</td>\n",
              "      <td>NaN</td>\n",
              "      <td>2017-04-10 16:00:07 +0000</td>\n",
              "      <td>&lt;a href=\"http://twitter.com/download/iphone\" r...</td>\n",
              "      <td>This is Iggy. He was a rescue dog killed in th...</td>\n",
              "      <td>NaN</td>\n",
              "      <td>NaN</td>\n",
              "      <td>NaN</td>\n",
              "      <td>https://twitter.com/dog_rates/status/851464819...</td>\n",
              "      <td>14</td>\n",
              "      <td>10</td>\n",
              "      <td>Iggy</td>\n",
              "      <td>None</td>\n",
              "      <td>None</td>\n",
              "      <td>None</td>\n",
              "      <td>None</td>\n",
              "    </tr>\n",
              "    <tr>\n",
              "      <th>434</th>\n",
              "      <td>820494788566847489</td>\n",
              "      <td>NaN</td>\n",
              "      <td>NaN</td>\n",
              "      <td>2017-01-15 04:56:16 +0000</td>\n",
              "      <td>&lt;a href=\"http://twitter.com/download/iphone\" r...</td>\n",
              "      <td>RT @dog_rates: We are proud to support @LoveYo...</td>\n",
              "      <td>8.203146e+17</td>\n",
              "      <td>4.196984e+09</td>\n",
              "      <td>2017-01-14 17:00:24 +0000</td>\n",
              "      <td>https://www.loveyourmelon.com/pages/ourstory,h...</td>\n",
              "      <td>14</td>\n",
              "      <td>10</td>\n",
              "      <td>None</td>\n",
              "      <td>None</td>\n",
              "      <td>None</td>\n",
              "      <td>None</td>\n",
              "      <td>None</td>\n",
              "    </tr>\n",
              "    <tr>\n",
              "      <th>788</th>\n",
              "      <td>774314403806253056</td>\n",
              "      <td>NaN</td>\n",
              "      <td>NaN</td>\n",
              "      <td>2016-09-09 18:31:54 +0000</td>\n",
              "      <td>&lt;a href=\"http://twitter.com/download/iphone\" r...</td>\n",
              "      <td>I WAS SENT THE ACTUAL DOG IN THE PROFILE PIC B...</td>\n",
              "      <td>NaN</td>\n",
              "      <td>NaN</td>\n",
              "      <td>NaN</td>\n",
              "      <td>https://twitter.com/dog_rates/status/774314403...</td>\n",
              "      <td>14</td>\n",
              "      <td>10</td>\n",
              "      <td>None</td>\n",
              "      <td>None</td>\n",
              "      <td>None</td>\n",
              "      <td>None</td>\n",
              "      <td>None</td>\n",
              "    </tr>\n",
              "    <tr>\n",
              "      <th>83</th>\n",
              "      <td>876537666061221889</td>\n",
              "      <td>NaN</td>\n",
              "      <td>NaN</td>\n",
              "      <td>2017-06-18 20:30:39 +0000</td>\n",
              "      <td>&lt;a href=\"http://twitter.com/download/iphone\" r...</td>\n",
              "      <td>I can say with the pupmost confidence that the...</td>\n",
              "      <td>NaN</td>\n",
              "      <td>NaN</td>\n",
              "      <td>NaN</td>\n",
              "      <td>https://twitter.com/mpstowerham/status/8761629...</td>\n",
              "      <td>14</td>\n",
              "      <td>10</td>\n",
              "      <td>None</td>\n",
              "      <td>None</td>\n",
              "      <td>None</td>\n",
              "      <td>None</td>\n",
              "      <td>None</td>\n",
              "    </tr>\n",
              "    <tr>\n",
              "      <th>209</th>\n",
              "      <td>852226086759018497</td>\n",
              "      <td>NaN</td>\n",
              "      <td>NaN</td>\n",
              "      <td>2017-04-12 18:25:07 +0000</td>\n",
              "      <td>&lt;a href=\"http://twitter.com\" rel=\"nofollow\"&gt;Tw...</td>\n",
              "      <td>Meet General. He wasn't content with the quali...</td>\n",
              "      <td>NaN</td>\n",
              "      <td>NaN</td>\n",
              "      <td>NaN</td>\n",
              "      <td>https://twitter.com/dog_rates/status/852226086...</td>\n",
              "      <td>14</td>\n",
              "      <td>10</td>\n",
              "      <td>General</td>\n",
              "      <td>None</td>\n",
              "      <td>None</td>\n",
              "      <td>None</td>\n",
              "      <td>None</td>\n",
              "    </tr>\n",
              "    <tr>\n",
              "      <th>436</th>\n",
              "      <td>820314633777061888</td>\n",
              "      <td>NaN</td>\n",
              "      <td>NaN</td>\n",
              "      <td>2017-01-14 17:00:24 +0000</td>\n",
              "      <td>&lt;a href=\"http://twitter.com/download/iphone\" r...</td>\n",
              "      <td>We are proud to support @LoveYourMelon on thei...</td>\n",
              "      <td>NaN</td>\n",
              "      <td>NaN</td>\n",
              "      <td>NaN</td>\n",
              "      <td>https://www.loveyourmelon.com/pages/ourstory,h...</td>\n",
              "      <td>14</td>\n",
              "      <td>10</td>\n",
              "      <td>None</td>\n",
              "      <td>None</td>\n",
              "      <td>None</td>\n",
              "      <td>None</td>\n",
              "      <td>None</td>\n",
              "    </tr>\n",
              "    <tr>\n",
              "      <th>141</th>\n",
              "      <td>864873206498414592</td>\n",
              "      <td>NaN</td>\n",
              "      <td>NaN</td>\n",
              "      <td>2017-05-17 16:00:15 +0000</td>\n",
              "      <td>&lt;a href=\"http://twitter.com/download/iphone\" r...</td>\n",
              "      <td>We only rate dogs. Please don't send in Jesus....</td>\n",
              "      <td>NaN</td>\n",
              "      <td>NaN</td>\n",
              "      <td>NaN</td>\n",
              "      <td>https://twitter.com/dog_rates/status/864873206...</td>\n",
              "      <td>14</td>\n",
              "      <td>10</td>\n",
              "      <td>None</td>\n",
              "      <td>None</td>\n",
              "      <td>None</td>\n",
              "      <td>None</td>\n",
              "      <td>None</td>\n",
              "    </tr>\n",
              "    <tr>\n",
              "      <th>426</th>\n",
              "      <td>821407182352777218</td>\n",
              "      <td>NaN</td>\n",
              "      <td>NaN</td>\n",
              "      <td>2017-01-17 17:21:47 +0000</td>\n",
              "      <td>&lt;a href=\"http://twitter.com/download/iphone\" r...</td>\n",
              "      <td>This is Sundance. He's a doggo drummer. Even s...</td>\n",
              "      <td>NaN</td>\n",
              "      <td>NaN</td>\n",
              "      <td>NaN</td>\n",
              "      <td>https://twitter.com/dog_rates/status/821407182...</td>\n",
              "      <td>14</td>\n",
              "      <td>10</td>\n",
              "      <td>Sundance</td>\n",
              "      <td>doggo</td>\n",
              "      <td>None</td>\n",
              "      <td>None</td>\n",
              "      <td>None</td>\n",
              "    </tr>\n",
              "    <tr>\n",
              "      <th>76</th>\n",
              "      <td>878057613040115712</td>\n",
              "      <td>NaN</td>\n",
              "      <td>NaN</td>\n",
              "      <td>2017-06-23 01:10:23 +0000</td>\n",
              "      <td>&lt;a href=\"http://twitter.com/download/iphone\" r...</td>\n",
              "      <td>This is Emmy. She was adopted today. Massive r...</td>\n",
              "      <td>NaN</td>\n",
              "      <td>NaN</td>\n",
              "      <td>NaN</td>\n",
              "      <td>https://twitter.com/dog_rates/status/878057613...</td>\n",
              "      <td>14</td>\n",
              "      <td>10</td>\n",
              "      <td>Emmy</td>\n",
              "      <td>None</td>\n",
              "      <td>None</td>\n",
              "      <td>None</td>\n",
              "      <td>None</td>\n",
              "    </tr>\n",
              "    <tr>\n",
              "      <th>418</th>\n",
              "      <td>822462944365645825</td>\n",
              "      <td>NaN</td>\n",
              "      <td>NaN</td>\n",
              "      <td>2017-01-20 15:17:01 +0000</td>\n",
              "      <td>&lt;a href=\"http://twitter.com/download/iphone\" r...</td>\n",
              "      <td>This is Gabe. He was the unequivocal embodimen...</td>\n",
              "      <td>NaN</td>\n",
              "      <td>NaN</td>\n",
              "      <td>NaN</td>\n",
              "      <td>https://twitter.com/dog_rates/status/822462944...</td>\n",
              "      <td>14</td>\n",
              "      <td>10</td>\n",
              "      <td>Gabe</td>\n",
              "      <td>None</td>\n",
              "      <td>None</td>\n",
              "      <td>pupper</td>\n",
              "      <td>None</td>\n",
              "    </tr>\n",
              "    <tr>\n",
              "      <th>1609</th>\n",
              "      <td>685547936038666240</td>\n",
              "      <td>NaN</td>\n",
              "      <td>NaN</td>\n",
              "      <td>2016-01-08 19:45:39 +0000</td>\n",
              "      <td>&lt;a href=\"http://twitter.com/download/iphone\" r...</td>\n",
              "      <td>Everybody needs to read this. Jack is our firs...</td>\n",
              "      <td>NaN</td>\n",
              "      <td>NaN</td>\n",
              "      <td>NaN</td>\n",
              "      <td>https://twitter.com/dog_rates/status/685547936...</td>\n",
              "      <td>14</td>\n",
              "      <td>10</td>\n",
              "      <td>None</td>\n",
              "      <td>None</td>\n",
              "      <td>None</td>\n",
              "      <td>pupper</td>\n",
              "      <td>None</td>\n",
              "    </tr>\n",
              "    <tr>\n",
              "      <th>1605</th>\n",
              "      <td>685681090388975616</td>\n",
              "      <td>6.855479e+17</td>\n",
              "      <td>4.196984e+09</td>\n",
              "      <td>2016-01-09 04:34:45 +0000</td>\n",
              "      <td>&lt;a href=\"http://twitter.com/download/iphone\" r...</td>\n",
              "      <td>Jack deserves another round of applause. If yo...</td>\n",
              "      <td>NaN</td>\n",
              "      <td>NaN</td>\n",
              "      <td>NaN</td>\n",
              "      <td>NaN</td>\n",
              "      <td>14</td>\n",
              "      <td>10</td>\n",
              "      <td>None</td>\n",
              "      <td>None</td>\n",
              "      <td>None</td>\n",
              "      <td>None</td>\n",
              "      <td>None</td>\n",
              "    </tr>\n",
              "    <tr>\n",
              "      <th>68</th>\n",
              "      <td>879130579576475649</td>\n",
              "      <td>NaN</td>\n",
              "      <td>NaN</td>\n",
              "      <td>2017-06-26 00:13:58 +0000</td>\n",
              "      <td>&lt;a href=\"http://twitter.com/download/iphone\" r...</td>\n",
              "      <td>RT @dog_rates: This is Emmy. She was adopted t...</td>\n",
              "      <td>8.780576e+17</td>\n",
              "      <td>4.196984e+09</td>\n",
              "      <td>2017-06-23 01:10:23 +0000</td>\n",
              "      <td>https://twitter.com/dog_rates/status/878057613...</td>\n",
              "      <td>14</td>\n",
              "      <td>10</td>\n",
              "      <td>Emmy</td>\n",
              "      <td>None</td>\n",
              "      <td>None</td>\n",
              "      <td>None</td>\n",
              "      <td>None</td>\n",
              "    </tr>\n",
              "    <tr>\n",
              "      <th>404</th>\n",
              "      <td>824025158776213504</td>\n",
              "      <td>NaN</td>\n",
              "      <td>NaN</td>\n",
              "      <td>2017-01-24 22:44:42 +0000</td>\n",
              "      <td>&lt;a href=\"http://twitter.com/download/iphone\" r...</td>\n",
              "      <td>\"I wish we were dogs\" 14/10 for @BadlandsNPS h...</td>\n",
              "      <td>NaN</td>\n",
              "      <td>NaN</td>\n",
              "      <td>NaN</td>\n",
              "      <td>https://twitter.com/badlandsnps/status/8239662...</td>\n",
              "      <td>14</td>\n",
              "      <td>10</td>\n",
              "      <td>None</td>\n",
              "      <td>None</td>\n",
              "      <td>None</td>\n",
              "      <td>None</td>\n",
              "      <td>None</td>\n",
              "    </tr>\n",
              "    <tr>\n",
              "      <th>924</th>\n",
              "      <td>755206590534418437</td>\n",
              "      <td>NaN</td>\n",
              "      <td>NaN</td>\n",
              "      <td>2016-07-19 01:04:16 +0000</td>\n",
              "      <td>&lt;a href=\"http://twitter.com/download/iphone\" r...</td>\n",
              "      <td>This is one of the most inspirational stories ...</td>\n",
              "      <td>NaN</td>\n",
              "      <td>NaN</td>\n",
              "      <td>NaN</td>\n",
              "      <td>https://twitter.com/dog_rates/status/755206590...</td>\n",
              "      <td>14</td>\n",
              "      <td>10</td>\n",
              "      <td>one</td>\n",
              "      <td>doggo</td>\n",
              "      <td>None</td>\n",
              "      <td>None</td>\n",
              "      <td>None</td>\n",
              "    </tr>\n",
              "    <tr>\n",
              "      <th>64</th>\n",
              "      <td>879674319642796034</td>\n",
              "      <td>8.795538e+17</td>\n",
              "      <td>3.105441e+09</td>\n",
              "      <td>2017-06-27 12:14:36 +0000</td>\n",
              "      <td>&lt;a href=\"http://twitter.com/download/iphone\" r...</td>\n",
              "      <td>@RealKentMurphy 14/10 confirmed</td>\n",
              "      <td>NaN</td>\n",
              "      <td>NaN</td>\n",
              "      <td>NaN</td>\n",
              "      <td>NaN</td>\n",
              "      <td>14</td>\n",
              "      <td>10</td>\n",
              "      <td>None</td>\n",
              "      <td>None</td>\n",
              "      <td>None</td>\n",
              "      <td>None</td>\n",
              "      <td>None</td>\n",
              "    </tr>\n",
              "    <tr>\n",
              "      <th>395</th>\n",
              "      <td>825535076884762624</td>\n",
              "      <td>NaN</td>\n",
              "      <td>NaN</td>\n",
              "      <td>2017-01-29 02:44:34 +0000</td>\n",
              "      <td>&lt;a href=\"http://twitter.com/download/iphone\" r...</td>\n",
              "      <td>Here's a very loving and accepting puppo. Appe...</td>\n",
              "      <td>NaN</td>\n",
              "      <td>NaN</td>\n",
              "      <td>NaN</td>\n",
              "      <td>https://twitter.com/dog_rates/status/825535076...</td>\n",
              "      <td>14</td>\n",
              "      <td>10</td>\n",
              "      <td>None</td>\n",
              "      <td>None</td>\n",
              "      <td>None</td>\n",
              "      <td>None</td>\n",
              "      <td>puppo</td>\n",
              "    </tr>\n",
              "    <tr>\n",
              "      <th>...</th>\n",
              "      <td>...</td>\n",
              "      <td>...</td>\n",
              "      <td>...</td>\n",
              "      <td>...</td>\n",
              "      <td>...</td>\n",
              "      <td>...</td>\n",
              "      <td>...</td>\n",
              "      <td>...</td>\n",
              "      <td>...</td>\n",
              "      <td>...</td>\n",
              "      <td>...</td>\n",
              "      <td>...</td>\n",
              "      <td>...</td>\n",
              "      <td>...</td>\n",
              "      <td>...</td>\n",
              "      <td>...</td>\n",
              "      <td>...</td>\n",
              "    </tr>\n",
              "    <tr>\n",
              "      <th>2239</th>\n",
              "      <td>667937095915278337</td>\n",
              "      <td>NaN</td>\n",
              "      <td>NaN</td>\n",
              "      <td>2015-11-21 05:26:27 +0000</td>\n",
              "      <td>&lt;a href=\"http://twitter.com/download/iphone\" r...</td>\n",
              "      <td>This dog resembles a baked potato. Bed looks u...</td>\n",
              "      <td>NaN</td>\n",
              "      <td>NaN</td>\n",
              "      <td>NaN</td>\n",
              "      <td>https://twitter.com/dog_rates/status/667937095...</td>\n",
              "      <td>3</td>\n",
              "      <td>10</td>\n",
              "      <td>None</td>\n",
              "      <td>None</td>\n",
              "      <td>None</td>\n",
              "      <td>None</td>\n",
              "      <td>None</td>\n",
              "    </tr>\n",
              "    <tr>\n",
              "      <th>1898</th>\n",
              "      <td>674690135443775488</td>\n",
              "      <td>NaN</td>\n",
              "      <td>NaN</td>\n",
              "      <td>2015-12-09 20:40:38 +0000</td>\n",
              "      <td>&lt;a href=\"http://twitter.com/download/iphone\" r...</td>\n",
              "      <td>Meet Patrick. He's an exotic pup. Jumps great ...</td>\n",
              "      <td>NaN</td>\n",
              "      <td>NaN</td>\n",
              "      <td>NaN</td>\n",
              "      <td>https://twitter.com/dog_rates/status/674690135...</td>\n",
              "      <td>3</td>\n",
              "      <td>10</td>\n",
              "      <td>Patrick</td>\n",
              "      <td>None</td>\n",
              "      <td>None</td>\n",
              "      <td>None</td>\n",
              "      <td>None</td>\n",
              "    </tr>\n",
              "    <tr>\n",
              "      <th>2334</th>\n",
              "      <td>666293911632134144</td>\n",
              "      <td>NaN</td>\n",
              "      <td>NaN</td>\n",
              "      <td>2015-11-16 16:37:02 +0000</td>\n",
              "      <td>&lt;a href=\"http://twitter.com/download/iphone\" r...</td>\n",
              "      <td>This is a funny dog. Weird toes. Won't come do...</td>\n",
              "      <td>NaN</td>\n",
              "      <td>NaN</td>\n",
              "      <td>NaN</td>\n",
              "      <td>https://twitter.com/dog_rates/status/666293911...</td>\n",
              "      <td>3</td>\n",
              "      <td>10</td>\n",
              "      <td>a</td>\n",
              "      <td>None</td>\n",
              "      <td>None</td>\n",
              "      <td>None</td>\n",
              "      <td>None</td>\n",
              "    </tr>\n",
              "    <tr>\n",
              "      <th>1928</th>\n",
              "      <td>674045139690631169</td>\n",
              "      <td>NaN</td>\n",
              "      <td>NaN</td>\n",
              "      <td>2015-12-08 01:57:39 +0000</td>\n",
              "      <td>&lt;a href=\"http://twitter.com/download/iphone\" r...</td>\n",
              "      <td>Herd of wild dogs here. Not sure what they're ...</td>\n",
              "      <td>NaN</td>\n",
              "      <td>NaN</td>\n",
              "      <td>NaN</td>\n",
              "      <td>https://twitter.com/dog_rates/status/674045139...</td>\n",
              "      <td>3</td>\n",
              "      <td>10</td>\n",
              "      <td>None</td>\n",
              "      <td>None</td>\n",
              "      <td>None</td>\n",
              "      <td>None</td>\n",
              "      <td>None</td>\n",
              "    </tr>\n",
              "    <tr>\n",
              "      <th>1249</th>\n",
              "      <td>711306686208872448</td>\n",
              "      <td>NaN</td>\n",
              "      <td>NaN</td>\n",
              "      <td>2016-03-19 21:41:44 +0000</td>\n",
              "      <td>&lt;a href=\"http://twitter.com/download/iphone\" r...</td>\n",
              "      <td>What hooligan sent in pictures w/out a dog in ...</td>\n",
              "      <td>NaN</td>\n",
              "      <td>NaN</td>\n",
              "      <td>NaN</td>\n",
              "      <td>https://twitter.com/dog_rates/status/711306686...</td>\n",
              "      <td>3</td>\n",
              "      <td>10</td>\n",
              "      <td>None</td>\n",
              "      <td>None</td>\n",
              "      <td>None</td>\n",
              "      <td>None</td>\n",
              "      <td>None</td>\n",
              "    </tr>\n",
              "    <tr>\n",
              "      <th>1947</th>\n",
              "      <td>673700254269775872</td>\n",
              "      <td>NaN</td>\n",
              "      <td>NaN</td>\n",
              "      <td>2015-12-07 03:07:12 +0000</td>\n",
              "      <td>&lt;a href=\"http://twitter.com/download/iphone\" r...</td>\n",
              "      <td>Large blue dog here. Cool shades. Flipping us ...</td>\n",
              "      <td>NaN</td>\n",
              "      <td>NaN</td>\n",
              "      <td>NaN</td>\n",
              "      <td>https://twitter.com/dog_rates/status/673700254...</td>\n",
              "      <td>3</td>\n",
              "      <td>10</td>\n",
              "      <td>None</td>\n",
              "      <td>None</td>\n",
              "      <td>None</td>\n",
              "      <td>None</td>\n",
              "      <td>None</td>\n",
              "    </tr>\n",
              "    <tr>\n",
              "      <th>1938</th>\n",
              "      <td>673906403526995968</td>\n",
              "      <td>NaN</td>\n",
              "      <td>NaN</td>\n",
              "      <td>2015-12-07 16:46:21 +0000</td>\n",
              "      <td>&lt;a href=\"http://twitter.com/download/iphone\" r...</td>\n",
              "      <td>Guys I'm getting real tired of this. We only r...</td>\n",
              "      <td>NaN</td>\n",
              "      <td>NaN</td>\n",
              "      <td>NaN</td>\n",
              "      <td>https://twitter.com/dog_rates/status/673906403...</td>\n",
              "      <td>3</td>\n",
              "      <td>10</td>\n",
              "      <td>None</td>\n",
              "      <td>None</td>\n",
              "      <td>None</td>\n",
              "      <td>None</td>\n",
              "      <td>None</td>\n",
              "    </tr>\n",
              "    <tr>\n",
              "      <th>1314</th>\n",
              "      <td>706901761596989440</td>\n",
              "      <td>NaN</td>\n",
              "      <td>NaN</td>\n",
              "      <td>2016-03-07 17:58:08 +0000</td>\n",
              "      <td>&lt;a href=\"http://twitter.com/download/iphone\" r...</td>\n",
              "      <td>This is Elliot. He's blocking the roadway. Dow...</td>\n",
              "      <td>NaN</td>\n",
              "      <td>NaN</td>\n",
              "      <td>NaN</td>\n",
              "      <td>https://twitter.com/dog_rates/status/706901761...</td>\n",
              "      <td>3</td>\n",
              "      <td>10</td>\n",
              "      <td>Elliot</td>\n",
              "      <td>None</td>\n",
              "      <td>None</td>\n",
              "      <td>None</td>\n",
              "      <td>None</td>\n",
              "    </tr>\n",
              "    <tr>\n",
              "      <th>2202</th>\n",
              "      <td>668643542311546881</td>\n",
              "      <td>NaN</td>\n",
              "      <td>NaN</td>\n",
              "      <td>2015-11-23 04:13:37 +0000</td>\n",
              "      <td>&lt;a href=\"http://twitter.com/download/iphone\" r...</td>\n",
              "      <td>Fascinating dog here. Loves beach. Oddly long ...</td>\n",
              "      <td>NaN</td>\n",
              "      <td>NaN</td>\n",
              "      <td>NaN</td>\n",
              "      <td>https://twitter.com/dog_rates/status/668643542...</td>\n",
              "      <td>3</td>\n",
              "      <td>10</td>\n",
              "      <td>None</td>\n",
              "      <td>None</td>\n",
              "      <td>None</td>\n",
              "      <td>None</td>\n",
              "      <td>None</td>\n",
              "    </tr>\n",
              "    <tr>\n",
              "      <th>2305</th>\n",
              "      <td>666837028449972224</td>\n",
              "      <td>NaN</td>\n",
              "      <td>NaN</td>\n",
              "      <td>2015-11-18 04:35:11 +0000</td>\n",
              "      <td>&lt;a href=\"http://twitter.com/download/iphone\" r...</td>\n",
              "      <td>My goodness. Very rare dog here. Large. Tail d...</td>\n",
              "      <td>NaN</td>\n",
              "      <td>NaN</td>\n",
              "      <td>NaN</td>\n",
              "      <td>https://twitter.com/dog_rates/status/666837028...</td>\n",
              "      <td>3</td>\n",
              "      <td>10</td>\n",
              "      <td>None</td>\n",
              "      <td>None</td>\n",
              "      <td>None</td>\n",
              "      <td>None</td>\n",
              "      <td>None</td>\n",
              "    </tr>\n",
              "    <tr>\n",
              "      <th>765</th>\n",
              "      <td>777885040357281792</td>\n",
              "      <td>NaN</td>\n",
              "      <td>NaN</td>\n",
              "      <td>2016-09-19 15:00:20 +0000</td>\n",
              "      <td>&lt;a href=\"http://twitter.com/download/iphone\" r...</td>\n",
              "      <td>This is Wesley. He's clearly trespassing. Seem...</td>\n",
              "      <td>NaN</td>\n",
              "      <td>NaN</td>\n",
              "      <td>NaN</td>\n",
              "      <td>https://twitter.com/dog_rates/status/777885040...</td>\n",
              "      <td>3</td>\n",
              "      <td>10</td>\n",
              "      <td>Wesley</td>\n",
              "      <td>None</td>\n",
              "      <td>None</td>\n",
              "      <td>None</td>\n",
              "      <td>None</td>\n",
              "    </tr>\n",
              "    <tr>\n",
              "      <th>2237</th>\n",
              "      <td>668142349051129856</td>\n",
              "      <td>NaN</td>\n",
              "      <td>NaN</td>\n",
              "      <td>2015-11-21 19:02:04 +0000</td>\n",
              "      <td>&lt;a href=\"http://twitter.com/download/iphone\" r...</td>\n",
              "      <td>This lil pup is Oliver. Hops around. Has wings...</td>\n",
              "      <td>NaN</td>\n",
              "      <td>NaN</td>\n",
              "      <td>NaN</td>\n",
              "      <td>https://twitter.com/dog_rates/status/668142349...</td>\n",
              "      <td>2</td>\n",
              "      <td>10</td>\n",
              "      <td>None</td>\n",
              "      <td>None</td>\n",
              "      <td>None</td>\n",
              "      <td>None</td>\n",
              "      <td>None</td>\n",
              "    </tr>\n",
              "    <tr>\n",
              "      <th>2326</th>\n",
              "      <td>666411507551481857</td>\n",
              "      <td>NaN</td>\n",
              "      <td>NaN</td>\n",
              "      <td>2015-11-17 00:24:19 +0000</td>\n",
              "      <td>&lt;a href=\"http://twitter.com/download/iphone\" r...</td>\n",
              "      <td>This is quite the dog. Gets really excited whe...</td>\n",
              "      <td>NaN</td>\n",
              "      <td>NaN</td>\n",
              "      <td>NaN</td>\n",
              "      <td>https://twitter.com/dog_rates/status/666411507...</td>\n",
              "      <td>2</td>\n",
              "      <td>10</td>\n",
              "      <td>quite</td>\n",
              "      <td>None</td>\n",
              "      <td>None</td>\n",
              "      <td>None</td>\n",
              "      <td>None</td>\n",
              "    </tr>\n",
              "    <tr>\n",
              "      <th>2349</th>\n",
              "      <td>666051853826850816</td>\n",
              "      <td>NaN</td>\n",
              "      <td>NaN</td>\n",
              "      <td>2015-11-16 00:35:11 +0000</td>\n",
              "      <td>&lt;a href=\"http://twitter.com/download/iphone\" r...</td>\n",
              "      <td>This is an odd dog. Hard on the outside but lo...</td>\n",
              "      <td>NaN</td>\n",
              "      <td>NaN</td>\n",
              "      <td>NaN</td>\n",
              "      <td>https://twitter.com/dog_rates/status/666051853...</td>\n",
              "      <td>2</td>\n",
              "      <td>10</td>\n",
              "      <td>an</td>\n",
              "      <td>None</td>\n",
              "      <td>None</td>\n",
              "      <td>None</td>\n",
              "      <td>None</td>\n",
              "    </tr>\n",
              "    <tr>\n",
              "      <th>2310</th>\n",
              "      <td>666786068205871104</td>\n",
              "      <td>NaN</td>\n",
              "      <td>NaN</td>\n",
              "      <td>2015-11-18 01:12:41 +0000</td>\n",
              "      <td>&lt;a href=\"http://twitter.com/download/iphone\" r...</td>\n",
              "      <td>Unfamiliar with this breed. Ears pointy af. Wo...</td>\n",
              "      <td>NaN</td>\n",
              "      <td>NaN</td>\n",
              "      <td>NaN</td>\n",
              "      <td>https://twitter.com/dog_rates/status/666786068...</td>\n",
              "      <td>2</td>\n",
              "      <td>10</td>\n",
              "      <td>None</td>\n",
              "      <td>None</td>\n",
              "      <td>None</td>\n",
              "      <td>None</td>\n",
              "      <td>None</td>\n",
              "    </tr>\n",
              "    <tr>\n",
              "      <th>1920</th>\n",
              "      <td>674265582246694913</td>\n",
              "      <td>NaN</td>\n",
              "      <td>NaN</td>\n",
              "      <td>2015-12-08 16:33:36 +0000</td>\n",
              "      <td>&lt;a href=\"http://twitter.com/download/iphone\" r...</td>\n",
              "      <td>This is Henry. He's a shit dog. Short pointy e...</td>\n",
              "      <td>NaN</td>\n",
              "      <td>NaN</td>\n",
              "      <td>NaN</td>\n",
              "      <td>https://twitter.com/dog_rates/status/674265582...</td>\n",
              "      <td>2</td>\n",
              "      <td>10</td>\n",
              "      <td>Henry</td>\n",
              "      <td>None</td>\n",
              "      <td>None</td>\n",
              "      <td>None</td>\n",
              "      <td>None</td>\n",
              "    </tr>\n",
              "    <tr>\n",
              "      <th>2079</th>\n",
              "      <td>670826280409919488</td>\n",
              "      <td>NaN</td>\n",
              "      <td>NaN</td>\n",
              "      <td>2015-11-29 04:47:03 +0000</td>\n",
              "      <td>&lt;a href=\"http://twitter.com/download/iphone\" r...</td>\n",
              "      <td>Scary dog here. Too many legs. Extra tail. Not...</td>\n",
              "      <td>NaN</td>\n",
              "      <td>NaN</td>\n",
              "      <td>NaN</td>\n",
              "      <td>https://twitter.com/dog_rates/status/670826280...</td>\n",
              "      <td>2</td>\n",
              "      <td>10</td>\n",
              "      <td>None</td>\n",
              "      <td>None</td>\n",
              "      <td>None</td>\n",
              "      <td>None</td>\n",
              "      <td>None</td>\n",
              "    </tr>\n",
              "    <tr>\n",
              "      <th>1761</th>\n",
              "      <td>678675843183484930</td>\n",
              "      <td>NaN</td>\n",
              "      <td>NaN</td>\n",
              "      <td>2015-12-20 20:38:24 +0000</td>\n",
              "      <td>&lt;a href=\"http://twitter.com/download/iphone\" r...</td>\n",
              "      <td>Exotic pup here. Tail long af. Throat looks sw...</td>\n",
              "      <td>NaN</td>\n",
              "      <td>NaN</td>\n",
              "      <td>NaN</td>\n",
              "      <td>https://twitter.com/dog_rates/status/678675843...</td>\n",
              "      <td>2</td>\n",
              "      <td>10</td>\n",
              "      <td>None</td>\n",
              "      <td>None</td>\n",
              "      <td>None</td>\n",
              "      <td>None</td>\n",
              "      <td>None</td>\n",
              "    </tr>\n",
              "    <tr>\n",
              "      <th>2246</th>\n",
              "      <td>667878741721415682</td>\n",
              "      <td>NaN</td>\n",
              "      <td>NaN</td>\n",
              "      <td>2015-11-21 01:34:35 +0000</td>\n",
              "      <td>&lt;a href=\"http://twitter.com/download/iphone\" r...</td>\n",
              "      <td>This is Tedrick. He lives on the edge. Needs s...</td>\n",
              "      <td>NaN</td>\n",
              "      <td>NaN</td>\n",
              "      <td>NaN</td>\n",
              "      <td>https://twitter.com/dog_rates/status/667878741...</td>\n",
              "      <td>2</td>\n",
              "      <td>10</td>\n",
              "      <td>Tedrick</td>\n",
              "      <td>None</td>\n",
              "      <td>None</td>\n",
              "      <td>None</td>\n",
              "      <td>None</td>\n",
              "    </tr>\n",
              "    <tr>\n",
              "      <th>1764</th>\n",
              "      <td>678424312106393600</td>\n",
              "      <td>NaN</td>\n",
              "      <td>NaN</td>\n",
              "      <td>2015-12-20 03:58:55 +0000</td>\n",
              "      <td>&lt;a href=\"http://twitter.com/download/iphone\" r...</td>\n",
              "      <td>This is Crystal. She's a shitty fireman. No se...</td>\n",
              "      <td>NaN</td>\n",
              "      <td>NaN</td>\n",
              "      <td>NaN</td>\n",
              "      <td>https://twitter.com/dog_rates/status/678424312...</td>\n",
              "      <td>2</td>\n",
              "      <td>10</td>\n",
              "      <td>Crystal</td>\n",
              "      <td>None</td>\n",
              "      <td>None</td>\n",
              "      <td>None</td>\n",
              "      <td>None</td>\n",
              "    </tr>\n",
              "    <tr>\n",
              "      <th>2261</th>\n",
              "      <td>667549055577362432</td>\n",
              "      <td>NaN</td>\n",
              "      <td>NaN</td>\n",
              "      <td>2015-11-20 03:44:31 +0000</td>\n",
              "      <td>&lt;a href=\"http://twitter.com\" rel=\"nofollow\"&gt;Tw...</td>\n",
              "      <td>Never seen dog like this. Breathes heavy. Tilt...</td>\n",
              "      <td>NaN</td>\n",
              "      <td>NaN</td>\n",
              "      <td>NaN</td>\n",
              "      <td>https://twitter.com/dog_rates/status/667549055...</td>\n",
              "      <td>1</td>\n",
              "      <td>10</td>\n",
              "      <td>None</td>\n",
              "      <td>None</td>\n",
              "      <td>None</td>\n",
              "      <td>None</td>\n",
              "      <td>None</td>\n",
              "    </tr>\n",
              "    <tr>\n",
              "      <th>1940</th>\n",
              "      <td>673716320723169284</td>\n",
              "      <td>6.737159e+17</td>\n",
              "      <td>4.196984e+09</td>\n",
              "      <td>2015-12-07 04:11:02 +0000</td>\n",
              "      <td>&lt;a href=\"http://twitter.com/download/iphone\" r...</td>\n",
              "      <td>The millennials have spoken and we've decided ...</td>\n",
              "      <td>NaN</td>\n",
              "      <td>NaN</td>\n",
              "      <td>NaN</td>\n",
              "      <td>NaN</td>\n",
              "      <td>1</td>\n",
              "      <td>10</td>\n",
              "      <td>None</td>\n",
              "      <td>None</td>\n",
              "      <td>None</td>\n",
              "      <td>None</td>\n",
              "      <td>None</td>\n",
              "    </tr>\n",
              "    <tr>\n",
              "      <th>1869</th>\n",
              "      <td>675153376133427200</td>\n",
              "      <td>NaN</td>\n",
              "      <td>NaN</td>\n",
              "      <td>2015-12-11 03:21:23 +0000</td>\n",
              "      <td>&lt;a href=\"http://twitter.com/download/iphone\" r...</td>\n",
              "      <td>What kind of person sends in a picture without...</td>\n",
              "      <td>NaN</td>\n",
              "      <td>NaN</td>\n",
              "      <td>NaN</td>\n",
              "      <td>https://twitter.com/dog_rates/status/675153376...</td>\n",
              "      <td>1</td>\n",
              "      <td>10</td>\n",
              "      <td>None</td>\n",
              "      <td>None</td>\n",
              "      <td>None</td>\n",
              "      <td>None</td>\n",
              "      <td>None</td>\n",
              "    </tr>\n",
              "    <tr>\n",
              "      <th>2091</th>\n",
              "      <td>670783437142401025</td>\n",
              "      <td>NaN</td>\n",
              "      <td>NaN</td>\n",
              "      <td>2015-11-29 01:56:48 +0000</td>\n",
              "      <td>&lt;a href=\"http://twitter.com/download/iphone\" r...</td>\n",
              "      <td>Flamboyant pup here. Probably poisonous. Won't...</td>\n",
              "      <td>NaN</td>\n",
              "      <td>NaN</td>\n",
              "      <td>NaN</td>\n",
              "      <td>https://twitter.com/dog_rates/status/670783437...</td>\n",
              "      <td>1</td>\n",
              "      <td>10</td>\n",
              "      <td>None</td>\n",
              "      <td>None</td>\n",
              "      <td>None</td>\n",
              "      <td>None</td>\n",
              "      <td>None</td>\n",
              "    </tr>\n",
              "    <tr>\n",
              "      <th>605</th>\n",
              "      <td>798576900688019456</td>\n",
              "      <td>NaN</td>\n",
              "      <td>NaN</td>\n",
              "      <td>2016-11-15 17:22:24 +0000</td>\n",
              "      <td>&lt;a href=\"http://twitter.com/download/iphone\" r...</td>\n",
              "      <td>RT @dog_rates: Not familiar with this breed. N...</td>\n",
              "      <td>6.661041e+17</td>\n",
              "      <td>4.196984e+09</td>\n",
              "      <td>2015-11-16 04:02:55 +0000</td>\n",
              "      <td>https://twitter.com/dog_rates/status/666104133...</td>\n",
              "      <td>1</td>\n",
              "      <td>10</td>\n",
              "      <td>None</td>\n",
              "      <td>None</td>\n",
              "      <td>None</td>\n",
              "      <td>None</td>\n",
              "      <td>None</td>\n",
              "    </tr>\n",
              "    <tr>\n",
              "      <th>1446</th>\n",
              "      <td>696490539101908992</td>\n",
              "      <td>6.964887e+17</td>\n",
              "      <td>4.196984e+09</td>\n",
              "      <td>2016-02-08 00:27:39 +0000</td>\n",
              "      <td>&lt;a href=\"http://twitter.com/download/iphone\" r...</td>\n",
              "      <td>After reading the comments I may have overesti...</td>\n",
              "      <td>NaN</td>\n",
              "      <td>NaN</td>\n",
              "      <td>NaN</td>\n",
              "      <td>NaN</td>\n",
              "      <td>1</td>\n",
              "      <td>10</td>\n",
              "      <td>None</td>\n",
              "      <td>None</td>\n",
              "      <td>None</td>\n",
              "      <td>None</td>\n",
              "      <td>None</td>\n",
              "    </tr>\n",
              "    <tr>\n",
              "      <th>2338</th>\n",
              "      <td>666104133288665088</td>\n",
              "      <td>NaN</td>\n",
              "      <td>NaN</td>\n",
              "      <td>2015-11-16 04:02:55 +0000</td>\n",
              "      <td>&lt;a href=\"http://twitter.com/download/iphone\" r...</td>\n",
              "      <td>Not familiar with this breed. No tail (weird)....</td>\n",
              "      <td>NaN</td>\n",
              "      <td>NaN</td>\n",
              "      <td>NaN</td>\n",
              "      <td>https://twitter.com/dog_rates/status/666104133...</td>\n",
              "      <td>1</td>\n",
              "      <td>10</td>\n",
              "      <td>None</td>\n",
              "      <td>None</td>\n",
              "      <td>None</td>\n",
              "      <td>None</td>\n",
              "      <td>None</td>\n",
              "    </tr>\n",
              "    <tr>\n",
              "      <th>2038</th>\n",
              "      <td>671550332464455680</td>\n",
              "      <td>6.715449e+17</td>\n",
              "      <td>4.196984e+09</td>\n",
              "      <td>2015-12-01 04:44:10 +0000</td>\n",
              "      <td>&lt;a href=\"http://twitter.com/download/iphone\" r...</td>\n",
              "      <td>After 22 minutes of careful deliberation this ...</td>\n",
              "      <td>NaN</td>\n",
              "      <td>NaN</td>\n",
              "      <td>NaN</td>\n",
              "      <td>NaN</td>\n",
              "      <td>1</td>\n",
              "      <td>10</td>\n",
              "      <td>None</td>\n",
              "      <td>None</td>\n",
              "      <td>None</td>\n",
              "      <td>None</td>\n",
              "      <td>None</td>\n",
              "    </tr>\n",
              "    <tr>\n",
              "      <th>1016</th>\n",
              "      <td>746906459439529985</td>\n",
              "      <td>7.468859e+17</td>\n",
              "      <td>4.196984e+09</td>\n",
              "      <td>2016-06-26 03:22:31 +0000</td>\n",
              "      <td>&lt;a href=\"http://twitter.com/download/iphone\" r...</td>\n",
              "      <td>PUPDATE: can't see any. Even if I could, I cou...</td>\n",
              "      <td>NaN</td>\n",
              "      <td>NaN</td>\n",
              "      <td>NaN</td>\n",
              "      <td>https://twitter.com/dog_rates/status/746906459...</td>\n",
              "      <td>0</td>\n",
              "      <td>10</td>\n",
              "      <td>None</td>\n",
              "      <td>None</td>\n",
              "      <td>None</td>\n",
              "      <td>None</td>\n",
              "      <td>None</td>\n",
              "    </tr>\n",
              "    <tr>\n",
              "      <th>315</th>\n",
              "      <td>835152434251116546</td>\n",
              "      <td>NaN</td>\n",
              "      <td>NaN</td>\n",
              "      <td>2017-02-24 15:40:31 +0000</td>\n",
              "      <td>&lt;a href=\"http://twitter.com/download/iphone\" r...</td>\n",
              "      <td>When you're so blinded by your systematic plag...</td>\n",
              "      <td>NaN</td>\n",
              "      <td>NaN</td>\n",
              "      <td>NaN</td>\n",
              "      <td>https://twitter.com/dog_rates/status/835152434...</td>\n",
              "      <td>0</td>\n",
              "      <td>10</td>\n",
              "      <td>None</td>\n",
              "      <td>None</td>\n",
              "      <td>None</td>\n",
              "      <td>None</td>\n",
              "      <td>None</td>\n",
              "    </tr>\n",
              "  </tbody>\n",
              "</table>\n",
              "<p>2333 rows × 17 columns</p>\n",
              "</div>"
            ],
            "text/plain": [
              "                tweet_id  in_reply_to_status_id  in_reply_to_user_id  \\\n",
              "979   749981277374128128                    NaN                  NaN   \n",
              "189   855860136149123072           8.558585e+17         1.361572e+07   \n",
              "188   855862651834028034           8.558616e+17         1.943518e+08   \n",
              "2074  670842764863651840                    NaN                  NaN   \n",
              "290   838150277551247360           8.381455e+17         2.195506e+07   \n",
              "340   832215909146226688                    NaN                  NaN   \n",
              "695   786709082849828864                    NaN                  NaN   \n",
              "763   778027034220126208                    NaN                  NaN   \n",
              "1712  680494726643068929                    NaN                  NaN   \n",
              "55    881633300179243008           8.816070e+17         4.738443e+07   \n",
              "285   838916489579200512                    NaN                  NaN   \n",
              "291   838085839343206401           8.380855e+17         2.894131e+09   \n",
              "95    873697596434513921                    NaN                  NaN   \n",
              "214   851464819735769094                    NaN                  NaN   \n",
              "434   820494788566847489                    NaN                  NaN   \n",
              "788   774314403806253056                    NaN                  NaN   \n",
              "83    876537666061221889                    NaN                  NaN   \n",
              "209   852226086759018497                    NaN                  NaN   \n",
              "436   820314633777061888                    NaN                  NaN   \n",
              "141   864873206498414592                    NaN                  NaN   \n",
              "426   821407182352777218                    NaN                  NaN   \n",
              "76    878057613040115712                    NaN                  NaN   \n",
              "418   822462944365645825                    NaN                  NaN   \n",
              "1609  685547936038666240                    NaN                  NaN   \n",
              "1605  685681090388975616           6.855479e+17         4.196984e+09   \n",
              "68    879130579576475649                    NaN                  NaN   \n",
              "404   824025158776213504                    NaN                  NaN   \n",
              "924   755206590534418437                    NaN                  NaN   \n",
              "64    879674319642796034           8.795538e+17         3.105441e+09   \n",
              "395   825535076884762624                    NaN                  NaN   \n",
              "...                  ...                    ...                  ...   \n",
              "2239  667937095915278337                    NaN                  NaN   \n",
              "1898  674690135443775488                    NaN                  NaN   \n",
              "2334  666293911632134144                    NaN                  NaN   \n",
              "1928  674045139690631169                    NaN                  NaN   \n",
              "1249  711306686208872448                    NaN                  NaN   \n",
              "1947  673700254269775872                    NaN                  NaN   \n",
              "1938  673906403526995968                    NaN                  NaN   \n",
              "1314  706901761596989440                    NaN                  NaN   \n",
              "2202  668643542311546881                    NaN                  NaN   \n",
              "2305  666837028449972224                    NaN                  NaN   \n",
              "765   777885040357281792                    NaN                  NaN   \n",
              "2237  668142349051129856                    NaN                  NaN   \n",
              "2326  666411507551481857                    NaN                  NaN   \n",
              "2349  666051853826850816                    NaN                  NaN   \n",
              "2310  666786068205871104                    NaN                  NaN   \n",
              "1920  674265582246694913                    NaN                  NaN   \n",
              "2079  670826280409919488                    NaN                  NaN   \n",
              "1761  678675843183484930                    NaN                  NaN   \n",
              "2246  667878741721415682                    NaN                  NaN   \n",
              "1764  678424312106393600                    NaN                  NaN   \n",
              "2261  667549055577362432                    NaN                  NaN   \n",
              "1940  673716320723169284           6.737159e+17         4.196984e+09   \n",
              "1869  675153376133427200                    NaN                  NaN   \n",
              "2091  670783437142401025                    NaN                  NaN   \n",
              "605   798576900688019456                    NaN                  NaN   \n",
              "1446  696490539101908992           6.964887e+17         4.196984e+09   \n",
              "2338  666104133288665088                    NaN                  NaN   \n",
              "2038  671550332464455680           6.715449e+17         4.196984e+09   \n",
              "1016  746906459439529985           7.468859e+17         4.196984e+09   \n",
              "315   835152434251116546                    NaN                  NaN   \n",
              "\n",
              "                      timestamp  \\\n",
              "979   2016-07-04 15:00:45 +0000   \n",
              "189   2017-04-22 19:05:32 +0000   \n",
              "188   2017-04-22 19:15:32 +0000   \n",
              "2074  2015-11-29 05:52:33 +0000   \n",
              "290   2017-03-04 22:12:52 +0000   \n",
              "340   2017-02-16 13:11:49 +0000   \n",
              "695   2016-10-13 23:23:56 +0000   \n",
              "763   2016-09-20 00:24:34 +0000   \n",
              "1712  2015-12-25 21:06:00 +0000   \n",
              "55    2017-07-02 21:58:53 +0000   \n",
              "285   2017-03-07 00:57:32 +0000   \n",
              "291   2017-03-04 17:56:49 +0000   \n",
              "95    2017-06-11 00:25:14 +0000   \n",
              "214   2017-04-10 16:00:07 +0000   \n",
              "434   2017-01-15 04:56:16 +0000   \n",
              "788   2016-09-09 18:31:54 +0000   \n",
              "83    2017-06-18 20:30:39 +0000   \n",
              "209   2017-04-12 18:25:07 +0000   \n",
              "436   2017-01-14 17:00:24 +0000   \n",
              "141   2017-05-17 16:00:15 +0000   \n",
              "426   2017-01-17 17:21:47 +0000   \n",
              "76    2017-06-23 01:10:23 +0000   \n",
              "418   2017-01-20 15:17:01 +0000   \n",
              "1609  2016-01-08 19:45:39 +0000   \n",
              "1605  2016-01-09 04:34:45 +0000   \n",
              "68    2017-06-26 00:13:58 +0000   \n",
              "404   2017-01-24 22:44:42 +0000   \n",
              "924   2016-07-19 01:04:16 +0000   \n",
              "64    2017-06-27 12:14:36 +0000   \n",
              "395   2017-01-29 02:44:34 +0000   \n",
              "...                         ...   \n",
              "2239  2015-11-21 05:26:27 +0000   \n",
              "1898  2015-12-09 20:40:38 +0000   \n",
              "2334  2015-11-16 16:37:02 +0000   \n",
              "1928  2015-12-08 01:57:39 +0000   \n",
              "1249  2016-03-19 21:41:44 +0000   \n",
              "1947  2015-12-07 03:07:12 +0000   \n",
              "1938  2015-12-07 16:46:21 +0000   \n",
              "1314  2016-03-07 17:58:08 +0000   \n",
              "2202  2015-11-23 04:13:37 +0000   \n",
              "2305  2015-11-18 04:35:11 +0000   \n",
              "765   2016-09-19 15:00:20 +0000   \n",
              "2237  2015-11-21 19:02:04 +0000   \n",
              "2326  2015-11-17 00:24:19 +0000   \n",
              "2349  2015-11-16 00:35:11 +0000   \n",
              "2310  2015-11-18 01:12:41 +0000   \n",
              "1920  2015-12-08 16:33:36 +0000   \n",
              "2079  2015-11-29 04:47:03 +0000   \n",
              "1761  2015-12-20 20:38:24 +0000   \n",
              "2246  2015-11-21 01:34:35 +0000   \n",
              "1764  2015-12-20 03:58:55 +0000   \n",
              "2261  2015-11-20 03:44:31 +0000   \n",
              "1940  2015-12-07 04:11:02 +0000   \n",
              "1869  2015-12-11 03:21:23 +0000   \n",
              "2091  2015-11-29 01:56:48 +0000   \n",
              "605   2016-11-15 17:22:24 +0000   \n",
              "1446  2016-02-08 00:27:39 +0000   \n",
              "2338  2015-11-16 04:02:55 +0000   \n",
              "2038  2015-12-01 04:44:10 +0000   \n",
              "1016  2016-06-26 03:22:31 +0000   \n",
              "315   2017-02-24 15:40:31 +0000   \n",
              "\n",
              "                                                 source  \\\n",
              "979   <a href=\"https://about.twitter.com/products/tw...   \n",
              "189   <a href=\"http://twitter.com/download/iphone\" r...   \n",
              "188   <a href=\"http://twitter.com/download/iphone\" r...   \n",
              "2074  <a href=\"http://twitter.com/download/iphone\" r...   \n",
              "290   <a href=\"http://twitter.com/download/iphone\" r...   \n",
              "340   <a href=\"http://twitter.com/download/iphone\" r...   \n",
              "695   <a href=\"http://twitter.com/download/iphone\" r...   \n",
              "763   <a href=\"http://twitter.com/download/iphone\" r...   \n",
              "1712  <a href=\"http://twitter.com/download/iphone\" r...   \n",
              "55    <a href=\"http://twitter.com/download/iphone\" r...   \n",
              "285   <a href=\"http://twitter.com/download/iphone\" r...   \n",
              "291   <a href=\"http://twitter.com/download/iphone\" r...   \n",
              "95    <a href=\"http://twitter.com/download/iphone\" r...   \n",
              "214   <a href=\"http://twitter.com/download/iphone\" r...   \n",
              "434   <a href=\"http://twitter.com/download/iphone\" r...   \n",
              "788   <a href=\"http://twitter.com/download/iphone\" r...   \n",
              "83    <a href=\"http://twitter.com/download/iphone\" r...   \n",
              "209   <a href=\"http://twitter.com\" rel=\"nofollow\">Tw...   \n",
              "436   <a href=\"http://twitter.com/download/iphone\" r...   \n",
              "141   <a href=\"http://twitter.com/download/iphone\" r...   \n",
              "426   <a href=\"http://twitter.com/download/iphone\" r...   \n",
              "76    <a href=\"http://twitter.com/download/iphone\" r...   \n",
              "418   <a href=\"http://twitter.com/download/iphone\" r...   \n",
              "1609  <a href=\"http://twitter.com/download/iphone\" r...   \n",
              "1605  <a href=\"http://twitter.com/download/iphone\" r...   \n",
              "68    <a href=\"http://twitter.com/download/iphone\" r...   \n",
              "404   <a href=\"http://twitter.com/download/iphone\" r...   \n",
              "924   <a href=\"http://twitter.com/download/iphone\" r...   \n",
              "64    <a href=\"http://twitter.com/download/iphone\" r...   \n",
              "395   <a href=\"http://twitter.com/download/iphone\" r...   \n",
              "...                                                 ...   \n",
              "2239  <a href=\"http://twitter.com/download/iphone\" r...   \n",
              "1898  <a href=\"http://twitter.com/download/iphone\" r...   \n",
              "2334  <a href=\"http://twitter.com/download/iphone\" r...   \n",
              "1928  <a href=\"http://twitter.com/download/iphone\" r...   \n",
              "1249  <a href=\"http://twitter.com/download/iphone\" r...   \n",
              "1947  <a href=\"http://twitter.com/download/iphone\" r...   \n",
              "1938  <a href=\"http://twitter.com/download/iphone\" r...   \n",
              "1314  <a href=\"http://twitter.com/download/iphone\" r...   \n",
              "2202  <a href=\"http://twitter.com/download/iphone\" r...   \n",
              "2305  <a href=\"http://twitter.com/download/iphone\" r...   \n",
              "765   <a href=\"http://twitter.com/download/iphone\" r...   \n",
              "2237  <a href=\"http://twitter.com/download/iphone\" r...   \n",
              "2326  <a href=\"http://twitter.com/download/iphone\" r...   \n",
              "2349  <a href=\"http://twitter.com/download/iphone\" r...   \n",
              "2310  <a href=\"http://twitter.com/download/iphone\" r...   \n",
              "1920  <a href=\"http://twitter.com/download/iphone\" r...   \n",
              "2079  <a href=\"http://twitter.com/download/iphone\" r...   \n",
              "1761  <a href=\"http://twitter.com/download/iphone\" r...   \n",
              "2246  <a href=\"http://twitter.com/download/iphone\" r...   \n",
              "1764  <a href=\"http://twitter.com/download/iphone\" r...   \n",
              "2261  <a href=\"http://twitter.com\" rel=\"nofollow\">Tw...   \n",
              "1940  <a href=\"http://twitter.com/download/iphone\" r...   \n",
              "1869  <a href=\"http://twitter.com/download/iphone\" r...   \n",
              "2091  <a href=\"http://twitter.com/download/iphone\" r...   \n",
              "605   <a href=\"http://twitter.com/download/iphone\" r...   \n",
              "1446  <a href=\"http://twitter.com/download/iphone\" r...   \n",
              "2338  <a href=\"http://twitter.com/download/iphone\" r...   \n",
              "2038  <a href=\"http://twitter.com/download/iphone\" r...   \n",
              "1016  <a href=\"http://twitter.com/download/iphone\" r...   \n",
              "315   <a href=\"http://twitter.com/download/iphone\" r...   \n",
              "\n",
              "                                                   text  retweeted_status_id  \\\n",
              "979   This is Atticus. He's quite simply America af....                  NaN   \n",
              "189   @s8n You tried very hard to portray this good ...                  NaN   \n",
              "188   @dhmontgomery We also gave snoop dogg a 420/10...                  NaN   \n",
              "2074  After so many requests... here you go.\\n\\nGood...                  NaN   \n",
              "290                                  @markhoppus 182/10                  NaN   \n",
              "340   RT @dog_rates: This is Logan, the Chow who liv...         7.867091e+17   \n",
              "695   This is Logan, the Chow who lived. He solemnly...                  NaN   \n",
              "763   This is Sophie. She's a Jubilant Bush Pupper. ...                  NaN   \n",
              "1712  Here we have uncovered an entire battalion of ...                  NaN   \n",
              "55    @roushfenway These are good dogs but 17/10 is ...                  NaN   \n",
              "285   RT @KibaDva: I collected all the good dogs!! 1...         8.389060e+17   \n",
              "291   @bragg6of8 @Andy_Pace_ we are still looking fo...                  NaN   \n",
              "95    RT @dog_rates: This is Walter. He won't start ...         8.688804e+17   \n",
              "214   This is Iggy. He was a rescue dog killed in th...                  NaN   \n",
              "434   RT @dog_rates: We are proud to support @LoveYo...         8.203146e+17   \n",
              "788   I WAS SENT THE ACTUAL DOG IN THE PROFILE PIC B...                  NaN   \n",
              "83    I can say with the pupmost confidence that the...                  NaN   \n",
              "209   Meet General. He wasn't content with the quali...                  NaN   \n",
              "436   We are proud to support @LoveYourMelon on thei...                  NaN   \n",
              "141   We only rate dogs. Please don't send in Jesus....                  NaN   \n",
              "426   This is Sundance. He's a doggo drummer. Even s...                  NaN   \n",
              "76    This is Emmy. She was adopted today. Massive r...                  NaN   \n",
              "418   This is Gabe. He was the unequivocal embodimen...                  NaN   \n",
              "1609  Everybody needs to read this. Jack is our firs...                  NaN   \n",
              "1605  Jack deserves another round of applause. If yo...                  NaN   \n",
              "68    RT @dog_rates: This is Emmy. She was adopted t...         8.780576e+17   \n",
              "404   \"I wish we were dogs\" 14/10 for @BadlandsNPS h...                  NaN   \n",
              "924   This is one of the most inspirational stories ...                  NaN   \n",
              "64                      @RealKentMurphy 14/10 confirmed                  NaN   \n",
              "395   Here's a very loving and accepting puppo. Appe...                  NaN   \n",
              "...                                                 ...                  ...   \n",
              "2239  This dog resembles a baked potato. Bed looks u...                  NaN   \n",
              "1898  Meet Patrick. He's an exotic pup. Jumps great ...                  NaN   \n",
              "2334  This is a funny dog. Weird toes. Won't come do...                  NaN   \n",
              "1928  Herd of wild dogs here. Not sure what they're ...                  NaN   \n",
              "1249  What hooligan sent in pictures w/out a dog in ...                  NaN   \n",
              "1947  Large blue dog here. Cool shades. Flipping us ...                  NaN   \n",
              "1938  Guys I'm getting real tired of this. We only r...                  NaN   \n",
              "1314  This is Elliot. He's blocking the roadway. Dow...                  NaN   \n",
              "2202  Fascinating dog here. Loves beach. Oddly long ...                  NaN   \n",
              "2305  My goodness. Very rare dog here. Large. Tail d...                  NaN   \n",
              "765   This is Wesley. He's clearly trespassing. Seem...                  NaN   \n",
              "2237  This lil pup is Oliver. Hops around. Has wings...                  NaN   \n",
              "2326  This is quite the dog. Gets really excited whe...                  NaN   \n",
              "2349  This is an odd dog. Hard on the outside but lo...                  NaN   \n",
              "2310  Unfamiliar with this breed. Ears pointy af. Wo...                  NaN   \n",
              "1920  This is Henry. He's a shit dog. Short pointy e...                  NaN   \n",
              "2079  Scary dog here. Too many legs. Extra tail. Not...                  NaN   \n",
              "1761  Exotic pup here. Tail long af. Throat looks sw...                  NaN   \n",
              "2246  This is Tedrick. He lives on the edge. Needs s...                  NaN   \n",
              "1764  This is Crystal. She's a shitty fireman. No se...                  NaN   \n",
              "2261  Never seen dog like this. Breathes heavy. Tilt...                  NaN   \n",
              "1940  The millennials have spoken and we've decided ...                  NaN   \n",
              "1869  What kind of person sends in a picture without...                  NaN   \n",
              "2091  Flamboyant pup here. Probably poisonous. Won't...                  NaN   \n",
              "605   RT @dog_rates: Not familiar with this breed. N...         6.661041e+17   \n",
              "1446  After reading the comments I may have overesti...                  NaN   \n",
              "2338  Not familiar with this breed. No tail (weird)....                  NaN   \n",
              "2038  After 22 minutes of careful deliberation this ...                  NaN   \n",
              "1016  PUPDATE: can't see any. Even if I could, I cou...                  NaN   \n",
              "315   When you're so blinded by your systematic plag...                  NaN   \n",
              "\n",
              "      retweeted_status_user_id retweeted_status_timestamp  \\\n",
              "979                        NaN                        NaN   \n",
              "189                        NaN                        NaN   \n",
              "188                        NaN                        NaN   \n",
              "2074                       NaN                        NaN   \n",
              "290                        NaN                        NaN   \n",
              "340               4.196984e+09  2016-10-13 23:23:56 +0000   \n",
              "695                        NaN                        NaN   \n",
              "763                        NaN                        NaN   \n",
              "1712                       NaN                        NaN   \n",
              "55                         NaN                        NaN   \n",
              "285               8.117408e+08  2017-03-07 00:15:46 +0000   \n",
              "291                        NaN                        NaN   \n",
              "95                4.196984e+09  2017-05-28 17:23:24 +0000   \n",
              "214                        NaN                        NaN   \n",
              "434               4.196984e+09  2017-01-14 17:00:24 +0000   \n",
              "788                        NaN                        NaN   \n",
              "83                         NaN                        NaN   \n",
              "209                        NaN                        NaN   \n",
              "436                        NaN                        NaN   \n",
              "141                        NaN                        NaN   \n",
              "426                        NaN                        NaN   \n",
              "76                         NaN                        NaN   \n",
              "418                        NaN                        NaN   \n",
              "1609                       NaN                        NaN   \n",
              "1605                       NaN                        NaN   \n",
              "68                4.196984e+09  2017-06-23 01:10:23 +0000   \n",
              "404                        NaN                        NaN   \n",
              "924                        NaN                        NaN   \n",
              "64                         NaN                        NaN   \n",
              "395                        NaN                        NaN   \n",
              "...                        ...                        ...   \n",
              "2239                       NaN                        NaN   \n",
              "1898                       NaN                        NaN   \n",
              "2334                       NaN                        NaN   \n",
              "1928                       NaN                        NaN   \n",
              "1249                       NaN                        NaN   \n",
              "1947                       NaN                        NaN   \n",
              "1938                       NaN                        NaN   \n",
              "1314                       NaN                        NaN   \n",
              "2202                       NaN                        NaN   \n",
              "2305                       NaN                        NaN   \n",
              "765                        NaN                        NaN   \n",
              "2237                       NaN                        NaN   \n",
              "2326                       NaN                        NaN   \n",
              "2349                       NaN                        NaN   \n",
              "2310                       NaN                        NaN   \n",
              "1920                       NaN                        NaN   \n",
              "2079                       NaN                        NaN   \n",
              "1761                       NaN                        NaN   \n",
              "2246                       NaN                        NaN   \n",
              "1764                       NaN                        NaN   \n",
              "2261                       NaN                        NaN   \n",
              "1940                       NaN                        NaN   \n",
              "1869                       NaN                        NaN   \n",
              "2091                       NaN                        NaN   \n",
              "605               4.196984e+09  2015-11-16 04:02:55 +0000   \n",
              "1446                       NaN                        NaN   \n",
              "2338                       NaN                        NaN   \n",
              "2038                       NaN                        NaN   \n",
              "1016                       NaN                        NaN   \n",
              "315                        NaN                        NaN   \n",
              "\n",
              "                                          expanded_urls  rating_numerator  \\\n",
              "979   https://twitter.com/dog_rates/status/749981277...              1776   \n",
              "189                                                 NaN               666   \n",
              "188                                                 NaN               420   \n",
              "2074  https://twitter.com/dog_rates/status/670842764...               420   \n",
              "290                                                 NaN               182   \n",
              "340   https://twitter.com/dog_rates/status/786709082...                75   \n",
              "695   https://twitter.com/dog_rates/status/786709082...                75   \n",
              "763   https://twitter.com/dog_rates/status/778027034...                27   \n",
              "1712  https://twitter.com/dog_rates/status/680494726...                26   \n",
              "55                                                  NaN                17   \n",
              "285   https://twitter.com/KibaDva/status/83890598062...                15   \n",
              "291                                                 NaN                15   \n",
              "95    https://twitter.com/dog_rates/status/868880397...                14   \n",
              "214   https://twitter.com/dog_rates/status/851464819...                14   \n",
              "434   https://www.loveyourmelon.com/pages/ourstory,h...                14   \n",
              "788   https://twitter.com/dog_rates/status/774314403...                14   \n",
              "83    https://twitter.com/mpstowerham/status/8761629...                14   \n",
              "209   https://twitter.com/dog_rates/status/852226086...                14   \n",
              "436   https://www.loveyourmelon.com/pages/ourstory,h...                14   \n",
              "141   https://twitter.com/dog_rates/status/864873206...                14   \n",
              "426   https://twitter.com/dog_rates/status/821407182...                14   \n",
              "76    https://twitter.com/dog_rates/status/878057613...                14   \n",
              "418   https://twitter.com/dog_rates/status/822462944...                14   \n",
              "1609  https://twitter.com/dog_rates/status/685547936...                14   \n",
              "1605                                                NaN                14   \n",
              "68    https://twitter.com/dog_rates/status/878057613...                14   \n",
              "404   https://twitter.com/badlandsnps/status/8239662...                14   \n",
              "924   https://twitter.com/dog_rates/status/755206590...                14   \n",
              "64                                                  NaN                14   \n",
              "395   https://twitter.com/dog_rates/status/825535076...                14   \n",
              "...                                                 ...               ...   \n",
              "2239  https://twitter.com/dog_rates/status/667937095...                 3   \n",
              "1898  https://twitter.com/dog_rates/status/674690135...                 3   \n",
              "2334  https://twitter.com/dog_rates/status/666293911...                 3   \n",
              "1928  https://twitter.com/dog_rates/status/674045139...                 3   \n",
              "1249  https://twitter.com/dog_rates/status/711306686...                 3   \n",
              "1947  https://twitter.com/dog_rates/status/673700254...                 3   \n",
              "1938  https://twitter.com/dog_rates/status/673906403...                 3   \n",
              "1314  https://twitter.com/dog_rates/status/706901761...                 3   \n",
              "2202  https://twitter.com/dog_rates/status/668643542...                 3   \n",
              "2305  https://twitter.com/dog_rates/status/666837028...                 3   \n",
              "765   https://twitter.com/dog_rates/status/777885040...                 3   \n",
              "2237  https://twitter.com/dog_rates/status/668142349...                 2   \n",
              "2326  https://twitter.com/dog_rates/status/666411507...                 2   \n",
              "2349  https://twitter.com/dog_rates/status/666051853...                 2   \n",
              "2310  https://twitter.com/dog_rates/status/666786068...                 2   \n",
              "1920  https://twitter.com/dog_rates/status/674265582...                 2   \n",
              "2079  https://twitter.com/dog_rates/status/670826280...                 2   \n",
              "1761  https://twitter.com/dog_rates/status/678675843...                 2   \n",
              "2246  https://twitter.com/dog_rates/status/667878741...                 2   \n",
              "1764  https://twitter.com/dog_rates/status/678424312...                 2   \n",
              "2261  https://twitter.com/dog_rates/status/667549055...                 1   \n",
              "1940                                                NaN                 1   \n",
              "1869  https://twitter.com/dog_rates/status/675153376...                 1   \n",
              "2091  https://twitter.com/dog_rates/status/670783437...                 1   \n",
              "605   https://twitter.com/dog_rates/status/666104133...                 1   \n",
              "1446                                                NaN                 1   \n",
              "2338  https://twitter.com/dog_rates/status/666104133...                 1   \n",
              "2038                                                NaN                 1   \n",
              "1016  https://twitter.com/dog_rates/status/746906459...                 0   \n",
              "315   https://twitter.com/dog_rates/status/835152434...                 0   \n",
              "\n",
              "      rating_denominator      name  doggo floofer  pupper  puppo  \n",
              "979                   10   Atticus   None    None    None   None  \n",
              "189                   10      None   None    None    None   None  \n",
              "188                   10      None   None    None    None   None  \n",
              "2074                  10      None   None    None    None   None  \n",
              "290                   10      None   None    None    None   None  \n",
              "340                   10     Logan   None    None    None   None  \n",
              "695                   10     Logan   None    None    None   None  \n",
              "763                   10    Sophie   None    None  pupper   None  \n",
              "1712                  10      None   None    None    None   None  \n",
              "55                    10      None   None    None    None   None  \n",
              "285                   10      None   None    None    None   None  \n",
              "291                   10      None   None    None    None   None  \n",
              "95                    10    Walter   None    None    None   None  \n",
              "214                   10      Iggy   None    None    None   None  \n",
              "434                   10      None   None    None    None   None  \n",
              "788                   10      None   None    None    None   None  \n",
              "83                    10      None   None    None    None   None  \n",
              "209                   10   General   None    None    None   None  \n",
              "436                   10      None   None    None    None   None  \n",
              "141                   10      None   None    None    None   None  \n",
              "426                   10  Sundance  doggo    None    None   None  \n",
              "76                    10      Emmy   None    None    None   None  \n",
              "418                   10      Gabe   None    None  pupper   None  \n",
              "1609                  10      None   None    None  pupper   None  \n",
              "1605                  10      None   None    None    None   None  \n",
              "68                    10      Emmy   None    None    None   None  \n",
              "404                   10      None   None    None    None   None  \n",
              "924                   10       one  doggo    None    None   None  \n",
              "64                    10      None   None    None    None   None  \n",
              "395                   10      None   None    None    None  puppo  \n",
              "...                  ...       ...    ...     ...     ...    ...  \n",
              "2239                  10      None   None    None    None   None  \n",
              "1898                  10   Patrick   None    None    None   None  \n",
              "2334                  10         a   None    None    None   None  \n",
              "1928                  10      None   None    None    None   None  \n",
              "1249                  10      None   None    None    None   None  \n",
              "1947                  10      None   None    None    None   None  \n",
              "1938                  10      None   None    None    None   None  \n",
              "1314                  10    Elliot   None    None    None   None  \n",
              "2202                  10      None   None    None    None   None  \n",
              "2305                  10      None   None    None    None   None  \n",
              "765                   10    Wesley   None    None    None   None  \n",
              "2237                  10      None   None    None    None   None  \n",
              "2326                  10     quite   None    None    None   None  \n",
              "2349                  10        an   None    None    None   None  \n",
              "2310                  10      None   None    None    None   None  \n",
              "1920                  10     Henry   None    None    None   None  \n",
              "2079                  10      None   None    None    None   None  \n",
              "1761                  10      None   None    None    None   None  \n",
              "2246                  10   Tedrick   None    None    None   None  \n",
              "1764                  10   Crystal   None    None    None   None  \n",
              "2261                  10      None   None    None    None   None  \n",
              "1940                  10      None   None    None    None   None  \n",
              "1869                  10      None   None    None    None   None  \n",
              "2091                  10      None   None    None    None   None  \n",
              "605                   10      None   None    None    None   None  \n",
              "1446                  10      None   None    None    None   None  \n",
              "2338                  10      None   None    None    None   None  \n",
              "2038                  10      None   None    None    None   None  \n",
              "1016                  10      None   None    None    None   None  \n",
              "315                   10      None   None    None    None   None  \n",
              "\n",
              "[2333 rows x 17 columns]"
            ]
          },
          "metadata": {
            "tags": []
          },
          "execution_count": 29
        }
      ]
    },
    {
      "metadata": {
        "id": "sMiQIQU2WGdT",
        "colab_type": "code",
        "outputId": "a80a76d6-5acd-4621-c526-3bc7729192cf",
        "colab": {
          "base_uri": "https://localhost:8080/",
          "height": 101
        }
      },
      "cell_type": "code",
      "source": [
        "df_1['source'].value_counts()\n",
        "\n",
        "# <a> tag could be deleted"
      ],
      "execution_count": 0,
      "outputs": [
        {
          "output_type": "execute_result",
          "data": {
            "text/plain": [
              "<a href=\"http://twitter.com/download/iphone\" rel=\"nofollow\">Twitter for iPhone</a>     2221\n",
              "<a href=\"http://vine.co\" rel=\"nofollow\">Vine - Make a Scene</a>                          91\n",
              "<a href=\"http://twitter.com\" rel=\"nofollow\">Twitter Web Client</a>                       33\n",
              "<a href=\"https://about.twitter.com/products/tweetdeck\" rel=\"nofollow\">TweetDeck</a>      11\n",
              "Name: source, dtype: int64"
            ]
          },
          "metadata": {
            "tags": []
          },
          "execution_count": 120
        }
      ]
    },
    {
      "metadata": {
        "id": "r_NK-qCCqFiP",
        "colab_type": "code",
        "outputId": "cade062c-29b2-4d7d-e9f9-b7f7ad384710",
        "colab": {
          "base_uri": "https://localhost:8080/",
          "height": 50
        }
      },
      "cell_type": "code",
      "source": [
        "df_1[:1]['expanded_urls']\n",
        "\n",
        "# incompleted url, just contains \"https://twitter.com/dog_rates/status/\" plus part of tweet_id"
      ],
      "execution_count": 0,
      "outputs": [
        {
          "output_type": "execute_result",
          "data": {
            "text/plain": [
              "0    https://twitter.com/dog_rates/status/892420643...\n",
              "Name: expanded_urls, dtype: object"
            ]
          },
          "metadata": {
            "tags": []
          },
          "execution_count": 31
        }
      ]
    },
    {
      "metadata": {
        "id": "iiXBsfwHrFgR",
        "colab_type": "text"
      },
      "cell_type": "markdown",
      "source": [
        "### Cleaning Table_1"
      ]
    },
    {
      "metadata": {
        "id": "rAiqvQjSrThH",
        "colab_type": "text"
      },
      "cell_type": "markdown",
      "source": [
        "The following columns contains few valid values, which could not contribute to analysis. Thus, they are deleted.\n",
        "\n",
        "- in_reply_to_status_id: 78 out of 2356 is non-null\n",
        "- in_reply_to_user_id: 78 out of 2356 is non-null\n",
        "- retweeted_status_id: 181 out of 2356 is non-null\n",
        "- retweeted_status_user_id: 181 out of 2356 is non-null\n",
        "- retweeted_status_timestamp: 181 out of 2356 is non-null"
      ]
    },
    {
      "metadata": {
        "id": "5wmuz1e_ruJe",
        "colab_type": "code",
        "colab": {}
      },
      "cell_type": "code",
      "source": [
        "df_1_copy = df_1_copy.drop(columns = ['in_reply_to_status_id', 'in_reply_to_user_id', 'retweeted_status_id', 'retweeted_status_user_id', 'retweeted_status_timestamp'])"
      ],
      "execution_count": 0,
      "outputs": []
    },
    {
      "metadata": {
        "id": "2tfRPVB_v1J-",
        "colab_type": "text"
      },
      "cell_type": "markdown",
      "source": [
        "- In the column of name, the string 'None' should be replaced by Null."
      ]
    },
    {
      "metadata": {
        "id": "fb0dvttNuhJ8",
        "colab_type": "code",
        "colab": {}
      },
      "cell_type": "code",
      "source": [
        "df_1_copy['name'].replace('None', np.NaN, inplace = True)"
      ],
      "execution_count": 0,
      "outputs": []
    },
    {
      "metadata": {
        "id": "ODCXTFuktXbG",
        "colab_type": "text"
      },
      "cell_type": "markdown",
      "source": [
        "- The column of expanded_url just includeds incompleted url, which equals to \"https://twitter.com/dog_rates/status/\" plus part of tweet_id. This could not contribute to analysis, so it is deleted."
      ]
    },
    {
      "metadata": {
        "id": "uN8MhyKJtIUD",
        "colab_type": "code",
        "colab": {}
      },
      "cell_type": "code",
      "source": [
        "df_1_copy = df_1_copy.drop(columns = ['expanded_urls'])"
      ],
      "execution_count": 0,
      "outputs": []
    },
    {
      "metadata": {
        "id": "jwkQ__oZwIlU",
        "colab_type": "text"
      },
      "cell_type": "markdown",
      "source": [
        "- In the column of source, the long name with HTML tag could be shorten."
      ]
    },
    {
      "metadata": {
        "id": "yuLusTOSv-W-",
        "colab_type": "code",
        "colab": {}
      },
      "cell_type": "code",
      "source": [
        "df_1_copy.replace({'source': {\n",
        "    '<a href=\"http://twitter.com/download/iphone\" rel=\"nofollow\">Twitter for iPhone</a>': 'Twitter for iPhone',\n",
        "    '<a href=\"http://vine.co\" rel=\"nofollow\">Vine - Make a Scene</a>': 'Vine',\n",
        "    '<a href=\"http://twitter.com\" rel=\"nofollow\">Twitter Web Client</a>': 'Twitter Web Client',\n",
        "    '<a href=\"https://about.twitter.com/products/tweetdeck\" rel=\"nofollow\">TweetDeck</a>': 'TweetDeck'\n",
        "}}, inplace = True)"
      ],
      "execution_count": 0,
      "outputs": []
    },
    {
      "metadata": {
        "id": "-tSI8WIH1B-R",
        "colab_type": "text"
      },
      "cell_type": "markdown",
      "source": [
        "- Change the data type of tweet_id from int to str."
      ]
    },
    {
      "metadata": {
        "id": "vmblvbYN1Kxp",
        "colab_type": "code",
        "colab": {}
      },
      "cell_type": "code",
      "source": [
        "df_1_copy['tweet_id'] = df_1_copy['tweet_id'].astype(str)"
      ],
      "execution_count": 0,
      "outputs": []
    },
    {
      "metadata": {
        "id": "21wzcTxG25yf",
        "colab_type": "text"
      },
      "cell_type": "markdown",
      "source": [
        "- Change the data type of timestamp to datetime."
      ]
    },
    {
      "metadata": {
        "id": "1xq0PpK22nBJ",
        "colab_type": "code",
        "colab": {}
      },
      "cell_type": "code",
      "source": [
        "df_1_copy['timestamp'] = pd.to_datetime(df_1_copy['timestamp'])"
      ],
      "execution_count": 0,
      "outputs": []
    },
    {
      "metadata": {
        "id": "SE8vEODlwbV1",
        "colab_type": "text"
      },
      "cell_type": "markdown",
      "source": [
        "- doggo / floofer / pupper / puppo: could be combined into 1 column as categorical data."
      ]
    },
    {
      "metadata": {
        "id": "QM4qagX87vF5",
        "colab_type": "code",
        "colab": {}
      },
      "cell_type": "code",
      "source": [
        "dog_stages = ['doggo', 'floofer', 'pupper', 'puppo']\n",
        "\n",
        "for i, row in df_1_copy.iterrows():\n",
        "    ifor_val = ''\n",
        "    for dog_stage in dog_stages:\n",
        "      if row[dog_stage] != 'None':\n",
        "        ifor_val += dog_stage\n",
        "    df_1_copy.at[i,'stage'] = ifor_val"
      ],
      "execution_count": 0,
      "outputs": []
    },
    {
      "metadata": {
        "id": "1wHNHAysDrdU",
        "colab_type": "code",
        "outputId": "b01674d4-5458-4268-fd3c-74bd5acafa76",
        "colab": {
          "base_uri": "https://localhost:8080/",
          "height": 168
        }
      },
      "cell_type": "code",
      "source": [
        "df_1_copy['stage'].value_counts()\n",
        "\n",
        "# a few dogs were marked as in 2 stages."
      ],
      "execution_count": 0,
      "outputs": [
        {
          "output_type": "execute_result",
          "data": {
            "text/plain": [
              "                1976\n",
              "pupper           245\n",
              "doggo             83\n",
              "puppo             29\n",
              "doggopupper       12\n",
              "floofer            9\n",
              "doggopuppo         1\n",
              "doggofloofer       1\n",
              "Name: stage, dtype: int64"
            ]
          },
          "metadata": {
            "tags": []
          },
          "execution_count": 29
        }
      ]
    },
    {
      "metadata": {
        "id": "oT4TSJ9PG8AO",
        "colab_type": "text"
      },
      "cell_type": "markdown",
      "source": [
        "A new quality issue rises:\n",
        "- a few dogs have been marked in 2 stages.\n",
        "\n",
        "Since we could not judge which exact stage they are in, the stage of these doges should be changed to none."
      ]
    },
    {
      "metadata": {
        "id": "Ml_F_vetHVTh",
        "colab_type": "code",
        "colab": {}
      },
      "cell_type": "code",
      "source": [
        "df_1_copy.replace(\n",
        "    {'stage': {\n",
        "        '': np.NaN,\n",
        "        'doggopupper': np.NaN,\n",
        "        'doggopuppo': np.NaN,\n",
        "        'doggofloofer': np.NaN\n",
        "    }}, \n",
        "    inplace = True)"
      ],
      "execution_count": 0,
      "outputs": []
    },
    {
      "metadata": {
        "id": "h_OIaCTpHsmX",
        "colab_type": "code",
        "colab": {}
      },
      "cell_type": "code",
      "source": [
        "df_1_copy.drop(columns = ['doggo', 'floofer', 'pupper', 'puppo'], \n",
        "               inplace = True)"
      ],
      "execution_count": 0,
      "outputs": []
    },
    {
      "metadata": {
        "id": "aPNxxIReHszN",
        "colab_type": "code",
        "outputId": "c5848d2d-a32b-428b-d0fa-1078b35a5115",
        "colab": {
          "base_uri": "https://localhost:8080/",
          "height": 186
        }
      },
      "cell_type": "code",
      "source": [
        "df_1_copy.sample(3)"
      ],
      "execution_count": 0,
      "outputs": [
        {
          "output_type": "execute_result",
          "data": {
            "text/html": [
              "<div>\n",
              "<style scoped>\n",
              "    .dataframe tbody tr th:only-of-type {\n",
              "        vertical-align: middle;\n",
              "    }\n",
              "\n",
              "    .dataframe tbody tr th {\n",
              "        vertical-align: top;\n",
              "    }\n",
              "\n",
              "    .dataframe thead th {\n",
              "        text-align: right;\n",
              "    }\n",
              "</style>\n",
              "<table border=\"1\" class=\"dataframe\">\n",
              "  <thead>\n",
              "    <tr style=\"text-align: right;\">\n",
              "      <th></th>\n",
              "      <th>tweet_id</th>\n",
              "      <th>timestamp</th>\n",
              "      <th>source</th>\n",
              "      <th>text</th>\n",
              "      <th>rating_numerator</th>\n",
              "      <th>rating_denominator</th>\n",
              "      <th>name</th>\n",
              "      <th>stage</th>\n",
              "    </tr>\n",
              "  </thead>\n",
              "  <tbody>\n",
              "    <tr>\n",
              "      <th>1820</th>\n",
              "      <td>676588346097852417</td>\n",
              "      <td>2015-12-15 02:23:26</td>\n",
              "      <td>Twitter for iPhone</td>\n",
              "      <td>This is Bubbles. He kinda resembles a fish. Al...</td>\n",
              "      <td>5</td>\n",
              "      <td>10</td>\n",
              "      <td>Bubbles</td>\n",
              "      <td>NaN</td>\n",
              "    </tr>\n",
              "    <tr>\n",
              "      <th>1949</th>\n",
              "      <td>673689733134946305</td>\n",
              "      <td>2015-12-07 02:25:23</td>\n",
              "      <td>Twitter for iPhone</td>\n",
              "      <td>When you're having a blast and remember tomorr...</td>\n",
              "      <td>11</td>\n",
              "      <td>10</td>\n",
              "      <td>NaN</td>\n",
              "      <td>NaN</td>\n",
              "    </tr>\n",
              "    <tr>\n",
              "      <th>1822</th>\n",
              "      <td>676575501977128964</td>\n",
              "      <td>2015-12-15 01:32:24</td>\n",
              "      <td>Twitter for iPhone</td>\n",
              "      <td>This pupper is very passionate about Christmas...</td>\n",
              "      <td>8</td>\n",
              "      <td>10</td>\n",
              "      <td>NaN</td>\n",
              "      <td>pupper</td>\n",
              "    </tr>\n",
              "  </tbody>\n",
              "</table>\n",
              "</div>"
            ],
            "text/plain": [
              "                tweet_id           timestamp              source  \\\n",
              "1820  676588346097852417 2015-12-15 02:23:26  Twitter for iPhone   \n",
              "1949  673689733134946305 2015-12-07 02:25:23  Twitter for iPhone   \n",
              "1822  676575501977128964 2015-12-15 01:32:24  Twitter for iPhone   \n",
              "\n",
              "                                                   text  rating_numerator  \\\n",
              "1820  This is Bubbles. He kinda resembles a fish. Al...                 5   \n",
              "1949  When you're having a blast and remember tomorr...                11   \n",
              "1822  This pupper is very passionate about Christmas...                 8   \n",
              "\n",
              "      rating_denominator     name   stage  \n",
              "1820                  10  Bubbles     NaN  \n",
              "1949                  10      NaN     NaN  \n",
              "1822                  10      NaN  pupper  "
            ]
          },
          "metadata": {
            "tags": []
          },
          "execution_count": 32
        }
      ]
    },
    {
      "metadata": {
        "id": "F9F38yvZ2R_J",
        "colab_type": "text"
      },
      "cell_type": "markdown",
      "source": [
        "## Table 2: Additional Infomation (Retweet & Favourate)\n",
        "\n",
        "### Quality issues\n",
        "\n",
        "Completeness:\n",
        "\n",
        "- retweet & favouriate count: \"Nan\" should be replaced by Null.\n",
        "- retweet & favouriate count: 16 missing values\n",
        "\n",
        "Data Type:\n",
        "id: int -> obj"
      ]
    },
    {
      "metadata": {
        "id": "zfwqdyFqeFfO",
        "colab_type": "code",
        "colab": {}
      },
      "cell_type": "code",
      "source": [
        "df_2_copy.info()"
      ],
      "execution_count": 0,
      "outputs": []
    },
    {
      "metadata": {
        "id": "vDAKCecEdepF",
        "colab_type": "text"
      },
      "cell_type": "markdown",
      "source": [
        "### Cleaning Table_2\n",
        "\n",
        "- Replace missing values by Null."
      ]
    },
    {
      "metadata": {
        "id": "WwdUgqSeornS",
        "colab_type": "code",
        "colab": {}
      },
      "cell_type": "code",
      "source": [
        "# Replace str 'Nan' with Null\n",
        "\n",
        "df_2_copy.replace('Nan', np.NaN, inplace = True)"
      ],
      "execution_count": 0,
      "outputs": []
    },
    {
      "metadata": {
        "id": "yGHUQdjYdpoZ",
        "colab_type": "text"
      },
      "cell_type": "markdown",
      "source": [
        "- Change the data type of id to string."
      ]
    },
    {
      "metadata": {
        "id": "DBC1dxIUdo_m",
        "colab_type": "code",
        "colab": {}
      },
      "cell_type": "code",
      "source": [
        "df_2_copy['id'] = df_2_copy['id'].astype(str)"
      ],
      "execution_count": 0,
      "outputs": []
    },
    {
      "metadata": {
        "id": "1LVJrnp2eK4l",
        "colab_type": "code",
        "outputId": "320ddb61-e70c-41f5-9cbd-1138c2e8263c",
        "colab": {
          "base_uri": "https://localhost:8080/",
          "height": 151
        }
      },
      "cell_type": "code",
      "source": [
        "df_2_copy.info()"
      ],
      "execution_count": 0,
      "outputs": [
        {
          "output_type": "stream",
          "text": [
            "<class 'pandas.core.frame.DataFrame'>\n",
            "RangeIndex: 2356 entries, 0 to 2355\n",
            "Data columns (total 3 columns):\n",
            "id                2356 non-null object\n",
            "retweet_count     2340 non-null object\n",
            "favorite_count    2340 non-null object\n",
            "dtypes: object(3)\n",
            "memory usage: 55.3+ KB\n"
          ],
          "name": "stdout"
        }
      ]
    },
    {
      "metadata": {
        "id": "z0hVcH7vJSU6",
        "colab_type": "code",
        "outputId": "327fb6cf-8b5f-4100-b799-84ac231a8d8f",
        "colab": {
          "base_uri": "https://localhost:8080/",
          "height": 195
        }
      },
      "cell_type": "code",
      "source": [
        "df_2_copy.sample(5)"
      ],
      "execution_count": 0,
      "outputs": [
        {
          "output_type": "execute_result",
          "data": {
            "text/html": [
              "<div>\n",
              "<style scoped>\n",
              "    .dataframe tbody tr th:only-of-type {\n",
              "        vertical-align: middle;\n",
              "    }\n",
              "\n",
              "    .dataframe tbody tr th {\n",
              "        vertical-align: top;\n",
              "    }\n",
              "\n",
              "    .dataframe thead th {\n",
              "        text-align: right;\n",
              "    }\n",
              "</style>\n",
              "<table border=\"1\" class=\"dataframe\">\n",
              "  <thead>\n",
              "    <tr style=\"text-align: right;\">\n",
              "      <th></th>\n",
              "      <th>id</th>\n",
              "      <th>retweet_count</th>\n",
              "      <th>favorite_count</th>\n",
              "    </tr>\n",
              "  </thead>\n",
              "  <tbody>\n",
              "    <tr>\n",
              "      <th>2063</th>\n",
              "      <td>671159727754231808</td>\n",
              "      <td>84</td>\n",
              "      <td>379</td>\n",
              "    </tr>\n",
              "    <tr>\n",
              "      <th>441</th>\n",
              "      <td>819711362133872643</td>\n",
              "      <td>3404</td>\n",
              "      <td>14279</td>\n",
              "    </tr>\n",
              "    <tr>\n",
              "      <th>982</th>\n",
              "      <td>749403093750648834</td>\n",
              "      <td>583</td>\n",
              "      <td>2758</td>\n",
              "    </tr>\n",
              "    <tr>\n",
              "      <th>31</th>\n",
              "      <td>886258384151887873</td>\n",
              "      <td>6141</td>\n",
              "      <td>27455</td>\n",
              "    </tr>\n",
              "    <tr>\n",
              "      <th>2005</th>\n",
              "      <td>672272411274932228</td>\n",
              "      <td>3484</td>\n",
              "      <td>6541</td>\n",
              "    </tr>\n",
              "  </tbody>\n",
              "</table>\n",
              "</div>"
            ],
            "text/plain": [
              "                      id retweet_count favorite_count\n",
              "2063  671159727754231808            84            379\n",
              "441   819711362133872643          3404          14279\n",
              "982   749403093750648834           583           2758\n",
              "31    886258384151887873          6141          27455\n",
              "2005  672272411274932228          3484           6541"
            ]
          },
          "metadata": {
            "tags": []
          },
          "execution_count": 48
        }
      ]
    },
    {
      "metadata": {
        "id": "Zy534fLN2j86",
        "colab_type": "text"
      },
      "cell_type": "markdown",
      "source": [
        "## Table 3: Image Predictions\n",
        "\n",
        "### Quality Issues\n",
        "\n",
        "Data Types:\n",
        "\n",
        "- tweet_id: int -> obj\n",
        "- img_num: int -> obj\n",
        "\n",
        "### Tidiness Issues:\n",
        "\n",
        "- jpg_url and img_num could not contribute to analysis.\n",
        "- the colum names could be more clear."
      ]
    },
    {
      "metadata": {
        "id": "EQyEiKcvF9zP",
        "colab_type": "code",
        "outputId": "277e479c-65ee-4fd1-df0b-c238918b192c",
        "colab": {
          "base_uri": "https://localhost:8080/",
          "height": 302
        }
      },
      "cell_type": "code",
      "source": [
        "df_3.info()"
      ],
      "execution_count": 0,
      "outputs": [
        {
          "output_type": "stream",
          "text": [
            "<class 'pandas.core.frame.DataFrame'>\n",
            "RangeIndex: 2075 entries, 0 to 2074\n",
            "Data columns (total 12 columns):\n",
            "tweet_id    2075 non-null int64\n",
            "jpg_url     2075 non-null object\n",
            "img_num     2075 non-null int64\n",
            "p1          2075 non-null object\n",
            "p1_conf     2075 non-null float64\n",
            "p1_dog      2075 non-null bool\n",
            "p2          2075 non-null object\n",
            "p2_conf     2075 non-null float64\n",
            "p2_dog      2075 non-null bool\n",
            "p3          2075 non-null object\n",
            "p3_conf     2075 non-null float64\n",
            "p3_dog      2075 non-null bool\n",
            "dtypes: bool(3), float64(3), int64(2), object(4)\n",
            "memory usage: 152.1+ KB\n"
          ],
          "name": "stdout"
        }
      ]
    },
    {
      "metadata": {
        "id": "OiovU3TZHYJe",
        "colab_type": "code",
        "outputId": "dcc58398-2ed7-49e1-e3e6-845be4d0072b",
        "colab": {
          "base_uri": "https://localhost:8080/",
          "height": 156
        }
      },
      "cell_type": "code",
      "source": [
        "df_3.sample(3)"
      ],
      "execution_count": 0,
      "outputs": [
        {
          "output_type": "execute_result",
          "data": {
            "text/html": [
              "<div>\n",
              "<style scoped>\n",
              "    .dataframe tbody tr th:only-of-type {\n",
              "        vertical-align: middle;\n",
              "    }\n",
              "\n",
              "    .dataframe tbody tr th {\n",
              "        vertical-align: top;\n",
              "    }\n",
              "\n",
              "    .dataframe thead th {\n",
              "        text-align: right;\n",
              "    }\n",
              "</style>\n",
              "<table border=\"1\" class=\"dataframe\">\n",
              "  <thead>\n",
              "    <tr style=\"text-align: right;\">\n",
              "      <th></th>\n",
              "      <th>tweet_id</th>\n",
              "      <th>jpg_url</th>\n",
              "      <th>img_num</th>\n",
              "      <th>p1</th>\n",
              "      <th>p1_conf</th>\n",
              "      <th>p1_dog</th>\n",
              "      <th>p2</th>\n",
              "      <th>p2_conf</th>\n",
              "      <th>p2_dog</th>\n",
              "      <th>p3</th>\n",
              "      <th>p3_conf</th>\n",
              "      <th>p3_dog</th>\n",
              "    </tr>\n",
              "  </thead>\n",
              "  <tbody>\n",
              "    <tr>\n",
              "      <th>1702</th>\n",
              "      <td>817171292965273600</td>\n",
              "      <td>https://pbs.twimg.com/media/C1cs8uAWgAEwbXc.jpg</td>\n",
              "      <td>1</td>\n",
              "      <td>golden_retriever</td>\n",
              "      <td>0.295483</td>\n",
              "      <td>True</td>\n",
              "      <td>Irish_setter</td>\n",
              "      <td>0.144431</td>\n",
              "      <td>True</td>\n",
              "      <td>Chesapeake_Bay_retriever</td>\n",
              "      <td>0.077879</td>\n",
              "      <td>True</td>\n",
              "    </tr>\n",
              "    <tr>\n",
              "      <th>996</th>\n",
              "      <td>708349470027751425</td>\n",
              "      <td>https://pbs.twimg.com/media/CdSQFWOWAAApgfq.jpg</td>\n",
              "      <td>1</td>\n",
              "      <td>muzzle</td>\n",
              "      <td>0.243890</td>\n",
              "      <td>False</td>\n",
              "      <td>basenji</td>\n",
              "      <td>0.187158</td>\n",
              "      <td>True</td>\n",
              "      <td>Boston_bull</td>\n",
              "      <td>0.092727</td>\n",
              "      <td>True</td>\n",
              "    </tr>\n",
              "    <tr>\n",
              "      <th>1990</th>\n",
              "      <td>873213775632977920</td>\n",
              "      <td>https://pbs.twimg.com/media/DB5HTBGXUAE0TiK.jpg</td>\n",
              "      <td>1</td>\n",
              "      <td>vizsla</td>\n",
              "      <td>0.619782</td>\n",
              "      <td>True</td>\n",
              "      <td>bloodhound</td>\n",
              "      <td>0.338069</td>\n",
              "      <td>True</td>\n",
              "      <td>Chesapeake_Bay_retriever</td>\n",
              "      <td>0.012676</td>\n",
              "      <td>True</td>\n",
              "    </tr>\n",
              "  </tbody>\n",
              "</table>\n",
              "</div>"
            ],
            "text/plain": [
              "                tweet_id                                          jpg_url  \\\n",
              "1702  817171292965273600  https://pbs.twimg.com/media/C1cs8uAWgAEwbXc.jpg   \n",
              "996   708349470027751425  https://pbs.twimg.com/media/CdSQFWOWAAApgfq.jpg   \n",
              "1990  873213775632977920  https://pbs.twimg.com/media/DB5HTBGXUAE0TiK.jpg   \n",
              "\n",
              "      img_num                p1   p1_conf  p1_dog            p2   p2_conf  \\\n",
              "1702        1  golden_retriever  0.295483    True  Irish_setter  0.144431   \n",
              "996         1            muzzle  0.243890   False       basenji  0.187158   \n",
              "1990        1            vizsla  0.619782    True    bloodhound  0.338069   \n",
              "\n",
              "      p2_dog                        p3   p3_conf  p3_dog  \n",
              "1702    True  Chesapeake_Bay_retriever  0.077879    True  \n",
              "996     True               Boston_bull  0.092727    True  \n",
              "1990    True  Chesapeake_Bay_retriever  0.012676    True  "
            ]
          },
          "metadata": {
            "tags": []
          },
          "execution_count": 38
        }
      ]
    },
    {
      "metadata": {
        "id": "BxaqtJ-asARb",
        "colab_type": "code",
        "outputId": "5cc5f9fe-4996-4004-a321-05298dce8d2e",
        "colab": {
          "base_uri": "https://localhost:8080/",
          "height": 34
        }
      },
      "cell_type": "code",
      "source": [
        "df_3.duplicated().sum()"
      ],
      "execution_count": 0,
      "outputs": [
        {
          "output_type": "execute_result",
          "data": {
            "text/plain": [
              "0"
            ]
          },
          "metadata": {
            "tags": []
          },
          "execution_count": 39
        }
      ]
    },
    {
      "metadata": {
        "id": "9PIVgKclQGwh",
        "colab_type": "code",
        "colab": {}
      },
      "cell_type": "code",
      "source": [
        "df_3['p1'].value_counts()"
      ],
      "execution_count": 0,
      "outputs": []
    },
    {
      "metadata": {
        "id": "zp05XYjMX5QE",
        "colab_type": "text"
      },
      "cell_type": "markdown",
      "source": [
        "### Cleaning Table_3:\n",
        "\n",
        "- jpg_url and img_num could not contribute to analysis."
      ]
    },
    {
      "metadata": {
        "id": "Rr-1TWjqYIH3",
        "colab_type": "code",
        "colab": {}
      },
      "cell_type": "code",
      "source": [
        "df_3_copy.drop(columns = ['jpg_url', 'img_num'], inplace = True)"
      ],
      "execution_count": 0,
      "outputs": []
    },
    {
      "metadata": {
        "id": "c-O6u6cNZ_FF",
        "colab_type": "text"
      },
      "cell_type": "markdown",
      "source": [
        "- tweet_id: int -> obj"
      ]
    },
    {
      "metadata": {
        "id": "71qmB0SCaDpH",
        "colab_type": "code",
        "colab": {}
      },
      "cell_type": "code",
      "source": [
        "df_3_copy['tweet_id'] = df_3_copy['tweet_id'].astype(str)"
      ],
      "execution_count": 0,
      "outputs": []
    },
    {
      "metadata": {
        "id": "JrL4112aaZBF",
        "colab_type": "text"
      },
      "cell_type": "markdown",
      "source": [
        "- Change column names."
      ]
    },
    {
      "metadata": {
        "id": "x30skKqXacbX",
        "colab_type": "code",
        "colab": {}
      },
      "cell_type": "code",
      "source": [
        "df_3_copy.rename(columns = {\n",
        "    'p1': 'prediction_1',\n",
        "    'p1_dog': 'p1_breed_dog',\n",
        "    'p2': 'prediction_2',\n",
        "    'p2_dog': 'p2_breed_dog',\n",
        "    'p3': 'prediction_3',\n",
        "    'p3_dog': 'p3_breed_dog',\n",
        "    'tweet_id': 'tweet_id_3'\n",
        "}, inplace = True)"
      ],
      "execution_count": 0,
      "outputs": []
    },
    {
      "metadata": {
        "id": "O0maKIeyYYyS",
        "colab_type": "code",
        "outputId": "d4d0bb97-7677-4242-9440-9501f081f4a2",
        "colab": {
          "base_uri": "https://localhost:8080/",
          "height": 156
        }
      },
      "cell_type": "code",
      "source": [
        "df_3_copy.sample(3)"
      ],
      "execution_count": 0,
      "outputs": [
        {
          "output_type": "execute_result",
          "data": {
            "text/html": [
              "<div>\n",
              "<style scoped>\n",
              "    .dataframe tbody tr th:only-of-type {\n",
              "        vertical-align: middle;\n",
              "    }\n",
              "\n",
              "    .dataframe tbody tr th {\n",
              "        vertical-align: top;\n",
              "    }\n",
              "\n",
              "    .dataframe thead th {\n",
              "        text-align: right;\n",
              "    }\n",
              "</style>\n",
              "<table border=\"1\" class=\"dataframe\">\n",
              "  <thead>\n",
              "    <tr style=\"text-align: right;\">\n",
              "      <th></th>\n",
              "      <th>tweet_id_3</th>\n",
              "      <th>prediction_1</th>\n",
              "      <th>p1_conf</th>\n",
              "      <th>p1_breed_dog</th>\n",
              "      <th>prediction_2</th>\n",
              "      <th>p2_conf</th>\n",
              "      <th>p2_breed_dog</th>\n",
              "      <th>prediction_3</th>\n",
              "      <th>p3_conf</th>\n",
              "      <th>p3_breed_dog</th>\n",
              "    </tr>\n",
              "  </thead>\n",
              "  <tbody>\n",
              "    <tr>\n",
              "      <th>1100</th>\n",
              "      <td>720775346191278080</td>\n",
              "      <td>Newfoundland</td>\n",
              "      <td>0.489970</td>\n",
              "      <td>True</td>\n",
              "      <td>groenendael</td>\n",
              "      <td>0.174497</td>\n",
              "      <td>True</td>\n",
              "      <td>giant_schnauzer</td>\n",
              "      <td>0.079067</td>\n",
              "      <td>True</td>\n",
              "    </tr>\n",
              "    <tr>\n",
              "      <th>386</th>\n",
              "      <td>673350198937153538</td>\n",
              "      <td>West_Highland_white_terrier</td>\n",
              "      <td>0.119188</td>\n",
              "      <td>True</td>\n",
              "      <td>quill</td>\n",
              "      <td>0.104014</td>\n",
              "      <td>False</td>\n",
              "      <td>Maltese_dog</td>\n",
              "      <td>0.093944</td>\n",
              "      <td>True</td>\n",
              "    </tr>\n",
              "    <tr>\n",
              "      <th>966</th>\n",
              "      <td>706291001778950144</td>\n",
              "      <td>Border_terrier</td>\n",
              "      <td>0.587101</td>\n",
              "      <td>True</td>\n",
              "      <td>bull_mastiff</td>\n",
              "      <td>0.164087</td>\n",
              "      <td>True</td>\n",
              "      <td>Staffordshire_bullterrier</td>\n",
              "      <td>0.105011</td>\n",
              "      <td>True</td>\n",
              "    </tr>\n",
              "  </tbody>\n",
              "</table>\n",
              "</div>"
            ],
            "text/plain": [
              "              tweet_id_3                 prediction_1   p1_conf  p1_breed_dog  \\\n",
              "1100  720775346191278080                 Newfoundland  0.489970          True   \n",
              "386   673350198937153538  West_Highland_white_terrier  0.119188          True   \n",
              "966   706291001778950144               Border_terrier  0.587101          True   \n",
              "\n",
              "      prediction_2   p2_conf  p2_breed_dog               prediction_3  \\\n",
              "1100   groenendael  0.174497          True            giant_schnauzer   \n",
              "386          quill  0.104014         False                Maltese_dog   \n",
              "966   bull_mastiff  0.164087          True  Staffordshire_bullterrier   \n",
              "\n",
              "       p3_conf  p3_breed_dog  \n",
              "1100  0.079067          True  \n",
              "386   0.093944          True  \n",
              "966   0.105011          True  "
            ]
          },
          "metadata": {
            "tags": []
          },
          "execution_count": 63
        }
      ]
    },
    {
      "metadata": {
        "id": "AbWaNsBybQ1E",
        "colab_type": "text"
      },
      "cell_type": "markdown",
      "source": [
        "## Combining the 3 tables\n",
        "\n",
        "- Join 3 tables"
      ]
    },
    {
      "metadata": {
        "id": "ZLovK0DbbP4a",
        "colab_type": "code",
        "colab": {}
      },
      "cell_type": "code",
      "source": [
        "df_joint = pd.merge(df_1_copy,\n",
        "                   df_2_copy,\n",
        "                   left_on = 'tweet_id',\n",
        "                   right_on = 'id',\n",
        "                   how = 'left'\n",
        "                   )"
      ],
      "execution_count": 0,
      "outputs": []
    },
    {
      "metadata": {
        "id": "0XvSPNe2fGv2",
        "colab_type": "code",
        "colab": {}
      },
      "cell_type": "code",
      "source": [
        "df_joint = pd.merge(df_joint,\n",
        "                   df_3_copy,\n",
        "                   left_on = 'tweet_id',\n",
        "                   right_on = 'tweet_id_3',\n",
        "                   how = 'left'\n",
        "                   )"
      ],
      "execution_count": 0,
      "outputs": []
    },
    {
      "metadata": {
        "id": "i8Gq790ff2ch",
        "colab_type": "code",
        "colab": {}
      },
      "cell_type": "code",
      "source": [
        "df_joint.drop(columns={'id', 'tweet_id_3'}, inplace = True)"
      ],
      "execution_count": 0,
      "outputs": []
    },
    {
      "metadata": {
        "id": "v88vQ6hQyf6i",
        "colab_type": "text"
      },
      "cell_type": "markdown",
      "source": [
        "- Drop the row rating_denominator = 0"
      ]
    },
    {
      "metadata": {
        "id": "b_IaqAVIzXbz",
        "colab_type": "code",
        "colab": {}
      },
      "cell_type": "code",
      "source": [
        "df_joint.query('rating_denominator == 0')"
      ],
      "execution_count": 0,
      "outputs": []
    },
    {
      "metadata": {
        "id": "7z1jniaTycYN",
        "colab_type": "code",
        "colab": {}
      },
      "cell_type": "code",
      "source": [
        "df_joint.drop(index = 313, axis = 0, inplace = True)"
      ],
      "execution_count": 0,
      "outputs": []
    },
    {
      "metadata": {
        "id": "fswWXi6CetW3",
        "colab_type": "code",
        "outputId": "38b7fe9f-7a7d-469d-f7cf-663c1c8d586a",
        "colab": {
          "base_uri": "https://localhost:8080/",
          "height": 420
        }
      },
      "cell_type": "code",
      "source": [
        "df_joint.info()"
      ],
      "execution_count": 0,
      "outputs": [
        {
          "output_type": "stream",
          "text": [
            "<class 'pandas.core.frame.DataFrame'>\n",
            "Int64Index: 2355 entries, 0 to 2355\n",
            "Data columns (total 19 columns):\n",
            "tweet_id              2355 non-null object\n",
            "timestamp             2355 non-null datetime64[ns]\n",
            "source                2355 non-null object\n",
            "text                  2355 non-null object\n",
            "rating_numerator      2355 non-null int64\n",
            "rating_denominator    2355 non-null int64\n",
            "name                  1611 non-null object\n",
            "stage                 366 non-null object\n",
            "retweet_count         2339 non-null object\n",
            "favorite_count        2339 non-null object\n",
            "prediction_1          2075 non-null object\n",
            "p1_conf               2075 non-null float64\n",
            "p1_breed_dog          2075 non-null object\n",
            "prediction_2          2075 non-null object\n",
            "p2_conf               2075 non-null float64\n",
            "p2_breed_dog          2075 non-null object\n",
            "prediction_3          2075 non-null object\n",
            "p3_conf               2075 non-null float64\n",
            "p3_breed_dog          2075 non-null object\n",
            "dtypes: datetime64[ns](1), float64(3), int64(2), object(13)\n",
            "memory usage: 368.0+ KB\n"
          ],
          "name": "stdout"
        }
      ]
    },
    {
      "metadata": {
        "id": "lwes6OwFege3",
        "colab_type": "code",
        "outputId": "2afc877d-5e45-4761-de68-a256afb134d1",
        "colab": {
          "base_uri": "https://localhost:8080/",
          "height": 484
        }
      },
      "cell_type": "code",
      "source": [
        "df_joint.sample(5)"
      ],
      "execution_count": 0,
      "outputs": [
        {
          "output_type": "execute_result",
          "data": {
            "text/html": [
              "<div>\n",
              "<style scoped>\n",
              "    .dataframe tbody tr th:only-of-type {\n",
              "        vertical-align: middle;\n",
              "    }\n",
              "\n",
              "    .dataframe tbody tr th {\n",
              "        vertical-align: top;\n",
              "    }\n",
              "\n",
              "    .dataframe thead th {\n",
              "        text-align: right;\n",
              "    }\n",
              "</style>\n",
              "<table border=\"1\" class=\"dataframe\">\n",
              "  <thead>\n",
              "    <tr style=\"text-align: right;\">\n",
              "      <th></th>\n",
              "      <th>tweet_id</th>\n",
              "      <th>timestamp</th>\n",
              "      <th>source</th>\n",
              "      <th>text</th>\n",
              "      <th>rating_numerator</th>\n",
              "      <th>rating_denominator</th>\n",
              "      <th>name</th>\n",
              "      <th>stage</th>\n",
              "      <th>retweet_count</th>\n",
              "      <th>favorite_count</th>\n",
              "      <th>prediction_1</th>\n",
              "      <th>p1_conf</th>\n",
              "      <th>p1_breed_dog</th>\n",
              "      <th>prediction_2</th>\n",
              "      <th>p2_conf</th>\n",
              "      <th>p2_breed_dog</th>\n",
              "      <th>prediction_3</th>\n",
              "      <th>p3_conf</th>\n",
              "      <th>p3_breed_dog</th>\n",
              "    </tr>\n",
              "  </thead>\n",
              "  <tbody>\n",
              "    <tr>\n",
              "      <th>1452</th>\n",
              "      <td>695767669421768709</td>\n",
              "      <td>2016-02-06 00:35:13</td>\n",
              "      <td>Twitter for iPhone</td>\n",
              "      <td>If you are aware of who is making these please...</td>\n",
              "      <td>13</td>\n",
              "      <td>10</td>\n",
              "      <td>NaN</td>\n",
              "      <td>NaN</td>\n",
              "      <td>792</td>\n",
              "      <td>1959</td>\n",
              "      <td>soft-coated_wheaten_terrier</td>\n",
              "      <td>0.805139</td>\n",
              "      <td>True</td>\n",
              "      <td>Lakeland_terrier</td>\n",
              "      <td>0.121662</td>\n",
              "      <td>True</td>\n",
              "      <td>Afghan_hound</td>\n",
              "      <td>0.023303</td>\n",
              "      <td>True</td>\n",
              "    </tr>\n",
              "    <tr>\n",
              "      <th>1812</th>\n",
              "      <td>676811746707918848</td>\n",
              "      <td>2015-12-15 17:11:09</td>\n",
              "      <td>Twitter for iPhone</td>\n",
              "      <td>Say hello to Penny &amp;amp; Gizmo. They are pract...</td>\n",
              "      <td>9</td>\n",
              "      <td>10</td>\n",
              "      <td>Penny</td>\n",
              "      <td>NaN</td>\n",
              "      <td>445</td>\n",
              "      <td>1458</td>\n",
              "      <td>Chihuahua</td>\n",
              "      <td>0.440916</td>\n",
              "      <td>True</td>\n",
              "      <td>Pomeranian</td>\n",
              "      <td>0.345806</td>\n",
              "      <td>True</td>\n",
              "      <td>cocker_spaniel</td>\n",
              "      <td>0.060331</td>\n",
              "      <td>True</td>\n",
              "    </tr>\n",
              "    <tr>\n",
              "      <th>2146</th>\n",
              "      <td>669923323644657664</td>\n",
              "      <td>2015-11-26 16:59:01</td>\n",
              "      <td>Twitter for iPhone</td>\n",
              "      <td>This is a spotted Lipitor Rumpelstiltskin name...</td>\n",
              "      <td>10</td>\n",
              "      <td>10</td>\n",
              "      <td>a</td>\n",
              "      <td>NaN</td>\n",
              "      <td>58</td>\n",
              "      <td>239</td>\n",
              "      <td>car_mirror</td>\n",
              "      <td>0.343063</td>\n",
              "      <td>False</td>\n",
              "      <td>seat_belt</td>\n",
              "      <td>0.110289</td>\n",
              "      <td>False</td>\n",
              "      <td>wing</td>\n",
              "      <td>0.080148</td>\n",
              "      <td>False</td>\n",
              "    </tr>\n",
              "    <tr>\n",
              "      <th>1002</th>\n",
              "      <td>747885874273214464</td>\n",
              "      <td>2016-06-28 20:14:22</td>\n",
              "      <td>Twitter for iPhone</td>\n",
              "      <td>This is a mighty rare blue-tailed hammer sherk...</td>\n",
              "      <td>8</td>\n",
              "      <td>10</td>\n",
              "      <td>a</td>\n",
              "      <td>NaN</td>\n",
              "      <td>1053</td>\n",
              "      <td>3096</td>\n",
              "      <td>kuvasz</td>\n",
              "      <td>0.408450</td>\n",
              "      <td>True</td>\n",
              "      <td>Samoyed</td>\n",
              "      <td>0.141330</td>\n",
              "      <td>True</td>\n",
              "      <td>pug</td>\n",
              "      <td>0.083018</td>\n",
              "      <td>True</td>\n",
              "    </tr>\n",
              "    <tr>\n",
              "      <th>1962</th>\n",
              "      <td>673355879178194945</td>\n",
              "      <td>2015-12-06 04:18:46</td>\n",
              "      <td>Twitter for iPhone</td>\n",
              "      <td>This is Koda. She's a boss. Helps shift gears....</td>\n",
              "      <td>11</td>\n",
              "      <td>10</td>\n",
              "      <td>Koda</td>\n",
              "      <td>NaN</td>\n",
              "      <td>600</td>\n",
              "      <td>1513</td>\n",
              "      <td>Rottweiler</td>\n",
              "      <td>0.529248</td>\n",
              "      <td>True</td>\n",
              "      <td>miniature_pinscher</td>\n",
              "      <td>0.168296</td>\n",
              "      <td>True</td>\n",
              "      <td>Appenzeller</td>\n",
              "      <td>0.100452</td>\n",
              "      <td>True</td>\n",
              "    </tr>\n",
              "  </tbody>\n",
              "</table>\n",
              "</div>"
            ],
            "text/plain": [
              "                tweet_id           timestamp              source  \\\n",
              "1452  695767669421768709 2016-02-06 00:35:13  Twitter for iPhone   \n",
              "1812  676811746707918848 2015-12-15 17:11:09  Twitter for iPhone   \n",
              "2146  669923323644657664 2015-11-26 16:59:01  Twitter for iPhone   \n",
              "1002  747885874273214464 2016-06-28 20:14:22  Twitter for iPhone   \n",
              "1962  673355879178194945 2015-12-06 04:18:46  Twitter for iPhone   \n",
              "\n",
              "                                                   text  rating_numerator  \\\n",
              "1452  If you are aware of who is making these please...                13   \n",
              "1812  Say hello to Penny &amp; Gizmo. They are pract...                 9   \n",
              "2146  This is a spotted Lipitor Rumpelstiltskin name...                10   \n",
              "1002  This is a mighty rare blue-tailed hammer sherk...                 8   \n",
              "1962  This is Koda. She's a boss. Helps shift gears....                11   \n",
              "\n",
              "      rating_denominator   name stage retweet_count favorite_count  \\\n",
              "1452                  10    NaN   NaN           792           1959   \n",
              "1812                  10  Penny   NaN           445           1458   \n",
              "2146                  10      a   NaN            58            239   \n",
              "1002                  10      a   NaN          1053           3096   \n",
              "1962                  10   Koda   NaN           600           1513   \n",
              "\n",
              "                     prediction_1   p1_conf p1_breed_dog        prediction_2  \\\n",
              "1452  soft-coated_wheaten_terrier  0.805139         True    Lakeland_terrier   \n",
              "1812                    Chihuahua  0.440916         True          Pomeranian   \n",
              "2146                   car_mirror  0.343063        False           seat_belt   \n",
              "1002                       kuvasz  0.408450         True             Samoyed   \n",
              "1962                   Rottweiler  0.529248         True  miniature_pinscher   \n",
              "\n",
              "       p2_conf p2_breed_dog    prediction_3   p3_conf p3_breed_dog  \n",
              "1452  0.121662         True    Afghan_hound  0.023303         True  \n",
              "1812  0.345806         True  cocker_spaniel  0.060331         True  \n",
              "2146  0.110289        False            wing  0.080148        False  \n",
              "1002  0.141330         True             pug  0.083018         True  \n",
              "1962  0.168296         True     Appenzeller  0.100452         True  "
            ]
          },
          "metadata": {
            "tags": []
          },
          "execution_count": 98
        }
      ]
    },
    {
      "metadata": {
        "id": "gdMvFHREhmRD",
        "colab_type": "code",
        "colab": {}
      },
      "cell_type": "code",
      "source": [
        "# write to csv file\n",
        "\n",
        "df_joint.to_csv('twitter_archive_master.csv', \n",
        "                index = False)\n"
      ],
      "execution_count": 0,
      "outputs": []
    },
    {
      "metadata": {
        "id": "1NuTyCIwilZH",
        "colab_type": "text"
      },
      "cell_type": "markdown",
      "source": [
        "# Analysing Data"
      ]
    },
    {
      "metadata": {
        "id": "gm9M2HrFiqTz",
        "colab_type": "code",
        "colab": {}
      },
      "cell_type": "code",
      "source": [
        "df = pd.read_csv('twitter_archive_master.csv')"
      ],
      "execution_count": 0,
      "outputs": []
    },
    {
      "metadata": {
        "id": "188y0kjSz11A",
        "colab_type": "code",
        "colab": {}
      },
      "cell_type": "code",
      "source": [
        "df.info()"
      ],
      "execution_count": 0,
      "outputs": []
    },
    {
      "metadata": {
        "id": "sOEA0rhBtJmz",
        "colab_type": "code",
        "outputId": "0ee74e2b-abbe-473b-c5e2-f85e218ce7b3",
        "colab": {
          "base_uri": "https://localhost:8080/",
          "height": 425
        }
      },
      "cell_type": "code",
      "source": [
        "df.sample(3)"
      ],
      "execution_count": 0,
      "outputs": [
        {
          "output_type": "execute_result",
          "data": {
            "text/html": [
              "<div>\n",
              "<style scoped>\n",
              "    .dataframe tbody tr th:only-of-type {\n",
              "        vertical-align: middle;\n",
              "    }\n",
              "\n",
              "    .dataframe tbody tr th {\n",
              "        vertical-align: top;\n",
              "    }\n",
              "\n",
              "    .dataframe thead th {\n",
              "        text-align: right;\n",
              "    }\n",
              "</style>\n",
              "<table border=\"1\" class=\"dataframe\">\n",
              "  <thead>\n",
              "    <tr style=\"text-align: right;\">\n",
              "      <th></th>\n",
              "      <th>tweet_id</th>\n",
              "      <th>timestamp</th>\n",
              "      <th>source</th>\n",
              "      <th>text</th>\n",
              "      <th>rating_numerator</th>\n",
              "      <th>rating_denominator</th>\n",
              "      <th>name</th>\n",
              "      <th>stage</th>\n",
              "      <th>retweet_count</th>\n",
              "      <th>favorite_count</th>\n",
              "      <th>prediction_1</th>\n",
              "      <th>p1_conf</th>\n",
              "      <th>p1_breed_dog</th>\n",
              "      <th>prediction_2</th>\n",
              "      <th>p2_conf</th>\n",
              "      <th>p2_breed_dog</th>\n",
              "      <th>prediction_3</th>\n",
              "      <th>p3_conf</th>\n",
              "      <th>p3_breed_dog</th>\n",
              "    </tr>\n",
              "  </thead>\n",
              "  <tbody>\n",
              "    <tr>\n",
              "      <th>321</th>\n",
              "      <td>834167344700198914</td>\n",
              "      <td>2017-02-21 22:26:07</td>\n",
              "      <td>Twitter for iPhone</td>\n",
              "      <td>This is Sunshine. She doesn't believe in perso...</td>\n",
              "      <td>11</td>\n",
              "      <td>10</td>\n",
              "      <td>Sunshine</td>\n",
              "      <td>NaN</td>\n",
              "      <td>3902.0</td>\n",
              "      <td>16533.0</td>\n",
              "      <td>ox</td>\n",
              "      <td>0.991682</td>\n",
              "      <td>False</td>\n",
              "      <td>bison</td>\n",
              "      <td>0.005335</td>\n",
              "      <td>False</td>\n",
              "      <td>water_buffalo</td>\n",
              "      <td>0.001130</td>\n",
              "      <td>False</td>\n",
              "    </tr>\n",
              "    <tr>\n",
              "      <th>2346</th>\n",
              "      <td>666057090499244032</td>\n",
              "      <td>2015-11-16 00:55:59</td>\n",
              "      <td>Twitter for iPhone</td>\n",
              "      <td>My oh my. This is a rare blond Canadian terrie...</td>\n",
              "      <td>9</td>\n",
              "      <td>10</td>\n",
              "      <td>a</td>\n",
              "      <td>NaN</td>\n",
              "      <td>139.0</td>\n",
              "      <td>290.0</td>\n",
              "      <td>shopping_cart</td>\n",
              "      <td>0.962465</td>\n",
              "      <td>False</td>\n",
              "      <td>shopping_basket</td>\n",
              "      <td>0.014594</td>\n",
              "      <td>False</td>\n",
              "      <td>golden_retriever</td>\n",
              "      <td>0.007959</td>\n",
              "      <td>True</td>\n",
              "    </tr>\n",
              "    <tr>\n",
              "      <th>170</th>\n",
              "      <td>859074603037188101</td>\n",
              "      <td>2017-05-01 15:58:40</td>\n",
              "      <td>Twitter for iPhone</td>\n",
              "      <td>Here we have an exotic dog. Good at ukulele. F...</td>\n",
              "      <td>13</td>\n",
              "      <td>10</td>\n",
              "      <td>NaN</td>\n",
              "      <td>NaN</td>\n",
              "      <td>13854.0</td>\n",
              "      <td>34091.0</td>\n",
              "      <td>revolver</td>\n",
              "      <td>0.190292</td>\n",
              "      <td>False</td>\n",
              "      <td>projectile</td>\n",
              "      <td>0.149064</td>\n",
              "      <td>False</td>\n",
              "      <td>fountain</td>\n",
              "      <td>0.066047</td>\n",
              "      <td>False</td>\n",
              "    </tr>\n",
              "  </tbody>\n",
              "</table>\n",
              "</div>"
            ],
            "text/plain": [
              "                tweet_id            timestamp              source  \\\n",
              "321   834167344700198914  2017-02-21 22:26:07  Twitter for iPhone   \n",
              "2346  666057090499244032  2015-11-16 00:55:59  Twitter for iPhone   \n",
              "170   859074603037188101  2017-05-01 15:58:40  Twitter for iPhone   \n",
              "\n",
              "                                                   text  rating_numerator  \\\n",
              "321   This is Sunshine. She doesn't believe in perso...                11   \n",
              "2346  My oh my. This is a rare blond Canadian terrie...                 9   \n",
              "170   Here we have an exotic dog. Good at ukulele. F...                13   \n",
              "\n",
              "      rating_denominator      name stage  retweet_count  favorite_count  \\\n",
              "321                   10  Sunshine   NaN         3902.0         16533.0   \n",
              "2346                  10         a   NaN          139.0           290.0   \n",
              "170                   10       NaN   NaN        13854.0         34091.0   \n",
              "\n",
              "       prediction_1   p1_conf p1_breed_dog     prediction_2   p2_conf  \\\n",
              "321              ox  0.991682        False            bison  0.005335   \n",
              "2346  shopping_cart  0.962465        False  shopping_basket  0.014594   \n",
              "170        revolver  0.190292        False       projectile  0.149064   \n",
              "\n",
              "     p2_breed_dog      prediction_3   p3_conf p3_breed_dog  \n",
              "321         False     water_buffalo  0.001130        False  \n",
              "2346        False  golden_retriever  0.007959         True  \n",
              "170         False          fountain  0.066047        False  "
            ]
          },
          "metadata": {
            "tags": []
          },
          "execution_count": 101
        }
      ]
    },
    {
      "metadata": {
        "id": "H5GonwKSnnsU",
        "colab_type": "text"
      },
      "cell_type": "markdown",
      "source": [
        "## 1. What are dog ratings?"
      ]
    },
    {
      "metadata": {
        "id": "Xxa_rXejnyt6",
        "colab_type": "code",
        "colab": {}
      },
      "cell_type": "code",
      "source": [
        "# calculate\n",
        "\n",
        "df['ratings'] = df['rating_numerator'] / df['rating_denominator']"
      ],
      "execution_count": 0,
      "outputs": []
    },
    {
      "metadata": {
        "id": "zODMMPmb0Vhj",
        "colab_type": "code",
        "outputId": "81efaa36-7ce9-40a2-e070-cbbcf2a0003c",
        "colab": {
          "base_uri": "https://localhost:8080/",
          "height": 168
        }
      },
      "cell_type": "code",
      "source": [
        "df.query('ratings < 2')['ratings'].describe()\n",
        "\n",
        "# after cutting the 10 outliers larger than 2\n",
        "# max = 1.7"
      ],
      "execution_count": 0,
      "outputs": [
        {
          "output_type": "execute_result",
          "data": {
            "text/plain": [
              "count    2345.000000\n",
              "mean        1.069406\n",
              "std         0.219355\n",
              "min         0.000000\n",
              "25%         1.000000\n",
              "50%         1.100000\n",
              "75%         1.200000\n",
              "max         1.700000\n",
              "Name: ratings, dtype: float64"
            ]
          },
          "metadata": {
            "tags": []
          },
          "execution_count": 52
        }
      ]
    },
    {
      "metadata": {
        "id": "FS0sJu_0QUEj",
        "colab_type": "code",
        "outputId": "5c72942b-82d8-4c81-c391-a0438597422c",
        "colab": {
          "base_uri": "https://localhost:8080/",
          "height": 34
        }
      },
      "cell_type": "code",
      "source": [
        "df.query('ratings > 2')['ratings'].count()\n",
        "\n",
        "# only 10 rows have their ratings > 2"
      ],
      "execution_count": 0,
      "outputs": [
        {
          "output_type": "execute_result",
          "data": {
            "text/plain": [
              "10"
            ]
          },
          "metadata": {
            "tags": []
          },
          "execution_count": 53
        }
      ]
    },
    {
      "metadata": {
        "id": "qNFoqWelpuSc",
        "colab_type": "code",
        "outputId": "ac34cbb3-1380-4e9d-eb66-fe9b2d9f5e8f",
        "colab": {
          "base_uri": "https://localhost:8080/",
          "height": 282
        }
      },
      "cell_type": "code",
      "source": [
        "# draw\n",
        "\n",
        "ratings = df.query('ratings <= 1.7')['ratings']\n",
        "\n",
        "ratings.hist(bins = 18)"
      ],
      "execution_count": 0,
      "outputs": [
        {
          "output_type": "execute_result",
          "data": {
            "text/plain": [
              "<matplotlib.axes._subplots.AxesSubplot at 0x7f2f5a7d78d0>"
            ]
          },
          "metadata": {
            "tags": []
          },
          "execution_count": 60
        },
        {
          "output_type": "display_data",
          "data": {
            "image/png": "[encoded data removed]",
            "text/plain": [
              "<Figure size 432x288 with 1 Axes>"
            ]
          },
          "metadata": {
            "tags": []
          }
        }
      ]
    },
    {
      "metadata": {
        "id": "hwBarllaQ1Vw",
        "colab_type": "text"
      },
      "cell_type": "markdown",
      "source": [
        "Since there are various rating denominators (although most of them are 10), the rating of dogs is calculated by diving the numerator by the denominator.\n",
        "\n",
        "From the sorted raw data in the Data Cleaning section and the calculation above, it can be seen that there are 10 rows have their ratings larger than 1.7, including most outliers.\n",
        "\n",
        "After cutting off these 10 rows, it shows that the ratings of dogs are left-skewed distributed, with the mean of 1.07 and the median of 1.10. Besides, 75% of the dogs are rated equal to or more than 100%. Thus, it can be found that most dogs are considered to be better than perfect.\n"
      ]
    },
    {
      "metadata": {
        "id": "KAHaSBHZXoBp",
        "colab_type": "text"
      },
      "cell_type": "markdown",
      "source": [
        "## 2. Source of Tweet"
      ]
    },
    {
      "metadata": {
        "id": "F345jksgYTvH",
        "colab_type": "code",
        "outputId": "1bf1ee01-1a40-47ac-d438-30e1af335650",
        "colab": {
          "base_uri": "https://localhost:8080/",
          "height": 101
        }
      },
      "cell_type": "code",
      "source": [
        "df[\"source\"].value_counts()"
      ],
      "execution_count": 0,
      "outputs": [
        {
          "output_type": "execute_result",
          "data": {
            "text/plain": [
              "Twitter for iPhone    2220\n",
              "Vine                    91\n",
              "Twitter Web Client      33\n",
              "TweetDeck               11\n",
              "Name: source, dtype: int64"
            ]
          },
          "metadata": {
            "tags": []
          },
          "execution_count": 137
        }
      ]
    },
    {
      "metadata": {
        "id": "ej5la9GYYlk4",
        "colab_type": "code",
        "colab": {}
      },
      "cell_type": "code",
      "source": [
        "# set labels & values for pie\n",
        "\n",
        "pie_names = ['Twitter for iPhone',\n",
        "             'Twitter Web Client',\n",
        "             'Vine',\n",
        "             'TweetDeck' ]\n",
        "\n",
        "pie_size = []\n",
        "\n",
        "for pie_name in pie_names:\n",
        "  size = df.query('source == @pie_name')['source'].count()\n",
        "  pie_size.append(size)\n",
        "  "
      ],
      "execution_count": 0,
      "outputs": []
    },
    {
      "metadata": {
        "id": "OhjOYBeTXsNq",
        "colab_type": "code",
        "outputId": "1dd647d8-964b-4248-d474-f07d429961fa",
        "colab": {
          "base_uri": "https://localhost:8080/",
          "height": 297
        }
      },
      "cell_type": "code",
      "source": [
        "# draw pie chart\n",
        "\n",
        "fig1, ax1 = plt.subplots()\n",
        "\n",
        "ax1.pie(pie_size, \n",
        "        labels=pie_names, \n",
        "        colors=Pastel1_7.hex_colors, \n",
        "        textprops={'fontsize': 12},\n",
        "        autopct='%1.1f%%',\n",
        "        pctdistance=0.85)\n",
        "\n",
        "# draw circle\n",
        "my_circle=plt.Circle( (0,0), 0.7, color='white')\n",
        "p=plt.gcf()\n",
        "p.gca().add_artist(my_circle)\n",
        "\n",
        "\n",
        "# Equal aspect ratio ensures that pie is drawn as a circle\n",
        "ax1.axis('equal')  \n",
        "plt.tight_layout()\n",
        "plt.show()\n"
      ],
      "execution_count": 0,
      "outputs": [
        {
          "output_type": "display_data",
          "data": {
            "image/png": "[encoded data removed]",
            "text/plain": [
              "<Figure size 432x288 with 1 Axes>"
            ]
          },
          "metadata": {
            "tags": []
          }
        }
      ]
    },
    {
      "metadata": {
        "id": "X3JRvlr5f3Wq",
        "colab_type": "text"
      },
      "cell_type": "markdown",
      "source": [
        "From the pie chart, it presents that the dominate source is from iPhone, which is 94.3%. Only a few people use Vine (3.9%), Website (1.4%) and TweetDect (0.5%) to browse WeRateDogs Tweet."
      ]
    },
    {
      "metadata": {
        "id": "NtlIOWCzhiYL",
        "colab_type": "text"
      },
      "cell_type": "markdown",
      "source": [
        "## 3. Correlation between Retweet and Favouriate"
      ]
    },
    {
      "metadata": {
        "id": "UF9W26F_jesF",
        "colab_type": "code",
        "outputId": "3734998d-338f-4715-b14c-f61c9e8ba8a8",
        "colab": {
          "base_uri": "https://localhost:8080/",
          "height": 300
        }
      },
      "cell_type": "code",
      "source": [
        "# draw scatter plot\n",
        "\n",
        "sns.regplot(x=df[\"retweet_count\"], \n",
        "            y=df[\"favorite_count\"], \n",
        "            line_kws={\"color\":\"r\",\"alpha\":0.4,\"lw\":2},\n",
        "            marker=\"+\")\n",
        "\n",
        "# control x and y limits\n",
        "sns.plt.ylim(0, 50000)\n",
        "sns.plt.xlim(0, 15000)\n",
        "\n",
        "#sns.plt.show()"
      ],
      "execution_count": 0,
      "outputs": [
        {
          "output_type": "execute_result",
          "data": {
            "text/plain": [
              "(0, 15000)"
            ]
          },
          "metadata": {
            "tags": []
          },
          "execution_count": 43
        },
        {
          "output_type": "display_data",
          "data": {
            "image/png": "[encoded data removed]",
            "text/plain": [
              "<Figure size 432x288 with 1 Axes>"
            ]
          },
          "metadata": {
            "tags": []
          }
        }
      ]
    },
    {
      "metadata": {
        "id": "kenpgj06nspx",
        "colab_type": "code",
        "outputId": "e110d97c-a0ce-4494-8aa0-aeca906ac01b",
        "colab": {
          "base_uri": "https://localhost:8080/",
          "height": 106
        }
      },
      "cell_type": "code",
      "source": [
        "df[['retweet_count', 'favorite_count']].corr()"
      ],
      "execution_count": 0,
      "outputs": [
        {
          "output_type": "execute_result",
          "data": {
            "text/html": [
              "<div>\n",
              "<style scoped>\n",
              "    .dataframe tbody tr th:only-of-type {\n",
              "        vertical-align: middle;\n",
              "    }\n",
              "\n",
              "    .dataframe tbody tr th {\n",
              "        vertical-align: top;\n",
              "    }\n",
              "\n",
              "    .dataframe thead th {\n",
              "        text-align: right;\n",
              "    }\n",
              "</style>\n",
              "<table border=\"1\" class=\"dataframe\">\n",
              "  <thead>\n",
              "    <tr style=\"text-align: right;\">\n",
              "      <th></th>\n",
              "      <th>retweet_count</th>\n",
              "      <th>favorite_count</th>\n",
              "    </tr>\n",
              "  </thead>\n",
              "  <tbody>\n",
              "    <tr>\n",
              "      <th>retweet_count</th>\n",
              "      <td>1.000000</td>\n",
              "      <td>0.797103</td>\n",
              "    </tr>\n",
              "    <tr>\n",
              "      <th>favorite_count</th>\n",
              "      <td>0.797103</td>\n",
              "      <td>1.000000</td>\n",
              "    </tr>\n",
              "  </tbody>\n",
              "</table>\n",
              "</div>"
            ],
            "text/plain": [
              "                retweet_count  favorite_count\n",
              "retweet_count        1.000000        0.797103\n",
              "favorite_count       0.797103        1.000000"
            ]
          },
          "metadata": {
            "tags": []
          },
          "execution_count": 45
        }
      ]
    },
    {
      "metadata": {
        "id": "F0Txyn4ep8vT",
        "colab_type": "text"
      },
      "cell_type": "markdown",
      "source": [
        "The count of retweet and favourite are highly positively correlated ( *r * = 0.797). The more people like a tweet, the more they retweet it."
      ]
    },
    {
      "metadata": {
        "id": "faIl0HpXsQKb",
        "colab_type": "text"
      },
      "cell_type": "markdown",
      "source": [
        "## 4. Prediction"
      ]
    },
    {
      "metadata": {
        "id": "N0GcEk6_sULh",
        "colab_type": "code",
        "outputId": "5161af79-24ae-4cfc-b3c4-6c5b1433dd52",
        "colab": {
          "base_uri": "https://localhost:8080/",
          "height": 1058
        }
      },
      "cell_type": "code",
      "source": [
        "df['prediction_1'].value_counts()"
      ],
      "execution_count": 0,
      "outputs": [
        {
          "output_type": "execute_result",
          "data": {
            "text/plain": [
              "golden_retriever             150\n",
              "Labrador_retriever           100\n",
              "Pembroke                      89\n",
              "Chihuahua                     83\n",
              "pug                           57\n",
              "chow                          44\n",
              "Samoyed                       43\n",
              "toy_poodle                    39\n",
              "Pomeranian                    38\n",
              "malamute                      30\n",
              "cocker_spaniel                30\n",
              "French_bulldog                26\n",
              "Chesapeake_Bay_retriever      23\n",
              "miniature_pinscher            23\n",
              "seat_belt                     22\n",
              "Siberian_husky                20\n",
              "German_shepherd               20\n",
              "Staffordshire_bullterrier     20\n",
              "Cardigan                      19\n",
              "web_site                      19\n",
              "Eskimo_dog                    18\n",
              "Maltese_dog                   18\n",
              "beagle                        18\n",
              "Shetland_sheepdog             18\n",
              "teddy                         18\n",
              "Shih-Tzu                      17\n",
              "Rottweiler                    17\n",
              "Lakeland_terrier              17\n",
              "Italian_greyhound             16\n",
              "kuvasz                        16\n",
              "                            ... \n",
              "snowmobile                     1\n",
              "teapot                         1\n",
              "traffic_light                  1\n",
              "Scotch_terrier                 1\n",
              "convertible                    1\n",
              "pedestal                       1\n",
              "rotisserie                     1\n",
              "picket_fence                   1\n",
              "grey_fox                       1\n",
              "sliding_door                   1\n",
              "polecat                        1\n",
              "lorikeet                       1\n",
              "groenendael                    1\n",
              "cougar                         1\n",
              "crash_helmet                   1\n",
              "mailbox                        1\n",
              "hay                            1\n",
              "military_uniform               1\n",
              "clog                           1\n",
              "maillot                        1\n",
              "stove                          1\n",
              "candle                         1\n",
              "bookshop                       1\n",
              "basketball                     1\n",
              "pole                           1\n",
              "ibex                           1\n",
              "bow                            1\n",
              "fire_engine                    1\n",
              "rapeseed                       1\n",
              "shopping_basket                1\n",
              "Name: prediction_1, Length: 378, dtype: int64"
            ]
          },
          "metadata": {
            "tags": []
          },
          "execution_count": 130
        }
      ]
    },
    {
      "metadata": {
        "id": "zD7VT3dYtXQQ",
        "colab_type": "code",
        "colab": {}
      },
      "cell_type": "code",
      "source": [
        "# Store value_counts and dog_types into df_predict\n",
        "df_predict = df['prediction_1'].value_counts().to_frame()\n",
        "\n",
        "# rename columns of df_predict\n",
        "df_predict.rename(columns = {'prediction_1': 'counts'}, inplace = True)\n",
        "\n",
        "# only keep dogs that appear 20+ \n",
        "df_predict = df_predict.query('counts > 20')\n",
        "\n",
        "# Reorder it following the values:\n",
        "df_predict = df_predict.sort_values(by = 'counts')\n",
        "\n",
        "# set range\n",
        "my_range = range(1, df_predict.shape[0] + 1)"
      ],
      "execution_count": 0,
      "outputs": []
    },
    {
      "metadata": {
        "id": "aD4hlyq6szuP",
        "colab_type": "code",
        "outputId": "675a2eaf-9fe5-434e-9df2-a63c2e1e93cb",
        "colab": {
          "base_uri": "https://localhost:8080/",
          "height": 310
        }
      },
      "cell_type": "code",
      "source": [
        "# Draw lolipop plot\n",
        "\n",
        "plt.hlines(y=my_range, xmin=0, xmax=df_predict['counts'], color='skyblue')\n",
        "plt.plot(df_predict['counts'], my_range, \"o\")\n",
        " \n",
        "# Add titles and axis names\n",
        "plt.yticks(my_range, df_predict.index)\n",
        "\n",
        "plt.title(\"Dog Predictions\", loc='left')\n",
        "plt.xlabel('Counts')\n",
        "plt.ylabel('Dog Types')\n"
      ],
      "execution_count": 0,
      "outputs": [
        {
          "output_type": "execute_result",
          "data": {
            "text/plain": [
              "Text(0, 0.5, 'Dog Types')"
            ]
          },
          "metadata": {
            "tags": []
          },
          "execution_count": 129
        },
        {
          "output_type": "display_data",
          "data": {
            "image/png": "[encoded data removed]",
            "text/plain": [
              "<Figure size 432x288 with 1 Axes>"
            ]
          },
          "metadata": {
            "tags": []
          }
        }
      ]
    },
    {
      "metadata": {
        "id": "OBml_18R1LWl",
        "colab_type": "code",
        "outputId": "61541232-4648-4c18-bced-118753a1027f",
        "colab": {
          "base_uri": "https://localhost:8080/",
          "height": 168
        }
      },
      "cell_type": "code",
      "source": [
        "golden_retriever = df.query('prediction_1 == \"golden_retriever\"')['p1_conf']\n",
        "\n",
        "golden_retriever.describe()"
      ],
      "execution_count": 0,
      "outputs": [
        {
          "output_type": "execute_result",
          "data": {
            "text/plain": [
              "count    150.000000\n",
              "mean       0.723555\n",
              "std        0.223237\n",
              "min        0.140394\n",
              "25%        0.601533\n",
              "50%        0.776138\n",
              "75%        0.907470\n",
              "max        0.993830\n",
              "Name: p1_conf, dtype: float64"
            ]
          },
          "metadata": {
            "tags": []
          },
          "execution_count": 133
        }
      ]
    },
    {
      "metadata": {
        "id": "12gspg-c1jcj",
        "colab_type": "code",
        "outputId": "cce4e6a9-a88e-4654-cdf0-bedce57549e4",
        "colab": {
          "base_uri": "https://localhost:8080/",
          "height": 282
        }
      },
      "cell_type": "code",
      "source": [
        "golden_retriever.hist()"
      ],
      "execution_count": 0,
      "outputs": [
        {
          "output_type": "execute_result",
          "data": {
            "text/plain": [
              "<matplotlib.axes._subplots.AxesSubplot at 0x7f2f56b43c18>"
            ]
          },
          "metadata": {
            "tags": []
          },
          "execution_count": 134
        },
        {
          "output_type": "display_data",
          "data": {
            "image/png": "[encoded data removed]",
            "text/plain": [
              "<Figure size 432x288 with 1 Axes>"
            ]
          },
          "metadata": {
            "tags": []
          }
        }
      ]
    },
    {
      "metadata": {
        "id": "J4QohH3x2248",
        "colab_type": "code",
        "outputId": "306ff081-00c7-4008-e9f5-10fd51bec671",
        "colab": {
          "base_uri": "https://localhost:8080/",
          "height": 168
        }
      },
      "cell_type": "code",
      "source": [
        "Labrador_retriever = df.query('prediction_1 == \"Labrador_retriever\"')['p1_conf']\n",
        "\n",
        "Labrador_retriever.describe()"
      ],
      "execution_count": 0,
      "outputs": [
        {
          "output_type": "execute_result",
          "data": {
            "text/plain": [
              "count    100.000000\n",
              "mean       0.666523\n",
              "std        0.236668\n",
              "min        0.195835\n",
              "25%        0.460494\n",
              "50%        0.719996\n",
              "75%        0.868671\n",
              "max        0.999885\n",
              "Name: p1_conf, dtype: float64"
            ]
          },
          "metadata": {
            "tags": []
          },
          "execution_count": 135
        }
      ]
    },
    {
      "metadata": {
        "id": "FMnxRDJp29ts",
        "colab_type": "code",
        "outputId": "9b7f8b5a-a4bb-4e2c-ce67-226a45f97e66",
        "colab": {
          "base_uri": "https://localhost:8080/",
          "height": 282
        }
      },
      "cell_type": "code",
      "source": [
        "Labrador_retriever.hist()"
      ],
      "execution_count": 0,
      "outputs": [
        {
          "output_type": "execute_result",
          "data": {
            "text/plain": [
              "<matplotlib.axes._subplots.AxesSubplot at 0x7f2f56b37048>"
            ]
          },
          "metadata": {
            "tags": []
          },
          "execution_count": 136
        },
        {
          "output_type": "display_data",
          "data": {
            "image/png": "[encoded data removed]",
            "text/plain": [
              "<Figure size 432x288 with 1 Axes>"
            ]
          },
          "metadata": {
            "tags": []
          }
        }
      ]
    },
    {
      "metadata": {
        "id": "0slUgi8A1AP4",
        "colab_type": "text"
      },
      "cell_type": "markdown",
      "source": [
        "It can be seen that golden retriever is the No.1 predicted dog, which was predicted 150 times with high confidence. The confidence of predicting it is left skewed, with the median of 0.78 and mean of 0.72.\n",
        "\n",
        "The second most predicted dog is Labrador_retriever (100 times).  The confidence is also high, with the median of 0.71 and mean of 0.67."
      ]
    }
  ]
}